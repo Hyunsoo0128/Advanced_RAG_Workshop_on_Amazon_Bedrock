{
 "cells": [
  {
   "cell_type": "markdown",
   "id": "15c08f81",
   "metadata": {},
   "source": [
    "# Re-ranking\n",
    "\n",
    "Amazon Bedrock은 쿼리 시 검색된 결과의 관련성을 향상시키기 위해 사용할 수 있는 재순위 모델에 대한 액세스를 제공합니다. \n",
    "재순위 모델은 청크와 쿼리의 관련성을 계산하고 계산된 점수를 기반으로 결과를 재정렬합니다. \n",
    "재순위 모델을 사용하면 쿼리에 답변하는 데 더 적합한 응답을 반환할 수 있습니다.\n",
    "\n",
    "재순위 모델은 쿼리를 기반으로 관련성 신호를 식별한 다음 해당 신호를 사용하여 문서의 순위를 매기도록 훈련됩니다. \n",
    "이로 인해 모델은 더 관련성 있고 정확한 결과를 제공할 수 있습니다.\n",
    "\n",
    "RAG(Retrieval Augmented Generation) 애플리케이션 구축을 위해 Amazon Bedrock Knowledge Bases를 사용하는 경우, Retrieve 또는 RetrieveAndGenerate 작업을 호출할 때 재순위 모델을 사용하세요. \n",
    "재순위 결과는 Amazon Bedrock Knowledge Bases가 결정하는 기본 순위를 재정의합니다.\n",
    "\n",
    "이 노트북은 Amazon Bedrock Knowledge Bases와 함께 재순위 모델을 사용하는 방법을 보여주며, \n",
    "Rerank API를 통해 RAG 애플리케이션의 정확성과 관련성을 더욱 향상시키는 데 도움이 됩니다. \n",
    "재순위 모델을 사용하면 더 적지만 더 관련성 있는 결과를 검색할 수 있습니다. \n",
    "이러한 결과를 응답 생성에 사용하는 기반 모델에 제공함으로써 비용과 지연 시간을 줄일 수도 있습니다.\n",
    "\n",
    "Amazon Bedrock Knowledge Bases와 함께 재순위 모델을 구현하고 활용하는 방법을 예제 사용 사례를 통해 살펴보겠습니다."
   ]
  },
  {
   "cell_type": "markdown",
   "id": "ece99ba7",
   "metadata": {},
   "source": [
    "## 1. Setup\n",
    "\n",
    "이 노트북의 나머지 부분을 실행하기 전에 아래 셀을 실행하여 필요한 라이브러리가 설치되었는지 확인하고 Bedrock에 연결해야 합니다.\n",
    "pip 종속성 오류가 있다면 무시하세요 (라이브러리 설치 중 오류가 보이더라도)"
   ]
  },
  {
   "cell_type": "code",
   "execution_count": 1,
   "id": "dc89fe3a",
   "metadata": {
    "execution": {
     "iopub.execute_input": "2025-07-31T08:52:19.549580Z",
     "iopub.status.busy": "2025-07-31T08:52:19.549296Z",
     "iopub.status.idle": "2025-07-31T08:52:43.370721Z",
     "shell.execute_reply": "2025-07-31T08:52:43.369879Z",
     "shell.execute_reply.started": "2025-07-31T08:52:19.549550Z"
    }
   },
   "outputs": [
    {
     "name": "stdout",
     "output_type": "stream",
     "text": [
      "Note: you may need to restart the kernel to use updated packages.\n",
      "Note: you may need to restart the kernel to use updated packages.\n",
      "Note: you may need to restart the kernel to use updated packages.\n"
     ]
    }
   ],
   "source": [
    "%pip install --upgrade pip --quiet\n",
    "%pip install -r ../requirements.txt --no-deps --quiet\n",
    "%pip install -r ../requirements.txt --upgrade --quiet"
   ]
  },
  {
   "cell_type": "code",
   "execution_count": 2,
   "id": "4d465bc1",
   "metadata": {
    "execution": {
     "iopub.execute_input": "2025-07-31T08:52:43.372480Z",
     "iopub.status.busy": "2025-07-31T08:52:43.372087Z",
     "iopub.status.idle": "2025-07-31T08:52:45.390832Z",
     "shell.execute_reply": "2025-07-31T08:52:45.390113Z",
     "shell.execute_reply.started": "2025-07-31T08:52:43.372440Z"
    }
   },
   "outputs": [
    {
     "name": "stdout",
     "output_type": "stream",
     "text": [
      "Note: you may need to restart the kernel to use updated packages.\n"
     ]
    }
   ],
   "source": [
    "%pip install ragas==0.1.9 --quiet"
   ]
  },
  {
   "cell_type": "code",
   "execution_count": 3,
   "id": "57056c5d",
   "metadata": {
    "execution": {
     "iopub.execute_input": "2025-07-31T08:52:45.392945Z",
     "iopub.status.busy": "2025-07-31T08:52:45.392679Z",
     "iopub.status.idle": "2025-07-31T08:52:47.467324Z",
     "shell.execute_reply": "2025-07-31T08:52:47.466423Z",
     "shell.execute_reply.started": "2025-07-31T08:52:45.392922Z"
    }
   },
   "outputs": [
    {
     "name": "stdout",
     "output_type": "stream",
     "text": [
      "Requirement already satisfied: boto3 in /opt/conda/lib/python3.12/site-packages (1.39.17)\n",
      "Requirement already satisfied: botocore<1.40.0,>=1.39.17 in /opt/conda/lib/python3.12/site-packages (from boto3) (1.39.17)\n",
      "Requirement already satisfied: jmespath<2.0.0,>=0.7.1 in /opt/conda/lib/python3.12/site-packages (from boto3) (1.0.1)\n",
      "Requirement already satisfied: s3transfer<0.14.0,>=0.13.0 in /opt/conda/lib/python3.12/site-packages (from boto3) (0.13.1)\n",
      "Requirement already satisfied: python-dateutil<3.0.0,>=2.1 in /opt/conda/lib/python3.12/site-packages (from botocore<1.40.0,>=1.39.17->boto3) (2.9.0.post0)\n",
      "Requirement already satisfied: urllib3!=2.2.0,<3,>=1.25.4 in /opt/conda/lib/python3.12/site-packages (from botocore<1.40.0,>=1.39.17->boto3) (1.26.19)\n",
      "Requirement already satisfied: six>=1.5 in /opt/conda/lib/python3.12/site-packages (from python-dateutil<3.0.0,>=2.1->botocore<1.40.0,>=1.39.17->boto3) (1.17.0)\n",
      "Note: you may need to restart the kernel to use updated packages.\n"
     ]
    }
   ],
   "source": [
    "%pip install --upgrade boto3"
   ]
  },
  {
   "cell_type": "code",
   "execution_count": 4,
   "id": "165e5495",
   "metadata": {
    "execution": {
     "iopub.execute_input": "2025-07-31T08:52:47.470660Z",
     "iopub.status.busy": "2025-07-31T08:52:47.470377Z",
     "iopub.status.idle": "2025-07-31T08:52:47.477319Z",
     "shell.execute_reply": "2025-07-31T08:52:47.476583Z",
     "shell.execute_reply.started": "2025-07-31T08:52:47.470635Z"
    }
   },
   "outputs": [
    {
     "data": {
      "text/html": [
       "<script>Jupyter.notebook.kernel.restart()</script>"
      ],
      "text/plain": [
       "<IPython.core.display.HTML object>"
      ]
     },
     "execution_count": 4,
     "metadata": {},
     "output_type": "execute_result"
    }
   ],
   "source": [
    "# restart kernel\n",
    "from IPython.core.display import HTML\n",
    "HTML(\"<script>Jupyter.notebook.kernel.restart()</script>\")"
   ]
  },
  {
   "cell_type": "code",
   "execution_count": 5,
   "id": "7c1c0eb1",
   "metadata": {
    "execution": {
     "iopub.execute_input": "2025-07-31T08:52:47.478581Z",
     "iopub.status.busy": "2025-07-31T08:52:47.478350Z",
     "iopub.status.idle": "2025-07-31T08:52:47.604114Z",
     "shell.execute_reply": "2025-07-31T08:52:47.603397Z",
     "shell.execute_reply.started": "2025-07-31T08:52:47.478562Z"
    }
   },
   "outputs": [
    {
     "name": "stdout",
     "output_type": "stream",
     "text": [
      "1.39.17\n"
     ]
    }
   ],
   "source": [
    "import boto3\n",
    "print(boto3.__version__)"
   ]
  },
  {
   "cell_type": "code",
   "execution_count": 6,
   "id": "7173b4bf",
   "metadata": {
    "execution": {
     "iopub.execute_input": "2025-07-31T08:52:47.605505Z",
     "iopub.status.busy": "2025-07-31T08:52:47.605011Z",
     "iopub.status.idle": "2025-07-31T08:52:47.608743Z",
     "shell.execute_reply": "2025-07-31T08:52:47.608045Z",
     "shell.execute_reply.started": "2025-07-31T08:52:47.605483Z"
    }
   },
   "outputs": [],
   "source": [
    "import warnings\n",
    "warnings.filterwarnings('ignore')"
   ]
  },
  {
   "cell_type": "markdown",
   "id": "0b9e78df",
   "metadata": {},
   "source": [
    "이 코드는 설정의 일부이며 다음 용도로 사용됩니다:\n",
    "- 상위 디렉토리를 파이썬 시스템 경로에 추가\n",
    "- 나중에 실행하는 데 필요한 utils에서 사용자 정의 모듈(BedrockStructuredKnowledgeBase)을 가져옴"
   ]
  },
  {
   "cell_type": "code",
   "execution_count": 7,
   "id": "84241929",
   "metadata": {
    "execution": {
     "iopub.execute_input": "2025-07-31T08:52:47.610023Z",
     "iopub.status.busy": "2025-07-31T08:52:47.609692Z",
     "iopub.status.idle": "2025-07-31T08:52:47.860528Z",
     "shell.execute_reply": "2025-07-31T08:52:47.859803Z",
     "shell.execute_reply.started": "2025-07-31T08:52:47.610004Z"
    }
   },
   "outputs": [],
   "source": [
    "import os\n",
    "import sys\n",
    "import time\n",
    "import boto3\n",
    "import logging\n",
    "import pprint\n",
    "import json\n",
    "\n",
    "# Set the path to import module\n",
    "from pathlib import Path\n",
    "current_path = Path().resolve()\n",
    "current_path = current_path.parent\n",
    "if str(current_path) not in sys.path:\n",
    "    sys.path.append(str(current_path))\n",
    "# Print sys.path to verify\n",
    "# print(sys.path)\n",
    "\n",
    "from utils.knowledge_base import BedrockKnowledgeBase"
   ]
  },
  {
   "cell_type": "code",
   "execution_count": 8,
   "id": "cda1c18f",
   "metadata": {
    "execution": {
     "iopub.execute_input": "2025-07-31T08:52:47.862190Z",
     "iopub.status.busy": "2025-07-31T08:52:47.861549Z",
     "iopub.status.idle": "2025-07-31T08:52:48.061911Z",
     "shell.execute_reply": "2025-07-31T08:52:48.061194Z",
     "shell.execute_reply.started": "2025-07-31T08:52:47.862158Z"
    }
   },
   "outputs": [
    {
     "data": {
      "text/plain": [
       "('us-west-2', '461433424192')"
      ]
     },
     "execution_count": 8,
     "metadata": {},
     "output_type": "execute_result"
    }
   ],
   "source": [
    "#Clients\n",
    "s3_client = boto3.client('s3')\n",
    "sts_client = boto3.client('sts')\n",
    "session = boto3.session.Session(region_name = 'us-west-2')\n",
    "region =  session.region_name\n",
    "account_id = sts_client.get_caller_identity()[\"Account\"]\n",
    "bedrock_agent_client = boto3.client('bedrock-agent')\n",
    "bedrock_agent_runtime_client = boto3.client('bedrock-agent-runtime') \n",
    "logging.basicConfig(format='[%(asctime)s] p%(process)s {%(filename)s:%(lineno)d} %(levelname)s - %(message)s', level=logging.INFO)\n",
    "logger = logging.getLogger(__name__)\n",
    "region, account_id"
   ]
  },
  {
   "cell_type": "code",
   "execution_count": 9,
   "id": "5d74b5be",
   "metadata": {
    "execution": {
     "iopub.execute_input": "2025-07-31T08:52:48.064174Z",
     "iopub.status.busy": "2025-07-31T08:52:48.063888Z",
     "iopub.status.idle": "2025-07-31T08:52:48.068306Z",
     "shell.execute_reply": "2025-07-31T08:52:48.067611Z",
     "shell.execute_reply.started": "2025-07-31T08:52:48.064153Z"
    }
   },
   "outputs": [],
   "source": [
    "import time\n",
    "\n",
    "# Get the current timestamp\n",
    "current_time = time.time()\n",
    "\n",
    "# Format the timestamp as a string\n",
    "timestamp_str = time.strftime(\"%Y%m%d%H%M%S\", time.localtime(current_time))[-7:]\n",
    "# Create the suffix using the timestamp\n",
    "suffix = f\"{timestamp_str}\"\n",
    "knowledge_base_name = 'reranking-kb'\n",
    "knowledge_base_description = \"Knowledge Base for re-ranking.\"\n",
    "bucket_name = f'{knowledge_base_name}-{suffix}'\n",
    "foundation_model = \"anthropic.claude-3-sonnet-20240229-v1:0\"\n",
    "\n",
    "# Define data sources\n",
    "data_source=[{\"type\": \"S3\", \"bucket_name\": bucket_name}]"
   ]
  },
  {
   "cell_type": "markdown",
   "id": "e5142d7f",
   "metadata": {},
   "source": [
    "## 2 - Create knowledge bases with fixed chunking strategy\n",
    "csv 형식의 비디오 게임 데이터를 저장하기 위한 [Amazon Bedrock Knowledge Bases](https://aws.amazon.com/bedrock/knowledge-bases/)를 생성하는 것부터 시작하겠습니다. \n",
    "Knowledge Bases를 사용하면 [Amazon OpenSearch Serverless](https://aws.amazon.com/opensearch-service/features/serverless/), [Amazon Aurora](https://aws.amazon.com/rds/aurora/), [Pinecone](http://app.pinecone.io/bedrock-integration), [Redis Enterprise]() 및 [MongoDB Atlas]()를 포함한 다양한 벡터 데이터베이스와 통합할 수 있습니다. 이 예제에서는 지식 베이스를 Amazon OpenSearch Serverless와 통합합니다. \n",
    "이를 위해 지식 베이스와 모든 전제 조건을 생성하는 도우미 클래스 `BedrockKnowledgeBase`를 사용합니다:\n",
    "\n",
    "1. IAM 역할 및 정책\n",
    "2. S3 버킷\n",
    "3. Amazon OpenSearch Serverless 암호화, 네트워크 및 데이터 액세스 정책\n",
    "4. Amazon OpenSearch Serverless 컬렉션\n",
    "5. Amazon OpenSearch Serverless 벡터 인덱스\n",
    "6. 지식 베이스\n",
    "7. 지식 베이스 데이터 소스"
   ]
  },
  {
   "cell_type": "markdown",
   "id": "8283567d",
   "metadata": {},
   "source": [
    "고정 청킹 전략을 사용하여 지식 베이스를 생성합니다.\n",
    "\n",
    "아래 매개변수 값을 변경하여 다른 청킹 전략을 선택할 수 있습니다:\n",
    "```\n",
    "\"chunkingStrategy\": \"FIXED_SIZE | NONE | HIERARCHICAL | SEMANTIC\"\n",
    "```"
   ]
  },
  {
   "cell_type": "code",
   "execution_count": 10,
   "id": "258fbb58",
   "metadata": {
    "execution": {
     "iopub.execute_input": "2025-07-31T08:52:48.069417Z",
     "iopub.status.busy": "2025-07-31T08:52:48.069210Z",
     "iopub.status.idle": "2025-07-31T08:55:24.127156Z",
     "shell.execute_reply": "2025-07-31T08:55:24.126266Z",
     "shell.execute_reply.started": "2025-07-31T08:52:48.069400Z"
    }
   },
   "outputs": [
    {
     "name": "stdout",
     "output_type": "stream",
     "text": [
      "========================================================================================\n",
      "Step 1 - Creating or retrieving S3 bucket(s) for Knowledge Base documents\n",
      "['reranking-kb-1085248']\n",
      "buckets_to_check:  ['reranking-kb-1085248']\n",
      "Creating bucket reranking-kb-1085248\n",
      "========================================================================================\n",
      "Step 2 - Creating Knowledge Base Execution Role (AmazonBedrockExecutionRoleForKnowledgeBase_1085248) and Policies\n",
      "========================================================================================\n",
      "Step 3a - Creating OSS encryption, network and data access policies\n",
      "========================================================================================\n",
      "Step 3b - Creating OSS Collection (this step takes a couple of minutes to complete)\n",
      "{ 'ResponseMetadata': { 'HTTPHeaders': { 'connection': 'keep-alive',\n",
      "                                         'content-length': '314',\n",
      "                                         'content-type': 'application/x-amz-json-1.0',\n",
      "                                         'date': 'Thu, 31 Jul 2025 08:52:50 '\n",
      "                                                 'GMT',\n",
      "                                         'x-amzn-requestid': '449d2913-3da5-4f16-8e07-654b7b08fa5d'},\n",
      "                        'HTTPStatusCode': 200,\n",
      "                        'RequestId': '449d2913-3da5-4f16-8e07-654b7b08fa5d',\n",
      "                        'RetryAttempts': 0},\n",
      "  'createCollectionDetail': { 'arn': 'arn:aws:aoss:us-west-2:461433424192:collection/hwdi58tt007x7w6sf1',\n",
      "                              'createdDate': 1753951970534,\n",
      "                              'id': 'hwdi58tt007x7w6sf1',\n",
      "                              'kmsKeyArn': 'auto',\n",
      "                              'lastModifiedDate': 1753951970534,\n",
      "                              'name': 'bedrock-sample-rag-1085248',\n",
      "                              'standbyReplicas': 'ENABLED',\n",
      "                              'status': 'CREATING',\n",
      "                              'type': 'VECTORSEARCH'}}\n",
      "hwdi58tt007x7w6sf1.us-west-2.aoss.amazonaws.com\n",
      "Creating collection...\n",
      "..............................\n",
      "Collection successfully created:\n",
      "[ { 'arn': 'arn:aws:aoss:us-west-2:461433424192:collection/hwdi58tt007x7w6sf1',\n",
      "    'collectionEndpoint': 'https://hwdi58tt007x7w6sf1.us-west-2.aoss.amazonaws.com',\n",
      "    'createdDate': 1753951970534,\n",
      "    'dashboardEndpoint': 'https://hwdi58tt007x7w6sf1.us-west-2.aoss.amazonaws.com/_dashboards',\n",
      "    'id': 'hwdi58tt007x7w6sf1',\n",
      "    'kmsKeyArn': 'auto',\n",
      "    'lastModifiedDate': 1753951993685,\n",
      "    'name': 'bedrock-sample-rag-1085248',\n",
      "    'standbyReplicas': 'ENABLED',\n",
      "    'status': 'ACTIVE',\n",
      "    'type': 'VECTORSEARCH'}]\n",
      "Opensearch serverless arn:  arn:aws:iam::461433424192:policy/AmazonBedrockOSSPolicyForKnowledgeBase_1085248\n",
      "Sleeping for a minute to ensure data access rules have been enforced\n",
      "========================================================================================\n",
      "Step 3c - Creating OSS Vector Index\n"
     ]
    },
    {
     "name": "stderr",
     "output_type": "stream",
     "text": [
      "[2025-07-31 08:54:21,335] p2350 {base.py:258} INFO - PUT https://hwdi58tt007x7w6sf1.us-west-2.aoss.amazonaws.com:443/bedrock-sample-rag-index-1085248 [status:200 request:0.308s]\n"
     ]
    },
    {
     "name": "stdout",
     "output_type": "stream",
     "text": [
      "\n",
      "Creating index:\n",
      "{ 'acknowledged': True,\n",
      "  'index': 'bedrock-sample-rag-index-1085248',\n",
      "  'shards_acknowledged': True}\n",
      "========================================================================================\n",
      "Step 4 - Will create Lambda Function if chunking strategy selected as CUSTOM\n",
      "Not creating lambda function as chunking strategy is FIXED_SIZE\n",
      "========================================================================================\n",
      "Step 5 - Creating Knowledge Base\n",
      "{ 'createdAt': datetime.datetime(2025, 7, 31, 8, 55, 21, 462017, tzinfo=tzlocal()),\n",
      "  'description': 'Knowledge Base for re-ranking.',\n",
      "  'knowledgeBaseArn': 'arn:aws:bedrock:us-west-2:461433424192:knowledge-base/CJIZWY7CN1',\n",
      "  'knowledgeBaseConfiguration': { 'type': 'VECTOR',\n",
      "                                  'vectorKnowledgeBaseConfiguration': { 'embeddingModelArn': 'arn:aws:bedrock:us-west-2::foundation-model/amazon.titan-embed-text-v2:0'}},\n",
      "  'knowledgeBaseId': 'CJIZWY7CN1',\n",
      "  'name': 'reranking-kb-1085248',\n",
      "  'roleArn': 'arn:aws:iam::461433424192:role/AmazonBedrockExecutionRoleForKnowledgeBase_1085248',\n",
      "  'status': 'CREATING',\n",
      "  'storageConfiguration': { 'opensearchServerlessConfiguration': { 'collectionArn': 'arn:aws:aoss:us-west-2:461433424192:collection/hwdi58tt007x7w6sf1',\n",
      "                                                                   'fieldMapping': { 'metadataField': 'text-metadata',\n",
      "                                                                                     'textField': 'text',\n",
      "                                                                                     'vectorField': 'vector'},\n",
      "                                                                   'vectorIndexName': 'bedrock-sample-rag-index-1085248'},\n",
      "                            'type': 'OPENSEARCH_SERVERLESS'},\n",
      "  'updatedAt': datetime.datetime(2025, 7, 31, 8, 55, 21, 462017, tzinfo=tzlocal())}\n",
      "Creating Data Sources\n",
      "{ 'createdAt': datetime.datetime(2025, 7, 31, 8, 55, 21, 462017, tzinfo=tzlocal()),\n",
      "  'description': 'Knowledge Base for re-ranking.',\n",
      "  'knowledgeBaseArn': 'arn:aws:bedrock:us-west-2:461433424192:knowledge-base/CJIZWY7CN1',\n",
      "  'knowledgeBaseConfiguration': { 'type': 'VECTOR',\n",
      "                                  'vectorKnowledgeBaseConfiguration': { 'embeddingModelArn': 'arn:aws:bedrock:us-west-2::foundation-model/amazon.titan-embed-text-v2:0'}},\n",
      "  'knowledgeBaseId': 'CJIZWY7CN1',\n",
      "  'name': 'reranking-kb-1085248',\n",
      "  'roleArn': 'arn:aws:iam::461433424192:role/AmazonBedrockExecutionRoleForKnowledgeBase_1085248',\n",
      "  'status': 'ACTIVE',\n",
      "  'storageConfiguration': { 'opensearchServerlessConfiguration': { 'collectionArn': 'arn:aws:aoss:us-west-2:461433424192:collection/hwdi58tt007x7w6sf1',\n",
      "                                                                   'fieldMapping': { 'metadataField': 'text-metadata',\n",
      "                                                                                     'textField': 'text',\n",
      "                                                                                     'vectorField': 'vector'},\n",
      "                                                                   'vectorIndexName': 'bedrock-sample-rag-index-1085248'},\n",
      "                            'type': 'OPENSEARCH_SERVERLESS'},\n",
      "  'updatedAt': datetime.datetime(2025, 7, 31, 8, 55, 21, 462017, tzinfo=tzlocal())}\n",
      "Creating Data Sources\n",
      "1 data source: S3\n",
      "============Chunking config========\n",
      " {'chunkingConfiguration': {'chunkingStrategy': 'FIXED_SIZE', 'fixedSizeChunkingConfiguration': {'maxTokens': 300, 'overlapPercentage': 20}}}\n",
      "{ 'createdAt': datetime.datetime(2025, 7, 31, 8, 55, 24, 111810, tzinfo=tzlocal()),\n",
      "  'dataDeletionPolicy': 'DELETE',\n",
      "  'dataSourceConfiguration': { 's3Configuration': { 'bucketArn': 'arn:aws:s3:::reranking-kb-1085248'},\n",
      "                               'type': 'S3'},\n",
      "  'dataSourceId': '4Y9VLCW5UK',\n",
      "  'description': 'Knowledge Base for re-ranking.',\n",
      "  'knowledgeBaseId': 'CJIZWY7CN1',\n",
      "  'name': 'CJIZWY7CN1-s3',\n",
      "  'status': 'AVAILABLE',\n",
      "  'updatedAt': datetime.datetime(2025, 7, 31, 8, 55, 24, 111810, tzinfo=tzlocal()),\n",
      "  'vectorIngestionConfiguration': { 'chunkingConfiguration': { 'chunkingStrategy': 'FIXED_SIZE',\n",
      "                                                               'fixedSizeChunkingConfiguration': { 'maxTokens': 300,\n",
      "                                                                                                   'overlapPercentage': 20}}}}\n",
      "[ { 'createdAt': datetime.datetime(2025, 7, 31, 8, 55, 24, 111810, tzinfo=tzlocal()),\n",
      "    'dataDeletionPolicy': 'DELETE',\n",
      "    'dataSourceConfiguration': { 's3Configuration': { 'bucketArn': 'arn:aws:s3:::reranking-kb-1085248'},\n",
      "                                 'type': 'S3'},\n",
      "    'dataSourceId': '4Y9VLCW5UK',\n",
      "    'description': 'Knowledge Base for re-ranking.',\n",
      "    'knowledgeBaseId': 'CJIZWY7CN1',\n",
      "    'name': 'CJIZWY7CN1-s3',\n",
      "    'status': 'AVAILABLE',\n",
      "    'updatedAt': datetime.datetime(2025, 7, 31, 8, 55, 24, 111810, tzinfo=tzlocal()),\n",
      "    'vectorIngestionConfiguration': { 'chunkingConfiguration': { 'chunkingStrategy': 'FIXED_SIZE',\n",
      "                                                                 'fixedSizeChunkingConfiguration': { 'maxTokens': 300,\n",
      "                                                                                                     'overlapPercentage': 20}}}}]\n",
      "========================================================================================\n"
     ]
    }
   ],
   "source": [
    "knowledge_base_metadata = BedrockKnowledgeBase(\n",
    "    kb_name=f'{knowledge_base_name}-{suffix}',\n",
    "    kb_description=knowledge_base_description,\n",
    "    data_sources=data_source, \n",
    "    chunking_strategy = \"FIXED_SIZE\", \n",
    "    suffix = suffix\n",
    ")"
   ]
  },
  {
   "cell_type": "markdown",
   "id": "c79183c7",
   "metadata": {},
   "source": [
    "## 2.1 데이터셋을 Amazon S3에 업로드\n",
    "이제 지식 베이스를 생성했으니, `Octank financial 10K` 보고서 데이터셋으로 채워보겠습니다. Knowledge Base 데이터 소스는 연결된 S3 버킷에서 데이터를 사용할 수 있어야 하며, `StartIngestionJob` 호출을 사용하여 데이터의 변경 사항을 지식 베이스와 동기화할 수 있습니다. 이 예제에서는 우리의 헬퍼 클래스를 통해 API의 [boto3 추상화](https://boto3.amazonaws.com/v1/documentation/api/latest/reference/services/bedrock-agent/client/start_ingestion_job.html)를 사용할 것입니다.\n",
    "\n",
    "먼저 dataset 폴더에 있는 메뉴 데이터를 s3에 업로드해보겠습니다."
   ]
  },
  {
   "cell_type": "code",
   "execution_count": 11,
   "id": "40e12fc8",
   "metadata": {
    "execution": {
     "iopub.execute_input": "2025-07-31T08:55:24.129101Z",
     "iopub.status.busy": "2025-07-31T08:55:24.128856Z",
     "iopub.status.idle": "2025-07-31T08:55:24.474144Z",
     "shell.execute_reply": "2025-07-31T08:55:24.473387Z",
     "shell.execute_reply.started": "2025-07-31T08:55:24.129081Z"
    }
   },
   "outputs": [
    {
     "name": "stdout",
     "output_type": "stream",
     "text": [
      "uploading file ../synthetic_dataset/2024_population.pdf to reranking-kb-1085248\n"
     ]
    }
   ],
   "source": [
    "import os\n",
    "\n",
    "def upload_directory(path, bucket_name):\n",
    "    for root, dirs, files in os.walk(path):\n",
    "        for file in files:\n",
    "            file_to_upload = os.path.join(root, file)\n",
    "            if file not in [\"LICENSE\", \"NOTICE\", \"README.md\"]:\n",
    "                print(f\"uploading file {file_to_upload} to {bucket_name}\")\n",
    "                s3_client.upload_file(file_to_upload, bucket_name, file)\n",
    "            else:\n",
    "                print(f\"Skipping file {file_to_upload}\")\n",
    "\n",
    "upload_directory(\"../synthetic_dataset\", bucket_name)\n"
   ]
  },
  {
   "cell_type": "markdown",
   "id": "b70a4b4b",
   "metadata": {},
   "source": [
    "이제 수집 작업을 시작합니다."
   ]
  },
  {
   "cell_type": "code",
   "execution_count": 12,
   "id": "241a6ab9",
   "metadata": {
    "execution": {
     "iopub.execute_input": "2025-07-31T08:55:24.475462Z",
     "iopub.status.busy": "2025-07-31T08:55:24.475182Z",
     "iopub.status.idle": "2025-07-31T08:56:49.956804Z",
     "shell.execute_reply": "2025-07-31T08:56:49.956106Z",
     "shell.execute_reply.started": "2025-07-31T08:55:24.475441Z"
    }
   },
   "outputs": [
    {
     "name": "stdout",
     "output_type": "stream",
     "text": [
      "job 1 started successfully\n",
      "\n",
      "{ 'dataSourceId': '4Y9VLCW5UK',\n",
      "  'ingestionJobId': 'U3OPYUYPYD',\n",
      "  'knowledgeBaseId': 'CJIZWY7CN1',\n",
      "  'startedAt': datetime.datetime(2025, 7, 31, 8, 55, 55, 469680, tzinfo=tzlocal()),\n",
      "  'statistics': { 'numberOfDocumentsDeleted': 0,\n",
      "                  'numberOfDocumentsFailed': 0,\n",
      "                  'numberOfDocumentsScanned': 1,\n",
      "                  'numberOfMetadataDocumentsModified': 0,\n",
      "                  'numberOfMetadataDocumentsScanned': 0,\n",
      "                  'numberOfModifiedDocumentsIndexed': 0,\n",
      "                  'numberOfNewDocumentsIndexed': 1},\n",
      "  'status': 'COMPLETE',\n",
      "  'updatedAt': datetime.datetime(2025, 7, 31, 8, 56, 9, 879753, tzinfo=tzlocal())}\n",
      "........................................"
     ]
    }
   ],
   "source": [
    "# ensure that the kb is available\n",
    "time.sleep(30)\n",
    "# sync knowledge base\n",
    "knowledge_base_metadata.start_ingestion_job()"
   ]
  },
  {
   "cell_type": "markdown",
   "id": "bad55ab6",
   "metadata": {},
   "source": [
    "마지막으로 나중에 솔루션을 테스트하기 위해 Knowledge Base ID를 저장합니다."
   ]
  },
  {
   "cell_type": "code",
   "execution_count": 13,
   "id": "677c97ce",
   "metadata": {
    "execution": {
     "iopub.execute_input": "2025-07-31T08:56:49.958054Z",
     "iopub.status.busy": "2025-07-31T08:56:49.957552Z",
     "iopub.status.idle": "2025-07-31T08:56:49.962080Z",
     "shell.execute_reply": "2025-07-31T08:56:49.961303Z",
     "shell.execute_reply.started": "2025-07-31T08:56:49.958033Z"
    }
   },
   "outputs": [
    {
     "name": "stdout",
     "output_type": "stream",
     "text": [
      "'CJIZWY7CN1'\n"
     ]
    }
   ],
   "source": [
    "kb_id = knowledge_base_metadata.get_knowledge_base_id()"
   ]
  },
  {
   "cell_type": "markdown",
   "id": "fcc80032",
   "metadata": {},
   "source": [
    "## 3. Evaluate the relevance of query responses with and without Re-ranking (using Ragas)"
   ]
  },
  {
   "cell_type": "markdown",
   "id": "1cea8edf",
   "metadata": {},
   "source": [
    "생성, 평가 및 재순위를 위한 모델 정의"
   ]
  },
  {
   "cell_type": "code",
   "execution_count": 14,
   "id": "bfa5a6bb",
   "metadata": {
    "execution": {
     "iopub.execute_input": "2025-07-31T08:56:49.963614Z",
     "iopub.status.busy": "2025-07-31T08:56:49.963214Z",
     "iopub.status.idle": "2025-07-31T08:56:50.759829Z",
     "shell.execute_reply": "2025-07-31T08:56:50.759161Z",
     "shell.execute_reply.started": "2025-07-31T08:56:49.963585Z"
    }
   },
   "outputs": [],
   "source": [
    "from langchain.llms.bedrock import Bedrock\n",
    "from langchain_aws import ChatBedrock\n",
    "from langchain_aws import BedrockEmbeddings\n",
    "\n",
    "bedrock_client = boto3.client('bedrock-runtime')\n",
    "\n",
    "TEXT_GENERATION_MODEL_ID = \"anthropic.claude-3-haiku-20240307-v1:0\"\n",
    "EVALUATION_MODEL_ID = \"anthropic.claude-3-sonnet-20240229-v1:0\"\n",
    "EMBEDDING_MODEL_ID = \"amazon.titan-embed-text-v2:0\"\n",
    "\n",
    "# Reranker model: there are two reranker models available at launch\n",
    "AMAZON_RERANKER_MODEL_ID = \"amazon.rerank-v1:0\"\n",
    "COHERE_RERANKER_MODEL_ID = \"cohere.rerank-v3-5:0\"\n",
    "\n",
    "\n",
    "llm_for_evaluation = ChatBedrock(model_id=EVALUATION_MODEL_ID, client=bedrock_client)\n",
    "bedrock_embeddings = BedrockEmbeddings(model_id=EMBEDDING_MODEL_ID, client=bedrock_client)\n"
   ]
  },
  {
   "cell_type": "markdown",
   "id": "1c336de9",
   "metadata": {},
   "source": [
    "#### 3.1 Update Knowledge Bases execution role"
   ]
  },
  {
   "cell_type": "code",
   "execution_count": 15,
   "id": "aeac148b",
   "metadata": {
    "execution": {
     "iopub.execute_input": "2025-07-31T08:56:50.761066Z",
     "iopub.status.busy": "2025-07-31T08:56:50.760619Z",
     "iopub.status.idle": "2025-07-31T08:56:51.185816Z",
     "shell.execute_reply": "2025-07-31T08:56:51.185042Z",
     "shell.execute_reply.started": "2025-07-31T08:56:50.761036Z"
    }
   },
   "outputs": [],
   "source": [
    "# Before using autogenerated filters - update the knowledge base execution IAM role with right permissions\n",
    "\n",
    "iam = boto3.resource('iam')\n",
    "client = boto3.client('iam')\n",
    "\n",
    "def get_attached_policies(role_name):\n",
    "    response = client.list_attached_role_policies(RoleName=role_name)\n",
    "    attached_policies = response['AttachedPolicies']\n",
    "    return attached_policies\n",
    "\n",
    "# get the knowledge base IAM role name\n",
    "get_kb_response = bedrock_agent_client.get_knowledge_base(knowledgeBaseId = kb_id)\n",
    "role_arn = get_kb_response['knowledgeBase']['roleArn']\n",
    "role_name = role_arn.split('/')[-1]\n",
    "\n",
    "# get attached policies\n",
    "attached_policies = get_attached_policies(role_name)\n",
    "attached_policies\n",
    "\n",
    "def update_kb_execution_role(attached_policies, region_name):\n",
    "    \n",
    "    for policy in attached_policies:\n",
    "\n",
    "        print(policy['PolicyArn'])\n",
    "        policy_name = policy['PolicyName']\n",
    "        policy_arn = policy['PolicyArn']\n",
    "\n",
    "        if 'FoundationModel' in policy_arn:\n",
    "            print('Updating FoundationModel policy: ',policy_arn)\n",
    "            policy = iam.Policy(policy_arn)\n",
    "            version = policy.default_version\n",
    "            policyJson = version.document\n",
    "            policyJson['Statement'][0]['Resource'].append(f'arn:aws:bedrock:{region}::foundation-model/{TEXT_GENERATION_MODEL_ID}')\n",
    "            policyJson['Statement'][0]['Resource'].append(f'arn:aws:bedrock:{region}::foundation-model/{EVALUATION_MODEL_ID}')  \n",
    "            policyJson['Statement'][0]['Resource'].append(f'arn:aws:bedrock:{region}::foundation-model/{AMAZON_RERANKER_MODEL_ID}') \n",
    "            policyJson['Statement'][0]['Resource'].append(f'arn:aws:bedrock:{region}::foundation-model/{COHERE_RERANKER_MODEL_ID}') \n",
    "        \n",
    "            client.detach_role_policy(RoleName=role_name,\n",
    "                PolicyArn=policy_arn)\n",
    "            \n",
    "            response = client.delete_policy(\n",
    "                PolicyArn=policy_arn\n",
    "            )\n",
    "            print(response)\n",
    "           \n",
    "            response = client.create_policy(\n",
    "            PolicyName= policy_name,\n",
    "            PolicyDocument=json.dumps(policyJson)\n",
    "            )\n",
    "            print(response)\n",
    "        \n",
    "        client.attach_role_policy(\n",
    "            RoleName=role_name,\n",
    "            PolicyArn=policy_arn\n",
    "        )"
   ]
  },
  {
   "cell_type": "code",
   "execution_count": 16,
   "id": "b3521cb4",
   "metadata": {
    "execution": {
     "iopub.execute_input": "2025-07-31T08:56:51.187228Z",
     "iopub.status.busy": "2025-07-31T08:56:51.186724Z",
     "iopub.status.idle": "2025-07-31T08:56:52.359128Z",
     "shell.execute_reply": "2025-07-31T08:56:52.358358Z",
     "shell.execute_reply.started": "2025-07-31T08:56:51.187205Z"
    }
   },
   "outputs": [
    {
     "name": "stdout",
     "output_type": "stream",
     "text": [
      "arn:aws:iam::461433424192:policy/AmazonBedrockS3PolicyForKnowledgeBase_1085248\n",
      "arn:aws:iam::461433424192:policy/AmazonBedrockOSSPolicyForKnowledgeBase_1085248\n",
      "arn:aws:iam::461433424192:policy/AmazonBedrockCloudWatchPolicyForKnowledgeBase_1085248\n",
      "arn:aws:iam::461433424192:policy/AmazonBedrockFoundationModelPolicyForKnowledgeBase_1085248\n",
      "Updating FoundationModel policy:  arn:aws:iam::461433424192:policy/AmazonBedrockFoundationModelPolicyForKnowledgeBase_1085248\n",
      "{'ResponseMetadata': {'RequestId': '66c1e8a1-c70d-4714-8cab-1684e13527ee', 'HTTPStatusCode': 200, 'HTTPHeaders': {'date': 'Thu, 31 Jul 2025 08:56:52 GMT', 'x-amzn-requestid': '66c1e8a1-c70d-4714-8cab-1684e13527ee', 'content-type': 'text/xml', 'content-length': '204'}, 'RetryAttempts': 0}}\n",
      "{'Policy': {'PolicyName': 'AmazonBedrockFoundationModelPolicyForKnowledgeBase_1085248', 'PolicyId': 'ANPAWW34TJFANS6C5PF6D', 'Arn': 'arn:aws:iam::461433424192:policy/AmazonBedrockFoundationModelPolicyForKnowledgeBase_1085248', 'Path': '/', 'DefaultVersionId': 'v1', 'AttachmentCount': 0, 'PermissionsBoundaryUsageCount': 0, 'IsAttachable': True, 'CreateDate': datetime.datetime(2025, 7, 31, 8, 56, 52, tzinfo=tzlocal()), 'UpdateDate': datetime.datetime(2025, 7, 31, 8, 56, 52, tzinfo=tzlocal())}, 'ResponseMetadata': {'RequestId': 'ceed5a12-9e9c-4119-93f5-f70ef93dce0e', 'HTTPStatusCode': 200, 'HTTPHeaders': {'date': 'Thu, 31 Jul 2025 08:56:52 GMT', 'x-amzn-requestid': 'ceed5a12-9e9c-4119-93f5-f70ef93dce0e', 'content-type': 'text/xml', 'content-length': '851'}, 'RetryAttempts': 0}}\n"
     ]
    }
   ],
   "source": [
    "update_kb_execution_role(attached_policies, region)\n",
    "# time.sleep(30)"
   ]
  },
  {
   "cell_type": "markdown",
   "id": "529118c5",
   "metadata": {},
   "source": [
    "#### 3.2 Customize retrieve and generate configuraion"
   ]
  },
  {
   "cell_type": "code",
   "execution_count": 17,
   "id": "df68891d",
   "metadata": {
    "execution": {
     "iopub.execute_input": "2025-07-31T08:56:52.361281Z",
     "iopub.status.busy": "2025-07-31T08:56:52.361048Z",
     "iopub.status.idle": "2025-07-31T08:56:52.367261Z",
     "shell.execute_reply": "2025-07-31T08:56:52.366399Z",
     "shell.execute_reply.started": "2025-07-31T08:56:52.361262Z"
    }
   },
   "outputs": [],
   "source": [
    "def retrieve_and_generate(query, reranker_model=None, kb_id=None, TEXT_GENERATION_MODEL_ID=None, metadata_filters=None):\n",
    "    \n",
    "    # Prepare retrieval configuration\n",
    "    retrieval_config = {\n",
    "        \"vectorSearchConfiguration\": {\n",
    "            \"numberOfResults\": 30 if reranker_model else 3\n",
    "        }\n",
    "    }\n",
    "\n",
    "    if reranker_model:\n",
    "        retrieval_config[\"vectorSearchConfiguration\"][\"rerankingConfiguration\"] = {\n",
    "            \"type\": \"BEDROCK_RERANKING_MODEL\",\n",
    "            \"bedrockRerankingConfiguration\": {\n",
    "                \"modelConfiguration\": {\n",
    "                    \"modelArn\": f'arn:aws:bedrock:{region}::foundation-model/{reranker_model}',\n",
    "                },\n",
    "                \"numberOfRerankedResults\": 3\n",
    "            }\n",
    "        }\n",
    "\n",
    "        if metadata_filters:\n",
    "            retrieval_config[\"vectorSearchConfiguration\"][\"rerankingConfiguration\"][\"bedrockRerankingConfiguration\"][\"metadataConfiguration\"] = {\n",
    "                                                                \"selectionMode\" : \"SELECTIVE\",\n",
    "                                                                \"selectiveModeConfiguration\" : {\n",
    "                                                                    \"fieldsToInclude\": [{\n",
    "                                                                        \"fieldName\": \"year\",\n",
    "                                                                    }]\n",
    "                                                                }\n",
    "                                                            }\n",
    "                    \n",
    "\n",
    "    # Call the retrieve and generate API\n",
    "    start = time.time()\n",
    "    response = bedrock_agent_runtime_client.retrieve_and_generate(\n",
    "        input={'text': query},\n",
    "        retrieveAndGenerateConfiguration={\n",
    "            'type': 'KNOWLEDGE_BASE',\n",
    "            'knowledgeBaseConfiguration': {\n",
    "                'knowledgeBaseId': kb_id,\n",
    "                'modelArn': f'arn:aws:bedrock:{region}::foundation-model/{TEXT_GENERATION_MODEL_ID}',\n",
    "                'retrievalConfiguration': retrieval_config,\n",
    "            },\n",
    "        }\n",
    "    )\n",
    "    time_spent = time.time() - start\n",
    "\n",
    "    print(f\"[Response] : {response['output']['text']}\\n\")\n",
    "    print(f\"[Invocation time] : {time_spent}\\n\")\n",
    "\n",
    "    return response\n"
   ]
  },
  {
   "cell_type": "markdown",
   "id": "fdc724b4",
   "metadata": {},
   "source": [
    "#### 3.3 Prepare dataset for evaluation"
   ]
  },
  {
   "cell_type": "code",
   "execution_count": 22,
   "id": "b086554a",
   "metadata": {
    "execution": {
     "iopub.execute_input": "2025-07-31T08:58:10.781027Z",
     "iopub.status.busy": "2025-07-31T08:58:10.780653Z",
     "iopub.status.idle": "2025-07-31T08:58:12.368885Z",
     "shell.execute_reply": "2025-07-31T08:58:12.367844Z",
     "shell.execute_reply.started": "2025-07-31T08:58:10.781003Z"
    }
   },
   "outputs": [
    {
     "name": "stderr",
     "output_type": "stream",
     "text": [
      "[2025-07-31 08:58:11,579] p2350 {config.py:112} INFO - TensorFlow version 2.18.0 available.\n",
      "/opt/conda/lib/python3.12/site-packages/ragas/metrics/__init__.py:1: LangChainDeprecationWarning: As of langchain-core 0.3.0, LangChain uses pydantic v2 internally. The langchain_core.pydantic_v1 module was a compatibility shim for pydantic v1, and should no longer be used. Please update the code to import from Pydantic directly.\n",
      "\n",
      "For example, replace imports like: `from langchain_core.pydantic_v1 import BaseModel`\n",
      "with: `from pydantic import BaseModel`\n",
      "or the v1 compatibility namespace if you are working in a code base that has not been fully upgraded to pydantic 2 yet. \tfrom pydantic.v1 import BaseModel\n",
      "\n",
      "  from ragas.metrics._answer_correctness import AnswerCorrectness, answer_correctness\n",
      "/opt/conda/lib/python3.12/site-packages/ragas/metrics/__init__.py:4: LangChainDeprecationWarning: As of langchain-core 0.3.0, LangChain uses pydantic v2 internally. The langchain.pydantic_v1 module was a compatibility shim for pydantic v1, and should no longer be used. Please update the code to import from Pydantic directly.\n",
      "\n",
      "For example, replace imports like: `from langchain.pydantic_v1 import BaseModel`\n",
      "with: `from pydantic import BaseModel`\n",
      "or the v1 compatibility namespace if you are working in a code base that has not been fully upgraded to pydantic 2 yet. \tfrom pydantic.v1 import BaseModel\n",
      "\n",
      "  from ragas.metrics._context_entities_recall import (\n"
     ]
    }
   ],
   "source": [
    "from datasets import Dataset\n",
    "from ragas import evaluate\n",
    "from ragas.metrics import (\n",
    "    answer_correctness\n",
    ")\n",
    "\n",
    "#specify the metrics here\n",
    "metrics = [\n",
    "    answer_correctness\n",
    "]\n",
    "\n",
    "questions = [\n",
    "    \"2024년 대한민국의 1인 가구의 주요 특징을 연령, 성별, 거주 형태, 그리고 지역적 분포(가장 비율이 높은 시도)를 중심으로 설명해 줘.\"\n",
    "]\n",
    "ground_truths = [\n",
    "    \"2024년 대한민국 1인 가구는 전체 일반 가구의 36.1%를 차지하는 804만 가구에 달하며, 주요 특징은 다음과 같습니다.\\\n",
    "    연령 및 성별 분포: 연령대별로는 20대 이하(17.8%), 60대(17.6%), 30대(17.4%) 순으로 높은 비중을 차지합니다. 성별로 보면, 남성 1인 가구는 30대(21.8%)가, 여성 1인 가구는 60대(19.1%)가 가장 많습니다.\\\n",
    "    지역적 분포: 시도별 1인 가구 비율은 서울이 39.9%로 전국에서 가장 높게 나타났습니다.\\\n",
    "    거주 형태: 1인 가구는 주로 아파트(35.9%)와 다가구단독 주택(20.1%)에 거주하는 것으로 나타났습니다. 이는 전체 일반가구가 아파트에 53.9% 거주하는 것과 비교했을 때, 아파트 거주 비율이 상대적으로 낮은 특징을 보입니다.\"\n",
    "]"
   ]
  },
  {
   "cell_type": "code",
   "execution_count": 23,
   "id": "4ff26dda",
   "metadata": {
    "execution": {
     "iopub.execute_input": "2025-07-31T08:58:17.182270Z",
     "iopub.status.busy": "2025-07-31T08:58:17.181816Z",
     "iopub.status.idle": "2025-07-31T08:58:17.187747Z",
     "shell.execute_reply": "2025-07-31T08:58:17.186895Z",
     "shell.execute_reply.started": "2025-07-31T08:58:17.182245Z"
    }
   },
   "outputs": [],
   "source": [
    "def prepare_eval_dataset(questions, ground_truths, kb_id=None, TEXT_GENERATION_MODEL_ID=None, reranker_model=None, metadata_filters = None):\n",
    "    answers = []\n",
    "    contexts = []\n",
    "    \n",
    "    for query in questions:\n",
    "        response = retrieve_and_generate(\n",
    "            query,\n",
    "            reranker_model=reranker_model,\n",
    "            kb_id=kb_id,\n",
    "            TEXT_GENERATION_MODEL_ID=TEXT_GENERATION_MODEL_ID,\n",
    "            metadata_filters=metadata_filters\n",
    "        )\n",
    "        \n",
    "        answers.append(response[\"output\"][\"text\"])\n",
    "        \n",
    "        context_group = []\n",
    "        for citation in response[\"citations\"]:\n",
    "            context_group.extend([\n",
    "                ref[\"content\"][\"text\"]\n",
    "                for ref in citation[\"retrievedReferences\"]\n",
    "                if \"content\" in ref and \"text\" in ref[\"content\"]\n",
    "            ])\n",
    "        contexts.append(context_group)\n",
    "        time.sleep(15)\n",
    "\n",
    "    # Create dictionary\n",
    "    data = {\n",
    "        \"question\": questions,\n",
    "        \"answer\": answers,\n",
    "        \"contexts\": contexts,\n",
    "        \"ground_truth\": ground_truths\n",
    "    }\n",
    "\n",
    "    # Convert dict to dataset\n",
    "    dataset = Dataset.from_dict(data)\n",
    "    return dataset\n"
   ]
  },
  {
   "cell_type": "markdown",
   "id": "9c51b09a",
   "metadata": {},
   "source": [
    "#### 3.4 Evaluate dataset - without re-ranker"
   ]
  },
  {
   "cell_type": "code",
   "execution_count": 24,
   "id": "84dc3d78",
   "metadata": {
    "execution": {
     "iopub.execute_input": "2025-07-31T08:58:25.041715Z",
     "iopub.status.busy": "2025-07-31T08:58:25.041270Z",
     "iopub.status.idle": "2025-07-31T08:58:43.090951Z",
     "shell.execute_reply": "2025-07-31T08:58:43.090306Z",
     "shell.execute_reply.started": "2025-07-31T08:58:25.041689Z"
    }
   },
   "outputs": [
    {
     "name": "stdout",
     "output_type": "stream",
     "text": [
      "[Response] : 2024년 대한민국의 1인 가구의 주요 특징은 다음과 같습니다:\n",
      "\n",
      "연령별로는 20대 이하(17.8%), 60대(17.6%), 30대(17.4%) 순으로 1인 가구 비중이 높습니다. 성별로는 남자는 30대(21.8%), 여자는 60대(18.7%)가 가장 많습니다. 지역별로는 서울(39.9%)이 1인 가구 비율이 가장 높고, 울산(31.6%)이 가장 낮습니다.\n",
      "\n",
      "[Invocation time] : 3.0309441089630127\n",
      "\n"
     ]
    }
   ],
   "source": [
    "without_reranker_dataset = prepare_eval_dataset(questions, ground_truths, kb_id, TEXT_GENERATION_MODEL_ID, reranker_model=None)"
   ]
  },
  {
   "cell_type": "code",
   "execution_count": 25,
   "id": "f9250cce",
   "metadata": {
    "execution": {
     "iopub.execute_input": "2025-07-31T08:59:03.521193Z",
     "iopub.status.busy": "2025-07-31T08:59:03.520657Z",
     "iopub.status.idle": "2025-07-31T08:59:24.629811Z",
     "shell.execute_reply": "2025-07-31T08:59:24.629011Z",
     "shell.execute_reply.started": "2025-07-31T08:59:03.521161Z"
    }
   },
   "outputs": [
    {
     "data": {
      "application/vnd.jupyter.widget-view+json": {
       "model_id": "21657c65fa8b4786b1cf6a150075dd5f",
       "version_major": 2,
       "version_minor": 0
      },
      "text/plain": [
       "Evaluating:   0%|          | 0/1 [00:00<?, ?it/s]"
      ]
     },
     "metadata": {},
     "output_type": "display_data"
    },
    {
     "name": "stderr",
     "output_type": "stream",
     "text": [
      "[2025-07-31 08:59:03,556] p2350 {bedrock.py:940} INFO - Using Bedrock Invoke API to generate response\n",
      "[2025-07-31 08:59:07,973] p2350 {bedrock.py:940} INFO - Using Bedrock Invoke API to generate response\n",
      "[2025-07-31 08:59:13,860] p2350 {bedrock.py:940} INFO - Using Bedrock Invoke API to generate response\n"
     ]
    }
   ],
   "source": [
    "without_reranker_result = evaluate(\n",
    "    dataset=without_reranker_dataset,\n",
    "    metrics=metrics,\n",
    "    llm=llm_for_evaluation,\n",
    "    embeddings=bedrock_embeddings,\n",
    ")\n",
    "\n",
    "without_reranker_result_df = without_reranker_result.to_pandas()"
   ]
  },
  {
   "cell_type": "markdown",
   "id": "61243e2d",
   "metadata": {},
   "source": [
    "#### 3.5 Evaluate dataset - with re-ranker"
   ]
  },
  {
   "cell_type": "code",
   "execution_count": 26,
   "id": "92591600",
   "metadata": {
    "execution": {
     "iopub.execute_input": "2025-07-31T08:59:24.631132Z",
     "iopub.status.busy": "2025-07-31T08:59:24.630839Z",
     "iopub.status.idle": "2025-07-31T08:59:43.542334Z",
     "shell.execute_reply": "2025-07-31T08:59:43.541666Z",
     "shell.execute_reply.started": "2025-07-31T08:59:24.631111Z"
    }
   },
   "outputs": [
    {
     "name": "stdout",
     "output_type": "stream",
     "text": [
      "[Response] : 2024년 대한민국의 1인 가구의 주요 특징은 다음과 같습니다:\n",
      "\n",
      "연령별로는 20대 이하(17.8%), 60대(17.6%), 30대(17.4%) 순으로 비중이 높습니다. 성별로는 남자는 30대(21.8%), 여자는 60대(19.1%)의 비중이 가장 높습니다. 거주 형태별로는 1인 가구의 35.9%가 아파트에, 20.1%가 다가구단독 주택에 거주하고 있습니다.\n",
      "\n",
      "지역별로는 서울(39.9%)이 1인 가구 비율이 가장 높고, 울산(31.6%)이 가장 낮습니다.\n",
      "\n",
      "[Invocation time] : 3.9023971557617188\n",
      "\n"
     ]
    }
   ],
   "source": [
    "with_reranker_dataset = prepare_eval_dataset(questions, ground_truths, kb_id, TEXT_GENERATION_MODEL_ID, reranker_model=AMAZON_RERANKER_MODEL_ID)"
   ]
  },
  {
   "cell_type": "code",
   "execution_count": 27,
   "id": "d9e78450",
   "metadata": {
    "execution": {
     "iopub.execute_input": "2025-07-31T09:00:08.863089Z",
     "iopub.status.busy": "2025-07-31T09:00:08.862726Z",
     "iopub.status.idle": "2025-07-31T09:00:28.512762Z",
     "shell.execute_reply": "2025-07-31T09:00:28.512066Z",
     "shell.execute_reply.started": "2025-07-31T09:00:08.863063Z"
    }
   },
   "outputs": [
    {
     "data": {
      "application/vnd.jupyter.widget-view+json": {
       "model_id": "65c49d5b811d4e408706393976ecb0f8",
       "version_major": 2,
       "version_minor": 0
      },
      "text/plain": [
       "Evaluating:   0%|          | 0/1 [00:00<?, ?it/s]"
      ]
     },
     "metadata": {},
     "output_type": "display_data"
    },
    {
     "name": "stderr",
     "output_type": "stream",
     "text": [
      "[2025-07-31 09:00:08,876] p2350 {bedrock.py:940} INFO - Using Bedrock Invoke API to generate response\n",
      "[2025-07-31 09:00:13,749] p2350 {bedrock.py:940} INFO - Using Bedrock Invoke API to generate response\n",
      "[2025-07-31 09:00:18,351] p2350 {bedrock.py:940} INFO - Using Bedrock Invoke API to generate response\n"
     ]
    }
   ],
   "source": [
    "with_reranker_result = evaluate(\n",
    "dataset=with_reranker_dataset,\n",
    "metrics=metrics,\n",
    "llm=llm_for_evaluation,\n",
    "embeddings=bedrock_embeddings,\n",
    ")\n",
    "\n",
    "with_reranker_result_df = with_reranker_result.to_pandas()"
   ]
  },
  {
   "cell_type": "markdown",
   "id": "c44ec665",
   "metadata": {},
   "source": [
    "#### 3.5 Prepare Comparison data frame"
   ]
  },
  {
   "cell_type": "code",
   "execution_count": 28,
   "id": "f5ca9fc4",
   "metadata": {
    "execution": {
     "iopub.execute_input": "2025-07-31T09:01:05.489234Z",
     "iopub.status.busy": "2025-07-31T09:01:05.488932Z",
     "iopub.status.idle": "2025-07-31T09:01:05.494009Z",
     "shell.execute_reply": "2025-07-31T09:01:05.493279Z",
     "shell.execute_reply.started": "2025-07-31T09:01:05.489212Z"
    }
   },
   "outputs": [],
   "source": [
    "import pandas as pd\n",
    "\n",
    "# Create the side-by-side DataFrame\n",
    "comparison_df = pd.DataFrame({\n",
    "    'question': without_reranker_result_df['question'],\n",
    "    'without_reranker_answer': without_reranker_result_df['answer'],\n",
    "    'with_reranker_answer': with_reranker_result_df['answer'],\n",
    "    \n",
    "    'without_reranker_answer_correctness': without_reranker_result_df['answer_correctness'],\n",
    "    'with_reranker_answer_correctness': with_reranker_result_df['answer_correctness'],\n",
    "    })"
   ]
  },
  {
   "cell_type": "code",
   "execution_count": 29,
   "id": "30363097",
   "metadata": {
    "execution": {
     "iopub.execute_input": "2025-07-31T09:01:07.982651Z",
     "iopub.status.busy": "2025-07-31T09:01:07.981918Z",
     "iopub.status.idle": "2025-07-31T09:01:07.993292Z",
     "shell.execute_reply": "2025-07-31T09:01:07.992524Z",
     "shell.execute_reply.started": "2025-07-31T09:01:07.982622Z"
    }
   },
   "outputs": [
    {
     "data": {
      "text/html": [
       "<div>\n",
       "<style scoped>\n",
       "    .dataframe tbody tr th:only-of-type {\n",
       "        vertical-align: middle;\n",
       "    }\n",
       "\n",
       "    .dataframe tbody tr th {\n",
       "        vertical-align: top;\n",
       "    }\n",
       "\n",
       "    .dataframe thead th {\n",
       "        text-align: right;\n",
       "    }\n",
       "</style>\n",
       "<table border=\"1\" class=\"dataframe\">\n",
       "  <thead>\n",
       "    <tr style=\"text-align: right;\">\n",
       "      <th></th>\n",
       "      <th>question</th>\n",
       "      <th>without_reranker_answer</th>\n",
       "      <th>with_reranker_answer</th>\n",
       "      <th>without_reranker_answer_correctness</th>\n",
       "      <th>with_reranker_answer_correctness</th>\n",
       "    </tr>\n",
       "  </thead>\n",
       "  <tbody>\n",
       "    <tr>\n",
       "      <th>0</th>\n",
       "      <td>2024년 대한민국의 1인 가구의 주요 특징을 연령, 성별, 거주 형태, 그리고 지역적 분포(가장 비율이 높은 시도)를 중심으로 설명해 줘.</td>\n",
       "      <td>2024년 대한민국의 1인 가구의 주요 특징은 다음과 같습니다:\\n\\n연령별로는 20대 이하(17.8%), 60대(17.6%), 30대(17.4%) 순으로 1인 가구 비중이 높습니다. 성별로는 남자는 30대(21.8%), 여자는 60대(18.7%)가 가장 많습니다. 지역별로는 서울(39.9%)이 1인 가구 비율이 가장 높고, 울산(31.6%)이 가장 낮습니다.</td>\n",
       "      <td>2024년 대한민국의 1인 가구의 주요 특징은 다음과 같습니다:\\n\\n연령별로는 20대 이하(17.8%), 60대(17.6%), 30대(17.4%) 순으로 비중이 높습니다. 성별로는 남자는 30대(21.8%), 여자는 60대(19.1%)의 비중이 가장 높습니다. 거주 형태별로는 1인 가구의 35.9%가 아파트에, 20.1%가 다가구단독 주택에 거주하고 있습니다.\\n\\n지역별로는 서울(39.9%)이 1인 가구 비율이 가장 높고, 울산(31.6%)이 가장 낮습니다.</td>\n",
       "      <td>0.790797</td>\n",
       "      <td>0.865416</td>\n",
       "    </tr>\n",
       "  </tbody>\n",
       "</table>\n",
       "</div>"
      ],
      "text/plain": [
       "                                                                         question  \\\n",
       "0  2024년 대한민국의 1인 가구의 주요 특징을 연령, 성별, 거주 형태, 그리고 지역적 분포(가장 비율이 높은 시도)를 중심으로 설명해 줘.   \n",
       "\n",
       "                                                                                                                                                                                      without_reranker_answer  \\\n",
       "0  2024년 대한민국의 1인 가구의 주요 특징은 다음과 같습니다:\\n\\n연령별로는 20대 이하(17.8%), 60대(17.6%), 30대(17.4%) 순으로 1인 가구 비중이 높습니다. 성별로는 남자는 30대(21.8%), 여자는 60대(18.7%)가 가장 많습니다. 지역별로는 서울(39.9%)이 1인 가구 비율이 가장 높고, 울산(31.6%)이 가장 낮습니다.   \n",
       "\n",
       "                                                                                                                                                                                                                                                   with_reranker_answer  \\\n",
       "0  2024년 대한민국의 1인 가구의 주요 특징은 다음과 같습니다:\\n\\n연령별로는 20대 이하(17.8%), 60대(17.6%), 30대(17.4%) 순으로 비중이 높습니다. 성별로는 남자는 30대(21.8%), 여자는 60대(19.1%)의 비중이 가장 높습니다. 거주 형태별로는 1인 가구의 35.9%가 아파트에, 20.1%가 다가구단독 주택에 거주하고 있습니다.\\n\\n지역별로는 서울(39.9%)이 1인 가구 비율이 가장 높고, 울산(31.6%)이 가장 낮습니다.   \n",
       "\n",
       "   without_reranker_answer_correctness  with_reranker_answer_correctness  \n",
       "0                             0.790797                          0.865416  "
      ]
     },
     "execution_count": 29,
     "metadata": {},
     "output_type": "execute_result"
    }
   ],
   "source": [
    "pd.options.display.max_colwidth = 1000\n",
    "comparison_df"
   ]
  },
  {
   "cell_type": "code",
   "execution_count": 30,
   "id": "a3e83ab3",
   "metadata": {
    "execution": {
     "iopub.execute_input": "2025-07-31T09:01:44.188778Z",
     "iopub.status.busy": "2025-07-31T09:01:44.188169Z",
     "iopub.status.idle": "2025-07-31T09:01:44.192593Z",
     "shell.execute_reply": "2025-07-31T09:01:44.192031Z",
     "shell.execute_reply.started": "2025-07-31T09:01:44.188753Z"
    }
   },
   "outputs": [
    {
     "name": "stdout",
     "output_type": "stream",
     "text": [
      "\n",
      "Average Correctness without Reranker: 0.7908\n",
      "Average Correctness with Reranker: 0.8654\n"
     ]
    }
   ],
   "source": [
    "# Calculate average correctness\n",
    "without_reranker_avg_correctness = without_reranker_result_df['answer_correctness'].mean()\n",
    "with_reranker_avg_correctness = with_reranker_result_df['answer_correctness'].mean()\n",
    "\n",
    "print(f\"\\nAverage Correctness without Reranker: {without_reranker_avg_correctness:.4f}\")\n",
    "print(f\"Average Correctness with Reranker: {with_reranker_avg_correctness:.4f}\")"
   ]
  },
  {
   "cell_type": "markdown",
   "id": "5577ab01-5239-4a19-9042-a263e8a3de6b",
   "metadata": {},
   "source": [
    "### 2.7 Clean up\n",
    "이 노트북에서 생성된 리소스를 삭제하려면 아래 셀의 주석을 해제하고 실행하세요."
   ]
  },
  {
   "cell_type": "code",
   "execution_count": 31,
   "id": "a0cab3a2-e121-4d65-9254-4d318cf428f1",
   "metadata": {
    "execution": {
     "iopub.execute_input": "2025-07-31T09:01:52.267945Z",
     "iopub.status.busy": "2025-07-31T09:01:52.267390Z",
     "iopub.status.idle": "2025-07-31T09:01:56.329179Z",
     "shell.execute_reply": "2025-07-31T09:01:56.328438Z",
     "shell.execute_reply.started": "2025-07-31T09:01:52.267922Z"
    },
    "tags": []
   },
   "outputs": [
    {
     "name": "stdout",
     "output_type": "stream",
     "text": [
      "===============================Knowledge base==============================\n",
      "Deleted data source 4Y9VLCW5UK\n",
      "======== Knowledge base and all data sources deleted =========\n",
      "Found bucket reranking-kb-1085248\n",
      "Deleted all objects in bucket reranking-kb-1085248\n",
      "Deleted bucket reranking-kb-1085248\n",
      "======== S3 bucket deletion process completed =========\n",
      "Found role AmazonBedrockExecutionRoleForKnowledgeBase_1085248\n",
      "======Attached policies with role AmazonBedrockExecutionRoleForKnowledgeBase_1085248========\n",
      " [{'PolicyName': 'AmazonBedrockFoundationModelPolicyForKnowledgeBase_1085248', 'PolicyArn': 'arn:aws:iam::461433424192:policy/AmazonBedrockFoundationModelPolicyForKnowledgeBase_1085248'}, {'PolicyName': 'AmazonBedrockS3PolicyForKnowledgeBase_1085248', 'PolicyArn': 'arn:aws:iam::461433424192:policy/AmazonBedrockS3PolicyForKnowledgeBase_1085248'}, {'PolicyName': 'AmazonBedrockOSSPolicyForKnowledgeBase_1085248', 'PolicyArn': 'arn:aws:iam::461433424192:policy/AmazonBedrockOSSPolicyForKnowledgeBase_1085248'}, {'PolicyName': 'AmazonBedrockCloudWatchPolicyForKnowledgeBase_1085248', 'PolicyArn': 'arn:aws:iam::461433424192:policy/AmazonBedrockCloudWatchPolicyForKnowledgeBase_1085248'}]\n",
      "Detached policy AmazonBedrockFoundationModelPolicyForKnowledgeBase_1085248 from role AmazonBedrockExecutionRoleForKnowledgeBase_1085248\n",
      "Deleted policy AmazonBedrockFoundationModelPolicyForKnowledgeBase_1085248 from role AmazonBedrockExecutionRoleForKnowledgeBase_1085248\n",
      "Detached policy AmazonBedrockS3PolicyForKnowledgeBase_1085248 from role AmazonBedrockExecutionRoleForKnowledgeBase_1085248\n",
      "Deleted policy AmazonBedrockS3PolicyForKnowledgeBase_1085248 from role AmazonBedrockExecutionRoleForKnowledgeBase_1085248\n",
      "Detached policy AmazonBedrockOSSPolicyForKnowledgeBase_1085248 from role AmazonBedrockExecutionRoleForKnowledgeBase_1085248\n",
      "Deleted policy AmazonBedrockOSSPolicyForKnowledgeBase_1085248 from role AmazonBedrockExecutionRoleForKnowledgeBase_1085248\n",
      "Detached policy AmazonBedrockCloudWatchPolicyForKnowledgeBase_1085248 from role AmazonBedrockExecutionRoleForKnowledgeBase_1085248\n",
      "Deleted policy AmazonBedrockCloudWatchPolicyForKnowledgeBase_1085248 from role AmazonBedrockExecutionRoleForKnowledgeBase_1085248\n",
      "Deleted role AmazonBedrockExecutionRoleForKnowledgeBase_1085248\n",
      "======== All IAM roles and policies deleted =========\n",
      "======== Vector Index, collection and associated policies deleted =========\n"
     ]
    }
   ],
   "source": [
    "print(\"===============================Knowledge base==============================\")\n",
    "knowledge_base_metadata.delete_kb(delete_s3_bucket=True, delete_iam_roles_and_policies=True)"
   ]
  },
  {
   "cell_type": "code",
   "execution_count": null,
   "id": "ecaa7ab9-5867-4382-966b-6049a89ed3c8",
   "metadata": {},
   "outputs": [],
   "source": []
  }
 ],
 "metadata": {
  "availableInstances": [
   {
    "_defaultOrder": 0,
    "_isFastLaunch": true,
    "category": "General purpose",
    "gpuNum": 0,
    "hideHardwareSpecs": false,
    "memoryGiB": 4,
    "name": "ml.t3.medium",
    "vcpuNum": 2
   },
   {
    "_defaultOrder": 1,
    "_isFastLaunch": false,
    "category": "General purpose",
    "gpuNum": 0,
    "hideHardwareSpecs": false,
    "memoryGiB": 8,
    "name": "ml.t3.large",
    "vcpuNum": 2
   },
   {
    "_defaultOrder": 2,
    "_isFastLaunch": false,
    "category": "General purpose",
    "gpuNum": 0,
    "hideHardwareSpecs": false,
    "memoryGiB": 16,
    "name": "ml.t3.xlarge",
    "vcpuNum": 4
   },
   {
    "_defaultOrder": 3,
    "_isFastLaunch": false,
    "category": "General purpose",
    "gpuNum": 0,
    "hideHardwareSpecs": false,
    "memoryGiB": 32,
    "name": "ml.t3.2xlarge",
    "vcpuNum": 8
   },
   {
    "_defaultOrder": 4,
    "_isFastLaunch": true,
    "category": "General purpose",
    "gpuNum": 0,
    "hideHardwareSpecs": false,
    "memoryGiB": 8,
    "name": "ml.m5.large",
    "vcpuNum": 2
   },
   {
    "_defaultOrder": 5,
    "_isFastLaunch": false,
    "category": "General purpose",
    "gpuNum": 0,
    "hideHardwareSpecs": false,
    "memoryGiB": 16,
    "name": "ml.m5.xlarge",
    "vcpuNum": 4
   },
   {
    "_defaultOrder": 6,
    "_isFastLaunch": false,
    "category": "General purpose",
    "gpuNum": 0,
    "hideHardwareSpecs": false,
    "memoryGiB": 32,
    "name": "ml.m5.2xlarge",
    "vcpuNum": 8
   },
   {
    "_defaultOrder": 7,
    "_isFastLaunch": false,
    "category": "General purpose",
    "gpuNum": 0,
    "hideHardwareSpecs": false,
    "memoryGiB": 64,
    "name": "ml.m5.4xlarge",
    "vcpuNum": 16
   },
   {
    "_defaultOrder": 8,
    "_isFastLaunch": false,
    "category": "General purpose",
    "gpuNum": 0,
    "hideHardwareSpecs": false,
    "memoryGiB": 128,
    "name": "ml.m5.8xlarge",
    "vcpuNum": 32
   },
   {
    "_defaultOrder": 9,
    "_isFastLaunch": false,
    "category": "General purpose",
    "gpuNum": 0,
    "hideHardwareSpecs": false,
    "memoryGiB": 192,
    "name": "ml.m5.12xlarge",
    "vcpuNum": 48
   },
   {
    "_defaultOrder": 10,
    "_isFastLaunch": false,
    "category": "General purpose",
    "gpuNum": 0,
    "hideHardwareSpecs": false,
    "memoryGiB": 256,
    "name": "ml.m5.16xlarge",
    "vcpuNum": 64
   },
   {
    "_defaultOrder": 11,
    "_isFastLaunch": false,
    "category": "General purpose",
    "gpuNum": 0,
    "hideHardwareSpecs": false,
    "memoryGiB": 384,
    "name": "ml.m5.24xlarge",
    "vcpuNum": 96
   },
   {
    "_defaultOrder": 12,
    "_isFastLaunch": false,
    "category": "General purpose",
    "gpuNum": 0,
    "hideHardwareSpecs": false,
    "memoryGiB": 8,
    "name": "ml.m5d.large",
    "vcpuNum": 2
   },
   {
    "_defaultOrder": 13,
    "_isFastLaunch": false,
    "category": "General purpose",
    "gpuNum": 0,
    "hideHardwareSpecs": false,
    "memoryGiB": 16,
    "name": "ml.m5d.xlarge",
    "vcpuNum": 4
   },
   {
    "_defaultOrder": 14,
    "_isFastLaunch": false,
    "category": "General purpose",
    "gpuNum": 0,
    "hideHardwareSpecs": false,
    "memoryGiB": 32,
    "name": "ml.m5d.2xlarge",
    "vcpuNum": 8
   },
   {
    "_defaultOrder": 15,
    "_isFastLaunch": false,
    "category": "General purpose",
    "gpuNum": 0,
    "hideHardwareSpecs": false,
    "memoryGiB": 64,
    "name": "ml.m5d.4xlarge",
    "vcpuNum": 16
   },
   {
    "_defaultOrder": 16,
    "_isFastLaunch": false,
    "category": "General purpose",
    "gpuNum": 0,
    "hideHardwareSpecs": false,
    "memoryGiB": 128,
    "name": "ml.m5d.8xlarge",
    "vcpuNum": 32
   },
   {
    "_defaultOrder": 17,
    "_isFastLaunch": false,
    "category": "General purpose",
    "gpuNum": 0,
    "hideHardwareSpecs": false,
    "memoryGiB": 192,
    "name": "ml.m5d.12xlarge",
    "vcpuNum": 48
   },
   {
    "_defaultOrder": 18,
    "_isFastLaunch": false,
    "category": "General purpose",
    "gpuNum": 0,
    "hideHardwareSpecs": false,
    "memoryGiB": 256,
    "name": "ml.m5d.16xlarge",
    "vcpuNum": 64
   },
   {
    "_defaultOrder": 19,
    "_isFastLaunch": false,
    "category": "General purpose",
    "gpuNum": 0,
    "hideHardwareSpecs": false,
    "memoryGiB": 384,
    "name": "ml.m5d.24xlarge",
    "vcpuNum": 96
   },
   {
    "_defaultOrder": 20,
    "_isFastLaunch": false,
    "category": "General purpose",
    "gpuNum": 0,
    "hideHardwareSpecs": true,
    "memoryGiB": 0,
    "name": "ml.geospatial.interactive",
    "supportedImageNames": [
     "sagemaker-geospatial-v1-0"
    ],
    "vcpuNum": 0
   },
   {
    "_defaultOrder": 21,
    "_isFastLaunch": true,
    "category": "Compute optimized",
    "gpuNum": 0,
    "hideHardwareSpecs": false,
    "memoryGiB": 4,
    "name": "ml.c5.large",
    "vcpuNum": 2
   },
   {
    "_defaultOrder": 22,
    "_isFastLaunch": false,
    "category": "Compute optimized",
    "gpuNum": 0,
    "hideHardwareSpecs": false,
    "memoryGiB": 8,
    "name": "ml.c5.xlarge",
    "vcpuNum": 4
   },
   {
    "_defaultOrder": 23,
    "_isFastLaunch": false,
    "category": "Compute optimized",
    "gpuNum": 0,
    "hideHardwareSpecs": false,
    "memoryGiB": 16,
    "name": "ml.c5.2xlarge",
    "vcpuNum": 8
   },
   {
    "_defaultOrder": 24,
    "_isFastLaunch": false,
    "category": "Compute optimized",
    "gpuNum": 0,
    "hideHardwareSpecs": false,
    "memoryGiB": 32,
    "name": "ml.c5.4xlarge",
    "vcpuNum": 16
   },
   {
    "_defaultOrder": 25,
    "_isFastLaunch": false,
    "category": "Compute optimized",
    "gpuNum": 0,
    "hideHardwareSpecs": false,
    "memoryGiB": 72,
    "name": "ml.c5.9xlarge",
    "vcpuNum": 36
   },
   {
    "_defaultOrder": 26,
    "_isFastLaunch": false,
    "category": "Compute optimized",
    "gpuNum": 0,
    "hideHardwareSpecs": false,
    "memoryGiB": 96,
    "name": "ml.c5.12xlarge",
    "vcpuNum": 48
   },
   {
    "_defaultOrder": 27,
    "_isFastLaunch": false,
    "category": "Compute optimized",
    "gpuNum": 0,
    "hideHardwareSpecs": false,
    "memoryGiB": 144,
    "name": "ml.c5.18xlarge",
    "vcpuNum": 72
   },
   {
    "_defaultOrder": 28,
    "_isFastLaunch": false,
    "category": "Compute optimized",
    "gpuNum": 0,
    "hideHardwareSpecs": false,
    "memoryGiB": 192,
    "name": "ml.c5.24xlarge",
    "vcpuNum": 96
   },
   {
    "_defaultOrder": 29,
    "_isFastLaunch": true,
    "category": "Accelerated computing",
    "gpuNum": 1,
    "hideHardwareSpecs": false,
    "memoryGiB": 16,
    "name": "ml.g4dn.xlarge",
    "vcpuNum": 4
   },
   {
    "_defaultOrder": 30,
    "_isFastLaunch": false,
    "category": "Accelerated computing",
    "gpuNum": 1,
    "hideHardwareSpecs": false,
    "memoryGiB": 32,
    "name": "ml.g4dn.2xlarge",
    "vcpuNum": 8
   },
   {
    "_defaultOrder": 31,
    "_isFastLaunch": false,
    "category": "Accelerated computing",
    "gpuNum": 1,
    "hideHardwareSpecs": false,
    "memoryGiB": 64,
    "name": "ml.g4dn.4xlarge",
    "vcpuNum": 16
   },
   {
    "_defaultOrder": 32,
    "_isFastLaunch": false,
    "category": "Accelerated computing",
    "gpuNum": 1,
    "hideHardwareSpecs": false,
    "memoryGiB": 128,
    "name": "ml.g4dn.8xlarge",
    "vcpuNum": 32
   },
   {
    "_defaultOrder": 33,
    "_isFastLaunch": false,
    "category": "Accelerated computing",
    "gpuNum": 4,
    "hideHardwareSpecs": false,
    "memoryGiB": 192,
    "name": "ml.g4dn.12xlarge",
    "vcpuNum": 48
   },
   {
    "_defaultOrder": 34,
    "_isFastLaunch": false,
    "category": "Accelerated computing",
    "gpuNum": 1,
    "hideHardwareSpecs": false,
    "memoryGiB": 256,
    "name": "ml.g4dn.16xlarge",
    "vcpuNum": 64
   },
   {
    "_defaultOrder": 35,
    "_isFastLaunch": false,
    "category": "Accelerated computing",
    "gpuNum": 1,
    "hideHardwareSpecs": false,
    "memoryGiB": 61,
    "name": "ml.p3.2xlarge",
    "vcpuNum": 8
   },
   {
    "_defaultOrder": 36,
    "_isFastLaunch": false,
    "category": "Accelerated computing",
    "gpuNum": 4,
    "hideHardwareSpecs": false,
    "memoryGiB": 244,
    "name": "ml.p3.8xlarge",
    "vcpuNum": 32
   },
   {
    "_defaultOrder": 37,
    "_isFastLaunch": false,
    "category": "Accelerated computing",
    "gpuNum": 8,
    "hideHardwareSpecs": false,
    "memoryGiB": 488,
    "name": "ml.p3.16xlarge",
    "vcpuNum": 64
   },
   {
    "_defaultOrder": 38,
    "_isFastLaunch": false,
    "category": "Accelerated computing",
    "gpuNum": 8,
    "hideHardwareSpecs": false,
    "memoryGiB": 768,
    "name": "ml.p3dn.24xlarge",
    "vcpuNum": 96
   },
   {
    "_defaultOrder": 39,
    "_isFastLaunch": false,
    "category": "Memory Optimized",
    "gpuNum": 0,
    "hideHardwareSpecs": false,
    "memoryGiB": 16,
    "name": "ml.r5.large",
    "vcpuNum": 2
   },
   {
    "_defaultOrder": 40,
    "_isFastLaunch": false,
    "category": "Memory Optimized",
    "gpuNum": 0,
    "hideHardwareSpecs": false,
    "memoryGiB": 32,
    "name": "ml.r5.xlarge",
    "vcpuNum": 4
   },
   {
    "_defaultOrder": 41,
    "_isFastLaunch": false,
    "category": "Memory Optimized",
    "gpuNum": 0,
    "hideHardwareSpecs": false,
    "memoryGiB": 64,
    "name": "ml.r5.2xlarge",
    "vcpuNum": 8
   },
   {
    "_defaultOrder": 42,
    "_isFastLaunch": false,
    "category": "Memory Optimized",
    "gpuNum": 0,
    "hideHardwareSpecs": false,
    "memoryGiB": 128,
    "name": "ml.r5.4xlarge",
    "vcpuNum": 16
   },
   {
    "_defaultOrder": 43,
    "_isFastLaunch": false,
    "category": "Memory Optimized",
    "gpuNum": 0,
    "hideHardwareSpecs": false,
    "memoryGiB": 256,
    "name": "ml.r5.8xlarge",
    "vcpuNum": 32
   },
   {
    "_defaultOrder": 44,
    "_isFastLaunch": false,
    "category": "Memory Optimized",
    "gpuNum": 0,
    "hideHardwareSpecs": false,
    "memoryGiB": 384,
    "name": "ml.r5.12xlarge",
    "vcpuNum": 48
   },
   {
    "_defaultOrder": 45,
    "_isFastLaunch": false,
    "category": "Memory Optimized",
    "gpuNum": 0,
    "hideHardwareSpecs": false,
    "memoryGiB": 512,
    "name": "ml.r5.16xlarge",
    "vcpuNum": 64
   },
   {
    "_defaultOrder": 46,
    "_isFastLaunch": false,
    "category": "Memory Optimized",
    "gpuNum": 0,
    "hideHardwareSpecs": false,
    "memoryGiB": 768,
    "name": "ml.r5.24xlarge",
    "vcpuNum": 96
   },
   {
    "_defaultOrder": 47,
    "_isFastLaunch": false,
    "category": "Accelerated computing",
    "gpuNum": 1,
    "hideHardwareSpecs": false,
    "memoryGiB": 16,
    "name": "ml.g5.xlarge",
    "vcpuNum": 4
   },
   {
    "_defaultOrder": 48,
    "_isFastLaunch": false,
    "category": "Accelerated computing",
    "gpuNum": 1,
    "hideHardwareSpecs": false,
    "memoryGiB": 32,
    "name": "ml.g5.2xlarge",
    "vcpuNum": 8
   },
   {
    "_defaultOrder": 49,
    "_isFastLaunch": false,
    "category": "Accelerated computing",
    "gpuNum": 1,
    "hideHardwareSpecs": false,
    "memoryGiB": 64,
    "name": "ml.g5.4xlarge",
    "vcpuNum": 16
   },
   {
    "_defaultOrder": 50,
    "_isFastLaunch": false,
    "category": "Accelerated computing",
    "gpuNum": 1,
    "hideHardwareSpecs": false,
    "memoryGiB": 128,
    "name": "ml.g5.8xlarge",
    "vcpuNum": 32
   },
   {
    "_defaultOrder": 51,
    "_isFastLaunch": false,
    "category": "Accelerated computing",
    "gpuNum": 1,
    "hideHardwareSpecs": false,
    "memoryGiB": 256,
    "name": "ml.g5.16xlarge",
    "vcpuNum": 64
   },
   {
    "_defaultOrder": 52,
    "_isFastLaunch": false,
    "category": "Accelerated computing",
    "gpuNum": 4,
    "hideHardwareSpecs": false,
    "memoryGiB": 192,
    "name": "ml.g5.12xlarge",
    "vcpuNum": 48
   },
   {
    "_defaultOrder": 53,
    "_isFastLaunch": false,
    "category": "Accelerated computing",
    "gpuNum": 4,
    "hideHardwareSpecs": false,
    "memoryGiB": 384,
    "name": "ml.g5.24xlarge",
    "vcpuNum": 96
   },
   {
    "_defaultOrder": 54,
    "_isFastLaunch": false,
    "category": "Accelerated computing",
    "gpuNum": 8,
    "hideHardwareSpecs": false,
    "memoryGiB": 768,
    "name": "ml.g5.48xlarge",
    "vcpuNum": 192
   },
   {
    "_defaultOrder": 55,
    "_isFastLaunch": false,
    "category": "Accelerated computing",
    "gpuNum": 8,
    "hideHardwareSpecs": false,
    "memoryGiB": 1152,
    "name": "ml.p4d.24xlarge",
    "vcpuNum": 96
   },
   {
    "_defaultOrder": 56,
    "_isFastLaunch": false,
    "category": "Accelerated computing",
    "gpuNum": 8,
    "hideHardwareSpecs": false,
    "memoryGiB": 1152,
    "name": "ml.p4de.24xlarge",
    "vcpuNum": 96
   },
   {
    "_defaultOrder": 57,
    "_isFastLaunch": false,
    "category": "Accelerated computing",
    "gpuNum": 0,
    "hideHardwareSpecs": false,
    "memoryGiB": 32,
    "name": "ml.trn1.2xlarge",
    "vcpuNum": 8
   },
   {
    "_defaultOrder": 58,
    "_isFastLaunch": false,
    "category": "Accelerated computing",
    "gpuNum": 0,
    "hideHardwareSpecs": false,
    "memoryGiB": 512,
    "name": "ml.trn1.32xlarge",
    "vcpuNum": 128
   },
   {
    "_defaultOrder": 59,
    "_isFastLaunch": false,
    "category": "Accelerated computing",
    "gpuNum": 0,
    "hideHardwareSpecs": false,
    "memoryGiB": 512,
    "name": "ml.trn1n.32xlarge",
    "vcpuNum": 128
   }
  ],
  "instance_type": "ml.t3.medium",
  "kernelspec": {
   "display_name": "Python 3 (ipykernel)",
   "language": "python",
   "name": "python3"
  },
  "language_info": {
   "codemirror_mode": {
    "name": "ipython",
    "version": 3
   },
   "file_extension": ".py",
   "mimetype": "text/x-python",
   "name": "python",
   "nbconvert_exporter": "python",
   "pygments_lexer": "ipython3",
   "version": "3.12.9"
  }
 },
 "nbformat": 4,
 "nbformat_minor": 5
}
