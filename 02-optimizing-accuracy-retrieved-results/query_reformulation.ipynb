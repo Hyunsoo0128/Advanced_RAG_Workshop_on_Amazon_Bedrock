{
 "cells": [
  {
   "cell_type": "markdown",
   "id": "ccd8ae92a248be2d",
   "metadata": {
    "tags": []
   },
   "source": [
    "# Amazon Bedrock Knowledge Bases가 지원하는 쿼리 재구성\n",
    "\n",
    "RAG 기반 GenAI 애플리케이션을 개발할 때 품질, 비용, 지연 시간을 최적화하는 것이 가장 중요한 요소 중 일부입니다. Foundation Model(FM)에 대한 입력 쿼리는 많은 질문과 복잡한 관계를 포함하는 매우 복잡한 경우가 많습니다. 이러한 복잡한 쿼리의 경우, 임베딩 단계에서 쿼리의 중요한 구성 요소가 가려지거나 희석될 수 있어, 쿼리의 모든 측면에 대한 컨텍스트를 제공하지 못하는 청크가 검색될 수 있습니다. 이로 인해 RAG 애플리케이션에서 원하는 것보다 낮은 품질의 응답이 생성될 수 있습니다.\n",
    "\n",
    "이제 쿼리 재구성을 통해 복잡한 입력 프롬프트를 여러 개의 하위 쿼리로 분해할 수 있습니다. 이러한 하위 쿼리들은 각각 관련 청크를 검색하는 자체 검색 단계를 거치게 됩니다. 그 결과로 나온 청크들은 FM에 전달되어 응답을 생성하기 전에 함께 풀링되고 순위가 매겨집니다. 쿼리 재구성은 애플리케이션이 실제 운영 환경에서 직면할 수 있는 복잡한 쿼리의 정확도를 높이는 데 도움이 될 수 있는 또 다른 도구입니다."
   ]
  },
  {
   "cell_type": "markdown",
   "id": "c2e87cd081d14b9c",
   "metadata": {
    "tags": []
   },
   "source": [
    "# 1. Notebook setup\n",
    "시작하기 위해 호환되는 역할과 컴퓨팅 환경으로 아래 단계들을 따르세요"
   ]
  },
  {
   "cell_type": "code",
   "execution_count": 1,
   "id": "fcc27605-f8c1-43b6-b1ce-ceabf90784f1",
   "metadata": {
    "execution": {
     "iopub.execute_input": "2025-07-31T08:41:23.530113Z",
     "iopub.status.busy": "2025-07-31T08:41:23.529918Z",
     "iopub.status.idle": "2025-07-31T08:41:48.187824Z",
     "shell.execute_reply": "2025-07-31T08:41:48.186683Z",
     "shell.execute_reply.started": "2025-07-31T08:41:23.530093Z"
    }
   },
   "outputs": [
    {
     "name": "stdout",
     "output_type": "stream",
     "text": [
      "Note: you may need to restart the kernel to use updated packages.\n",
      "Note: you may need to restart the kernel to use updated packages.\n",
      "Note: you may need to restart the kernel to use updated packages.\n"
     ]
    }
   ],
   "source": [
    "%pip install --upgrade pip --quiet\n",
    "%pip install -r ../requirements.txt --no-deps --quiet\n",
    "%pip install -r ../requirements.txt --upgrade --quiet"
   ]
  },
  {
   "cell_type": "code",
   "execution_count": 2,
   "id": "7c9e1bd6",
   "metadata": {
    "execution": {
     "iopub.execute_input": "2025-07-31T08:41:48.190394Z",
     "iopub.status.busy": "2025-07-31T08:41:48.189122Z",
     "iopub.status.idle": "2025-07-31T08:41:48.197789Z",
     "shell.execute_reply": "2025-07-31T08:41:48.197167Z",
     "shell.execute_reply.started": "2025-07-31T08:41:48.190310Z"
    }
   },
   "outputs": [
    {
     "data": {
      "text/html": [
       "<script>Jupyter.notebook.kernel.restart()</script>"
      ],
      "text/plain": [
       "<IPython.core.display.HTML object>"
      ]
     },
     "execution_count": 2,
     "metadata": {},
     "output_type": "execute_result"
    }
   ],
   "source": [
    "# restart kernel\n",
    "from IPython.core.display import HTML\n",
    "HTML(\"<script>Jupyter.notebook.kernel.restart()</script>\")"
   ]
  },
  {
   "cell_type": "code",
   "execution_count": 3,
   "id": "2a1ec769-4e9b-43d3-bbc9-faed7fabf270",
   "metadata": {
    "execution": {
     "iopub.execute_input": "2025-07-31T08:41:48.200844Z",
     "iopub.status.busy": "2025-07-31T08:41:48.200093Z",
     "iopub.status.idle": "2025-07-31T08:41:48.573537Z",
     "shell.execute_reply": "2025-07-31T08:41:48.572834Z",
     "shell.execute_reply.started": "2025-07-31T08:41:48.200814Z"
    }
   },
   "outputs": [],
   "source": [
    "import os\n",
    "import sys\n",
    "import time\n",
    "import boto3\n",
    "import logging\n",
    "import pprint\n",
    "import json\n",
    "\n",
    "# Set the path to import module\n",
    "from pathlib import Path\n",
    "current_path = Path().resolve()\n",
    "current_path = current_path.parent\n",
    "if str(current_path) not in sys.path:\n",
    "    sys.path.append(str(current_path))\n",
    "# Print sys.path to verify\n",
    "# print(sys.path)\n",
    "\n",
    "from utils.knowledge_base import BedrockKnowledgeBase"
   ]
  },
  {
   "cell_type": "code",
   "execution_count": 4,
   "id": "6739ded2",
   "metadata": {
    "execution": {
     "iopub.execute_input": "2025-07-31T08:41:48.575346Z",
     "iopub.status.busy": "2025-07-31T08:41:48.574667Z",
     "iopub.status.idle": "2025-07-31T08:41:48.763709Z",
     "shell.execute_reply": "2025-07-31T08:41:48.763031Z",
     "shell.execute_reply.started": "2025-07-31T08:41:48.575312Z"
    }
   },
   "outputs": [
    {
     "data": {
      "text/plain": [
       "('us-west-2', '461433424192')"
      ]
     },
     "execution_count": 4,
     "metadata": {},
     "output_type": "execute_result"
    }
   ],
   "source": [
    "#Clients\n",
    "s3_client = boto3.client('s3')\n",
    "sts_client = boto3.client('sts')\n",
    "session = boto3.session.Session()\n",
    "region =  session.region_name\n",
    "account_id = sts_client.get_caller_identity()[\"Account\"]\n",
    "bedrock_agent_client = boto3.client('bedrock-agent')\n",
    "bedrock_agent_runtime_client = boto3.client('bedrock-agent-runtime') \n",
    "logging.basicConfig(format='[%(asctime)s] p%(process)s {%(filename)s:%(lineno)d} %(levelname)s - %(message)s', level=logging.INFO)\n",
    "logger = logging.getLogger(__name__)\n",
    "region, account_id"
   ]
  },
  {
   "cell_type": "code",
   "execution_count": 5,
   "id": "1608e31e-6758-46ae-abc3-753148ffaa6e",
   "metadata": {
    "execution": {
     "iopub.execute_input": "2025-07-31T08:41:48.765809Z",
     "iopub.status.busy": "2025-07-31T08:41:48.764591Z",
     "iopub.status.idle": "2025-07-31T08:41:48.771391Z",
     "shell.execute_reply": "2025-07-31T08:41:48.770547Z",
     "shell.execute_reply.started": "2025-07-31T08:41:48.765784Z"
    }
   },
   "outputs": [],
   "source": [
    "import time\n",
    "\n",
    "# Get the current timestamp\n",
    "current_time = time.time()\n",
    "\n",
    "# Format the timestamp as a string\n",
    "timestamp_str = time.strftime(\"%Y%m%d%H%M%S\", time.localtime(current_time))[-7:]\n",
    "# Create the suffix using the timestamp\n",
    "suffix = f\"{timestamp_str}\"\n",
    "knowledge_base_name_standard = 'standard-kb'\n",
    "knowledge_base_description = \"Octank 10k KB\"\n",
    "bucket_name = f'{knowledge_base_name_standard}-{suffix}'\n",
    "\n",
    "foundation_model = \"anthropic.claude-3-sonnet-20240229-v1:0\"\n",
    "\n",
    "data_source=[{\"type\": \"S3\", \"bucket_name\": bucket_name}]"
   ]
  },
  {
   "cell_type": "markdown",
   "id": "0152d906-9dff-4119-9964-d6a9b96a4d16",
   "metadata": {},
   "source": [
    "## 2. 고정 청킹 전략으로 지식 베이스 생성"
   ]
  },
  {
   "cell_type": "code",
   "execution_count": 6,
   "id": "bb08e2cc-b6e4-4ccd-9492-200c899ca666",
   "metadata": {
    "execution": {
     "iopub.execute_input": "2025-07-31T08:41:48.777545Z",
     "iopub.status.busy": "2025-07-31T08:41:48.777322Z",
     "iopub.status.idle": "2025-07-31T08:44:24.128365Z",
     "shell.execute_reply": "2025-07-31T08:44:24.127574Z",
     "shell.execute_reply.started": "2025-07-31T08:41:48.777525Z"
    }
   },
   "outputs": [
    {
     "name": "stdout",
     "output_type": "stream",
     "text": [
      "========================================================================================\n",
      "Step 1 - Creating or retrieving S3 bucket(s) for Knowledge Base documents\n",
      "['standard-kb-1084148']\n",
      "buckets_to_check:  ['standard-kb-1084148']\n",
      "Creating bucket standard-kb-1084148\n",
      "========================================================================================\n",
      "Step 2 - Creating Knowledge Base Execution Role (AmazonBedrockExecutionRoleForKnowledgeBase_1084148-f) and Policies\n",
      "========================================================================================\n",
      "Step 3a - Creating OSS encryption, network and data access policies\n",
      "========================================================================================\n",
      "Step 3b - Creating OSS Collection (this step takes a couple of minutes to complete)\n",
      "{ 'ResponseMetadata': { 'HTTPHeaders': { 'connection': 'keep-alive',\n",
      "                                         'content-length': '320',\n",
      "                                         'content-type': 'application/x-amz-json-1.0',\n",
      "                                         'date': 'Thu, 31 Jul 2025 08:41:51 '\n",
      "                                                 'GMT',\n",
      "                                         'x-amzn-requestid': '7db2b5c6-8a44-4ce1-9519-03183cacbcce'},\n",
      "                        'HTTPStatusCode': 200,\n",
      "                        'RequestId': '7db2b5c6-8a44-4ce1-9519-03183cacbcce',\n",
      "                        'RetryAttempts': 0},\n",
      "  'createCollectionDetail': { 'arn': 'arn:aws:aoss:us-west-2:461433424192:collection/byl05aks5fxuf0gsen73',\n",
      "                              'createdDate': 1753951311309,\n",
      "                              'id': 'byl05aks5fxuf0gsen73',\n",
      "                              'kmsKeyArn': 'auto',\n",
      "                              'lastModifiedDate': 1753951311309,\n",
      "                              'name': 'bedrock-sample-rag-1084148-f',\n",
      "                              'standbyReplicas': 'ENABLED',\n",
      "                              'status': 'CREATING',\n",
      "                              'type': 'VECTORSEARCH'}}\n",
      "byl05aks5fxuf0gsen73.us-west-2.aoss.amazonaws.com\n",
      "Creating collection...\n",
      "..............................\n",
      "Collection successfully created:\n",
      "[ { 'arn': 'arn:aws:aoss:us-west-2:461433424192:collection/byl05aks5fxuf0gsen73',\n",
      "    'collectionEndpoint': 'https://byl05aks5fxuf0gsen73.us-west-2.aoss.amazonaws.com',\n",
      "    'createdDate': 1753951311309,\n",
      "    'dashboardEndpoint': 'https://byl05aks5fxuf0gsen73.us-west-2.aoss.amazonaws.com/_dashboards',\n",
      "    'id': 'byl05aks5fxuf0gsen73',\n",
      "    'kmsKeyArn': 'auto',\n",
      "    'lastModifiedDate': 1753951334492,\n",
      "    'name': 'bedrock-sample-rag-1084148-f',\n",
      "    'standbyReplicas': 'ENABLED',\n",
      "    'status': 'ACTIVE',\n",
      "    'type': 'VECTORSEARCH'}]\n",
      "Opensearch serverless arn:  arn:aws:iam::461433424192:policy/AmazonBedrockOSSPolicyForKnowledgeBase_1084148-f\n",
      "Sleeping for a minute to ensure data access rules have been enforced\n",
      "========================================================================================\n",
      "Step 3c - Creating OSS Vector Index\n"
     ]
    },
    {
     "name": "stderr",
     "output_type": "stream",
     "text": [
      "[2025-07-31 08:43:22,183] p2107 {base.py:258} INFO - PUT https://byl05aks5fxuf0gsen73.us-west-2.aoss.amazonaws.com:443/bedrock-sample-rag-index-1084148-f [status:200 request:0.355s]\n"
     ]
    },
    {
     "name": "stdout",
     "output_type": "stream",
     "text": [
      "\n",
      "Creating index:\n",
      "{ 'acknowledged': True,\n",
      "  'index': 'bedrock-sample-rag-index-1084148-f',\n",
      "  'shards_acknowledged': True}\n",
      "========================================================================================\n",
      "Step 4 - Will create Lambda Function if chunking strategy selected as CUSTOM\n",
      "Not creating lambda function as chunking strategy is FIXED_SIZE\n",
      "========================================================================================\n",
      "Step 5 - Creating Knowledge Base\n",
      "{ 'createdAt': datetime.datetime(2025, 7, 31, 8, 44, 22, 307006, tzinfo=tzlocal()),\n",
      "  'description': 'Octank 10k KB',\n",
      "  'knowledgeBaseArn': 'arn:aws:bedrock:us-west-2:461433424192:knowledge-base/RQKFHHRKLO',\n",
      "  'knowledgeBaseConfiguration': { 'type': 'VECTOR',\n",
      "                                  'vectorKnowledgeBaseConfiguration': { 'embeddingModelArn': 'arn:aws:bedrock:us-west-2::foundation-model/amazon.titan-embed-text-v2:0'}},\n",
      "  'knowledgeBaseId': 'RQKFHHRKLO',\n",
      "  'name': 'standard-kb-1084148',\n",
      "  'roleArn': 'arn:aws:iam::461433424192:role/AmazonBedrockExecutionRoleForKnowledgeBase_1084148-f',\n",
      "  'status': 'CREATING',\n",
      "  'storageConfiguration': { 'opensearchServerlessConfiguration': { 'collectionArn': 'arn:aws:aoss:us-west-2:461433424192:collection/byl05aks5fxuf0gsen73',\n",
      "                                                                   'fieldMapping': { 'metadataField': 'text-metadata',\n",
      "                                                                                     'textField': 'text',\n",
      "                                                                                     'vectorField': 'vector'},\n",
      "                                                                   'vectorIndexName': 'bedrock-sample-rag-index-1084148-f'},\n",
      "                            'type': 'OPENSEARCH_SERVERLESS'},\n",
      "  'updatedAt': datetime.datetime(2025, 7, 31, 8, 44, 22, 307006, tzinfo=tzlocal())}\n",
      "Creating Data Sources\n",
      "{ 'createdAt': datetime.datetime(2025, 7, 31, 8, 44, 22, 307006, tzinfo=tzlocal()),\n",
      "  'description': 'Octank 10k KB',\n",
      "  'knowledgeBaseArn': 'arn:aws:bedrock:us-west-2:461433424192:knowledge-base/RQKFHHRKLO',\n",
      "  'knowledgeBaseConfiguration': { 'type': 'VECTOR',\n",
      "                                  'vectorKnowledgeBaseConfiguration': { 'embeddingModelArn': 'arn:aws:bedrock:us-west-2::foundation-model/amazon.titan-embed-text-v2:0'}},\n",
      "  'knowledgeBaseId': 'RQKFHHRKLO',\n",
      "  'name': 'standard-kb-1084148',\n",
      "  'roleArn': 'arn:aws:iam::461433424192:role/AmazonBedrockExecutionRoleForKnowledgeBase_1084148-f',\n",
      "  'status': 'ACTIVE',\n",
      "  'storageConfiguration': { 'opensearchServerlessConfiguration': { 'collectionArn': 'arn:aws:aoss:us-west-2:461433424192:collection/byl05aks5fxuf0gsen73',\n",
      "                                                                   'fieldMapping': { 'metadataField': 'text-metadata',\n",
      "                                                                                     'textField': 'text',\n",
      "                                                                                     'vectorField': 'vector'},\n",
      "                                                                   'vectorIndexName': 'bedrock-sample-rag-index-1084148-f'},\n",
      "                            'type': 'OPENSEARCH_SERVERLESS'},\n",
      "  'updatedAt': datetime.datetime(2025, 7, 31, 8, 44, 22, 307006, tzinfo=tzlocal())}\n",
      "Creating Data Sources\n",
      "1 data source: S3\n",
      "============Chunking config========\n",
      " {'chunkingConfiguration': {'chunkingStrategy': 'FIXED_SIZE', 'fixedSizeChunkingConfiguration': {'maxTokens': 300, 'overlapPercentage': 20}}}\n",
      "{ 'createdAt': datetime.datetime(2025, 7, 31, 8, 44, 24, 113407, tzinfo=tzlocal()),\n",
      "  'dataDeletionPolicy': 'DELETE',\n",
      "  'dataSourceConfiguration': { 's3Configuration': { 'bucketArn': 'arn:aws:s3:::standard-kb-1084148'},\n",
      "                               'type': 'S3'},\n",
      "  'dataSourceId': '19GWGTVSR6',\n",
      "  'description': 'Octank 10k KB',\n",
      "  'knowledgeBaseId': 'RQKFHHRKLO',\n",
      "  'name': 'RQKFHHRKLO-s3',\n",
      "  'status': 'AVAILABLE',\n",
      "  'updatedAt': datetime.datetime(2025, 7, 31, 8, 44, 24, 113407, tzinfo=tzlocal()),\n",
      "  'vectorIngestionConfiguration': { 'chunkingConfiguration': { 'chunkingStrategy': 'FIXED_SIZE',\n",
      "                                                               'fixedSizeChunkingConfiguration': { 'maxTokens': 300,\n",
      "                                                                                                   'overlapPercentage': 20}}}}\n",
      "[ { 'createdAt': datetime.datetime(2025, 7, 31, 8, 44, 24, 113407, tzinfo=tzlocal()),\n",
      "    'dataDeletionPolicy': 'DELETE',\n",
      "    'dataSourceConfiguration': { 's3Configuration': { 'bucketArn': 'arn:aws:s3:::standard-kb-1084148'},\n",
      "                                 'type': 'S3'},\n",
      "    'dataSourceId': '19GWGTVSR6',\n",
      "    'description': 'Octank 10k KB',\n",
      "    'knowledgeBaseId': 'RQKFHHRKLO',\n",
      "    'name': 'RQKFHHRKLO-s3',\n",
      "    'status': 'AVAILABLE',\n",
      "    'updatedAt': datetime.datetime(2025, 7, 31, 8, 44, 24, 113407, tzinfo=tzlocal()),\n",
      "    'vectorIngestionConfiguration': { 'chunkingConfiguration': { 'chunkingStrategy': 'FIXED_SIZE',\n",
      "                                                                 'fixedSizeChunkingConfiguration': { 'maxTokens': 300,\n",
      "                                                                                                     'overlapPercentage': 20}}}}]\n",
      "========================================================================================\n"
     ]
    }
   ],
   "source": [
    "knowledge_base_standard = BedrockKnowledgeBase(\n",
    "    kb_name=f'{knowledge_base_name_standard}-{suffix}',\n",
    "    kb_description=knowledge_base_description,\n",
    "    data_sources=data_source,\n",
    "    chunking_strategy = \"FIXED_SIZE\", \n",
    "    suffix = f'{suffix}-f'\n",
    ")"
   ]
  },
  {
   "cell_type": "markdown",
   "id": "266fae8a-67b6-49e0-8190-c02699a74391",
   "metadata": {},
   "source": [
    "## 2.1 데이터셋을 Amazon S3에 업로드\n",
    "이제 지식 베이스를 생성했으니, `Octank financial 10K` 보고서 데이터셋으로 채워보겠습니다. Knowledge Base 데이터 소스는 연결된 S3 버킷에서 데이터를 사용할 수 있어야 하며, `StartIngestionJob API` 호출을 사용하여 데이터의 변경 사항을 지식 베이스와 동기화할 수 있습니다. 이 예제에서는 우리의 헬퍼 클래스를 통해 API의 [boto3 추상화](https://boto3.amazonaws.com/v1/documentation/api/latest/reference/services/bedrock-agent/client/start_ingestion_job.html)를 사용할 것입니다.\n",
    "\n",
    "먼저 `dataset` 폴더에 있는 메뉴 데이터를 s3에 업로드해보겠습니다."
   ]
  },
  {
   "cell_type": "code",
   "execution_count": 7,
   "id": "bc92b22d-f795-4e16-aa8a-1d142c22c09e",
   "metadata": {
    "execution": {
     "iopub.execute_input": "2025-07-31T08:44:24.131307Z",
     "iopub.status.busy": "2025-07-31T08:44:24.131077Z",
     "iopub.status.idle": "2025-07-31T08:44:24.548886Z",
     "shell.execute_reply": "2025-07-31T08:44:24.548208Z",
     "shell.execute_reply.started": "2025-07-31T08:44:24.131249Z"
    }
   },
   "outputs": [
    {
     "name": "stdout",
     "output_type": "stream",
     "text": [
      "uploading file ../synthetic_dataset/2024_population.pdf to standard-kb-1084148\n"
     ]
    }
   ],
   "source": [
    "import os\n",
    "\n",
    "def upload_directory(path, bucket_name):\n",
    "    for root, dirs, files in os.walk(path):\n",
    "        for file in files:\n",
    "            file_to_upload = os.path.join(root, file)\n",
    "            if file not in [\"LICENSE\", \"NOTICE\", \"README.md\"]:\n",
    "                print(f\"uploading file {file_to_upload} to {bucket_name}\")\n",
    "                s3_client.upload_file(file_to_upload, bucket_name, file)\n",
    "            else:\n",
    "                print(f\"Skipping file {file_to_upload}\")\n",
    "\n",
    "upload_directory(\"../synthetic_dataset\", bucket_name)\n"
   ]
  },
  {
   "cell_type": "code",
   "execution_count": 8,
   "id": "7fed7fcb-fa31-4d0a-8417-339477716a5d",
   "metadata": {
    "execution": {
     "iopub.execute_input": "2025-07-31T08:44:24.549903Z",
     "iopub.status.busy": "2025-07-31T08:44:24.549699Z",
     "iopub.status.idle": "2025-07-31T08:45:50.327205Z",
     "shell.execute_reply": "2025-07-31T08:45:50.326387Z",
     "shell.execute_reply.started": "2025-07-31T08:44:24.549885Z"
    }
   },
   "outputs": [
    {
     "name": "stdout",
     "output_type": "stream",
     "text": [
      "job 1 started successfully\n",
      "\n",
      "{ 'dataSourceId': '19GWGTVSR6',\n",
      "  'ingestionJobId': 'J3RAHMTQUD',\n",
      "  'knowledgeBaseId': 'RQKFHHRKLO',\n",
      "  'startedAt': datetime.datetime(2025, 7, 31, 8, 44, 55, 472622, tzinfo=tzlocal()),\n",
      "  'statistics': { 'numberOfDocumentsDeleted': 0,\n",
      "                  'numberOfDocumentsFailed': 0,\n",
      "                  'numberOfDocumentsScanned': 1,\n",
      "                  'numberOfMetadataDocumentsModified': 0,\n",
      "                  'numberOfMetadataDocumentsScanned': 0,\n",
      "                  'numberOfModifiedDocumentsIndexed': 0,\n",
      "                  'numberOfNewDocumentsIndexed': 1},\n",
      "  'status': 'COMPLETE',\n",
      "  'updatedAt': datetime.datetime(2025, 7, 31, 8, 45, 10, 262995, tzinfo=tzlocal())}\n",
      "........................................"
     ]
    }
   ],
   "source": [
    "# ensure that the kb is available\n",
    "time.sleep(30)\n",
    "# sync knowledge base\n",
    "knowledge_base_standard.start_ingestion_job()"
   ]
  },
  {
   "cell_type": "code",
   "execution_count": 9,
   "id": "b56b70ad-5474-4e24-945b-d9df129f86cd",
   "metadata": {
    "execution": {
     "iopub.execute_input": "2025-07-31T08:45:50.328174Z",
     "iopub.status.busy": "2025-07-31T08:45:50.327954Z",
     "iopub.status.idle": "2025-07-31T08:45:50.332286Z",
     "shell.execute_reply": "2025-07-31T08:45:50.331601Z",
     "shell.execute_reply.started": "2025-07-31T08:45:50.328156Z"
    }
   },
   "outputs": [
    {
     "name": "stdout",
     "output_type": "stream",
     "text": [
      "'RQKFHHRKLO'\n"
     ]
    }
   ],
   "source": [
    "kb_id = knowledge_base_standard.get_knowledge_base_id()"
   ]
  },
  {
   "cell_type": "markdown",
   "id": "fb05c48b103ab62",
   "metadata": {},
   "source": [
    "# 3. 쿼리 재구성 실제 적용\n",
    "이 노트북에서는 쿼리 재구성의 이점을 얻을 수 있는 간단한 쿼리와 더 복잡한 쿼리를 조사하고, 이것이 생성된 응답에 어떤 영향을 미치는지 살펴보겠습니다."
   ]
  },
  {
   "cell_type": "markdown",
   "id": "c884bf95de0f06a4",
   "metadata": {},
   "source": [
    "## 복잡한 프롬프트\n",
    "\n",
    "기능을 시연하기 위해, Octank 10K 재무 문서에 포함된 정보에 대해 여러 가지를 요청하는 쿼리를 살펴보겠습니다. 이 쿼리는 의미론적으로 관련되지 않은 몇 가지 요청을 포함하고 있습니다. 검색 단계에서 이 쿼리가 임베딩될 때, 쿼리의 일부 측면이 희석될 수 있으며, 따라서 반환되는 관련 청크가 이 복잡한 쿼리의 모든 구성 요소를 다루지 못할 수 있습니다.\n",
    "\n",
    "지식 베이스를 쿼리하고 응답을 생성하기 위해 retrieve_and_generate API 호출을 사용할 것입니다. 쿼리 재구성 기능을 사용하기 위해, 아래와 같이 지식 베이스 구성에 추가 정보를 포함할 것입니다:\n",
    "\n",
    "```\n",
    "'orchestrationConfiguration': {\n",
    "        'queryTransformationConfiguration': {\n",
    "            'type': 'QUERY_DECOMPOSITION'\n",
    "        }\n",
    "    }\n",
    "```\n",
    "    \n",
    "__참고__: 출력 응답 구조는 쿼리 재구성이 없는 일반 __retrieve_and_generate__와 동일합니다."
   ]
  },
  {
   "cell_type": "markdown",
   "id": "9360c879265e8612",
   "metadata": {},
   "source": [
    "#### Without Query Reformulation\n",
    "\n",
    "쿼리 재구성을 사용하지 않고 다음 쿼리에 대한 생성된 결과가 어떻게 나타나는지 살펴보겠습니다:"
   ]
  },
  {
   "cell_type": "code",
   "execution_count": 10,
   "id": "40680d2c",
   "metadata": {
    "execution": {
     "iopub.execute_input": "2025-07-31T08:45:50.340717Z",
     "iopub.status.busy": "2025-07-31T08:45:50.340518Z",
     "iopub.status.idle": "2025-07-31T08:45:50.343760Z",
     "shell.execute_reply": "2025-07-31T08:45:50.343235Z",
     "shell.execute_reply.started": "2025-07-31T08:45:50.340699Z"
    }
   },
   "outputs": [],
   "source": [
    "query = \"2024년 시도별 인구・가구・주택 특성을 종합적으로 비교 분석하시오.(단, 각 시도의 연령구조, 1인가구 비율, 주택 노후도, 외국인 비율을 모두 포함하여 상위 3개 지역과 하위 3개 지역을 각각 제시하고, 이들 간의 특성 차이를 설명하시오)\""
   ]
  },
  {
   "cell_type": "code",
   "execution_count": 11,
   "id": "6e17f767c1612d15",
   "metadata": {
    "ExecuteTime": {
     "end_time": "2024-07-02T00:15:47.357874Z",
     "start_time": "2024-07-02T00:15:41.533749Z"
    },
    "execution": {
     "iopub.execute_input": "2025-07-31T08:45:50.344770Z",
     "iopub.status.busy": "2025-07-31T08:45:50.344467Z",
     "iopub.status.idle": "2025-07-31T08:45:59.525994Z",
     "shell.execute_reply": "2025-07-31T08:45:59.525353Z",
     "shell.execute_reply.started": "2025-07-31T08:45:50.344751Z"
    },
    "tags": []
   },
   "outputs": [
    {
     "name": "stdout",
     "output_type": "stream",
     "text": [
      "2024년 시도별 인구・가구・주택 특성을 종합적으로 비교해 보면, 상위 3개 지역은 서울, 경기, 인천이며 하위 3개 지역은 전남, 전북, 강원으로 나타났습니다.\n",
      "\n",
      "상위 지역인 서울, 경기, 인천은 다음과 같은 특성을 보입니다:\n",
      "- 1인 가구 비율이 높음 (서울 39.9%, 경기 32.5%, 인천 32.5%) (출처: 4)\n",
      "- 고령 인구 비율이 낮음 (서울 15.7%, 경기 15.6%, 인천 15.3%) (출처: 3)\n",
      "- 외국인 가구 비율이 높음 (출처: 1) 반면 하위 지역인 전남, 전북, 강원은 다음과 같은 특성을 보입니다:\n",
      "- 1인 가구 비율이 낮음 (전남 25.8%, 전북 26.9%, 강원 27.6%) (출처: 4) \n",
      "- 고령 인구 비율이 높음 (전남 25.6%, 전북 23.8%, 강원 23.3%) (출처: 3)\n",
      "- 주택 노후도가 높음 (자료 부족으로 구체적인 수치는 제시할 수 없음)\n",
      "\n",
      "이처럼 상위 지역과 하위 지역 간에는 1인 가구 비율, 고령 인구 비율, 외국인 가구 비율 등에서 큰 차이를 보이고 있습니다. 상위 지역은 1인 가구와 외국인 가구 비율이 높고 고령 인구 비율이 낮은 반면, 하위 지역은 그 반대의 특성을 보이고 있습니다.\n",
      "\n"
     ]
    }
   ],
   "source": [
    "response_ret = bedrock_agent_runtime_client.retrieve_and_generate(\n",
    "    input={\n",
    "        \"text\": query\n",
    "    },\n",
    "    retrieveAndGenerateConfiguration={\n",
    "        \"type\": \"KNOWLEDGE_BASE\",\n",
    "        \"knowledgeBaseConfiguration\": {\n",
    "            'knowledgeBaseId': kb_id,\n",
    "            \"modelArn\": \"arn:aws:bedrock:{}::foundation-model/{}\".format(region, foundation_model),\n",
    "            \"retrievalConfiguration\": {\n",
    "                \"vectorSearchConfiguration\": {\n",
    "                    \"numberOfResults\":5\n",
    "                } \n",
    "            }\n",
    "        }\n",
    "    }\n",
    ")\n",
    "\n",
    "\n",
    "# generated text output\n",
    "\n",
    "print(response_ret['output']['text'],end='\\n'*2)"
   ]
  },
  {
   "cell_type": "code",
   "execution_count": 12,
   "id": "f619f389",
   "metadata": {
    "execution": {
     "iopub.execute_input": "2025-07-31T08:45:59.527343Z",
     "iopub.status.busy": "2025-07-31T08:45:59.527012Z",
     "iopub.status.idle": "2025-07-31T08:45:59.531852Z",
     "shell.execute_reply": "2025-07-31T08:45:59.531231Z",
     "shell.execute_reply.started": "2025-07-31T08:45:59.527283Z"
    }
   },
   "outputs": [
    {
     "name": "stdout",
     "output_type": "stream",
     "text": [
      "# of citations or chunks used to generate the response:  3\n",
      "Chunk 1:  증가,     서울, 부산 등 11개 시도는 인구 감소      - (시군구) 전년 대비 87개 시군구 인구 증가,     142개 시군구 인구 감소     [권역별 인구]     - 1 -[가구]     2024년 11월 1일 기준 총가구는 2,300만 가구, 전년 대비 1.2% (27만 가구) 증가      ○ 일반가구는 총가구의 96.9%(2,229만 가구)로 전년 대비 1.0%(22만 가구) 증가      ○ 외국인가구 및 집단가구는 3.1%(70만 가구)로 전년 대비 7.3%(5만 가구) 증가      ※ 총가구 = 일반가구 + 외국인가구 + 집단가구     [총가구 및 연평균 증감률]          일반가구 중 1인 ․ 2인 가구는\n",
      "\n",
      "Chunk 1 Location:  {'s3Location': {'uri': 's3://standard-kb-1084148/2024_population.pdf'}, 'type': 'S3'}\n",
      "\n",
      "Chunk 1 Metadata:  {'x-amz-bedrock-kb-source-uri': 's3://standard-kb-1084148/2024_population.pdf', 'x-amz-bedrock-kb-document-page-number': 10.0, 'x-amz-bedrock-kb-chunk-id': '1%3A0%3ADIWoX5gBl5d7-3QYD9_x', 'x-amz-bedrock-kb-data-source-id': '19GWGTVSR6'}\n",
      "\n",
      "Chunk 2:  51.4 0.5 16.3 15.7 -0.5 39.5 41.2 1.7 242.8 261.7 18.9     경 북 50.0 50.7 0.7 15.2 14.6 -0.5 35.9 37.9 2.0 236.8 259.2 22.4     경 남 47.8 48.5 0.7 16.6 16.0 -0.6 29.2 31.0 1.8 175.7 194.0 18.3     제 주 45.1 45.9 0.7 18.6 18.0 -0.7 25.1 26.5 1.4 134.9 147.7 12.8     - 20 -< 표 9 > 시도별 인구의 연령 분포, 2023~2024년     (단위 : 천 명, %, %p)     시 도 0~14세(유소년) 15~64세(생산연령) 65세 이상(고령)     2023년 2024년\n",
      "\n",
      "Chunk 2 Location:  {'s3Location': {'uri': 's3://standard-kb-1084148/2024_population.pdf'}, 'type': 'S3'}\n",
      "\n",
      "Chunk 2 Metadata:  {'x-amz-bedrock-kb-source-uri': 's3://standard-kb-1084148/2024_population.pdf', 'x-amz-bedrock-kb-document-page-number': 29.0, 'x-amz-bedrock-kb-chunk-id': '1%3A0%3AUIWoX5gBl5d7-3QYD9_y', 'x-amz-bedrock-kb-data-source-id': '19GWGTVSR6'}\n",
      "\n",
      "Chunk 3:  시도별 1인가구 비율, 2019~2024년 (단위 : %, %p)     시 도 2019년 2020년 2021년 2022년 2023년 2024년 2023년     대비 증감     전 국 30.2 31.7 33.4 34.5 35.5 36.1 0.6     서 울 33.4 34.9 36.8 38.2 39.3 39.9 0.6     부 산 30.7 32.4 34.0 35.3 36.4 37.2 0.8     대 구 29.4 30.9 32.7 33.8 34.7 35.5 0.8     인 천 26.6 28.3 30.0 31.0 31.8 32.5 0.6     광 주 31.1 32.4 34.5 35.5 36.5 36.9 0.5     대 전 33.7 36.3 37.6 38.5 39.4 39.8\n",
      "\n",
      "Chunk 3 Location:  {'s3Location': {'uri': 's3://standard-kb-1084148/2024_population.pdf'}, 'type': 'S3'}\n",
      "\n",
      "Chunk 3 Metadata:  {'x-amz-bedrock-kb-source-uri': 's3://standard-kb-1084148/2024_population.pdf', 'x-amz-bedrock-kb-document-page-number': 95.0, 'x-amz-bedrock-kb-chunk-id': '1%3A0%3AqCioX5gBlyhKdOCQGCpM', 'x-amz-bedrock-kb-data-source-id': '19GWGTVSR6'}\n",
      "\n"
     ]
    }
   ],
   "source": [
    "response_without_qr = response_ret['citations'][0]['retrievedReferences']\n",
    "print(\"# of citations or chunks used to generate the response: \", len(response_without_qr))\n",
    "def citations_rag_print(response_ret):\n",
    "#structure 'retrievalResults': list of contents. Each list has content, location, score, metadata\n",
    "    for num,chunk in enumerate(response_ret,1):\n",
    "        print(f'Chunk {num}: ',chunk['content']['text'],end='\\n'*2)\n",
    "        print(f'Chunk {num} Location: ',chunk['location'],end='\\n'*2)\n",
    "        print(f'Chunk {num} Metadata: ',chunk['metadata'],end='\\n'*2)\n",
    "\n",
    "citations_rag_print(response_without_qr)"
   ]
  },
  {
   "cell_type": "markdown",
   "id": "7cf1f43f-2157-4e25-b7d8-e9d84030efcf",
   "metadata": {},
   "source": [
    "위의 인용에서 볼 수 있듯이, 복잡한 쿼리를 사용한 우리의 검색은 건물과 관련된 청크는 전혀 반환하지 않고, 대신 내부고발자 사건과 가장 유사한 임베딩에만 초점을 맞추었습니다.\n",
    "\n",
    "이는 쿼리의 임베딩 과정에서 쿼리의 해당 부분의 의미가 일부 희석되었을 수 있다는 것을 나타냅니다."
   ]
  },
  {
   "cell_type": "markdown",
   "id": "661308d67c7b9edf",
   "metadata": {},
   "source": [
    "#### With Query Reformulation\n",
    "\n",
    "이제 쿼리 재구성이 어떻게 더 정렬된 컨텍스트 검색에 도움이 될 수 있는지, 그리고 이것이 결과적으로 응답 생성의 정확성을 어떻게 향상시킬 수 있는지 살펴보겠습니다."
   ]
  },
  {
   "cell_type": "code",
   "execution_count": 13,
   "id": "f1e8587c",
   "metadata": {
    "execution": {
     "iopub.execute_input": "2025-07-31T08:45:59.537811Z",
     "iopub.status.busy": "2025-07-31T08:45:59.537331Z",
     "iopub.status.idle": "2025-07-31T08:46:14.471847Z",
     "shell.execute_reply": "2025-07-31T08:46:14.471197Z",
     "shell.execute_reply.started": "2025-07-31T08:45:59.537788Z"
    }
   },
   "outputs": [
    {
     "name": "stdout",
     "output_type": "stream",
     "text": [
      "2024년 시도별 인구·가구·주택 특성을 종합적으로 비교해 보면, 상위 3개 지역은 서울, 경기, 인천이며 하위 3개 지역은 전남, 경북, 제주로 나타납니다.\n",
      "\n",
      "상위 지역들은 다음과 같은 특성을 보입니다:\n",
      "- 연령구조에서 생산연령인구(15~64세) 비중이 높음\n",
      "- 1인가구 비율이 높음 (서울 39.9%, 경기 36.6%, 인천 32.5%)\n",
      "- 주택 노후도(30년 이상 주택 비율)가 낮음\n",
      "- 외국인 비율이 높음 (경기 13.5%, 서울 10.8%, 인천 9.9%) 반면 하위 지역들은 다음과 같은 특성이 있습니다:\n",
      "- 고령인구(65세 이상) 비중이 높음 (전남 25.1%, 경북 26.5%, 제주 26.5%)  \n",
      "- 1인가구 비율이 낮음 (전남 28.0%, 경북 28.0%, 제주 25.7%)\n",
      "- 주택 노후도가 높음 (전남 42.8%, 경북 37.7%, 제주 자료 없음)\n",
      "- 외국인 비율이 낮음 (전남 1.7%, 경북 2.4%, 제주 0.0%)\n",
      "\n"
     ]
    }
   ],
   "source": [
    "response_ret = bedrock_agent_runtime_client.retrieve_and_generate(\n",
    "    input={\n",
    "        \"text\": query\n",
    "    },\n",
    "    retrieveAndGenerateConfiguration={\n",
    "        \"type\": \"KNOWLEDGE_BASE\",\n",
    "        \"knowledgeBaseConfiguration\": {\n",
    "            'knowledgeBaseId': kb_id,\n",
    "            \"modelArn\": \"arn:aws:bedrock:{}::foundation-model/{}\".format(region, foundation_model),\n",
    "            \"retrievalConfiguration\": {\n",
    "                \"vectorSearchConfiguration\": {\n",
    "                    \"numberOfResults\":5\n",
    "                } \n",
    "            },\n",
    "            'orchestrationConfiguration': {\n",
    "                'queryTransformationConfiguration': {\n",
    "                    'type': 'QUERY_DECOMPOSITION'\n",
    "                }\n",
    "            }\n",
    "        }\n",
    "    }\n",
    ")\n",
    "\n",
    "\n",
    "# generated text output\n",
    "\n",
    "print(response_ret['output']['text'],end='\\n'*2)"
   ]
  },
  {
   "cell_type": "markdown",
   "id": "ce888f21-54d0-4e0f-8c54-4d0fc0a27b3b",
   "metadata": {},
   "source": [
    "쿼리 재구성을 사용하여 검색된 청크들을 살펴보겠습니다"
   ]
  },
  {
   "cell_type": "code",
   "execution_count": 14,
   "id": "4fd6aa0c",
   "metadata": {
    "execution": {
     "iopub.execute_input": "2025-07-31T08:46:14.474512Z",
     "iopub.status.busy": "2025-07-31T08:46:14.474305Z",
     "iopub.status.idle": "2025-07-31T08:46:14.479034Z",
     "shell.execute_reply": "2025-07-31T08:46:14.478237Z",
     "shell.execute_reply.started": "2025-07-31T08:46:14.474495Z"
    }
   },
   "outputs": [
    {
     "name": "stdout",
     "output_type": "stream",
     "text": [
      "# of citations or chunks used to generate the response:  4\n",
      "Chunk 1:  51.4 0.5 16.3 15.7 -0.5 39.5 41.2 1.7 242.8 261.7 18.9     경 북 50.0 50.7 0.7 15.2 14.6 -0.5 35.9 37.9 2.0 236.8 259.2 22.4     경 남 47.8 48.5 0.7 16.6 16.0 -0.6 29.2 31.0 1.8 175.7 194.0 18.3     제 주 45.1 45.9 0.7 18.6 18.0 -0.7 25.1 26.5 1.4 134.9 147.7 12.8     - 20 -< 표 9 > 시도별 인구의 연령 분포, 2023~2024년     (단위 : 천 명, %, %p)     시 도 0~14세(유소년) 15~64세(생산연령) 65세 이상(고령)     2023년 2024년\n",
      "\n",
      "Chunk 1 Location:  {'s3Location': {'uri': 's3://standard-kb-1084148/2024_population.pdf'}, 'type': 'S3'}\n",
      "\n",
      "Chunk 1 Metadata:  {'x-amz-bedrock-kb-source-uri': 's3://standard-kb-1084148/2024_population.pdf', 'x-amz-bedrock-kb-document-page-number': 29.0, 'x-amz-bedrock-kb-chunk-id': '1%3A0%3AUIWoX5gBl5d7-3QYD9_y', 'x-amz-bedrock-kb-data-source-id': '19GWGTVSR6'}\n",
      "\n",
      "Chunk 2:  시도별 1인가구 비율, 2019~2024년 (단위 : %, %p)     시 도 2019년 2020년 2021년 2022년 2023년 2024년 2023년     대비 증감     전 국 30.2 31.7 33.4 34.5 35.5 36.1 0.6     서 울 33.4 34.9 36.8 38.2 39.3 39.9 0.6     부 산 30.7 32.4 34.0 35.3 36.4 37.2 0.8     대 구 29.4 30.9 32.7 33.8 34.7 35.5 0.8     인 천 26.6 28.3 30.0 31.0 31.8 32.5 0.6     광 주 31.1 32.4 34.5 35.5 36.5 36.9 0.5     대 전 33.7 36.3 37.6 38.5 39.4 39.8\n",
      "\n",
      "Chunk 2 Location:  {'s3Location': {'uri': 's3://standard-kb-1084148/2024_population.pdf'}, 'type': 'S3'}\n",
      "\n",
      "Chunk 2 Metadata:  {'x-amz-bedrock-kb-source-uri': 's3://standard-kb-1084148/2024_population.pdf', 'x-amz-bedrock-kb-document-page-number': 95.0, 'x-amz-bedrock-kb-chunk-id': '1%3A0%3AqCioX5gBlyhKdOCQGCpM', 'x-amz-bedrock-kb-data-source-id': '19GWGTVSR6'}\n",
      "\n",
      "Chunk 3:  주택 구성비, 2024년     54.9     75.9     48.4 54.8     72.8     28.0     57.9     19.4 25.7     47.7     0.0     20.0     40.0     60.0     0.0     20.0     40.0     60.0     80.0     총 주택 단독주택 아파트 연립/다세대 비주거용     건물내주택     (%) 20년 이상 30년 이상     - 65 -❍ 시도별 노후기간이 30년 이상 된 주택 비율은 전남 42.8%(362천호), 경북     37.7%(426천호) 순으로 높으며, 세종이 7.5%(12천 호)로 가장 낮음     < 표 43 > 시도 및 노후기간별 주택, 2024년 (단위 : 천 호, %)     시 도\n",
      "\n",
      "Chunk 3 Location:  {'s3Location': {'uri': 's3://standard-kb-1084148/2024_population.pdf'}, 'type': 'S3'}\n",
      "\n",
      "Chunk 3 Metadata:  {'x-amz-bedrock-kb-source-uri': 's3://standard-kb-1084148/2024_population.pdf', 'x-amz-bedrock-kb-document-page-number': 74.0, 'x-amz-bedrock-kb-chunk-id': '1%3A0%3Al4WoX5gBl5d7-3QYFt9-', 'x-amz-bedrock-kb-data-source-id': '19GWGTVSR6'}\n",
      "\n",
      "Chunk 4:  45 37 36 35 31 31 8     4.4     0.3     9.7 9.6     4.8     10.8 9.9     13.5     7.5 9.3     4.9     10.4     1.7     11.1     6.4 5.9     2.4     0.0     5.0     10.0     15.0     20.0     0     100     200     300     400     경기 서울 충남 경남 인천 경북 충북 전남 부산 전북 대구 강원 광주 울산 대전 제주 세종     (%)(천 명) 외국인 규모 증감률     700700     - 33 -< 표 18 > 시도별 외국인, 2019~2024년 (단위 : 천 명, %, %p)     시 도 2019년 2020년 2021년 2022년 2023년 2024년 2019년\n",
      "\n",
      "Chunk 4 Location:  {'s3Location': {'uri': 's3://standard-kb-1084148/2024_population.pdf'}, 'type': 'S3'}\n",
      "\n",
      "Chunk 4 Metadata:  {'x-amz-bedrock-kb-source-uri': 's3://standard-kb-1084148/2024_population.pdf', 'x-amz-bedrock-kb-document-page-number': 42.0, 'x-amz-bedrock-kb-chunk-id': '1%3A0%3AUSioX5gBlyhKdOCQFCp2', 'x-amz-bedrock-kb-data-source-id': '19GWGTVSR6'}\n",
      "\n",
      "# of citations or chunks used to generate the response:  4\n"
     ]
    }
   ],
   "source": [
    "response_with_qr = response_ret['citations'][0]['retrievedReferences']\n",
    "print(\"# of citations or chunks used to generate the response: \", len(response_with_qr))\n",
    "def citations_rag_print(response_ret):\n",
    "#structure 'retrievalResults': list of contents. Each list has content, location, score, metadata\n",
    "    for num,chunk in enumerate(response_ret,1):\n",
    "        print(f'Chunk {num}: ',chunk['content']['text'],end='\\n'*2)\n",
    "        print(f'Chunk {num} Location: ',chunk['location'],end='\\n'*2)\n",
    "        print(f'Chunk {num} Metadata: ',chunk['metadata'],end='\\n'*2)\n",
    "\n",
    "citations_rag_print(response_with_qr)\n",
    "print(\"# of citations or chunks used to generate the response: \", len(response_with_qr))"
   ]
  },
  {
   "cell_type": "markdown",
   "id": "96e4dcba-d975-4506-a7d9-6e52f6f51019",
   "metadata": {},
   "source": [
    "쿼리 재구성을 활성화했을 때, 검색된 청크들이 이제 내부고발자 스캔들과 워터프론트 건물의 위치 구성 요소 모두에 대한 컨텍스트를 제공하는 것을 볼 수 있습니다."
   ]
  },
  {
   "cell_type": "markdown",
   "id": "ec2a29f6b6e27c46",
   "metadata": {
    "tags": []
   },
   "source": [
    "### CloudWatch Logs를 사용하여 프롬프트 분해 관찰하기\n",
    "복잡한 쿼리는 검색을 수행하기 전에 여러 개의 하위 쿼리로 분해됩니다. 위 예제 쿼리에서 분해 작업을 위한 호출을 분리했을 때 이를 확인할 수 있으며, 여기서 __standalone_question__은 원래 쿼리이고 결과로 나온 하위 쿼리들은 __\\<query\\>__ 태그 사이에 표시됩니다.\n",
    "\n",
    "__참고__: CloudWatch에서 로그를 볼 수 있으려면 Bedrock에서 호출 로깅을 활성화해야 합니다. 자세한 내용은 [여기](https://docs.aws.amazon.com/bedrock/latest/userguide/model-invocation-logging.html)를 참조하세요.\n",
    "\n",
    "```\n",
    "<generated_queries>\n",
    "\n",
    "<standalone_question>\n",
    "What is octank tower and how does the whistleblower scandal hurt the company and its image?\n",
    "</standalone_question>\n",
    "\n",
    "<query>\n",
    "What is octank tower?\n",
    "</query>\n",
    "\n",
    "<query>\n",
    "What is the whistleblower scandal involving Octank company?\n",
    "</query>\n",
    "\n",
    "<query>\n",
    "How did the whistleblower scandal affect Octank company's reputation and public image?\n",
    "</query>\n",
    "\n",
    "</generated_queries>\n",
    "```\n",
    "\n",
    "```\n",
    "<generated_queries>\n",
    "\n",
    "<standalone_question>\n",
    "옥탱크 타워는 무엇이고 내부고발자 스캔들이 회사와 그 이미지에 어떤 해를 끼쳤습니까?\n",
    "</standalone_question>\n",
    "\n",
    "<query>\n",
    "옥탱크 타워는 무엇입니까?\n",
    "</query>\n",
    "\n",
    "<query>\n",
    "옥탱크 회사와 관련된 내부고발자 스캔들은 무엇입니까?\n",
    "</query>\n",
    "\n",
    "<query>\n",
    "내부고발자 스캔들이 옥탱크 회사의 평판과 공공 이미지에 어떤 영향을 미쳤습니까?\n",
    "</query>\n",
    "\n",
    "</generated_queries>\n",
    "```"
   ]
  },
  {
   "cell_type": "markdown",
   "id": "50222f34",
   "metadata": {},
   "source": [
    "<div class=\"alert alert-block alert-warning\">\n",
    "<b>참고:</b> 불필요한 요금이 발생하지 않도록 KB(Knowledge Base), OSS 인덱스 및 관련 IAM 역할과 정책을 삭제하는 것을 잊지 마세요.\n",
    "</div>"
   ]
  },
  {
   "cell_type": "code",
   "execution_count": 15,
   "id": "01268c2e-6bd7-4da2-b8c3-2e916bf719eb",
   "metadata": {
    "execution": {
     "iopub.execute_input": "2025-07-31T08:46:14.485054Z",
     "iopub.status.busy": "2025-07-31T08:46:14.484777Z",
     "iopub.status.idle": "2025-07-31T08:46:18.286259Z",
     "shell.execute_reply": "2025-07-31T08:46:18.285579Z",
     "shell.execute_reply.started": "2025-07-31T08:46:14.485035Z"
    }
   },
   "outputs": [
    {
     "name": "stdout",
     "output_type": "stream",
     "text": [
      "===============================Knowledge base with fixed chunking==============================\n",
      "\n",
      "Deleted data source 19GWGTVSR6\n",
      "======== Knowledge base and all data sources deleted =========\n",
      "Found bucket standard-kb-1084148\n",
      "Deleted all objects in bucket standard-kb-1084148\n",
      "Deleted bucket standard-kb-1084148\n",
      "======== S3 bucket deletion process completed =========\n",
      "Found role AmazonBedrockExecutionRoleForKnowledgeBase_1084148-f\n",
      "======Attached policies with role AmazonBedrockExecutionRoleForKnowledgeBase_1084148-f========\n",
      " [{'PolicyName': 'AmazonBedrockOSSPolicyForKnowledgeBase_1084148-f', 'PolicyArn': 'arn:aws:iam::461433424192:policy/AmazonBedrockOSSPolicyForKnowledgeBase_1084148-f'}, {'PolicyName': 'AmazonBedrockS3PolicyForKnowledgeBase_1084148-f', 'PolicyArn': 'arn:aws:iam::461433424192:policy/AmazonBedrockS3PolicyForKnowledgeBase_1084148-f'}, {'PolicyName': 'AmazonBedrockCloudWatchPolicyForKnowledgeBase_1084148-f', 'PolicyArn': 'arn:aws:iam::461433424192:policy/AmazonBedrockCloudWatchPolicyForKnowledgeBase_1084148-f'}, {'PolicyName': 'AmazonBedrockFoundationModelPolicyForKnowledgeBase_1084148-f', 'PolicyArn': 'arn:aws:iam::461433424192:policy/AmazonBedrockFoundationModelPolicyForKnowledgeBase_1084148-f'}]\n",
      "Detached policy AmazonBedrockOSSPolicyForKnowledgeBase_1084148-f from role AmazonBedrockExecutionRoleForKnowledgeBase_1084148-f\n",
      "Deleted policy AmazonBedrockOSSPolicyForKnowledgeBase_1084148-f from role AmazonBedrockExecutionRoleForKnowledgeBase_1084148-f\n",
      "Detached policy AmazonBedrockS3PolicyForKnowledgeBase_1084148-f from role AmazonBedrockExecutionRoleForKnowledgeBase_1084148-f\n",
      "Deleted policy AmazonBedrockS3PolicyForKnowledgeBase_1084148-f from role AmazonBedrockExecutionRoleForKnowledgeBase_1084148-f\n",
      "Detached policy AmazonBedrockCloudWatchPolicyForKnowledgeBase_1084148-f from role AmazonBedrockExecutionRoleForKnowledgeBase_1084148-f\n",
      "Deleted policy AmazonBedrockCloudWatchPolicyForKnowledgeBase_1084148-f from role AmazonBedrockExecutionRoleForKnowledgeBase_1084148-f\n",
      "Detached policy AmazonBedrockFoundationModelPolicyForKnowledgeBase_1084148-f from role AmazonBedrockExecutionRoleForKnowledgeBase_1084148-f\n",
      "Deleted policy AmazonBedrockFoundationModelPolicyForKnowledgeBase_1084148-f from role AmazonBedrockExecutionRoleForKnowledgeBase_1084148-f\n",
      "Deleted role AmazonBedrockExecutionRoleForKnowledgeBase_1084148-f\n",
      "======== All IAM roles and policies deleted =========\n",
      "======== Vector Index, collection and associated policies deleted =========\n"
     ]
    }
   ],
   "source": [
    "print(\"===============================Knowledge base with fixed chunking==============================\\n\")\n",
    "knowledge_base_standard.delete_kb(delete_s3_bucket=True, delete_iam_roles_and_policies=True)"
   ]
  },
  {
   "cell_type": "markdown",
   "id": "bbbb1e2d-837e-4f04-8696-6b7f31a337fd",
   "metadata": {},
   "source": [
    "이제 쿼리 재구성이 어떻게 작동하는지, 그리고 복잡한 쿼리에 대한 응답을 어떻게 개선할 수 있는지 살펴보았으니, 이 기술을 더 깊이 탐구하고 실험하여 RAG 워크플로우를 최적화해 보시기 바랍니다."
   ]
  }
 ],
 "metadata": {
  "availableInstances": [
   {
    "_defaultOrder": 0,
    "_isFastLaunch": true,
    "category": "General purpose",
    "gpuNum": 0,
    "hideHardwareSpecs": false,
    "memoryGiB": 4,
    "name": "ml.t3.medium",
    "vcpuNum": 2
   },
   {
    "_defaultOrder": 1,
    "_isFastLaunch": false,
    "category": "General purpose",
    "gpuNum": 0,
    "hideHardwareSpecs": false,
    "memoryGiB": 8,
    "name": "ml.t3.large",
    "vcpuNum": 2
   },
   {
    "_defaultOrder": 2,
    "_isFastLaunch": false,
    "category": "General purpose",
    "gpuNum": 0,
    "hideHardwareSpecs": false,
    "memoryGiB": 16,
    "name": "ml.t3.xlarge",
    "vcpuNum": 4
   },
   {
    "_defaultOrder": 3,
    "_isFastLaunch": false,
    "category": "General purpose",
    "gpuNum": 0,
    "hideHardwareSpecs": false,
    "memoryGiB": 32,
    "name": "ml.t3.2xlarge",
    "vcpuNum": 8
   },
   {
    "_defaultOrder": 4,
    "_isFastLaunch": true,
    "category": "General purpose",
    "gpuNum": 0,
    "hideHardwareSpecs": false,
    "memoryGiB": 8,
    "name": "ml.m5.large",
    "vcpuNum": 2
   },
   {
    "_defaultOrder": 5,
    "_isFastLaunch": false,
    "category": "General purpose",
    "gpuNum": 0,
    "hideHardwareSpecs": false,
    "memoryGiB": 16,
    "name": "ml.m5.xlarge",
    "vcpuNum": 4
   },
   {
    "_defaultOrder": 6,
    "_isFastLaunch": false,
    "category": "General purpose",
    "gpuNum": 0,
    "hideHardwareSpecs": false,
    "memoryGiB": 32,
    "name": "ml.m5.2xlarge",
    "vcpuNum": 8
   },
   {
    "_defaultOrder": 7,
    "_isFastLaunch": false,
    "category": "General purpose",
    "gpuNum": 0,
    "hideHardwareSpecs": false,
    "memoryGiB": 64,
    "name": "ml.m5.4xlarge",
    "vcpuNum": 16
   },
   {
    "_defaultOrder": 8,
    "_isFastLaunch": false,
    "category": "General purpose",
    "gpuNum": 0,
    "hideHardwareSpecs": false,
    "memoryGiB": 128,
    "name": "ml.m5.8xlarge",
    "vcpuNum": 32
   },
   {
    "_defaultOrder": 9,
    "_isFastLaunch": false,
    "category": "General purpose",
    "gpuNum": 0,
    "hideHardwareSpecs": false,
    "memoryGiB": 192,
    "name": "ml.m5.12xlarge",
    "vcpuNum": 48
   },
   {
    "_defaultOrder": 10,
    "_isFastLaunch": false,
    "category": "General purpose",
    "gpuNum": 0,
    "hideHardwareSpecs": false,
    "memoryGiB": 256,
    "name": "ml.m5.16xlarge",
    "vcpuNum": 64
   },
   {
    "_defaultOrder": 11,
    "_isFastLaunch": false,
    "category": "General purpose",
    "gpuNum": 0,
    "hideHardwareSpecs": false,
    "memoryGiB": 384,
    "name": "ml.m5.24xlarge",
    "vcpuNum": 96
   },
   {
    "_defaultOrder": 12,
    "_isFastLaunch": false,
    "category": "General purpose",
    "gpuNum": 0,
    "hideHardwareSpecs": false,
    "memoryGiB": 8,
    "name": "ml.m5d.large",
    "vcpuNum": 2
   },
   {
    "_defaultOrder": 13,
    "_isFastLaunch": false,
    "category": "General purpose",
    "gpuNum": 0,
    "hideHardwareSpecs": false,
    "memoryGiB": 16,
    "name": "ml.m5d.xlarge",
    "vcpuNum": 4
   },
   {
    "_defaultOrder": 14,
    "_isFastLaunch": false,
    "category": "General purpose",
    "gpuNum": 0,
    "hideHardwareSpecs": false,
    "memoryGiB": 32,
    "name": "ml.m5d.2xlarge",
    "vcpuNum": 8
   },
   {
    "_defaultOrder": 15,
    "_isFastLaunch": false,
    "category": "General purpose",
    "gpuNum": 0,
    "hideHardwareSpecs": false,
    "memoryGiB": 64,
    "name": "ml.m5d.4xlarge",
    "vcpuNum": 16
   },
   {
    "_defaultOrder": 16,
    "_isFastLaunch": false,
    "category": "General purpose",
    "gpuNum": 0,
    "hideHardwareSpecs": false,
    "memoryGiB": 128,
    "name": "ml.m5d.8xlarge",
    "vcpuNum": 32
   },
   {
    "_defaultOrder": 17,
    "_isFastLaunch": false,
    "category": "General purpose",
    "gpuNum": 0,
    "hideHardwareSpecs": false,
    "memoryGiB": 192,
    "name": "ml.m5d.12xlarge",
    "vcpuNum": 48
   },
   {
    "_defaultOrder": 18,
    "_isFastLaunch": false,
    "category": "General purpose",
    "gpuNum": 0,
    "hideHardwareSpecs": false,
    "memoryGiB": 256,
    "name": "ml.m5d.16xlarge",
    "vcpuNum": 64
   },
   {
    "_defaultOrder": 19,
    "_isFastLaunch": false,
    "category": "General purpose",
    "gpuNum": 0,
    "hideHardwareSpecs": false,
    "memoryGiB": 384,
    "name": "ml.m5d.24xlarge",
    "vcpuNum": 96
   },
   {
    "_defaultOrder": 20,
    "_isFastLaunch": false,
    "category": "General purpose",
    "gpuNum": 0,
    "hideHardwareSpecs": true,
    "memoryGiB": 0,
    "name": "ml.geospatial.interactive",
    "supportedImageNames": [
     "sagemaker-geospatial-v1-0"
    ],
    "vcpuNum": 0
   },
   {
    "_defaultOrder": 21,
    "_isFastLaunch": true,
    "category": "Compute optimized",
    "gpuNum": 0,
    "hideHardwareSpecs": false,
    "memoryGiB": 4,
    "name": "ml.c5.large",
    "vcpuNum": 2
   },
   {
    "_defaultOrder": 22,
    "_isFastLaunch": false,
    "category": "Compute optimized",
    "gpuNum": 0,
    "hideHardwareSpecs": false,
    "memoryGiB": 8,
    "name": "ml.c5.xlarge",
    "vcpuNum": 4
   },
   {
    "_defaultOrder": 23,
    "_isFastLaunch": false,
    "category": "Compute optimized",
    "gpuNum": 0,
    "hideHardwareSpecs": false,
    "memoryGiB": 16,
    "name": "ml.c5.2xlarge",
    "vcpuNum": 8
   },
   {
    "_defaultOrder": 24,
    "_isFastLaunch": false,
    "category": "Compute optimized",
    "gpuNum": 0,
    "hideHardwareSpecs": false,
    "memoryGiB": 32,
    "name": "ml.c5.4xlarge",
    "vcpuNum": 16
   },
   {
    "_defaultOrder": 25,
    "_isFastLaunch": false,
    "category": "Compute optimized",
    "gpuNum": 0,
    "hideHardwareSpecs": false,
    "memoryGiB": 72,
    "name": "ml.c5.9xlarge",
    "vcpuNum": 36
   },
   {
    "_defaultOrder": 26,
    "_isFastLaunch": false,
    "category": "Compute optimized",
    "gpuNum": 0,
    "hideHardwareSpecs": false,
    "memoryGiB": 96,
    "name": "ml.c5.12xlarge",
    "vcpuNum": 48
   },
   {
    "_defaultOrder": 27,
    "_isFastLaunch": false,
    "category": "Compute optimized",
    "gpuNum": 0,
    "hideHardwareSpecs": false,
    "memoryGiB": 144,
    "name": "ml.c5.18xlarge",
    "vcpuNum": 72
   },
   {
    "_defaultOrder": 28,
    "_isFastLaunch": false,
    "category": "Compute optimized",
    "gpuNum": 0,
    "hideHardwareSpecs": false,
    "memoryGiB": 192,
    "name": "ml.c5.24xlarge",
    "vcpuNum": 96
   },
   {
    "_defaultOrder": 29,
    "_isFastLaunch": true,
    "category": "Accelerated computing",
    "gpuNum": 1,
    "hideHardwareSpecs": false,
    "memoryGiB": 16,
    "name": "ml.g4dn.xlarge",
    "vcpuNum": 4
   },
   {
    "_defaultOrder": 30,
    "_isFastLaunch": false,
    "category": "Accelerated computing",
    "gpuNum": 1,
    "hideHardwareSpecs": false,
    "memoryGiB": 32,
    "name": "ml.g4dn.2xlarge",
    "vcpuNum": 8
   },
   {
    "_defaultOrder": 31,
    "_isFastLaunch": false,
    "category": "Accelerated computing",
    "gpuNum": 1,
    "hideHardwareSpecs": false,
    "memoryGiB": 64,
    "name": "ml.g4dn.4xlarge",
    "vcpuNum": 16
   },
   {
    "_defaultOrder": 32,
    "_isFastLaunch": false,
    "category": "Accelerated computing",
    "gpuNum": 1,
    "hideHardwareSpecs": false,
    "memoryGiB": 128,
    "name": "ml.g4dn.8xlarge",
    "vcpuNum": 32
   },
   {
    "_defaultOrder": 33,
    "_isFastLaunch": false,
    "category": "Accelerated computing",
    "gpuNum": 4,
    "hideHardwareSpecs": false,
    "memoryGiB": 192,
    "name": "ml.g4dn.12xlarge",
    "vcpuNum": 48
   },
   {
    "_defaultOrder": 34,
    "_isFastLaunch": false,
    "category": "Accelerated computing",
    "gpuNum": 1,
    "hideHardwareSpecs": false,
    "memoryGiB": 256,
    "name": "ml.g4dn.16xlarge",
    "vcpuNum": 64
   },
   {
    "_defaultOrder": 35,
    "_isFastLaunch": false,
    "category": "Accelerated computing",
    "gpuNum": 1,
    "hideHardwareSpecs": false,
    "memoryGiB": 61,
    "name": "ml.p3.2xlarge",
    "vcpuNum": 8
   },
   {
    "_defaultOrder": 36,
    "_isFastLaunch": false,
    "category": "Accelerated computing",
    "gpuNum": 4,
    "hideHardwareSpecs": false,
    "memoryGiB": 244,
    "name": "ml.p3.8xlarge",
    "vcpuNum": 32
   },
   {
    "_defaultOrder": 37,
    "_isFastLaunch": false,
    "category": "Accelerated computing",
    "gpuNum": 8,
    "hideHardwareSpecs": false,
    "memoryGiB": 488,
    "name": "ml.p3.16xlarge",
    "vcpuNum": 64
   },
   {
    "_defaultOrder": 38,
    "_isFastLaunch": false,
    "category": "Accelerated computing",
    "gpuNum": 8,
    "hideHardwareSpecs": false,
    "memoryGiB": 768,
    "name": "ml.p3dn.24xlarge",
    "vcpuNum": 96
   },
   {
    "_defaultOrder": 39,
    "_isFastLaunch": false,
    "category": "Memory Optimized",
    "gpuNum": 0,
    "hideHardwareSpecs": false,
    "memoryGiB": 16,
    "name": "ml.r5.large",
    "vcpuNum": 2
   },
   {
    "_defaultOrder": 40,
    "_isFastLaunch": false,
    "category": "Memory Optimized",
    "gpuNum": 0,
    "hideHardwareSpecs": false,
    "memoryGiB": 32,
    "name": "ml.r5.xlarge",
    "vcpuNum": 4
   },
   {
    "_defaultOrder": 41,
    "_isFastLaunch": false,
    "category": "Memory Optimized",
    "gpuNum": 0,
    "hideHardwareSpecs": false,
    "memoryGiB": 64,
    "name": "ml.r5.2xlarge",
    "vcpuNum": 8
   },
   {
    "_defaultOrder": 42,
    "_isFastLaunch": false,
    "category": "Memory Optimized",
    "gpuNum": 0,
    "hideHardwareSpecs": false,
    "memoryGiB": 128,
    "name": "ml.r5.4xlarge",
    "vcpuNum": 16
   },
   {
    "_defaultOrder": 43,
    "_isFastLaunch": false,
    "category": "Memory Optimized",
    "gpuNum": 0,
    "hideHardwareSpecs": false,
    "memoryGiB": 256,
    "name": "ml.r5.8xlarge",
    "vcpuNum": 32
   },
   {
    "_defaultOrder": 44,
    "_isFastLaunch": false,
    "category": "Memory Optimized",
    "gpuNum": 0,
    "hideHardwareSpecs": false,
    "memoryGiB": 384,
    "name": "ml.r5.12xlarge",
    "vcpuNum": 48
   },
   {
    "_defaultOrder": 45,
    "_isFastLaunch": false,
    "category": "Memory Optimized",
    "gpuNum": 0,
    "hideHardwareSpecs": false,
    "memoryGiB": 512,
    "name": "ml.r5.16xlarge",
    "vcpuNum": 64
   },
   {
    "_defaultOrder": 46,
    "_isFastLaunch": false,
    "category": "Memory Optimized",
    "gpuNum": 0,
    "hideHardwareSpecs": false,
    "memoryGiB": 768,
    "name": "ml.r5.24xlarge",
    "vcpuNum": 96
   },
   {
    "_defaultOrder": 47,
    "_isFastLaunch": false,
    "category": "Accelerated computing",
    "gpuNum": 1,
    "hideHardwareSpecs": false,
    "memoryGiB": 16,
    "name": "ml.g5.xlarge",
    "vcpuNum": 4
   },
   {
    "_defaultOrder": 48,
    "_isFastLaunch": false,
    "category": "Accelerated computing",
    "gpuNum": 1,
    "hideHardwareSpecs": false,
    "memoryGiB": 32,
    "name": "ml.g5.2xlarge",
    "vcpuNum": 8
   },
   {
    "_defaultOrder": 49,
    "_isFastLaunch": false,
    "category": "Accelerated computing",
    "gpuNum": 1,
    "hideHardwareSpecs": false,
    "memoryGiB": 64,
    "name": "ml.g5.4xlarge",
    "vcpuNum": 16
   },
   {
    "_defaultOrder": 50,
    "_isFastLaunch": false,
    "category": "Accelerated computing",
    "gpuNum": 1,
    "hideHardwareSpecs": false,
    "memoryGiB": 128,
    "name": "ml.g5.8xlarge",
    "vcpuNum": 32
   },
   {
    "_defaultOrder": 51,
    "_isFastLaunch": false,
    "category": "Accelerated computing",
    "gpuNum": 1,
    "hideHardwareSpecs": false,
    "memoryGiB": 256,
    "name": "ml.g5.16xlarge",
    "vcpuNum": 64
   },
   {
    "_defaultOrder": 52,
    "_isFastLaunch": false,
    "category": "Accelerated computing",
    "gpuNum": 4,
    "hideHardwareSpecs": false,
    "memoryGiB": 192,
    "name": "ml.g5.12xlarge",
    "vcpuNum": 48
   },
   {
    "_defaultOrder": 53,
    "_isFastLaunch": false,
    "category": "Accelerated computing",
    "gpuNum": 4,
    "hideHardwareSpecs": false,
    "memoryGiB": 384,
    "name": "ml.g5.24xlarge",
    "vcpuNum": 96
   },
   {
    "_defaultOrder": 54,
    "_isFastLaunch": false,
    "category": "Accelerated computing",
    "gpuNum": 8,
    "hideHardwareSpecs": false,
    "memoryGiB": 768,
    "name": "ml.g5.48xlarge",
    "vcpuNum": 192
   },
   {
    "_defaultOrder": 55,
    "_isFastLaunch": false,
    "category": "Accelerated computing",
    "gpuNum": 8,
    "hideHardwareSpecs": false,
    "memoryGiB": 1152,
    "name": "ml.p4d.24xlarge",
    "vcpuNum": 96
   },
   {
    "_defaultOrder": 56,
    "_isFastLaunch": false,
    "category": "Accelerated computing",
    "gpuNum": 8,
    "hideHardwareSpecs": false,
    "memoryGiB": 1152,
    "name": "ml.p4de.24xlarge",
    "vcpuNum": 96
   },
   {
    "_defaultOrder": 57,
    "_isFastLaunch": false,
    "category": "Accelerated computing",
    "gpuNum": 0,
    "hideHardwareSpecs": false,
    "memoryGiB": 32,
    "name": "ml.trn1.2xlarge",
    "vcpuNum": 8
   },
   {
    "_defaultOrder": 58,
    "_isFastLaunch": false,
    "category": "Accelerated computing",
    "gpuNum": 0,
    "hideHardwareSpecs": false,
    "memoryGiB": 512,
    "name": "ml.trn1.32xlarge",
    "vcpuNum": 128
   },
   {
    "_defaultOrder": 59,
    "_isFastLaunch": false,
    "category": "Accelerated computing",
    "gpuNum": 0,
    "hideHardwareSpecs": false,
    "memoryGiB": 512,
    "name": "ml.trn1n.32xlarge",
    "vcpuNum": 128
   }
  ],
  "instance_type": "ml.t3.medium",
  "kernelspec": {
   "display_name": "Python 3 (ipykernel)",
   "language": "python",
   "name": "python3"
  },
  "language_info": {
   "codemirror_mode": {
    "name": "ipython",
    "version": 3
   },
   "file_extension": ".py",
   "mimetype": "text/x-python",
   "name": "python",
   "nbconvert_exporter": "python",
   "pygments_lexer": "ipython3",
   "version": "3.12.9"
  }
 },
 "nbformat": 4,
 "nbformat_minor": 5
}
