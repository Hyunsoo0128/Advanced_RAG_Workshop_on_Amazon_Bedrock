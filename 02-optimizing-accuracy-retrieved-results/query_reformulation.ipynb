{
 "cells": [
  {
   "cell_type": "markdown",
   "id": "ccd8ae92a248be2d",
   "metadata": {
    "tags": []
   },
   "source": [
    "# Amazon Bedrock Knowledge Bases가 지원하는 쿼리 재구성\n",
    "\n",
    "RAG 기반 GenAI 애플리케이션을 개발할 때 품질, 비용, 지연 시간을 최적화하는 것이 가장 중요한 요소 중 일부입니다. Foundation Model(FM)에 대한 입력 쿼리는 많은 질문과 복잡한 관계를 포함하는 매우 복잡한 경우가 많습니다. 이러한 복잡한 쿼리의 경우, 임베딩 단계에서 쿼리의 중요한 구성 요소가 가려지거나 희석될 수 있어, 쿼리의 모든 측면에 대한 컨텍스트를 제공하지 못하는 청크가 검색될 수 있습니다. 이로 인해 RAG 애플리케이션에서 원하는 것보다 낮은 품질의 응답이 생성될 수 있습니다.\n",
    "\n",
    "이제 쿼리 재구성을 통해 복잡한 입력 프롬프트를 여러 개의 하위 쿼리로 분해할 수 있습니다. 이러한 하위 쿼리들은 각각 관련 청크를 검색하는 자체 검색 단계를 거치게 됩니다. 그 결과로 나온 청크들은 FM에 전달되어 응답을 생성하기 전에 함께 풀링되고 순위가 매겨집니다. 쿼리 재구성은 애플리케이션이 실제 운영 환경에서 직면할 수 있는 복잡한 쿼리의 정확도를 높이는 데 도움이 될 수 있는 또 다른 도구입니다."
   ]
  },
  {
   "cell_type": "markdown",
   "id": "c2e87cd081d14b9c",
   "metadata": {
    "tags": []
   },
   "source": [
    "# 1. Notebook setup\n",
    "시작하기 위해 호환되는 역할과 컴퓨팅 환경으로 아래 단계들을 따르세요"
   ]
  },
  {
   "cell_type": "code",
   "execution_count": 29,
   "id": "fcc27605-f8c1-43b6-b1ce-ceabf90784f1",
   "metadata": {
    "execution": {
     "iopub.execute_input": "2025-07-29T08:57:35.385237Z",
     "iopub.status.busy": "2025-07-29T08:57:35.384944Z",
     "iopub.status.idle": "2025-07-29T08:58:01.432002Z",
     "shell.execute_reply": "2025-07-29T08:58:01.431039Z",
     "shell.execute_reply.started": "2025-07-29T08:57:35.385215Z"
    }
   },
   "outputs": [
    {
     "name": "stdout",
     "output_type": "stream",
     "text": [
      "Note: you may need to restart the kernel to use updated packages.\n",
      "Note: you may need to restart the kernel to use updated packages.\n",
      "Note: you may need to restart the kernel to use updated packages.\n"
     ]
    }
   ],
   "source": [
    "%pip install --upgrade pip --quiet\n",
    "%pip install -r ../requirements.txt --no-deps --quiet\n",
    "%pip install -r ../requirements.txt --upgrade --quiet"
   ]
  },
  {
   "cell_type": "code",
   "execution_count": 30,
   "id": "7c9e1bd6",
   "metadata": {
    "execution": {
     "iopub.execute_input": "2025-07-29T08:58:01.434263Z",
     "iopub.status.busy": "2025-07-29T08:58:01.433937Z",
     "iopub.status.idle": "2025-07-29T08:58:01.439834Z",
     "shell.execute_reply": "2025-07-29T08:58:01.438922Z",
     "shell.execute_reply.started": "2025-07-29T08:58:01.434234Z"
    }
   },
   "outputs": [
    {
     "data": {
      "text/html": [
       "<script>Jupyter.notebook.kernel.restart()</script>"
      ],
      "text/plain": [
       "<IPython.core.display.HTML object>"
      ]
     },
     "execution_count": 30,
     "metadata": {},
     "output_type": "execute_result"
    }
   ],
   "source": [
    "# restart kernel\n",
    "from IPython.core.display import HTML\n",
    "HTML(\"<script>Jupyter.notebook.kernel.restart()</script>\")"
   ]
  },
  {
   "cell_type": "code",
   "execution_count": 31,
   "id": "2a1ec769-4e9b-43d3-bbc9-faed7fabf270",
   "metadata": {
    "execution": {
     "iopub.execute_input": "2025-07-29T08:58:01.441894Z",
     "iopub.status.busy": "2025-07-29T08:58:01.441306Z",
     "iopub.status.idle": "2025-07-29T08:58:01.446609Z",
     "shell.execute_reply": "2025-07-29T08:58:01.445821Z",
     "shell.execute_reply.started": "2025-07-29T08:58:01.441861Z"
    }
   },
   "outputs": [],
   "source": [
    "import os\n",
    "import sys\n",
    "import time\n",
    "import boto3\n",
    "import logging\n",
    "import pprint\n",
    "import json\n",
    "\n",
    "# Set the path to import module\n",
    "from pathlib import Path\n",
    "current_path = Path().resolve()\n",
    "current_path = current_path.parent\n",
    "if str(current_path) not in sys.path:\n",
    "    sys.path.append(str(current_path))\n",
    "# Print sys.path to verify\n",
    "# print(sys.path)\n",
    "\n",
    "from utils.knowledge_base import BedrockKnowledgeBase"
   ]
  },
  {
   "cell_type": "code",
   "execution_count": 32,
   "id": "6739ded2",
   "metadata": {
    "execution": {
     "iopub.execute_input": "2025-07-29T08:58:01.448718Z",
     "iopub.status.busy": "2025-07-29T08:58:01.448431Z",
     "iopub.status.idle": "2025-07-29T08:58:01.534793Z",
     "shell.execute_reply": "2025-07-29T08:58:01.533335Z",
     "shell.execute_reply.started": "2025-07-29T08:58:01.448694Z"
    }
   },
   "outputs": [
    {
     "data": {
      "text/plain": [
       "('us-west-2', '211125368524')"
      ]
     },
     "execution_count": 32,
     "metadata": {},
     "output_type": "execute_result"
    }
   ],
   "source": [
    "#Clients\n",
    "s3_client = boto3.client('s3')\n",
    "sts_client = boto3.client('sts')\n",
    "session = boto3.session.Session()\n",
    "region =  session.region_name\n",
    "account_id = sts_client.get_caller_identity()[\"Account\"]\n",
    "bedrock_agent_client = boto3.client('bedrock-agent')\n",
    "bedrock_agent_runtime_client = boto3.client('bedrock-agent-runtime') \n",
    "logging.basicConfig(format='[%(asctime)s] p%(process)s {%(filename)s:%(lineno)d} %(levelname)s - %(message)s', level=logging.INFO)\n",
    "logger = logging.getLogger(__name__)\n",
    "region, account_id"
   ]
  },
  {
   "cell_type": "code",
   "execution_count": 33,
   "id": "1608e31e-6758-46ae-abc3-753148ffaa6e",
   "metadata": {
    "execution": {
     "iopub.execute_input": "2025-07-29T08:58:01.536359Z",
     "iopub.status.busy": "2025-07-29T08:58:01.536007Z",
     "iopub.status.idle": "2025-07-29T08:58:01.541515Z",
     "shell.execute_reply": "2025-07-29T08:58:01.540517Z",
     "shell.execute_reply.started": "2025-07-29T08:58:01.536326Z"
    }
   },
   "outputs": [],
   "source": [
    "import time\n",
    "\n",
    "# Get the current timestamp\n",
    "current_time = time.time()\n",
    "\n",
    "# Format the timestamp as a string\n",
    "timestamp_str = time.strftime(\"%Y%m%d%H%M%S\", time.localtime(current_time))[-7:]\n",
    "# Create the suffix using the timestamp\n",
    "suffix = f\"{timestamp_str}\"\n",
    "knowledge_base_name_standard = 'standard-kb'\n",
    "knowledge_base_description = \"Octank 10k KB\"\n",
    "bucket_name = f'{knowledge_base_name_standard}-{suffix}'\n",
    "\n",
    "foundation_model = \"anthropic.claude-3-sonnet-20240229-v1:0\"\n",
    "\n",
    "data_source=[{\"type\": \"S3\", \"bucket_name\": bucket_name}]"
   ]
  },
  {
   "cell_type": "markdown",
   "id": "0152d906-9dff-4119-9964-d6a9b96a4d16",
   "metadata": {},
   "source": [
    "## 2. 고정 청킹 전략으로 지식 베이스 생성"
   ]
  },
  {
   "cell_type": "code",
   "execution_count": 34,
   "id": "bb08e2cc-b6e4-4ccd-9492-200c899ca666",
   "metadata": {
    "execution": {
     "iopub.execute_input": "2025-07-29T08:58:01.543332Z",
     "iopub.status.busy": "2025-07-29T08:58:01.543018Z",
     "iopub.status.idle": "2025-07-29T09:00:36.895872Z",
     "shell.execute_reply": "2025-07-29T09:00:36.895080Z",
     "shell.execute_reply.started": "2025-07-29T08:58:01.543301Z"
    }
   },
   "outputs": [
    {
     "name": "stdout",
     "output_type": "stream",
     "text": [
      "========================================================================================\n",
      "Step 1 - Creating or retrieving S3 bucket(s) for Knowledge Base documents\n",
      "['standard-kb-9085801']\n",
      "buckets_to_check:  ['standard-kb-9085801']\n",
      "Creating bucket standard-kb-9085801\n",
      "========================================================================================\n",
      "Step 2 - Creating Knowledge Base Execution Role (AmazonBedrockExecutionRoleForKnowledgeBase_9085801-f) and Policies\n",
      "========================================================================================\n",
      "Step 3a - Creating OSS encryption, network and data access policies\n",
      "========================================================================================\n",
      "Step 3b - Creating OSS Collection (this step takes a couple of minutes to complete)\n",
      "{ 'ResponseMetadata': { 'HTTPHeaders': { 'connection': 'keep-alive',\n",
      "                                         'content-length': '320',\n",
      "                                         'content-type': 'application/x-amz-json-1.0',\n",
      "                                         'date': 'Tue, 29 Jul 2025 08:58:04 '\n",
      "                                                 'GMT',\n",
      "                                         'x-amzn-requestid': 'e8c4ffec-b295-488a-9df2-43c886cb55eb'},\n",
      "                        'HTTPStatusCode': 200,\n",
      "                        'RequestId': 'e8c4ffec-b295-488a-9df2-43c886cb55eb',\n",
      "                        'RetryAttempts': 0},\n",
      "  'createCollectionDetail': { 'arn': 'arn:aws:aoss:us-west-2:211125368524:collection/638t7cxc03293rviymx9',\n",
      "                              'createdDate': 1753779484155,\n",
      "                              'id': '638t7cxc03293rviymx9',\n",
      "                              'kmsKeyArn': 'auto',\n",
      "                              'lastModifiedDate': 1753779484155,\n",
      "                              'name': 'bedrock-sample-rag-9085801-f',\n",
      "                              'standbyReplicas': 'ENABLED',\n",
      "                              'status': 'CREATING',\n",
      "                              'type': 'VECTORSEARCH'}}\n",
      "638t7cxc03293rviymx9.us-west-2.aoss.amazonaws.com\n",
      "Creating collection...\n",
      "..............................\n",
      "Collection successfully created:\n",
      "[ { 'arn': 'arn:aws:aoss:us-west-2:211125368524:collection/638t7cxc03293rviymx9',\n",
      "    'collectionEndpoint': 'https://638t7cxc03293rviymx9.us-west-2.aoss.amazonaws.com',\n",
      "    'createdDate': 1753779484155,\n",
      "    'dashboardEndpoint': 'https://638t7cxc03293rviymx9.us-west-2.aoss.amazonaws.com/_dashboards',\n",
      "    'id': '638t7cxc03293rviymx9',\n",
      "    'kmsKeyArn': 'auto',\n",
      "    'lastModifiedDate': 1753779506948,\n",
      "    'name': 'bedrock-sample-rag-9085801-f',\n",
      "    'standbyReplicas': 'ENABLED',\n",
      "    'status': 'ACTIVE',\n",
      "    'type': 'VECTORSEARCH'}]\n",
      "Opensearch serverless arn:  arn:aws:iam::211125368524:policy/AmazonBedrockOSSPolicyForKnowledgeBase_9085801-f\n",
      "Sleeping for a minute to ensure data access rules have been enforced\n",
      "========================================================================================\n",
      "Step 3c - Creating OSS Vector Index\n"
     ]
    },
    {
     "name": "stderr",
     "output_type": "stream",
     "text": [
      "[2025-07-29 08:59:34,930] p18163 {base.py:258} INFO - PUT https://638t7cxc03293rviymx9.us-west-2.aoss.amazonaws.com:443/bedrock-sample-rag-index-9085801-f [status:200 request:0.335s]\n"
     ]
    },
    {
     "name": "stdout",
     "output_type": "stream",
     "text": [
      "\n",
      "Creating index:\n",
      "{ 'acknowledged': True,\n",
      "  'index': 'bedrock-sample-rag-index-9085801-f',\n",
      "  'shards_acknowledged': True}\n",
      "========================================================================================\n",
      "Step 4 - Will create Lambda Function if chunking strategy selected as CUSTOM\n",
      "Not creating lambda function as chunking strategy is FIXED_SIZE\n",
      "========================================================================================\n",
      "Step 5 - Creating Knowledge Base\n",
      "{ 'createdAt': datetime.datetime(2025, 7, 29, 9, 0, 35, 44864, tzinfo=tzlocal()),\n",
      "  'description': 'Octank 10k KB',\n",
      "  'knowledgeBaseArn': 'arn:aws:bedrock:us-west-2:211125368524:knowledge-base/TXYLN3R29K',\n",
      "  'knowledgeBaseConfiguration': { 'type': 'VECTOR',\n",
      "                                  'vectorKnowledgeBaseConfiguration': { 'embeddingModelArn': 'arn:aws:bedrock:us-west-2::foundation-model/amazon.titan-embed-text-v2:0'}},\n",
      "  'knowledgeBaseId': 'TXYLN3R29K',\n",
      "  'name': 'standard-kb-9085801',\n",
      "  'roleArn': 'arn:aws:iam::211125368524:role/AmazonBedrockExecutionRoleForKnowledgeBase_9085801-f',\n",
      "  'status': 'CREATING',\n",
      "  'storageConfiguration': { 'opensearchServerlessConfiguration': { 'collectionArn': 'arn:aws:aoss:us-west-2:211125368524:collection/638t7cxc03293rviymx9',\n",
      "                                                                   'fieldMapping': { 'metadataField': 'text-metadata',\n",
      "                                                                                     'textField': 'text',\n",
      "                                                                                     'vectorField': 'vector'},\n",
      "                                                                   'vectorIndexName': 'bedrock-sample-rag-index-9085801-f'},\n",
      "                            'type': 'OPENSEARCH_SERVERLESS'},\n",
      "  'updatedAt': datetime.datetime(2025, 7, 29, 9, 0, 35, 44864, tzinfo=tzlocal())}\n",
      "Creating Data Sources\n",
      "{ 'createdAt': datetime.datetime(2025, 7, 29, 9, 0, 35, 44864, tzinfo=tzlocal()),\n",
      "  'description': 'Octank 10k KB',\n",
      "  'knowledgeBaseArn': 'arn:aws:bedrock:us-west-2:211125368524:knowledge-base/TXYLN3R29K',\n",
      "  'knowledgeBaseConfiguration': { 'type': 'VECTOR',\n",
      "                                  'vectorKnowledgeBaseConfiguration': { 'embeddingModelArn': 'arn:aws:bedrock:us-west-2::foundation-model/amazon.titan-embed-text-v2:0'}},\n",
      "  'knowledgeBaseId': 'TXYLN3R29K',\n",
      "  'name': 'standard-kb-9085801',\n",
      "  'roleArn': 'arn:aws:iam::211125368524:role/AmazonBedrockExecutionRoleForKnowledgeBase_9085801-f',\n",
      "  'status': 'ACTIVE',\n",
      "  'storageConfiguration': { 'opensearchServerlessConfiguration': { 'collectionArn': 'arn:aws:aoss:us-west-2:211125368524:collection/638t7cxc03293rviymx9',\n",
      "                                                                   'fieldMapping': { 'metadataField': 'text-metadata',\n",
      "                                                                                     'textField': 'text',\n",
      "                                                                                     'vectorField': 'vector'},\n",
      "                                                                   'vectorIndexName': 'bedrock-sample-rag-index-9085801-f'},\n",
      "                            'type': 'OPENSEARCH_SERVERLESS'},\n",
      "  'updatedAt': datetime.datetime(2025, 7, 29, 9, 0, 35, 44864, tzinfo=tzlocal())}\n",
      "Creating Data Sources\n",
      "1 data source: S3\n",
      "============Chunking config========\n",
      " {'chunkingConfiguration': {'chunkingStrategy': 'FIXED_SIZE', 'fixedSizeChunkingConfiguration': {'maxTokens': 300, 'overlapPercentage': 20}}}\n",
      "{ 'createdAt': datetime.datetime(2025, 7, 29, 9, 0, 36, 879943, tzinfo=tzlocal()),\n",
      "  'dataDeletionPolicy': 'DELETE',\n",
      "  'dataSourceConfiguration': { 's3Configuration': { 'bucketArn': 'arn:aws:s3:::standard-kb-9085801'},\n",
      "                               'type': 'S3'},\n",
      "  'dataSourceId': 'O7XU7FC8NC',\n",
      "  'description': 'Octank 10k KB',\n",
      "  'knowledgeBaseId': 'TXYLN3R29K',\n",
      "  'name': 'TXYLN3R29K-s3',\n",
      "  'status': 'AVAILABLE',\n",
      "  'updatedAt': datetime.datetime(2025, 7, 29, 9, 0, 36, 879943, tzinfo=tzlocal()),\n",
      "  'vectorIngestionConfiguration': { 'chunkingConfiguration': { 'chunkingStrategy': 'FIXED_SIZE',\n",
      "                                                               'fixedSizeChunkingConfiguration': { 'maxTokens': 300,\n",
      "                                                                                                   'overlapPercentage': 20}}}}\n",
      "[ { 'createdAt': datetime.datetime(2025, 7, 29, 9, 0, 36, 879943, tzinfo=tzlocal()),\n",
      "    'dataDeletionPolicy': 'DELETE',\n",
      "    'dataSourceConfiguration': { 's3Configuration': { 'bucketArn': 'arn:aws:s3:::standard-kb-9085801'},\n",
      "                                 'type': 'S3'},\n",
      "    'dataSourceId': 'O7XU7FC8NC',\n",
      "    'description': 'Octank 10k KB',\n",
      "    'knowledgeBaseId': 'TXYLN3R29K',\n",
      "    'name': 'TXYLN3R29K-s3',\n",
      "    'status': 'AVAILABLE',\n",
      "    'updatedAt': datetime.datetime(2025, 7, 29, 9, 0, 36, 879943, tzinfo=tzlocal()),\n",
      "    'vectorIngestionConfiguration': { 'chunkingConfiguration': { 'chunkingStrategy': 'FIXED_SIZE',\n",
      "                                                                 'fixedSizeChunkingConfiguration': { 'maxTokens': 300,\n",
      "                                                                                                     'overlapPercentage': 20}}}}]\n",
      "========================================================================================\n"
     ]
    }
   ],
   "source": [
    "knowledge_base_standard = BedrockKnowledgeBase(\n",
    "    kb_name=f'{knowledge_base_name_standard}-{suffix}',\n",
    "    kb_description=knowledge_base_description,\n",
    "    data_sources=data_source,\n",
    "    chunking_strategy = \"FIXED_SIZE\", \n",
    "    suffix = f'{suffix}-f'\n",
    ")"
   ]
  },
  {
   "cell_type": "markdown",
   "id": "266fae8a-67b6-49e0-8190-c02699a74391",
   "metadata": {},
   "source": [
    "## 2.1 데이터셋을 Amazon S3에 업로드\n",
    "이제 지식 베이스를 생성했으니, `Octank financial 10K` 보고서 데이터셋으로 채워보겠습니다. Knowledge Base 데이터 소스는 연결된 S3 버킷에서 데이터를 사용할 수 있어야 하며, `StartIngestionJob API` 호출을 사용하여 데이터의 변경 사항을 지식 베이스와 동기화할 수 있습니다. 이 예제에서는 우리의 헬퍼 클래스를 통해 API의 [boto3 추상화](https://boto3.amazonaws.com/v1/documentation/api/latest/reference/services/bedrock-agent/client/start_ingestion_job.html)를 사용할 것입니다.\n",
    "\n",
    "먼저 `dataset` 폴더에 있는 메뉴 데이터를 s3에 업로드해보겠습니다."
   ]
  },
  {
   "cell_type": "code",
   "execution_count": 35,
   "id": "bc92b22d-f795-4e16-aa8a-1d142c22c09e",
   "metadata": {
    "execution": {
     "iopub.execute_input": "2025-07-29T09:00:36.897346Z",
     "iopub.status.busy": "2025-07-29T09:00:36.897009Z",
     "iopub.status.idle": "2025-07-29T09:00:37.666527Z",
     "shell.execute_reply": "2025-07-29T09:00:37.665683Z",
     "shell.execute_reply.started": "2025-07-29T09:00:36.897318Z"
    }
   },
   "outputs": [
    {
     "name": "stdout",
     "output_type": "stream",
     "text": [
      "uploading file ../synthetic_dataset/2024_population.pdf to standard-kb-9085801\n",
      "uploading file ../synthetic_dataset/.ipynb_checkpoints/2024_population-checkpoint.pdf to standard-kb-9085801\n"
     ]
    }
   ],
   "source": [
    "import os\n",
    "\n",
    "def upload_directory(path, bucket_name):\n",
    "    for root, dirs, files in os.walk(path):\n",
    "        for file in files:\n",
    "            file_to_upload = os.path.join(root, file)\n",
    "            if file not in [\"LICENSE\", \"NOTICE\", \"README.md\"]:\n",
    "                print(f\"uploading file {file_to_upload} to {bucket_name}\")\n",
    "                s3_client.upload_file(file_to_upload, bucket_name, file)\n",
    "            else:\n",
    "                print(f\"Skipping file {file_to_upload}\")\n",
    "\n",
    "upload_directory(\"../synthetic_dataset\", bucket_name)\n"
   ]
  },
  {
   "cell_type": "code",
   "execution_count": 36,
   "id": "7fed7fcb-fa31-4d0a-8417-339477716a5d",
   "metadata": {
    "execution": {
     "iopub.execute_input": "2025-07-29T09:00:37.668061Z",
     "iopub.status.busy": "2025-07-29T09:00:37.667742Z",
     "iopub.status.idle": "2025-07-29T09:02:33.641171Z",
     "shell.execute_reply": "2025-07-29T09:02:33.640348Z",
     "shell.execute_reply.started": "2025-07-29T09:00:37.668029Z"
    }
   },
   "outputs": [
    {
     "name": "stdout",
     "output_type": "stream",
     "text": [
      "job 1 started successfully\n",
      "\n",
      "{ 'dataSourceId': 'O7XU7FC8NC',\n",
      "  'ingestionJobId': 'SDRYBJWK6G',\n",
      "  'knowledgeBaseId': 'TXYLN3R29K',\n",
      "  'startedAt': datetime.datetime(2025, 7, 29, 9, 1, 8, 566751, tzinfo=tzlocal()),\n",
      "  'statistics': { 'numberOfDocumentsDeleted': 0,\n",
      "                  'numberOfDocumentsFailed': 0,\n",
      "                  'numberOfDocumentsScanned': 2,\n",
      "                  'numberOfMetadataDocumentsModified': 0,\n",
      "                  'numberOfMetadataDocumentsScanned': 0,\n",
      "                  'numberOfModifiedDocumentsIndexed': 0,\n",
      "                  'numberOfNewDocumentsIndexed': 2},\n",
      "  'status': 'COMPLETE',\n",
      "  'updatedAt': datetime.datetime(2025, 7, 29, 9, 1, 53, 582196, tzinfo=tzlocal())}\n",
      "........................................"
     ]
    }
   ],
   "source": [
    "# ensure that the kb is available\n",
    "time.sleep(30)\n",
    "# sync knowledge base\n",
    "knowledge_base_standard.start_ingestion_job()"
   ]
  },
  {
   "cell_type": "code",
   "execution_count": 37,
   "id": "b56b70ad-5474-4e24-945b-d9df129f86cd",
   "metadata": {
    "execution": {
     "iopub.execute_input": "2025-07-29T09:02:33.642377Z",
     "iopub.status.busy": "2025-07-29T09:02:33.642059Z",
     "iopub.status.idle": "2025-07-29T09:02:33.645870Z",
     "shell.execute_reply": "2025-07-29T09:02:33.645166Z",
     "shell.execute_reply.started": "2025-07-29T09:02:33.642355Z"
    }
   },
   "outputs": [
    {
     "name": "stdout",
     "output_type": "stream",
     "text": [
      "'TXYLN3R29K'\n"
     ]
    }
   ],
   "source": [
    "kb_id = knowledge_base_standard.get_knowledge_base_id()"
   ]
  },
  {
   "cell_type": "markdown",
   "id": "fb05c48b103ab62",
   "metadata": {},
   "source": [
    "# 3. 쿼리 재구성 실제 적용\n",
    "이 노트북에서는 쿼리 재구성의 이점을 얻을 수 있는 간단한 쿼리와 더 복잡한 쿼리를 조사하고, 이것이 생성된 응답에 어떤 영향을 미치는지 살펴보겠습니다."
   ]
  },
  {
   "cell_type": "markdown",
   "id": "c884bf95de0f06a4",
   "metadata": {},
   "source": [
    "## 복잡한 프롬프트\n",
    "\n",
    "기능을 시연하기 위해, Octank 10K 재무 문서에 포함된 정보에 대해 여러 가지를 요청하는 쿼리를 살펴보겠습니다. 이 쿼리는 의미론적으로 관련되지 않은 몇 가지 요청을 포함하고 있습니다. 검색 단계에서 이 쿼리가 임베딩될 때, 쿼리의 일부 측면이 희석될 수 있으며, 따라서 반환되는 관련 청크가 이 복잡한 쿼리의 모든 구성 요소를 다루지 못할 수 있습니다.\n",
    "\n",
    "지식 베이스를 쿼리하고 응답을 생성하기 위해 retrieve_and_generate API 호출을 사용할 것입니다. 쿼리 재구성 기능을 사용하기 위해, 아래와 같이 지식 베이스 구성에 추가 정보를 포함할 것입니다:\n",
    "\n",
    "```\n",
    "'orchestrationConfiguration': {\n",
    "        'queryTransformationConfiguration': {\n",
    "            'type': 'QUERY_DECOMPOSITION'\n",
    "        }\n",
    "    }\n",
    "```\n",
    "    \n",
    "__참고__: 출력 응답 구조는 쿼리 재구성이 없는 일반 __retrieve_and_generate__와 동일합니다."
   ]
  },
  {
   "cell_type": "markdown",
   "id": "9360c879265e8612",
   "metadata": {},
   "source": [
    "#### Without Query Reformulation\n",
    "\n",
    "쿼리 재구성을 사용하지 않고 다음 쿼리에 대한 생성된 결과가 어떻게 나타나는지 살펴보겠습니다:\n",
    "\n",
    "\"Where is the Octank company waterfront building located and how does the whistleblower scandal hurt the company and its image?\"\n",
    "\n",
    "\"Octank 회사의 워터프론트 빌딩은 어디에 위치해 있으며, 내부고발자 스캔들이 회사와 그 이미지에 어떤 해를 끼쳤습니까?\""
   ]
  },
  {
   "cell_type": "code",
   "execution_count": 38,
   "id": "40680d2c",
   "metadata": {
    "execution": {
     "iopub.execute_input": "2025-07-29T09:02:33.647739Z",
     "iopub.status.busy": "2025-07-29T09:02:33.647361Z",
     "iopub.status.idle": "2025-07-29T09:02:33.651336Z",
     "shell.execute_reply": "2025-07-29T09:02:33.650702Z",
     "shell.execute_reply.started": "2025-07-29T09:02:33.647709Z"
    }
   },
   "outputs": [],
   "source": [
    "query = \"2024년 시도별 인구・가구・주택 특성을 종합적으로 비교 분석하시오.(단, 각 시도의 연령구조, 1인가구 비율, 주택 노후도, 외국인 비율을 모두 포함하여 상위 3개 지역과 하위 3개 지역을 각각 제시하고, 이들 간의 특성 차이를 설명하시오)\""
   ]
  },
  {
   "cell_type": "code",
   "execution_count": 39,
   "id": "6e17f767c1612d15",
   "metadata": {
    "ExecuteTime": {
     "end_time": "2024-07-02T00:15:47.357874Z",
     "start_time": "2024-07-02T00:15:41.533749Z"
    },
    "execution": {
     "iopub.execute_input": "2025-07-29T09:02:33.652792Z",
     "iopub.status.busy": "2025-07-29T09:02:33.652495Z",
     "iopub.status.idle": "2025-07-29T09:02:43.374170Z",
     "shell.execute_reply": "2025-07-29T09:02:43.373279Z",
     "shell.execute_reply.started": "2025-07-29T09:02:33.652772Z"
    },
    "tags": []
   },
   "outputs": [
    {
     "name": "stdout",
     "output_type": "stream",
     "text": [
      "2024년 시도별 인구・가구・주택 특성을 종합적으로 비교해 보면, 상위 3개 지역은 서울, 경기, 인천으로 나타났습니다. 이들 지역은 다음과 같은 특성을 보입니다:\n",
      "\n",
      "- 연령구조: 경제활동인구 비중이 높고 고령인구 비중이 낮음\n",
      "- 1인가구 비율: 1인가구 비율이 전국 평균보다 높음\n",
      "- 주택 노후도: 신규 주택 비중이 높아 노후 주택 비율이 낮음\n",
      "- 외국인 비율: 외국인 거주 비율이 높은 편임 반면 하위 3개 지역은 전남, 경북, 강원으로 나타났으며, 다음과 같은 특성이 있습니다:\n",
      "\n",
      "- 연령구조: 고령인구 비중이 높고 경제활동인구 비중이 낮음  \n",
      "- 1인가구 비율: 1인가구 비율이 전국 평균보다 낮음\n",
      "- 주택 노후도: 노후 주택 비율이 높은 편임\n",
      "- 외국인 비율: 외국인 거주 비율이 낮은 편임\n",
      "\n",
      "이처럼 상위 지역과 하위 지역 간에는 인구구조, 가구 형태, 주택 환경, 외국인 비율 등 여러 측면에서 큰 차이를 보이고 있습니다.\n",
      "\n"
     ]
    }
   ],
   "source": [
    "response_ret = bedrock_agent_runtime_client.retrieve_and_generate(\n",
    "    input={\n",
    "        \"text\": query\n",
    "    },\n",
    "    retrieveAndGenerateConfiguration={\n",
    "        \"type\": \"KNOWLEDGE_BASE\",\n",
    "        \"knowledgeBaseConfiguration\": {\n",
    "            'knowledgeBaseId': kb_id,\n",
    "            \"modelArn\": \"arn:aws:bedrock:{}::foundation-model/{}\".format(region, foundation_model),\n",
    "            \"retrievalConfiguration\": {\n",
    "                \"vectorSearchConfiguration\": {\n",
    "                    \"numberOfResults\":5\n",
    "                } \n",
    "            }\n",
    "        }\n",
    "    }\n",
    ")\n",
    "\n",
    "\n",
    "# generated text output\n",
    "\n",
    "print(response_ret['output']['text'],end='\\n'*2)"
   ]
  },
  {
   "cell_type": "code",
   "execution_count": 40,
   "id": "f619f389",
   "metadata": {
    "execution": {
     "iopub.execute_input": "2025-07-29T09:02:43.375307Z",
     "iopub.status.busy": "2025-07-29T09:02:43.375089Z",
     "iopub.status.idle": "2025-07-29T09:02:43.380628Z",
     "shell.execute_reply": "2025-07-29T09:02:43.379768Z",
     "shell.execute_reply.started": "2025-07-29T09:02:43.375289Z"
    }
   },
   "outputs": [
    {
     "name": "stdout",
     "output_type": "stream",
     "text": [
      "# of citations or chunks used to generate the response:  2\n",
      "Chunk 1:  2024년 인구주택총조사 결과      Ⅰ. 인구 ····················································································· 7      1. 총인구 ························································································ 7      가. 인구 규모 ············································································ 7      나. 성․연령별 인구 ································································· 9      다. 지역별 인구 ······································································ 12      라.\n",
      "\n",
      "Chunk 1 Location:  {'s3Location': {'uri': 's3://standard-kb-9085801/2024_population-checkpoint.pdf'}, 'type': 'S3'}\n",
      "\n",
      "Chunk 1 Metadata:  {'x-amz-bedrock-kb-source-uri': 's3://standard-kb-9085801/2024_population-checkpoint.pdf', 'x-amz-bedrock-kb-document-page-number': 5.0, 'x-amz-bedrock-kb-chunk-id': '1%3A0%3AELNqVZgBBdp4KKBjqZQw', 'x-amz-bedrock-kb-data-source-id': 'O7XU7FC8NC'}\n",
      "\n",
      "Chunk 2:  117 -0 -0.3 222 경남 남해군 20 -0 -0.8     223 서울 양천구 171 -0 -0.3 223 경북 영덕군 17 -0 -1.0     224 경기 군포시 109 -0 -0.5 224 인천 동구 26 -0 -1.1     225 경기 의왕시 60 -1 -1.6 225 광주 서구 128 -1 -1.1     226 대구 남구 71 -1 -1.6 226 부산 금정구 102 -1 -1.2     227 부산 금정구 102 -1 -1.2 227 대구 남구 71 -1 -1.6     228 광주 서구 128 -1 -1.1 228 경기 의왕시 60 -1 -1.6     229 서울 용산구 98 -5 -5.2 229 서울 용산구 98 -5 -5.2     - 42 -< 그림 33 > 시도별 가구 구성비, 2024년          < 그림\n",
      "\n",
      "Chunk 2 Location:  {'s3Location': {'uri': 's3://standard-kb-9085801/2024_population.pdf'}, 'type': 'S3'}\n",
      "\n",
      "Chunk 2 Metadata:  {'x-amz-bedrock-kb-source-uri': 's3://standard-kb-9085801/2024_population.pdf', 'x-amz-bedrock-kb-document-page-number': 51.0, 'x-amz-bedrock-kb-chunk-id': '1%3A0%3Aw7FqVZgBTpLj2rbkn6vE', 'x-amz-bedrock-kb-data-source-id': 'O7XU7FC8NC'}\n",
      "\n"
     ]
    }
   ],
   "source": [
    "response_without_qr = response_ret['citations'][0]['retrievedReferences']\n",
    "print(\"# of citations or chunks used to generate the response: \", len(response_without_qr))\n",
    "def citations_rag_print(response_ret):\n",
    "#structure 'retrievalResults': list of contents. Each list has content, location, score, metadata\n",
    "    for num,chunk in enumerate(response_ret,1):\n",
    "        print(f'Chunk {num}: ',chunk['content']['text'],end='\\n'*2)\n",
    "        print(f'Chunk {num} Location: ',chunk['location'],end='\\n'*2)\n",
    "        print(f'Chunk {num} Metadata: ',chunk['metadata'],end='\\n'*2)\n",
    "\n",
    "citations_rag_print(response_without_qr)"
   ]
  },
  {
   "cell_type": "markdown",
   "id": "7cf1f43f-2157-4e25-b7d8-e9d84030efcf",
   "metadata": {},
   "source": [
    "위의 인용에서 볼 수 있듯이, 복잡한 쿼리를 사용한 우리의 검색은 건물과 관련된 청크는 전혀 반환하지 않고, 대신 내부고발자 사건과 가장 유사한 임베딩에만 초점을 맞추었습니다.\n",
    "\n",
    "이는 쿼리의 임베딩 과정에서 쿼리의 해당 부분의 의미가 일부 희석되었을 수 있다는 것을 나타냅니다."
   ]
  },
  {
   "cell_type": "markdown",
   "id": "661308d67c7b9edf",
   "metadata": {},
   "source": [
    "#### With Query Reformulation\n",
    "\n",
    "이제 쿼리 재구성이 어떻게 더 정렬된 컨텍스트 검색에 도움이 될 수 있는지, 그리고 이것이 결과적으로 응답 생성의 정확성을 어떻게 향상시킬 수 있는지 살펴보겠습니다."
   ]
  },
  {
   "cell_type": "code",
   "execution_count": 41,
   "id": "f1e8587c",
   "metadata": {
    "execution": {
     "iopub.execute_input": "2025-07-29T09:02:43.382614Z",
     "iopub.status.busy": "2025-07-29T09:02:43.381974Z",
     "iopub.status.idle": "2025-07-29T09:02:52.882543Z",
     "shell.execute_reply": "2025-07-29T09:02:52.881808Z",
     "shell.execute_reply.started": "2025-07-29T09:02:43.382583Z"
    }
   },
   "outputs": [
    {
     "name": "stdout",
     "output_type": "stream",
     "text": [
      "2024년 시도별 인구, 가구, 주택 특성을 종합적으로 비교하면 다음과 같습니다:\n",
      "\n",
      "- 인구 측면에서 서울, 경기, 인천 등 수도권 지역의 고령화율이 상대적으로 낮고, 생산연령인구 비중이 높습니다. 반면 전남, 경북 등 비수도권 지역은 고령화율이 높고 생산연령인구 비중이 낮습니다. - 가구 측면에서 1인 가구 비율은 서울, 대전 등 대도시 지역이 높고, 광주, 부산 등 광역시 지역도 1인 가구 비율이 높은 편입니다. 반면 인천, 경기 등 수도권 지역은 1인 가구 비율이 상대적으로 낮습니다. - 주택 측면에서 전남, 경북 등 비수도권 지역은 노후 주택(30년 이상) 비율이 높고, 세종, 인천 등 수도권 지역은 노후 주택 비율이 낮습니다.\n",
      "\n"
     ]
    }
   ],
   "source": [
    "response_ret = bedrock_agent_runtime_client.retrieve_and_generate(\n",
    "    input={\n",
    "        \"text\": query\n",
    "    },\n",
    "    retrieveAndGenerateConfiguration={\n",
    "        \"type\": \"KNOWLEDGE_BASE\",\n",
    "        \"knowledgeBaseConfiguration\": {\n",
    "            'knowledgeBaseId': kb_id,\n",
    "            \"modelArn\": \"arn:aws:bedrock:{}::foundation-model/{}\".format(region, foundation_model),\n",
    "            \"retrievalConfiguration\": {\n",
    "                \"vectorSearchConfiguration\": {\n",
    "                    \"numberOfResults\":5\n",
    "                } \n",
    "            },\n",
    "            'orchestrationConfiguration': {\n",
    "                'queryTransformationConfiguration': {\n",
    "                    'type': 'QUERY_DECOMPOSITION'\n",
    "                }\n",
    "            }\n",
    "        }\n",
    "    }\n",
    ")\n",
    "\n",
    "\n",
    "# generated text output\n",
    "\n",
    "print(response_ret['output']['text'],end='\\n'*2)"
   ]
  },
  {
   "cell_type": "markdown",
   "id": "ce888f21-54d0-4e0f-8c54-4d0fc0a27b3b",
   "metadata": {},
   "source": [
    "쿼리 재구성을 사용하여 검색된 청크들을 살펴보겠습니다"
   ]
  },
  {
   "cell_type": "code",
   "execution_count": 42,
   "id": "4fd6aa0c",
   "metadata": {
    "execution": {
     "iopub.execute_input": "2025-07-29T09:02:52.884350Z",
     "iopub.status.busy": "2025-07-29T09:02:52.883446Z",
     "iopub.status.idle": "2025-07-29T09:02:52.890481Z",
     "shell.execute_reply": "2025-07-29T09:02:52.889693Z",
     "shell.execute_reply.started": "2025-07-29T09:02:52.884323Z"
    }
   },
   "outputs": [
    {
     "name": "stdout",
     "output_type": "stream",
     "text": [
      "# of citations or chunks used to generate the response:  1\n",
      "Chunk 1:  51.4 0.5 16.3 15.7 -0.5 39.5 41.2 1.7 242.8 261.7 18.9     경 북 50.0 50.7 0.7 15.2 14.6 -0.5 35.9 37.9 2.0 236.8 259.2 22.4     경 남 47.8 48.5 0.7 16.6 16.0 -0.6 29.2 31.0 1.8 175.7 194.0 18.3     제 주 45.1 45.9 0.7 18.6 18.0 -0.7 25.1 26.5 1.4 134.9 147.7 12.8     - 20 -< 표 9 > 시도별 인구의 연령 분포, 2023~2024년     (단위 : 천 명, %, %p)     시 도 0~14세(유소년) 15~64세(생산연령) 65세 이상(고령)     2023년 2024년\n",
      "\n",
      "Chunk 1 Location:  {'s3Location': {'uri': 's3://standard-kb-9085801/2024_population-checkpoint.pdf'}, 'type': 'S3'}\n",
      "\n",
      "Chunk 1 Metadata:  {'x-amz-bedrock-kb-source-uri': 's3://standard-kb-9085801/2024_population-checkpoint.pdf', 'x-amz-bedrock-kb-document-page-number': 29.0, 'x-amz-bedrock-kb-chunk-id': '1%3A0%3AYrNqVZgBBdp4KKBjqZQw', 'x-amz-bedrock-kb-data-source-id': 'O7XU7FC8NC'}\n",
      "\n",
      "# of citations or chunks used to generate the response:  1\n"
     ]
    }
   ],
   "source": [
    "response_with_qr = response_ret['citations'][0]['retrievedReferences']\n",
    "print(\"# of citations or chunks used to generate the response: \", len(response_with_qr))\n",
    "def citations_rag_print(response_ret):\n",
    "#structure 'retrievalResults': list of contents. Each list has content, location, score, metadata\n",
    "    for num,chunk in enumerate(response_ret,1):\n",
    "        print(f'Chunk {num}: ',chunk['content']['text'],end='\\n'*2)\n",
    "        print(f'Chunk {num} Location: ',chunk['location'],end='\\n'*2)\n",
    "        print(f'Chunk {num} Metadata: ',chunk['metadata'],end='\\n'*2)\n",
    "\n",
    "citations_rag_print(response_with_qr)\n",
    "print(\"# of citations or chunks used to generate the response: \", len(response_with_qr))"
   ]
  },
  {
   "cell_type": "markdown",
   "id": "96e4dcba-d975-4506-a7d9-6e52f6f51019",
   "metadata": {},
   "source": [
    "쿼리 재구성을 활성화했을 때, 검색된 청크들이 이제 내부고발자 스캔들과 워터프론트 건물의 위치 구성 요소 모두에 대한 컨텍스트를 제공하는 것을 볼 수 있습니다."
   ]
  },
  {
   "cell_type": "markdown",
   "id": "ec2a29f6b6e27c46",
   "metadata": {
    "tags": []
   },
   "source": [
    "### CloudWatch Logs를 사용하여 프롬프트 분해 관찰하기\n",
    "복잡한 쿼리는 검색을 수행하기 전에 여러 개의 하위 쿼리로 분해됩니다. 위 예제 쿼리에서 분해 작업을 위한 호출을 분리했을 때 이를 확인할 수 있으며, 여기서 __standalone_question__은 원래 쿼리이고 결과로 나온 하위 쿼리들은 __\\<query\\>__ 태그 사이에 표시됩니다.\n",
    "\n",
    "__참고__: CloudWatch에서 로그를 볼 수 있으려면 Bedrock에서 호출 로깅을 활성화해야 합니다. 자세한 내용은 [여기](https://docs.aws.amazon.com/bedrock/latest/userguide/model-invocation-logging.html)를 참조하세요.\n",
    "\n",
    "```\n",
    "<generated_queries>\n",
    "\n",
    "<standalone_question>\n",
    "What is octank tower and how does the whistleblower scandal hurt the company and its image?\n",
    "</standalone_question>\n",
    "\n",
    "<query>\n",
    "What is octank tower?\n",
    "</query>\n",
    "\n",
    "<query>\n",
    "What is the whistleblower scandal involving Octank company?\n",
    "</query>\n",
    "\n",
    "<query>\n",
    "How did the whistleblower scandal affect Octank company's reputation and public image?\n",
    "</query>\n",
    "\n",
    "</generated_queries>\n",
    "```\n",
    "\n",
    "```\n",
    "<generated_queries>\n",
    "\n",
    "<standalone_question>\n",
    "옥탱크 타워는 무엇이고 내부고발자 스캔들이 회사와 그 이미지에 어떤 해를 끼쳤습니까?\n",
    "</standalone_question>\n",
    "\n",
    "<query>\n",
    "옥탱크 타워는 무엇입니까?\n",
    "</query>\n",
    "\n",
    "<query>\n",
    "옥탱크 회사와 관련된 내부고발자 스캔들은 무엇입니까?\n",
    "</query>\n",
    "\n",
    "<query>\n",
    "내부고발자 스캔들이 옥탱크 회사의 평판과 공공 이미지에 어떤 영향을 미쳤습니까?\n",
    "</query>\n",
    "\n",
    "</generated_queries>\n",
    "```"
   ]
  },
  {
   "cell_type": "markdown",
   "id": "50222f34",
   "metadata": {},
   "source": [
    "<div class=\"alert alert-block alert-warning\">\n",
    "<b>참고:</b> 불필요한 요금이 발생하지 않도록 KB(Knowledge Base), OSS 인덱스 및 관련 IAM 역할과 정책을 삭제하는 것을 잊지 마세요.\n",
    "</div>"
   ]
  },
  {
   "cell_type": "code",
   "execution_count": null,
   "id": "01268c2e-6bd7-4da2-b8c3-2e916bf719eb",
   "metadata": {},
   "outputs": [],
   "source": [
    "print(\"===============================Knowledge base with fixed chunking==============================\\n\")\n",
    "knowledge_base_standard.delete_kb(delete_s3_bucket=True, delete_iam_roles_and_policies=True)"
   ]
  },
  {
   "cell_type": "markdown",
   "id": "bbbb1e2d-837e-4f04-8696-6b7f31a337fd",
   "metadata": {},
   "source": [
    "이제 쿼리 재구성이 어떻게 작동하는지, 그리고 복잡한 쿼리에 대한 응답을 어떻게 개선할 수 있는지 살펴보았으니, 이 기술을 더 깊이 탐구하고 실험하여 RAG 워크플로우를 최적화해 보시기 바랍니다."
   ]
  }
 ],
 "metadata": {
  "availableInstances": [
   {
    "_defaultOrder": 0,
    "_isFastLaunch": true,
    "category": "General purpose",
    "gpuNum": 0,
    "hideHardwareSpecs": false,
    "memoryGiB": 4,
    "name": "ml.t3.medium",
    "vcpuNum": 2
   },
   {
    "_defaultOrder": 1,
    "_isFastLaunch": false,
    "category": "General purpose",
    "gpuNum": 0,
    "hideHardwareSpecs": false,
    "memoryGiB": 8,
    "name": "ml.t3.large",
    "vcpuNum": 2
   },
   {
    "_defaultOrder": 2,
    "_isFastLaunch": false,
    "category": "General purpose",
    "gpuNum": 0,
    "hideHardwareSpecs": false,
    "memoryGiB": 16,
    "name": "ml.t3.xlarge",
    "vcpuNum": 4
   },
   {
    "_defaultOrder": 3,
    "_isFastLaunch": false,
    "category": "General purpose",
    "gpuNum": 0,
    "hideHardwareSpecs": false,
    "memoryGiB": 32,
    "name": "ml.t3.2xlarge",
    "vcpuNum": 8
   },
   {
    "_defaultOrder": 4,
    "_isFastLaunch": true,
    "category": "General purpose",
    "gpuNum": 0,
    "hideHardwareSpecs": false,
    "memoryGiB": 8,
    "name": "ml.m5.large",
    "vcpuNum": 2
   },
   {
    "_defaultOrder": 5,
    "_isFastLaunch": false,
    "category": "General purpose",
    "gpuNum": 0,
    "hideHardwareSpecs": false,
    "memoryGiB": 16,
    "name": "ml.m5.xlarge",
    "vcpuNum": 4
   },
   {
    "_defaultOrder": 6,
    "_isFastLaunch": false,
    "category": "General purpose",
    "gpuNum": 0,
    "hideHardwareSpecs": false,
    "memoryGiB": 32,
    "name": "ml.m5.2xlarge",
    "vcpuNum": 8
   },
   {
    "_defaultOrder": 7,
    "_isFastLaunch": false,
    "category": "General purpose",
    "gpuNum": 0,
    "hideHardwareSpecs": false,
    "memoryGiB": 64,
    "name": "ml.m5.4xlarge",
    "vcpuNum": 16
   },
   {
    "_defaultOrder": 8,
    "_isFastLaunch": false,
    "category": "General purpose",
    "gpuNum": 0,
    "hideHardwareSpecs": false,
    "memoryGiB": 128,
    "name": "ml.m5.8xlarge",
    "vcpuNum": 32
   },
   {
    "_defaultOrder": 9,
    "_isFastLaunch": false,
    "category": "General purpose",
    "gpuNum": 0,
    "hideHardwareSpecs": false,
    "memoryGiB": 192,
    "name": "ml.m5.12xlarge",
    "vcpuNum": 48
   },
   {
    "_defaultOrder": 10,
    "_isFastLaunch": false,
    "category": "General purpose",
    "gpuNum": 0,
    "hideHardwareSpecs": false,
    "memoryGiB": 256,
    "name": "ml.m5.16xlarge",
    "vcpuNum": 64
   },
   {
    "_defaultOrder": 11,
    "_isFastLaunch": false,
    "category": "General purpose",
    "gpuNum": 0,
    "hideHardwareSpecs": false,
    "memoryGiB": 384,
    "name": "ml.m5.24xlarge",
    "vcpuNum": 96
   },
   {
    "_defaultOrder": 12,
    "_isFastLaunch": false,
    "category": "General purpose",
    "gpuNum": 0,
    "hideHardwareSpecs": false,
    "memoryGiB": 8,
    "name": "ml.m5d.large",
    "vcpuNum": 2
   },
   {
    "_defaultOrder": 13,
    "_isFastLaunch": false,
    "category": "General purpose",
    "gpuNum": 0,
    "hideHardwareSpecs": false,
    "memoryGiB": 16,
    "name": "ml.m5d.xlarge",
    "vcpuNum": 4
   },
   {
    "_defaultOrder": 14,
    "_isFastLaunch": false,
    "category": "General purpose",
    "gpuNum": 0,
    "hideHardwareSpecs": false,
    "memoryGiB": 32,
    "name": "ml.m5d.2xlarge",
    "vcpuNum": 8
   },
   {
    "_defaultOrder": 15,
    "_isFastLaunch": false,
    "category": "General purpose",
    "gpuNum": 0,
    "hideHardwareSpecs": false,
    "memoryGiB": 64,
    "name": "ml.m5d.4xlarge",
    "vcpuNum": 16
   },
   {
    "_defaultOrder": 16,
    "_isFastLaunch": false,
    "category": "General purpose",
    "gpuNum": 0,
    "hideHardwareSpecs": false,
    "memoryGiB": 128,
    "name": "ml.m5d.8xlarge",
    "vcpuNum": 32
   },
   {
    "_defaultOrder": 17,
    "_isFastLaunch": false,
    "category": "General purpose",
    "gpuNum": 0,
    "hideHardwareSpecs": false,
    "memoryGiB": 192,
    "name": "ml.m5d.12xlarge",
    "vcpuNum": 48
   },
   {
    "_defaultOrder": 18,
    "_isFastLaunch": false,
    "category": "General purpose",
    "gpuNum": 0,
    "hideHardwareSpecs": false,
    "memoryGiB": 256,
    "name": "ml.m5d.16xlarge",
    "vcpuNum": 64
   },
   {
    "_defaultOrder": 19,
    "_isFastLaunch": false,
    "category": "General purpose",
    "gpuNum": 0,
    "hideHardwareSpecs": false,
    "memoryGiB": 384,
    "name": "ml.m5d.24xlarge",
    "vcpuNum": 96
   },
   {
    "_defaultOrder": 20,
    "_isFastLaunch": false,
    "category": "General purpose",
    "gpuNum": 0,
    "hideHardwareSpecs": true,
    "memoryGiB": 0,
    "name": "ml.geospatial.interactive",
    "supportedImageNames": [
     "sagemaker-geospatial-v1-0"
    ],
    "vcpuNum": 0
   },
   {
    "_defaultOrder": 21,
    "_isFastLaunch": true,
    "category": "Compute optimized",
    "gpuNum": 0,
    "hideHardwareSpecs": false,
    "memoryGiB": 4,
    "name": "ml.c5.large",
    "vcpuNum": 2
   },
   {
    "_defaultOrder": 22,
    "_isFastLaunch": false,
    "category": "Compute optimized",
    "gpuNum": 0,
    "hideHardwareSpecs": false,
    "memoryGiB": 8,
    "name": "ml.c5.xlarge",
    "vcpuNum": 4
   },
   {
    "_defaultOrder": 23,
    "_isFastLaunch": false,
    "category": "Compute optimized",
    "gpuNum": 0,
    "hideHardwareSpecs": false,
    "memoryGiB": 16,
    "name": "ml.c5.2xlarge",
    "vcpuNum": 8
   },
   {
    "_defaultOrder": 24,
    "_isFastLaunch": false,
    "category": "Compute optimized",
    "gpuNum": 0,
    "hideHardwareSpecs": false,
    "memoryGiB": 32,
    "name": "ml.c5.4xlarge",
    "vcpuNum": 16
   },
   {
    "_defaultOrder": 25,
    "_isFastLaunch": false,
    "category": "Compute optimized",
    "gpuNum": 0,
    "hideHardwareSpecs": false,
    "memoryGiB": 72,
    "name": "ml.c5.9xlarge",
    "vcpuNum": 36
   },
   {
    "_defaultOrder": 26,
    "_isFastLaunch": false,
    "category": "Compute optimized",
    "gpuNum": 0,
    "hideHardwareSpecs": false,
    "memoryGiB": 96,
    "name": "ml.c5.12xlarge",
    "vcpuNum": 48
   },
   {
    "_defaultOrder": 27,
    "_isFastLaunch": false,
    "category": "Compute optimized",
    "gpuNum": 0,
    "hideHardwareSpecs": false,
    "memoryGiB": 144,
    "name": "ml.c5.18xlarge",
    "vcpuNum": 72
   },
   {
    "_defaultOrder": 28,
    "_isFastLaunch": false,
    "category": "Compute optimized",
    "gpuNum": 0,
    "hideHardwareSpecs": false,
    "memoryGiB": 192,
    "name": "ml.c5.24xlarge",
    "vcpuNum": 96
   },
   {
    "_defaultOrder": 29,
    "_isFastLaunch": true,
    "category": "Accelerated computing",
    "gpuNum": 1,
    "hideHardwareSpecs": false,
    "memoryGiB": 16,
    "name": "ml.g4dn.xlarge",
    "vcpuNum": 4
   },
   {
    "_defaultOrder": 30,
    "_isFastLaunch": false,
    "category": "Accelerated computing",
    "gpuNum": 1,
    "hideHardwareSpecs": false,
    "memoryGiB": 32,
    "name": "ml.g4dn.2xlarge",
    "vcpuNum": 8
   },
   {
    "_defaultOrder": 31,
    "_isFastLaunch": false,
    "category": "Accelerated computing",
    "gpuNum": 1,
    "hideHardwareSpecs": false,
    "memoryGiB": 64,
    "name": "ml.g4dn.4xlarge",
    "vcpuNum": 16
   },
   {
    "_defaultOrder": 32,
    "_isFastLaunch": false,
    "category": "Accelerated computing",
    "gpuNum": 1,
    "hideHardwareSpecs": false,
    "memoryGiB": 128,
    "name": "ml.g4dn.8xlarge",
    "vcpuNum": 32
   },
   {
    "_defaultOrder": 33,
    "_isFastLaunch": false,
    "category": "Accelerated computing",
    "gpuNum": 4,
    "hideHardwareSpecs": false,
    "memoryGiB": 192,
    "name": "ml.g4dn.12xlarge",
    "vcpuNum": 48
   },
   {
    "_defaultOrder": 34,
    "_isFastLaunch": false,
    "category": "Accelerated computing",
    "gpuNum": 1,
    "hideHardwareSpecs": false,
    "memoryGiB": 256,
    "name": "ml.g4dn.16xlarge",
    "vcpuNum": 64
   },
   {
    "_defaultOrder": 35,
    "_isFastLaunch": false,
    "category": "Accelerated computing",
    "gpuNum": 1,
    "hideHardwareSpecs": false,
    "memoryGiB": 61,
    "name": "ml.p3.2xlarge",
    "vcpuNum": 8
   },
   {
    "_defaultOrder": 36,
    "_isFastLaunch": false,
    "category": "Accelerated computing",
    "gpuNum": 4,
    "hideHardwareSpecs": false,
    "memoryGiB": 244,
    "name": "ml.p3.8xlarge",
    "vcpuNum": 32
   },
   {
    "_defaultOrder": 37,
    "_isFastLaunch": false,
    "category": "Accelerated computing",
    "gpuNum": 8,
    "hideHardwareSpecs": false,
    "memoryGiB": 488,
    "name": "ml.p3.16xlarge",
    "vcpuNum": 64
   },
   {
    "_defaultOrder": 38,
    "_isFastLaunch": false,
    "category": "Accelerated computing",
    "gpuNum": 8,
    "hideHardwareSpecs": false,
    "memoryGiB": 768,
    "name": "ml.p3dn.24xlarge",
    "vcpuNum": 96
   },
   {
    "_defaultOrder": 39,
    "_isFastLaunch": false,
    "category": "Memory Optimized",
    "gpuNum": 0,
    "hideHardwareSpecs": false,
    "memoryGiB": 16,
    "name": "ml.r5.large",
    "vcpuNum": 2
   },
   {
    "_defaultOrder": 40,
    "_isFastLaunch": false,
    "category": "Memory Optimized",
    "gpuNum": 0,
    "hideHardwareSpecs": false,
    "memoryGiB": 32,
    "name": "ml.r5.xlarge",
    "vcpuNum": 4
   },
   {
    "_defaultOrder": 41,
    "_isFastLaunch": false,
    "category": "Memory Optimized",
    "gpuNum": 0,
    "hideHardwareSpecs": false,
    "memoryGiB": 64,
    "name": "ml.r5.2xlarge",
    "vcpuNum": 8
   },
   {
    "_defaultOrder": 42,
    "_isFastLaunch": false,
    "category": "Memory Optimized",
    "gpuNum": 0,
    "hideHardwareSpecs": false,
    "memoryGiB": 128,
    "name": "ml.r5.4xlarge",
    "vcpuNum": 16
   },
   {
    "_defaultOrder": 43,
    "_isFastLaunch": false,
    "category": "Memory Optimized",
    "gpuNum": 0,
    "hideHardwareSpecs": false,
    "memoryGiB": 256,
    "name": "ml.r5.8xlarge",
    "vcpuNum": 32
   },
   {
    "_defaultOrder": 44,
    "_isFastLaunch": false,
    "category": "Memory Optimized",
    "gpuNum": 0,
    "hideHardwareSpecs": false,
    "memoryGiB": 384,
    "name": "ml.r5.12xlarge",
    "vcpuNum": 48
   },
   {
    "_defaultOrder": 45,
    "_isFastLaunch": false,
    "category": "Memory Optimized",
    "gpuNum": 0,
    "hideHardwareSpecs": false,
    "memoryGiB": 512,
    "name": "ml.r5.16xlarge",
    "vcpuNum": 64
   },
   {
    "_defaultOrder": 46,
    "_isFastLaunch": false,
    "category": "Memory Optimized",
    "gpuNum": 0,
    "hideHardwareSpecs": false,
    "memoryGiB": 768,
    "name": "ml.r5.24xlarge",
    "vcpuNum": 96
   },
   {
    "_defaultOrder": 47,
    "_isFastLaunch": false,
    "category": "Accelerated computing",
    "gpuNum": 1,
    "hideHardwareSpecs": false,
    "memoryGiB": 16,
    "name": "ml.g5.xlarge",
    "vcpuNum": 4
   },
   {
    "_defaultOrder": 48,
    "_isFastLaunch": false,
    "category": "Accelerated computing",
    "gpuNum": 1,
    "hideHardwareSpecs": false,
    "memoryGiB": 32,
    "name": "ml.g5.2xlarge",
    "vcpuNum": 8
   },
   {
    "_defaultOrder": 49,
    "_isFastLaunch": false,
    "category": "Accelerated computing",
    "gpuNum": 1,
    "hideHardwareSpecs": false,
    "memoryGiB": 64,
    "name": "ml.g5.4xlarge",
    "vcpuNum": 16
   },
   {
    "_defaultOrder": 50,
    "_isFastLaunch": false,
    "category": "Accelerated computing",
    "gpuNum": 1,
    "hideHardwareSpecs": false,
    "memoryGiB": 128,
    "name": "ml.g5.8xlarge",
    "vcpuNum": 32
   },
   {
    "_defaultOrder": 51,
    "_isFastLaunch": false,
    "category": "Accelerated computing",
    "gpuNum": 1,
    "hideHardwareSpecs": false,
    "memoryGiB": 256,
    "name": "ml.g5.16xlarge",
    "vcpuNum": 64
   },
   {
    "_defaultOrder": 52,
    "_isFastLaunch": false,
    "category": "Accelerated computing",
    "gpuNum": 4,
    "hideHardwareSpecs": false,
    "memoryGiB": 192,
    "name": "ml.g5.12xlarge",
    "vcpuNum": 48
   },
   {
    "_defaultOrder": 53,
    "_isFastLaunch": false,
    "category": "Accelerated computing",
    "gpuNum": 4,
    "hideHardwareSpecs": false,
    "memoryGiB": 384,
    "name": "ml.g5.24xlarge",
    "vcpuNum": 96
   },
   {
    "_defaultOrder": 54,
    "_isFastLaunch": false,
    "category": "Accelerated computing",
    "gpuNum": 8,
    "hideHardwareSpecs": false,
    "memoryGiB": 768,
    "name": "ml.g5.48xlarge",
    "vcpuNum": 192
   },
   {
    "_defaultOrder": 55,
    "_isFastLaunch": false,
    "category": "Accelerated computing",
    "gpuNum": 8,
    "hideHardwareSpecs": false,
    "memoryGiB": 1152,
    "name": "ml.p4d.24xlarge",
    "vcpuNum": 96
   },
   {
    "_defaultOrder": 56,
    "_isFastLaunch": false,
    "category": "Accelerated computing",
    "gpuNum": 8,
    "hideHardwareSpecs": false,
    "memoryGiB": 1152,
    "name": "ml.p4de.24xlarge",
    "vcpuNum": 96
   },
   {
    "_defaultOrder": 57,
    "_isFastLaunch": false,
    "category": "Accelerated computing",
    "gpuNum": 0,
    "hideHardwareSpecs": false,
    "memoryGiB": 32,
    "name": "ml.trn1.2xlarge",
    "vcpuNum": 8
   },
   {
    "_defaultOrder": 58,
    "_isFastLaunch": false,
    "category": "Accelerated computing",
    "gpuNum": 0,
    "hideHardwareSpecs": false,
    "memoryGiB": 512,
    "name": "ml.trn1.32xlarge",
    "vcpuNum": 128
   },
   {
    "_defaultOrder": 59,
    "_isFastLaunch": false,
    "category": "Accelerated computing",
    "gpuNum": 0,
    "hideHardwareSpecs": false,
    "memoryGiB": 512,
    "name": "ml.trn1n.32xlarge",
    "vcpuNum": 128
   }
  ],
  "instance_type": "ml.t3.medium",
  "kernelspec": {
   "display_name": "Python 3 (ipykernel)",
   "language": "python",
   "name": "python3"
  },
  "language_info": {
   "codemirror_mode": {
    "name": "ipython",
    "version": 3
   },
   "file_extension": ".py",
   "mimetype": "text/x-python",
   "name": "python",
   "nbconvert_exporter": "python",
   "pygments_lexer": "ipython3",
   "version": "3.12.9"
  }
 },
 "nbformat": 4,
 "nbformat_minor": 5
}
