{
 "cells": [
  {
   "cell_type": "markdown",
   "metadata": {},
   "source": [
    "## Amazon Bedrock Knowledge Bases가 제공하는 고급 청킹 전략"
   ]
  },
  {
   "cell_type": "markdown",
   "metadata": {},
   "source": [
    "이 노트북에서는 Amazon Bedrock Knowledge Bases가 지원하는 다음 청킹 옵션에 대한 샘플 코드를 제공하기 위해 3개의 지식 베이스를 생성할 것입니다:\n",
    "1. 고정 청킹(Fixed chunking)\n",
    "2. 의미론적 청킹(Semantic chunking)\n",
    "3. 계층적 청킹(Hierarchical chunking)\n",
    "4. Lambda 함수를 사용한 사용자 정의 청킹(Custom chunking)\n",
    "청킹은 임베딩하기 전에 텍스트를 더 작은 세그먼트로 분할합니다. 데이터 소스를 생성한 후에는 청킹 전략을 수정할 수 없습니다.\n",
    "현재 Amazon Bedrock Knowledge Bases는 청킹 없음, 고정 크기 청킹, 기본 청킹과 같은 몇 가지 내장 청킹 옵션만 지원합니다.\n",
    "\n",
    "의미론적 청킹과 계층적 청킹 기능(기존 옵션에 추가)을 통해 고객은 Lambda 함수를 사용하여 데이터 처리 및 청킹 방식을 더 잘 제어할 수 있습니다.\n",
    "솔루션을 시연하기 위해 가상의 회사인 `Octank Financial`의 합성 10K 보고서를 데이터로 사용할 것입니다.\n",
    "지식 베이스를 생성한 후 동일한 데이터셋에서 결과를 평가할 것입니다. 초점은 검색 결과의 품질을 개선하는 것이며, 이는 결과적으로 기초 모델이 생성하는 응답의 정확도를 향상시킬 것입니다."
   ]
  },
  {
   "cell_type": "markdown",
   "metadata": {},
   "source": [
    "## 1. 필요한 라이브러리 가져오기\n",
    "첫 번째 단계는 사전 요구사항 패키지를 설치하는 것입니다."
   ]
  },
  {
   "cell_type": "code",
   "execution_count": 1,
   "metadata": {
    "execution": {
     "iopub.execute_input": "2025-07-29T07:29:28.072438Z",
     "iopub.status.busy": "2025-07-29T07:29:28.072141Z",
     "iopub.status.idle": "2025-07-29T07:29:52.679258Z",
     "shell.execute_reply": "2025-07-29T07:29:52.678280Z",
     "shell.execute_reply.started": "2025-07-29T07:29:28.072417Z"
    }
   },
   "outputs": [
    {
     "name": "stdout",
     "output_type": "stream",
     "text": [
      "Note: you may need to restart the kernel to use updated packages.\n",
      "Note: you may need to restart the kernel to use updated packages.\n",
      "Note: you may need to restart the kernel to use updated packages.\n"
     ]
    }
   ],
   "source": [
    "%pip install --upgrade pip --quiet\n",
    "%pip install -r ../requirements.txt --no-deps --quiet\n",
    "%pip install -r ../requirements.txt --upgrade --quiet"
   ]
  },
  {
   "cell_type": "code",
   "execution_count": 2,
   "metadata": {
    "execution": {
     "iopub.execute_input": "2025-07-29T07:29:52.681014Z",
     "iopub.status.busy": "2025-07-29T07:29:52.680769Z",
     "iopub.status.idle": "2025-07-29T07:29:54.868687Z",
     "shell.execute_reply": "2025-07-29T07:29:54.867937Z",
     "shell.execute_reply.started": "2025-07-29T07:29:52.680989Z"
    }
   },
   "outputs": [
    {
     "name": "stdout",
     "output_type": "stream",
     "text": [
      "Note: you may need to restart the kernel to use updated packages.\n"
     ]
    }
   ],
   "source": [
    "%pip install ragas==0.1.9 --quiet"
   ]
  },
  {
   "cell_type": "code",
   "execution_count": 3,
   "metadata": {
    "execution": {
     "iopub.execute_input": "2025-07-29T07:29:54.870031Z",
     "iopub.status.busy": "2025-07-29T07:29:54.869718Z",
     "iopub.status.idle": "2025-07-29T07:29:54.878151Z",
     "shell.execute_reply": "2025-07-29T07:29:54.877206Z",
     "shell.execute_reply.started": "2025-07-29T07:29:54.870007Z"
    }
   },
   "outputs": [
    {
     "data": {
      "text/html": [
       "<script>Jupyter.notebook.kernel.restart()</script>"
      ],
      "text/plain": [
       "<IPython.core.display.HTML object>"
      ]
     },
     "execution_count": 3,
     "metadata": {},
     "output_type": "execute_result"
    }
   ],
   "source": [
    "# restart kernel\n",
    "from IPython.core.display import HTML\n",
    "HTML(\"<script>Jupyter.notebook.kernel.restart()</script>\")"
   ]
  },
  {
   "cell_type": "code",
   "execution_count": 4,
   "metadata": {
    "execution": {
     "iopub.execute_input": "2025-07-29T07:29:54.880878Z",
     "iopub.status.busy": "2025-07-29T07:29:54.880505Z",
     "iopub.status.idle": "2025-07-29T07:29:54.890628Z",
     "shell.execute_reply": "2025-07-29T07:29:54.889911Z",
     "shell.execute_reply.started": "2025-07-29T07:29:54.880855Z"
    }
   },
   "outputs": [
    {
     "data": {
      "text/plain": [
       "'1.39.15'"
      ]
     },
     "execution_count": 4,
     "metadata": {},
     "output_type": "execute_result"
    }
   ],
   "source": [
    "import botocore\n",
    "botocore.__version__"
   ]
  },
  {
   "cell_type": "code",
   "execution_count": 5,
   "metadata": {
    "execution": {
     "iopub.execute_input": "2025-07-29T07:29:54.892243Z",
     "iopub.status.busy": "2025-07-29T07:29:54.891876Z",
     "iopub.status.idle": "2025-07-29T07:29:55.275650Z",
     "shell.execute_reply": "2025-07-29T07:29:55.274995Z",
     "shell.execute_reply.started": "2025-07-29T07:29:54.892211Z"
    }
   },
   "outputs": [],
   "source": [
    "import os\n",
    "import sys\n",
    "import time\n",
    "import boto3\n",
    "import logging\n",
    "import pprint\n",
    "import json\n",
    "\n",
    "# Set the path to import module\n",
    "from pathlib import Path\n",
    "current_path = Path().resolve()\n",
    "current_path = current_path.parent\n",
    "if str(current_path) not in sys.path:\n",
    "    sys.path.append(str(current_path))\n",
    "# Print sys.path to verify\n",
    "# print(sys.path)\n",
    "\n",
    "from utils.knowledge_base import BedrockKnowledgeBase"
   ]
  },
  {
   "cell_type": "code",
   "execution_count": 6,
   "metadata": {
    "execution": {
     "iopub.execute_input": "2025-07-29T07:29:55.277171Z",
     "iopub.status.busy": "2025-07-29T07:29:55.276458Z",
     "iopub.status.idle": "2025-07-29T07:29:55.475286Z",
     "shell.execute_reply": "2025-07-29T07:29:55.474592Z",
     "shell.execute_reply.started": "2025-07-29T07:29:55.277135Z"
    }
   },
   "outputs": [
    {
     "data": {
      "text/plain": [
       "('us-west-2', '211125368524')"
      ]
     },
     "execution_count": 6,
     "metadata": {},
     "output_type": "execute_result"
    }
   ],
   "source": [
    "#Clients\n",
    "s3_client = boto3.client('s3')\n",
    "sts_client = boto3.client('sts')\n",
    "session = boto3.session.Session()\n",
    "region =  session.region_name\n",
    "account_id = sts_client.get_caller_identity()[\"Account\"]\n",
    "bedrock_agent_client = boto3.client('bedrock-agent')\n",
    "bedrock_agent_runtime_client = boto3.client('bedrock-agent-runtime') \n",
    "logging.basicConfig(format='[%(asctime)s] p%(process)s {%(filename)s:%(lineno)d} %(levelname)s - %(message)s', level=logging.INFO)\n",
    "logger = logging.getLogger(__name__)\n",
    "region, account_id"
   ]
  },
  {
   "cell_type": "code",
   "execution_count": 7,
   "metadata": {
    "execution": {
     "iopub.execute_input": "2025-07-29T07:29:55.476428Z",
     "iopub.status.busy": "2025-07-29T07:29:55.476108Z",
     "iopub.status.idle": "2025-07-29T07:29:55.480951Z",
     "shell.execute_reply": "2025-07-29T07:29:55.480199Z",
     "shell.execute_reply.started": "2025-07-29T07:29:55.476408Z"
    }
   },
   "outputs": [],
   "source": [
    "import time\n",
    "\n",
    "# Get the current timestamp\n",
    "current_time = time.time()\n",
    "\n",
    "# Format the timestamp as a string\n",
    "timestamp_str = time.strftime(\"%Y%m%d%H%M%S\", time.localtime(current_time))[-7:]\n",
    "# Create the suffix using the timestamp\n",
    "suffix = f\"{timestamp_str}\"\n",
    "knowledge_base_name_standard = 'standard-kb'\n",
    "knowledge_base_name_hierarchical = 'hierarchical-kb'\n",
    "knowledge_base_name_semantic = 'semantic-kb'\n",
    "knowledge_base_name_custom = 'custom-chunking-kb'\n",
    "knowledge_base_description = \"Knowledge Base containing complex PDF.\"\n",
    "bucket_name = f'{knowledge_base_name_standard}-{suffix}'\n",
    "intermediate_bucket_name = f'{knowledge_base_name_standard}-intermediate-{suffix}'\n",
    "lambda_function_name = f'{knowledge_base_name_custom}-lambda-{suffix}'\n",
    "foundation_model = \"anthropic.claude-3-sonnet-20240229-v1:0\"\n",
    "\n",
    "data_source=[{\"type\": \"S3\", \"bucket_name\": bucket_name}]"
   ]
  },
  {
   "cell_type": "markdown",
   "metadata": {},
   "source": [
    "## 2. 고정 청킹 전략으로 지식 베이스 생성\n",
    "[Amazon Bedrock Knowledge Bases](https://aws.amazon.com/bedrock/knowledge-bases/)를 생성하여 레스토랑 메뉴를 저장하는 것부터 시작하겠습니다. Knowledge Bases는 [Amazon OpenSearch Serverless](https://aws.amazon.com/opensearch-service/features/serverless/), [Amazon Aurora](https://aws.amazon.com/rds/aurora/), [Pinecone](http://app.pinecone.io/bedrock-integration), [Redis Enterprise](https://console.harmony.a2z.com/internal-ai-assistant?playground=), [MongoDB Atlas](https://console.harmony.a2z.com/internal-ai-assistant?playground=) 등 다양한 벡터 데이터베이스와 통합할 수 있습니다. 이 예제에서는 지식 베이스를 Amazon OpenSearch Serverless와 통합할 것입니다. 이를 위해 BedrockKnowledgeBase 헬퍼 클래스를 사용하여 지식 베이스와 모든 사전 요구사항을 생성할 것입니다:\n",
    "1. IAM 역할 및 정책\n",
    "2. S3 버킷\n",
    "3. Amazon OpenSearch Serverless 암호화, 네트워크 및 데이터 접근 정책\n",
    "4. Amazon OpenSearch Serverless 컬렉션\n",
    "5. Amazon OpenSearch Serverless 벡터 인덱스\n",
    "6. 지식 베이스\n",
    "7. 지식 베이스 데이터 소스"
   ]
  },
  {
   "cell_type": "markdown",
   "metadata": {},
   "source": [
    "먼저 고정 청킹 전략을 사용하여 지식 베이스를 생성한 후, 계층적 청킹 전략을 사용하여 생성할 것입니다.\n",
    "\n",
    "매개변수 값:\n",
    "\n",
    "```\n",
    "\"chunkingStrategy\": \"FIXED_SIZE | NONE | HIERARCHICAL | SEMANTIC\"\n",
    "```"
   ]
  },
  {
   "cell_type": "code",
   "execution_count": 8,
   "metadata": {
    "execution": {
     "iopub.execute_input": "2025-07-29T07:29:55.482127Z",
     "iopub.status.busy": "2025-07-29T07:29:55.481793Z",
     "iopub.status.idle": "2025-07-29T07:32:31.274031Z",
     "shell.execute_reply": "2025-07-29T07:32:31.272846Z",
     "shell.execute_reply.started": "2025-07-29T07:29:55.482106Z"
    }
   },
   "outputs": [
    {
     "name": "stdout",
     "output_type": "stream",
     "text": [
      "========================================================================================\n",
      "Step 1 - Creating or retrieving S3 bucket(s) for Knowledge Base documents\n",
      "['standard-kb-9072955']\n",
      "buckets_to_check:  ['standard-kb-9072955']\n",
      "Creating bucket standard-kb-9072955\n",
      "========================================================================================\n",
      "Step 2 - Creating Knowledge Base Execution Role (AmazonBedrockExecutionRoleForKnowledgeBase_9072955-f) and Policies\n",
      "========================================================================================\n",
      "Step 3a - Creating OSS encryption, network and data access policies\n",
      "========================================================================================\n",
      "Step 3b - Creating OSS Collection (this step takes a couple of minutes to complete)\n",
      "{ 'ResponseMetadata': { 'HTTPHeaders': { 'connection': 'keep-alive',\n",
      "                                         'content-length': '320',\n",
      "                                         'content-type': 'application/x-amz-json-1.0',\n",
      "                                         'date': 'Tue, 29 Jul 2025 07:29:57 '\n",
      "                                                 'GMT',\n",
      "                                         'x-amzn-requestid': '31fd2f2d-7eea-41cd-8e87-0b4029b546e8'},\n",
      "                        'HTTPStatusCode': 200,\n",
      "                        'RequestId': '31fd2f2d-7eea-41cd-8e87-0b4029b546e8',\n",
      "                        'RetryAttempts': 0},\n",
      "  'createCollectionDetail': { 'arn': 'arn:aws:aoss:us-west-2:211125368524:collection/scampr9irtoyvp6tzd89',\n",
      "                              'createdDate': 1753774197849,\n",
      "                              'id': 'scampr9irtoyvp6tzd89',\n",
      "                              'kmsKeyArn': 'auto',\n",
      "                              'lastModifiedDate': 1753774197849,\n",
      "                              'name': 'bedrock-sample-rag-9072955-f',\n",
      "                              'standbyReplicas': 'ENABLED',\n",
      "                              'status': 'CREATING',\n",
      "                              'type': 'VECTORSEARCH'}}\n",
      "scampr9irtoyvp6tzd89.us-west-2.aoss.amazonaws.com\n",
      "Creating collection...\n",
      "..............................\n",
      "Collection successfully created:\n",
      "[ { 'arn': 'arn:aws:aoss:us-west-2:211125368524:collection/scampr9irtoyvp6tzd89',\n",
      "    'collectionEndpoint': 'https://scampr9irtoyvp6tzd89.us-west-2.aoss.amazonaws.com',\n",
      "    'createdDate': 1753774197849,\n",
      "    'dashboardEndpoint': 'https://scampr9irtoyvp6tzd89.us-west-2.aoss.amazonaws.com/_dashboards',\n",
      "    'id': 'scampr9irtoyvp6tzd89',\n",
      "    'kmsKeyArn': 'auto',\n",
      "    'lastModifiedDate': 1753774221089,\n",
      "    'name': 'bedrock-sample-rag-9072955-f',\n",
      "    'standbyReplicas': 'ENABLED',\n",
      "    'status': 'ACTIVE',\n",
      "    'type': 'VECTORSEARCH'}]\n",
      "Opensearch serverless arn:  arn:aws:iam::211125368524:policy/AmazonBedrockOSSPolicyForKnowledgeBase_9072955-f\n",
      "Sleeping for a minute to ensure data access rules have been enforced\n",
      "========================================================================================\n",
      "Step 3c - Creating OSS Vector Index\n"
     ]
    },
    {
     "name": "stderr",
     "output_type": "stream",
     "text": [
      "[2025-07-29 07:31:28,671] p27540 {base.py:258} INFO - PUT https://scampr9irtoyvp6tzd89.us-west-2.aoss.amazonaws.com:443/bedrock-sample-rag-index-9072955-f [status:200 request:0.337s]\n"
     ]
    },
    {
     "name": "stdout",
     "output_type": "stream",
     "text": [
      "\n",
      "Creating index:\n",
      "{ 'acknowledged': True,\n",
      "  'index': 'bedrock-sample-rag-index-9072955-f',\n",
      "  'shards_acknowledged': True}\n",
      "========================================================================================\n",
      "Step 4 - Will create Lambda Function if chunking strategy selected as CUSTOM\n",
      "Not creating lambda function as chunking strategy is FIXED_SIZE\n",
      "========================================================================================\n",
      "Step 5 - Creating Knowledge Base\n",
      "{ 'createdAt': datetime.datetime(2025, 7, 29, 7, 32, 28, 799435, tzinfo=tzlocal()),\n",
      "  'description': 'Knowledge Base containing complex PDF.',\n",
      "  'knowledgeBaseArn': 'arn:aws:bedrock:us-west-2:211125368524:knowledge-base/C3DJFT63RJ',\n",
      "  'knowledgeBaseConfiguration': { 'type': 'VECTOR',\n",
      "                                  'vectorKnowledgeBaseConfiguration': { 'embeddingModelArn': 'arn:aws:bedrock:us-west-2::foundation-model/amazon.titan-embed-text-v2:0'}},\n",
      "  'knowledgeBaseId': 'C3DJFT63RJ',\n",
      "  'name': 'standard-kb-9072955',\n",
      "  'roleArn': 'arn:aws:iam::211125368524:role/AmazonBedrockExecutionRoleForKnowledgeBase_9072955-f',\n",
      "  'status': 'CREATING',\n",
      "  'storageConfiguration': { 'opensearchServerlessConfiguration': { 'collectionArn': 'arn:aws:aoss:us-west-2:211125368524:collection/scampr9irtoyvp6tzd89',\n",
      "                                                                   'fieldMapping': { 'metadataField': 'text-metadata',\n",
      "                                                                                     'textField': 'text',\n",
      "                                                                                     'vectorField': 'vector'},\n",
      "                                                                   'vectorIndexName': 'bedrock-sample-rag-index-9072955-f'},\n",
      "                            'type': 'OPENSEARCH_SERVERLESS'},\n",
      "  'updatedAt': datetime.datetime(2025, 7, 29, 7, 32, 28, 799435, tzinfo=tzlocal())}\n",
      "Creating Data Sources\n",
      "{ 'createdAt': datetime.datetime(2025, 7, 29, 7, 32, 28, 799435, tzinfo=tzlocal()),\n",
      "  'description': 'Knowledge Base containing complex PDF.',\n",
      "  'knowledgeBaseArn': 'arn:aws:bedrock:us-west-2:211125368524:knowledge-base/C3DJFT63RJ',\n",
      "  'knowledgeBaseConfiguration': { 'type': 'VECTOR',\n",
      "                                  'vectorKnowledgeBaseConfiguration': { 'embeddingModelArn': 'arn:aws:bedrock:us-west-2::foundation-model/amazon.titan-embed-text-v2:0'}},\n",
      "  'knowledgeBaseId': 'C3DJFT63RJ',\n",
      "  'name': 'standard-kb-9072955',\n",
      "  'roleArn': 'arn:aws:iam::211125368524:role/AmazonBedrockExecutionRoleForKnowledgeBase_9072955-f',\n",
      "  'status': 'ACTIVE',\n",
      "  'storageConfiguration': { 'opensearchServerlessConfiguration': { 'collectionArn': 'arn:aws:aoss:us-west-2:211125368524:collection/scampr9irtoyvp6tzd89',\n",
      "                                                                   'fieldMapping': { 'metadataField': 'text-metadata',\n",
      "                                                                                     'textField': 'text',\n",
      "                                                                                     'vectorField': 'vector'},\n",
      "                                                                   'vectorIndexName': 'bedrock-sample-rag-index-9072955-f'},\n",
      "                            'type': 'OPENSEARCH_SERVERLESS'},\n",
      "  'updatedAt': datetime.datetime(2025, 7, 29, 7, 32, 28, 799435, tzinfo=tzlocal())}\n",
      "Creating Data Sources\n",
      "1 data source: S3\n",
      "============Chunking config========\n",
      " {'chunkingConfiguration': {'chunkingStrategy': 'FIXED_SIZE', 'fixedSizeChunkingConfiguration': {'maxTokens': 300, 'overlapPercentage': 20}}}\n",
      "{ 'createdAt': datetime.datetime(2025, 7, 29, 7, 32, 31, 257404, tzinfo=tzlocal()),\n",
      "  'dataDeletionPolicy': 'DELETE',\n",
      "  'dataSourceConfiguration': { 's3Configuration': { 'bucketArn': 'arn:aws:s3:::standard-kb-9072955'},\n",
      "                               'type': 'S3'},\n",
      "  'dataSourceId': 'VDO2VETMRQ',\n",
      "  'description': 'Knowledge Base containing complex PDF.',\n",
      "  'knowledgeBaseId': 'C3DJFT63RJ',\n",
      "  'name': 'C3DJFT63RJ-s3',\n",
      "  'status': 'AVAILABLE',\n",
      "  'updatedAt': datetime.datetime(2025, 7, 29, 7, 32, 31, 257404, tzinfo=tzlocal()),\n",
      "  'vectorIngestionConfiguration': { 'chunkingConfiguration': { 'chunkingStrategy': 'FIXED_SIZE',\n",
      "                                                               'fixedSizeChunkingConfiguration': { 'maxTokens': 300,\n",
      "                                                                                                   'overlapPercentage': 20}}}}\n",
      "[ { 'createdAt': datetime.datetime(2025, 7, 29, 7, 32, 31, 257404, tzinfo=tzlocal()),\n",
      "    'dataDeletionPolicy': 'DELETE',\n",
      "    'dataSourceConfiguration': { 's3Configuration': { 'bucketArn': 'arn:aws:s3:::standard-kb-9072955'},\n",
      "                                 'type': 'S3'},\n",
      "    'dataSourceId': 'VDO2VETMRQ',\n",
      "    'description': 'Knowledge Base containing complex PDF.',\n",
      "    'knowledgeBaseId': 'C3DJFT63RJ',\n",
      "    'name': 'C3DJFT63RJ-s3',\n",
      "    'status': 'AVAILABLE',\n",
      "    'updatedAt': datetime.datetime(2025, 7, 29, 7, 32, 31, 257404, tzinfo=tzlocal()),\n",
      "    'vectorIngestionConfiguration': { 'chunkingConfiguration': { 'chunkingStrategy': 'FIXED_SIZE',\n",
      "                                                                 'fixedSizeChunkingConfiguration': { 'maxTokens': 300,\n",
      "                                                                                                     'overlapPercentage': 20}}}}]\n",
      "========================================================================================\n"
     ]
    }
   ],
   "source": [
    "knowledge_base_standard = BedrockKnowledgeBase(\n",
    "    kb_name=f'{knowledge_base_name_standard}-{suffix}',\n",
    "    kb_description=knowledge_base_description,\n",
    "    data_sources=data_source,\n",
    "    chunking_strategy = \"FIXED_SIZE\", \n",
    "    suffix = f'{suffix}-f'\n",
    ")"
   ]
  },
  {
   "cell_type": "markdown",
   "metadata": {},
   "source": [
    "## 2.1 데이터셋을 Amazon S3에 업로드\n",
    "이제 지식 베이스를 생성했으니, `Octank financial 10K` 보고서 데이터셋으로 채워보겠습니다. Knowledge Base 데이터 소스는 연결된 S3 버킷에서 데이터를 사용할 수 있어야 하며, `StartIngestionJob` 호출을 사용하여 데이터의 변경 사항을 지식 베이스와 동기화할 수 있습니다. 이 예제에서는 우리의 헬퍼 클래스를 통해 API의 [boto3 추상화](https://boto3.amazonaws.com/v1/documentation/api/latest/reference/services/bedrock-agent/client/start_ingestion_job.html)를 사용할 것입니다.\n",
    "\n",
    "먼저 dataset 폴더에 있는 메뉴 데이터를 s3에 업로드해보겠습니다."
   ]
  },
  {
   "cell_type": "code",
   "execution_count": 10,
   "metadata": {
    "execution": {
     "iopub.execute_input": "2025-07-29T07:32:31.806152Z",
     "iopub.status.busy": "2025-07-29T07:32:31.805895Z",
     "iopub.status.idle": "2025-07-29T07:32:32.293356Z",
     "shell.execute_reply": "2025-07-29T07:32:32.292565Z",
     "shell.execute_reply.started": "2025-07-29T07:32:31.806114Z"
    }
   },
   "outputs": [
    {
     "name": "stdout",
     "output_type": "stream",
     "text": [
      "uploading file ../synthetic_dataset/2024_population.pdf to standard-kb-9072955\n",
      "uploading file ../synthetic_dataset/.ipynb_checkpoints/2024_population-checkpoint.pdf to standard-kb-9072955\n"
     ]
    }
   ],
   "source": [
    "import os\n",
    "\n",
    "def upload_directory(path, bucket_name):\n",
    "    for root, dirs, files in os.walk(path):\n",
    "        for file in files:\n",
    "            file_to_upload = os.path.join(root, file)\n",
    "            if file not in [\"LICENSE\", \"NOTICE\", \"README.md\"]:\n",
    "                print(f\"uploading file {file_to_upload} to {bucket_name}\")\n",
    "                s3_client.upload_file(file_to_upload, bucket_name, file)\n",
    "            else:\n",
    "                print(f\"Skipping file {file_to_upload}\")\n",
    "\n",
    "upload_directory(\"../synthetic_dataset\", bucket_name)\n"
   ]
  },
  {
   "cell_type": "markdown",
   "metadata": {},
   "source": [
    "이제 수집 작업을 시작하겠습니다."
   ]
  },
  {
   "cell_type": "code",
   "execution_count": 11,
   "metadata": {
    "execution": {
     "iopub.execute_input": "2025-07-29T07:32:32.294517Z",
     "iopub.status.busy": "2025-07-29T07:32:32.294278Z",
     "iopub.status.idle": "2025-07-29T07:34:08.904880Z",
     "shell.execute_reply": "2025-07-29T07:34:08.904150Z",
     "shell.execute_reply.started": "2025-07-29T07:32:32.294497Z"
    }
   },
   "outputs": [
    {
     "name": "stdout",
     "output_type": "stream",
     "text": [
      "job 1 started successfully\n",
      "\n",
      "{ 'dataSourceId': 'VDO2VETMRQ',\n",
      "  'ingestionJobId': 'ZVAWDA3BRX',\n",
      "  'knowledgeBaseId': 'C3DJFT63RJ',\n",
      "  'startedAt': datetime.datetime(2025, 7, 29, 7, 33, 3, 251404, tzinfo=tzlocal()),\n",
      "  'statistics': { 'numberOfDocumentsDeleted': 0,\n",
      "                  'numberOfDocumentsFailed': 0,\n",
      "                  'numberOfDocumentsScanned': 2,\n",
      "                  'numberOfMetadataDocumentsModified': 0,\n",
      "                  'numberOfMetadataDocumentsScanned': 0,\n",
      "                  'numberOfModifiedDocumentsIndexed': 0,\n",
      "                  'numberOfNewDocumentsIndexed': 2},\n",
      "  'status': 'COMPLETE',\n",
      "  'updatedAt': datetime.datetime(2025, 7, 29, 7, 33, 28, 866035, tzinfo=tzlocal())}\n",
      "........................................"
     ]
    }
   ],
   "source": [
    "# ensure that the kb is available\n",
    "time.sleep(30)\n",
    "# sync knowledge base\n",
    "knowledge_base_standard.start_ingestion_job()"
   ]
  },
  {
   "cell_type": "markdown",
   "metadata": {},
   "source": [
    "마지막으로 나중에 솔루션을 테스트하기 위해 Knowledge Base Id를 저장합니다."
   ]
  },
  {
   "cell_type": "code",
   "execution_count": 12,
   "metadata": {
    "execution": {
     "iopub.execute_input": "2025-07-29T07:34:08.905831Z",
     "iopub.status.busy": "2025-07-29T07:34:08.905601Z",
     "iopub.status.idle": "2025-07-29T07:34:08.909645Z",
     "shell.execute_reply": "2025-07-29T07:34:08.908967Z",
     "shell.execute_reply.started": "2025-07-29T07:34:08.905811Z"
    }
   },
   "outputs": [
    {
     "name": "stdout",
     "output_type": "stream",
     "text": [
      "'C3DJFT63RJ'\n"
     ]
    }
   ],
   "source": [
    "kb_id_standard = knowledge_base_standard.get_knowledge_base_id()"
   ]
  },
  {
   "cell_type": "markdown",
   "metadata": {},
   "source": [
    "### 2.2 지식 베이스 테스트\n",
    "이제 지식 베이스를 사용할 수 있게 되었으므로 [retrieve](https://boto3.amazonaws.com/v1/documentation/api/latest/reference/services/bedrock-agent-runtime/client/retrieve.html)와 [retrieve_and_generate](https://boto3.amazonaws.com/v1/documentation/api/latest/reference/services/bedrock-agent-runtime/client/retrieve_and_generate.html) 함수를 사용하여 테스트해볼 수 있습니다.\n",
    "\n",
    "Retrieve and Generate API를 사용한 지식 베이스 테스트\n",
    "먼저 retrieve and generate API를 사용하여 지식 베이스를 테스트해보겠습니다. 이 API를 사용하면 Bedrock이 지식 베이스에서 필요한 참조를 검색하고 Bedrock의 기초 모델을 사용하여 최종 답변을 생성하는 작업을 처리합니다.\n",
    "\n",
    "query = \n",
    "\n",
    "`Provide a summary of consolidated statements of cash flows of Octank Financial for the fiscal years ended December 31, 2019.`\n",
    "\n",
    "`2019년 12월 31일로 종료된 회계연도의 Octank Financial의 연결 현금흐름표에 대한 요약을 제공하세요.`\n",
    "\n",
    "실제 QA 쌍에 따른 이 쿼리에 대한 올바른 응답은 다음과 같습니다:\n",
    "\n",
    "```\n",
    "The cash flow statement for Octank Financial in the year ended December 31, 2019 reveals the following:\n",
    "- Cash generated from operating activities amounted to $710 million, which can be attributed to a $700 million profit and non-cash charges such as depreciation and amortization.\n",
    "- Cash outflow from investing activities totaled $240 million, with major expenditures being the acquisition of property, plant, and equipment ($200 million) and marketable securities ($60 million), partially offset by the sale of property, plant, and equipment ($40 million) and maturing marketable securities ($20 million).\n",
    "- Financing activities resulted in a cash inflow of $350 million, stemming from the issuance of common stock ($200 million) and long-term debt ($300 million), while common stock repurchases ($50 million) and long-term debt payments ($100 million) reduced the cash inflow. \n",
    "Overall, Octank Financial experienced a net cash enhancement of $120 million in 2019, bringing their total cash and cash equivalents to $210 million.\n",
    "    \n",
    "2019년 12월 31일로 종료된 연도의 Octank Financial 현금흐름표는 다음과 같습니다:\n",
    "- 영업활동으로 인한 현금 창출액은 7억 1천만 달러로, 이는 7억 달러의 이익과 감가상각비 및 상각비와 같은 비현금성 지출에 기인합니다.\n",
    "- 투자활동으로 인한 현금 유출액은 2억 4천만 달러로, 주요 지출은 유형자산 취득(2억 달러)과 시장성 있는 유가증권 취득(6천만 달러)이며, 이는 유형자산 매각(4천만 달러)과 만기 도래한 시장성 있는 유가증권(2천만 달러)으로 일부 상쇄되었습니다.\n",
    "- 재무활동으로 인한 현금 유입액은 3억 5천만 달러로, 이는 보통주 발행(2억 달러)과 장기 부채 발행(3억 달러)에서 발생했으며, 보통주 자사주 매입(5천만 달러)과 장기 부채 상환(1억 달러)으로 현금 유입이 감소했습니다.\n",
    "전반적으로 Octank Financial은 2019년에 1억 2천만 달러의 순현금 증가를 경험했으며, 이로 인해 총 현금 및 현금성 자산이 2억 1천만 달러가 되었습니다.\n",
    "```"
   ]
  },
  {
   "cell_type": "code",
   "execution_count": 15,
   "metadata": {
    "execution": {
     "iopub.execute_input": "2025-07-29T07:35:07.776399Z",
     "iopub.status.busy": "2025-07-29T07:35:07.775731Z",
     "iopub.status.idle": "2025-07-29T07:35:07.780195Z",
     "shell.execute_reply": "2025-07-29T07:35:07.779367Z",
     "shell.execute_reply.started": "2025-07-29T07:35:07.776369Z"
    }
   },
   "outputs": [],
   "source": [
    "query = \"2024년 주택의 노후도와 거주형태를 지역별, 유형별로 분석하고, 이를 인구・가구 특성과 연계하여 설명하시오.\""
   ]
  },
  {
   "cell_type": "code",
   "execution_count": 16,
   "metadata": {
    "execution": {
     "iopub.execute_input": "2025-07-29T07:35:08.140788Z",
     "iopub.status.busy": "2025-07-29T07:35:08.140051Z",
     "iopub.status.idle": "2025-07-29T07:35:35.505938Z",
     "shell.execute_reply": "2025-07-29T07:35:35.505023Z",
     "shell.execute_reply.started": "2025-07-29T07:35:08.140755Z"
    }
   },
   "outputs": [
    {
     "name": "stdout",
     "output_type": "stream",
     "text": [
      "2024년에 노후기간이 20년 이상 된 주택은 전체 주택의 54.9%를 차지하며, 30년 이상 된 주택은 28.0%를 차지할 것으로 예상됩니다. 주택 유형별로 보면 단독주택의 57.9%가 30년 이상 된 노후 주택이며, 아파트는 19.4%, 연립/다세대 주택은 25.7%, 비주거용 건물 내 주택은 47.7%가 30년 이상 된 노후 주택입니다. 지역별로는 전남(42.8%)과 경북(37.7%)이 30년 이상 된 노후 주택 비율이 가장 높고, 세종(7.5%)이 가장 낮습니다. 노후 주택 비율이 높은 지역은 인구 고령화와 가구 소규모화 추세와 연관될 수 있습니다. 반면 신규 주택 비율이 높은 지역은 젊은 인구와 대가구 비율이 상대적으로 높을 것으로 예상됩니다.\n",
      "\n"
     ]
    }
   ],
   "source": [
    "time.sleep(20)\n",
    "response = bedrock_agent_runtime_client.retrieve_and_generate(\n",
    "    input={\n",
    "        \"text\": query\n",
    "    },\n",
    "    retrieveAndGenerateConfiguration={\n",
    "        \"type\": \"KNOWLEDGE_BASE\",\n",
    "        \"knowledgeBaseConfiguration\": {\n",
    "            'knowledgeBaseId': kb_id_standard,\n",
    "            \"modelArn\": \"arn:aws:bedrock:{}::foundation-model/{}\".format(region, foundation_model),\n",
    "            \"retrievalConfiguration\": {\n",
    "                \"vectorSearchConfiguration\": {\n",
    "                    \"numberOfResults\":5\n",
    "                } \n",
    "            }\n",
    "        }\n",
    "    }\n",
    ")\n",
    "\n",
    "print(response['output']['text'],end='\\n'*2)"
   ]
  },
  {
   "cell_type": "markdown",
   "metadata": {},
   "source": [
    "보시다시피, `RetreiveAndGenerate API`를 사용하면 최종 응답을 직접 얻을 수 있습니다. 이제 RetreiveAndGenerate API의 인용을 살펴보겠습니다. 이 노트북의 주요 초점은 모델이 응답을 생성하는 동안 검색된 청크들과 반환된 인용을 관찰하는 것입니다. 쿼리와 함께 관련 컨텍스트를 기초 모델에 제공하면, 높은 품질의 응답을 생성할 가능성이 높아집니다."
   ]
  },
  {
   "cell_type": "code",
   "execution_count": 17,
   "metadata": {
    "execution": {
     "iopub.execute_input": "2025-07-29T07:36:50.438715Z",
     "iopub.status.busy": "2025-07-29T07:36:50.438345Z",
     "iopub.status.idle": "2025-07-29T07:36:50.443825Z",
     "shell.execute_reply": "2025-07-29T07:36:50.442266Z",
     "shell.execute_reply.started": "2025-07-29T07:36:50.438693Z"
    }
   },
   "outputs": [],
   "source": [
    "def citations_rag_print(response_ret):\n",
    "#structure 'retrievalResults': list of contents. Each list has content, location, score, metadata\n",
    "    for num,chunk in enumerate(response_ret,1):\n",
    "        print(f'Chunk {num}: ',chunk['content']['text'],end='\\n'*2)\n",
    "        print(f'Chunk {num} Location: ',chunk['location'],end='\\n'*2)\n",
    "        print(f'Chunk {num} Metadata: ',chunk['metadata'],end='\\n'*2)"
   ]
  },
  {
   "cell_type": "code",
   "execution_count": 18,
   "metadata": {
    "execution": {
     "iopub.execute_input": "2025-07-29T07:36:51.836649Z",
     "iopub.status.busy": "2025-07-29T07:36:51.835888Z",
     "iopub.status.idle": "2025-07-29T07:36:51.840963Z",
     "shell.execute_reply": "2025-07-29T07:36:51.840167Z",
     "shell.execute_reply.started": "2025-07-29T07:36:51.836615Z"
    }
   },
   "outputs": [
    {
     "name": "stdout",
     "output_type": "stream",
     "text": [
      "# of citations or chunks used to generate the response:  3\n",
      "Chunk 1:  규모, 2024년      ❍ 노후기간이 20년 이상 된 주택은 10,908천호로 전체 주택의 54.9%를 차지하며,     30년 이상 된 주택은 5,574천호로 전체 주택의 28.0%임      - 노후기간이 30년 이상 된 주택의 비율은 전년 대비 2.2%p 증가, 5년 전     대비 9.9%p 증가     < 표 41 > 노후기간별 주택, 2019~2024년     (단위 : 천 호, %, %p)     주택종류 2019년 2020년 2021년 2022년 2023년 2024년 2019년 대비 2023년 대비     증감 증감률 증감 증감률     주     택      총주택 18,127 18,526 18,812 19,156\n",
      "\n",
      "Chunk 1 Location:  {'s3Location': {'uri': 's3://standard-kb-9072955/2024_population.pdf'}, 'type': 'S3'}\n",
      "\n",
      "Chunk 1 Metadata:  {'x-amz-bedrock-kb-source-uri': 's3://standard-kb-9072955/2024_population.pdf', 'x-amz-bedrock-kb-document-page-number': 73.0, 'x-amz-bedrock-kb-chunk-id': '1%3A0%3AkbMZVZgBBdp4KKBjr4yd', 'x-amz-bedrock-kb-data-source-id': 'VDO2VETMRQ'}\n",
      "\n",
      "Chunk 2:  57.9%(2,226천호),     아파트는 19.4%(2,517천호)를 차지함      - 연립ㆍ다세대 주택과 비주거용 건물 내 주택은 30년 이상 된 주택     비율이 각각 25.7%(731천 호), 47.7%(101천 호) 임     < 표 42 > 노후기간 및 주택종류별 주택, 2024년     (단위 : 천 호, %)     노후기간 총주택 단독주택 아파트 연립/다세대 비주거용     건물내주택     주     택      총주택 19,873 3,841 12,974 2,846 211      20년 이상 10,908 2,914 6,280 1,560 154     20~30년 미만 5,334 688 3,763 829 53     30년 이상 5,574 2,226 2,517 731\n",
      "\n",
      "Chunk 2 Location:  {'s3Location': {'uri': 's3://standard-kb-9072955/2024_population.pdf'}, 'type': 'S3'}\n",
      "\n",
      "Chunk 2 Metadata:  {'x-amz-bedrock-kb-source-uri': 's3://standard-kb-9072955/2024_population.pdf', 'x-amz-bedrock-kb-document-page-number': 74.0, 'x-amz-bedrock-kb-chunk-id': '1%3A0%3AlLMZVZgBBdp4KKBjr4yd', 'x-amz-bedrock-kb-data-source-id': 'VDO2VETMRQ'}\n",
      "\n",
      "Chunk 3:  57.9%(2,226천호),     아파트는 19.4%(2,517천호)를 차지함      - 연립ㆍ다세대 주택과 비주거용 건물 내 주택은 30년 이상 된 주택     비율이 각각 25.7%(731천 호), 47.7%(101천 호) 임     < 표 42 > 노후기간 및 주택종류별 주택, 2024년     (단위 : 천 호, %)     노후기간 총주택 단독주택 아파트 연립/다세대 비주거용     건물내주택     주     택      총주택 19,873 3,841 12,974 2,846 211      20년 이상 10,908 2,914 6,280 1,560 154     20~30년 미만 5,334 688 3,763 829 53     30년 이상 5,574 2,226 2,517 731\n",
      "\n",
      "Chunk 3 Location:  {'s3Location': {'uri': 's3://standard-kb-9072955/2024_population-checkpoint.pdf'}, 'type': 'S3'}\n",
      "\n",
      "Chunk 3 Metadata:  {'x-amz-bedrock-kb-source-uri': 's3://standard-kb-9072955/2024_population-checkpoint.pdf', 'x-amz-bedrock-kb-document-page-number': 74.0, 'x-amz-bedrock-kb-chunk-id': '1%3A0%3AwLMZVZgBBdp4KKBjuY3U', 'x-amz-bedrock-kb-data-source-id': 'VDO2VETMRQ'}\n",
      "\n"
     ]
    }
   ],
   "source": [
    "response_standard = response['citations'][0]['retrievedReferences']\n",
    "print(\"# of citations or chunks used to generate the response: \", len(response_standard))\n",
    "citations_rag_print(response_standard)"
   ]
  },
  {
   "cell_type": "markdown",
   "metadata": {},
   "source": [
    "이제 retrieve API를 사용하여 지식 베이스의 소스 정보를 검사해보겠습니다.\n",
    "\n",
    "#### Retrieve API를 사용한 지식 베이스 테스트\n",
    "추가적인 제어 계층이 필요한 경우, retrieve API를 사용하여 쿼리와 가장 잘 일치하는 청크들을 검색할 수 있습니다. 이 설정에서는 원하는 결과 수를 구성하고 자체 애플리케이션 로직으로 최종 답변을 제어할 수 있습니다. 그러면 API는 일치하는 콘텐츠, 해당 S3 위치, 유사도 점수 및 청크 메타데이터를 제공합니다."
   ]
  },
  {
   "cell_type": "code",
   "execution_count": 19,
   "metadata": {
    "execution": {
     "iopub.execute_input": "2025-07-29T07:36:58.511306Z",
     "iopub.status.busy": "2025-07-29T07:36:58.510667Z",
     "iopub.status.idle": "2025-07-29T07:36:58.516013Z",
     "shell.execute_reply": "2025-07-29T07:36:58.514964Z",
     "shell.execute_reply.started": "2025-07-29T07:36:58.511277Z"
    }
   },
   "outputs": [],
   "source": [
    "def response_print(response_ret):\n",
    "#structure 'retrievalResults': list of contents. Each list has content, location, score, metadata\n",
    "    for num,chunk in enumerate(response_ret['retrievalResults'],1):\n",
    "        print(f'Chunk {num}: ',chunk['content']['text'],end='\\n'*2)\n",
    "        print(f'Chunk {num} Location: ',chunk['location'],end='\\n'*2)\n",
    "        print(f'Chunk {num} Score: ',chunk['score'],end='\\n'*2)\n",
    "        print(f'Chunk {num} Metadata: ',chunk['metadata'],end='\\n'*2)\n"
   ]
  },
  {
   "cell_type": "code",
   "execution_count": 20,
   "metadata": {
    "execution": {
     "iopub.execute_input": "2025-07-29T07:36:59.054905Z",
     "iopub.status.busy": "2025-07-29T07:36:59.054133Z",
     "iopub.status.idle": "2025-07-29T07:36:59.379462Z",
     "shell.execute_reply": "2025-07-29T07:36:59.378776Z",
     "shell.execute_reply.started": "2025-07-29T07:36:59.054875Z"
    }
   },
   "outputs": [
    {
     "name": "stdout",
     "output_type": "stream",
     "text": [
      "# of retrieved results:  5\n",
      "Chunk 1:  주택 구성비, 2024년     54.9     75.9     48.4 54.8     72.8     28.0     57.9     19.4 25.7     47.7     0.0     20.0     40.0     60.0     0.0     20.0     40.0     60.0     80.0     총 주택 단독주택 아파트 연립/다세대 비주거용     건물내주택     (%) 20년 이상 30년 이상     - 65 -❍ 시도별 노후기간이 30년 이상 된 주택 비율은 전남 42.8%(362천호), 경북     37.7%(426천호) 순으로 높으며, 세종이 7.5%(12천 호)로 가장 낮음     < 표 43 > 시도 및 노후기간별 주택, 2024년 (단위 : 천 호, %)     시 도\n",
      "\n",
      "Chunk 1 Location:  {'s3Location': {'uri': 's3://standard-kb-9072955/2024_population-checkpoint.pdf'}, 'type': 'S3'}\n",
      "\n",
      "Chunk 1 Score:  0.6011895\n",
      "\n",
      "Chunk 1 Metadata:  {'x-amz-bedrock-kb-source-uri': 's3://standard-kb-9072955/2024_population-checkpoint.pdf', 'x-amz-bedrock-kb-document-page-number': 74.0, 'x-amz-bedrock-kb-chunk-id': '1%3A0%3AwrMZVZgBBdp4KKBjuY3U', 'x-amz-bedrock-kb-data-source-id': 'VDO2VETMRQ'}\n",
      "\n",
      "Chunk 2:  주택 구성비, 2024년     54.9     75.9     48.4 54.8     72.8     28.0     57.9     19.4 25.7     47.7     0.0     20.0     40.0     60.0     0.0     20.0     40.0     60.0     80.0     총 주택 단독주택 아파트 연립/다세대 비주거용     건물내주택     (%) 20년 이상 30년 이상     - 65 -❍ 시도별 노후기간이 30년 이상 된 주택 비율은 전남 42.8%(362천호), 경북     37.7%(426천호) 순으로 높으며, 세종이 7.5%(12천 호)로 가장 낮음     < 표 43 > 시도 및 노후기간별 주택, 2024년 (단위 : 천 호, %)     시 도\n",
      "\n",
      "Chunk 2 Location:  {'s3Location': {'uri': 's3://standard-kb-9072955/2024_population.pdf'}, 'type': 'S3'}\n",
      "\n",
      "Chunk 2 Score:  0.6011895\n",
      "\n",
      "Chunk 2 Metadata:  {'x-amz-bedrock-kb-source-uri': 's3://standard-kb-9072955/2024_population.pdf', 'x-amz-bedrock-kb-document-page-number': 74.0, 'x-amz-bedrock-kb-chunk-id': '1%3A0%3AlrMZVZgBBdp4KKBjr4yd', 'x-amz-bedrock-kb-data-source-id': 'VDO2VETMRQ'}\n",
      "\n",
      "Chunk 3:  57.9%(2,226천호),     아파트는 19.4%(2,517천호)를 차지함      - 연립ㆍ다세대 주택과 비주거용 건물 내 주택은 30년 이상 된 주택     비율이 각각 25.7%(731천 호), 47.7%(101천 호) 임     < 표 42 > 노후기간 및 주택종류별 주택, 2024년     (단위 : 천 호, %)     노후기간 총주택 단독주택 아파트 연립/다세대 비주거용     건물내주택     주     택      총주택 19,873 3,841 12,974 2,846 211      20년 이상 10,908 2,914 6,280 1,560 154     20~30년 미만 5,334 688 3,763 829 53     30년 이상 5,574 2,226 2,517 731\n",
      "\n",
      "Chunk 3 Location:  {'s3Location': {'uri': 's3://standard-kb-9072955/2024_population-checkpoint.pdf'}, 'type': 'S3'}\n",
      "\n",
      "Chunk 3 Score:  0.58055687\n",
      "\n",
      "Chunk 3 Metadata:  {'x-amz-bedrock-kb-source-uri': 's3://standard-kb-9072955/2024_population-checkpoint.pdf', 'x-amz-bedrock-kb-document-page-number': 74.0, 'x-amz-bedrock-kb-chunk-id': '1%3A0%3AwLMZVZgBBdp4KKBjuY3U', 'x-amz-bedrock-kb-data-source-id': 'VDO2VETMRQ'}\n",
      "\n",
      "Chunk 4:  57.9%(2,226천호),     아파트는 19.4%(2,517천호)를 차지함      - 연립ㆍ다세대 주택과 비주거용 건물 내 주택은 30년 이상 된 주택     비율이 각각 25.7%(731천 호), 47.7%(101천 호) 임     < 표 42 > 노후기간 및 주택종류별 주택, 2024년     (단위 : 천 호, %)     노후기간 총주택 단독주택 아파트 연립/다세대 비주거용     건물내주택     주     택      총주택 19,873 3,841 12,974 2,846 211      20년 이상 10,908 2,914 6,280 1,560 154     20~30년 미만 5,334 688 3,763 829 53     30년 이상 5,574 2,226 2,517 731\n",
      "\n",
      "Chunk 4 Location:  {'s3Location': {'uri': 's3://standard-kb-9072955/2024_population.pdf'}, 'type': 'S3'}\n",
      "\n",
      "Chunk 4 Score:  0.58055687\n",
      "\n",
      "Chunk 4 Metadata:  {'x-amz-bedrock-kb-source-uri': 's3://standard-kb-9072955/2024_population.pdf', 'x-amz-bedrock-kb-document-page-number': 74.0, 'x-amz-bedrock-kb-chunk-id': '1%3A0%3AlLMZVZgBBdp4KKBjr4yd', 'x-amz-bedrock-kb-data-source-id': 'VDO2VETMRQ'}\n",
      "\n",
      "Chunk 5:  규모, 2024년      ❍ 노후기간이 20년 이상 된 주택은 10,908천호로 전체 주택의 54.9%를 차지하며,     30년 이상 된 주택은 5,574천호로 전체 주택의 28.0%임      - 노후기간이 30년 이상 된 주택의 비율은 전년 대비 2.2%p 증가, 5년 전     대비 9.9%p 증가     < 표 41 > 노후기간별 주택, 2019~2024년     (단위 : 천 호, %, %p)     주택종류 2019년 2020년 2021년 2022년 2023년 2024년 2019년 대비 2023년 대비     증감 증감률 증감 증감률     주     택      총주택 18,127 18,526 18,812 19,156\n",
      "\n",
      "Chunk 5 Location:  {'s3Location': {'uri': 's3://standard-kb-9072955/2024_population.pdf'}, 'type': 'S3'}\n",
      "\n",
      "Chunk 5 Score:  0.56090313\n",
      "\n",
      "Chunk 5 Metadata:  {'x-amz-bedrock-kb-source-uri': 's3://standard-kb-9072955/2024_population.pdf', 'x-amz-bedrock-kb-document-page-number': 73.0, 'x-amz-bedrock-kb-chunk-id': '1%3A0%3AkbMZVZgBBdp4KKBjr4yd', 'x-amz-bedrock-kb-data-source-id': 'VDO2VETMRQ'}\n",
      "\n"
     ]
    }
   ],
   "source": [
    "response_standard_ret = bedrock_agent_runtime_client.retrieve(\n",
    "    knowledgeBaseId=kb_id_standard, \n",
    "    nextToken='string',\n",
    "    retrievalConfiguration={\n",
    "        \"vectorSearchConfiguration\": {\n",
    "            \"numberOfResults\":5,\n",
    "        } \n",
    "    },\n",
    "    retrievalQuery={\n",
    "        'text': query\n",
    "    }\n",
    ")\n",
    "\n",
    "print(\"# of retrieved results: \", len(response_standard_ret['retrievalResults']))\n",
    "response_print(response_standard_ret)"
   ]
  },
  {
   "cell_type": "markdown",
   "metadata": {},
   "source": [
    "보시다시피, `fixed chunking(고정 청킹)`을 사용하면 `Retrieve API`의 기본값인 `semantic similarity(의미적 유사도)`를 사용하여 API에서 요청한 대로 5개의 검색 결과를 얻습니다. 이제 `hierarchical chunking(계층적 청킹)` 전략을 사용하고 `RetrieveAndGenerate API`와 `Retrieve API`를 모두 사용하여 검색된 결과를 검사해보겠습니다."
   ]
  },
  {
   "cell_type": "markdown",
   "metadata": {},
   "source": [
    "## 3. Hierarchical chunking(계층적 청킹) 전략으로 지식 베이스 생성\n",
    "\n",
    "**개념**\n",
    "\n",
    "Hierarchical chunking(계층적 청킹): 데이터를 계층적 구조로 구성하여 데이터 내의 고유한 관계를 기반으로 더 세분화되고 효율적인 검색이 가능하게 합니다. 데이터를 계층적 구조로 구성하면 RAG 워크플로우가 복잡하고 중첩된 데이터셋에서 정보를 효율적으로 탐색하고 검색할 수 있습니다.\n",
    "문서가 파싱된 후, 첫 번째 단계는 상위 및 하위 청킹 크기를 기반으로 문서를 청크로 나누는 것입니다. 그런 다음 청크들은 계층적 구조로 구성되며, 상위 청크(높은 수준)는 더 큰 청크(예: 문서 또는 섹션)를 나타내고, 하위 청크(낮은 수준)는 더 작은 청크(예: 단락 또는 문장)를 나타냅니다. 상위와 하위 청크 간의 관계가 유지됩니다. 이러한 계층적 구조를 통해 코퍼스의 효율적인 검색과 탐색이 가능합니다.\n",
    "\n",
    "**이점:**\n",
    "\n",
    "효율적인 검색: 계층적 구조를 통해 관련 정보를 더 빠르고 더 타겟팅된 방식으로 검색할 수 있습니다. 먼저 하위 청크에서 의미론적 검색을 수행한 다음 검색 시 상위 청크를 반환합니다. 하위 청크를 상위 청크로 대체함으로써 FM에 더 크고 포괄적인 컨텍스트를 제공합니다.\n",
    "컨텍스트 보존: 코퍼스를 계층적으로 구성하면 청크 간의 맥락적 관계가 보존되어 일관성 있고 맥락적으로 관련된 텍스트를 생성하는 데 도움이 될 수 있습니다.\n",
    "><br>\n",
    ">참고:\n",
    ">계층적 청킹에서는 상위 청크가 반환되고 하위 청크에서 검색이 수행되므로, 하나의 상위가 여러 하위를 가질 수 있기 때문에 더 적은 수의 검색 결과가 반환될 수 있습니다.\n",
    "><br></br>\n",
    "\n",
    "계층적 청킹은 기술 매뉴얼, 법률 문서 또는 복잡한 형식과 중첩된 표가 있는 학술 논문과 같이 중첩되거나 계층적 구조를 가진 복잡한 문서에 가장 적합합니다.\n",
    "\n",
    "**매개변수 값:**\n",
    "```\n",
    "\"chunkingStrategy\": \"FIXED_SIZE | NONE | HIERARCHICAL | SEMANTIC\"\n",
    "```"
   ]
  },
  {
   "cell_type": "code",
   "execution_count": 21,
   "metadata": {
    "execution": {
     "iopub.execute_input": "2025-07-29T07:37:04.279553Z",
     "iopub.status.busy": "2025-07-29T07:37:04.279272Z",
     "iopub.status.idle": "2025-07-29T07:39:39.177149Z",
     "shell.execute_reply": "2025-07-29T07:39:39.176407Z",
     "shell.execute_reply.started": "2025-07-29T07:37:04.279530Z"
    }
   },
   "outputs": [
    {
     "name": "stdout",
     "output_type": "stream",
     "text": [
      "========================================================================================\n",
      "Step 1 - Creating or retrieving S3 bucket(s) for Knowledge Base documents\n",
      "['standard-kb-9072955']\n",
      "buckets_to_check:  ['standard-kb-9072955']\n",
      "Bucket standard-kb-9072955 already exists - retrieving it!\n",
      "========================================================================================\n",
      "Step 2 - Creating Knowledge Base Execution Role (AmazonBedrockExecutionRoleForKnowledgeBase_9072955-h) and Policies\n",
      "========================================================================================\n",
      "Step 3a - Creating OSS encryption, network and data access policies\n",
      "========================================================================================\n",
      "Step 3b - Creating OSS Collection (this step takes a couple of minutes to complete)\n",
      "{ 'ResponseMetadata': { 'HTTPHeaders': { 'connection': 'keep-alive',\n",
      "                                         'content-length': '320',\n",
      "                                         'content-type': 'application/x-amz-json-1.0',\n",
      "                                         'date': 'Tue, 29 Jul 2025 07:37:06 '\n",
      "                                                 'GMT',\n",
      "                                         'x-amzn-requestid': '03cd3a79-01ad-410f-8f75-2908289a5731'},\n",
      "                        'HTTPStatusCode': 200,\n",
      "                        'RequestId': '03cd3a79-01ad-410f-8f75-2908289a5731',\n",
      "                        'RetryAttempts': 0},\n",
      "  'createCollectionDetail': { 'arn': 'arn:aws:aoss:us-west-2:211125368524:collection/djpat26jzszfkzcdbuw8',\n",
      "                              'createdDate': 1753774626104,\n",
      "                              'id': 'djpat26jzszfkzcdbuw8',\n",
      "                              'kmsKeyArn': 'auto',\n",
      "                              'lastModifiedDate': 1753774626104,\n",
      "                              'name': 'bedrock-sample-rag-9072955-h',\n",
      "                              'standbyReplicas': 'ENABLED',\n",
      "                              'status': 'CREATING',\n",
      "                              'type': 'VECTORSEARCH'}}\n",
      "djpat26jzszfkzcdbuw8.us-west-2.aoss.amazonaws.com\n",
      "Creating collection...\n",
      "..............................\n",
      "Collection successfully created:\n",
      "[ { 'arn': 'arn:aws:aoss:us-west-2:211125368524:collection/djpat26jzszfkzcdbuw8',\n",
      "    'collectionEndpoint': 'https://djpat26jzszfkzcdbuw8.us-west-2.aoss.amazonaws.com',\n",
      "    'createdDate': 1753774626104,\n",
      "    'dashboardEndpoint': 'https://djpat26jzszfkzcdbuw8.us-west-2.aoss.amazonaws.com/_dashboards',\n",
      "    'id': 'djpat26jzszfkzcdbuw8',\n",
      "    'kmsKeyArn': 'auto',\n",
      "    'lastModifiedDate': 1753774649314,\n",
      "    'name': 'bedrock-sample-rag-9072955-h',\n",
      "    'standbyReplicas': 'ENABLED',\n",
      "    'status': 'ACTIVE',\n",
      "    'type': 'VECTORSEARCH'}]\n",
      "Opensearch serverless arn:  arn:aws:iam::211125368524:policy/AmazonBedrockOSSPolicyForKnowledgeBase_9072955-h\n",
      "Sleeping for a minute to ensure data access rules have been enforced\n",
      "========================================================================================\n",
      "Step 3c - Creating OSS Vector Index\n"
     ]
    },
    {
     "name": "stderr",
     "output_type": "stream",
     "text": [
      "[2025-07-29 07:38:36,968] p27540 {base.py:258} INFO - PUT https://djpat26jzszfkzcdbuw8.us-west-2.aoss.amazonaws.com:443/bedrock-sample-rag-index-9072955-h [status:200 request:0.383s]\n"
     ]
    },
    {
     "name": "stdout",
     "output_type": "stream",
     "text": [
      "\n",
      "Creating index:\n",
      "{ 'acknowledged': True,\n",
      "  'index': 'bedrock-sample-rag-index-9072955-h',\n",
      "  'shards_acknowledged': True}\n",
      "========================================================================================\n",
      "Step 4 - Will create Lambda Function if chunking strategy selected as CUSTOM\n",
      "Not creating lambda function as chunking strategy is HIERARCHICAL\n",
      "========================================================================================\n",
      "Step 5 - Creating Knowledge Base\n",
      "{ 'createdAt': datetime.datetime(2025, 7, 29, 7, 39, 37, 96381, tzinfo=tzlocal()),\n",
      "  'description': 'Knowledge Base containing complex PDF.',\n",
      "  'knowledgeBaseArn': 'arn:aws:bedrock:us-west-2:211125368524:knowledge-base/OOVXFHUKUA',\n",
      "  'knowledgeBaseConfiguration': { 'type': 'VECTOR',\n",
      "                                  'vectorKnowledgeBaseConfiguration': { 'embeddingModelArn': 'arn:aws:bedrock:us-west-2::foundation-model/amazon.titan-embed-text-v2:0'}},\n",
      "  'knowledgeBaseId': 'OOVXFHUKUA',\n",
      "  'name': 'hierarchical-kb-9072955',\n",
      "  'roleArn': 'arn:aws:iam::211125368524:role/AmazonBedrockExecutionRoleForKnowledgeBase_9072955-h',\n",
      "  'status': 'CREATING',\n",
      "  'storageConfiguration': { 'opensearchServerlessConfiguration': { 'collectionArn': 'arn:aws:aoss:us-west-2:211125368524:collection/djpat26jzszfkzcdbuw8',\n",
      "                                                                   'fieldMapping': { 'metadataField': 'text-metadata',\n",
      "                                                                                     'textField': 'text',\n",
      "                                                                                     'vectorField': 'vector'},\n",
      "                                                                   'vectorIndexName': 'bedrock-sample-rag-index-9072955-h'},\n",
      "                            'type': 'OPENSEARCH_SERVERLESS'},\n",
      "  'updatedAt': datetime.datetime(2025, 7, 29, 7, 39, 37, 96381, tzinfo=tzlocal())}\n",
      "Creating Data Sources\n",
      "{ 'createdAt': datetime.datetime(2025, 7, 29, 7, 39, 37, 96381, tzinfo=tzlocal()),\n",
      "  'description': 'Knowledge Base containing complex PDF.',\n",
      "  'knowledgeBaseArn': 'arn:aws:bedrock:us-west-2:211125368524:knowledge-base/OOVXFHUKUA',\n",
      "  'knowledgeBaseConfiguration': { 'type': 'VECTOR',\n",
      "                                  'vectorKnowledgeBaseConfiguration': { 'embeddingModelArn': 'arn:aws:bedrock:us-west-2::foundation-model/amazon.titan-embed-text-v2:0'}},\n",
      "  'knowledgeBaseId': 'OOVXFHUKUA',\n",
      "  'name': 'hierarchical-kb-9072955',\n",
      "  'roleArn': 'arn:aws:iam::211125368524:role/AmazonBedrockExecutionRoleForKnowledgeBase_9072955-h',\n",
      "  'status': 'ACTIVE',\n",
      "  'storageConfiguration': { 'opensearchServerlessConfiguration': { 'collectionArn': 'arn:aws:aoss:us-west-2:211125368524:collection/djpat26jzszfkzcdbuw8',\n",
      "                                                                   'fieldMapping': { 'metadataField': 'text-metadata',\n",
      "                                                                                     'textField': 'text',\n",
      "                                                                                     'vectorField': 'vector'},\n",
      "                                                                   'vectorIndexName': 'bedrock-sample-rag-index-9072955-h'},\n",
      "                            'type': 'OPENSEARCH_SERVERLESS'},\n",
      "  'updatedAt': datetime.datetime(2025, 7, 29, 7, 39, 37, 96381, tzinfo=tzlocal())}\n",
      "Creating Data Sources\n",
      "1 data source: S3\n",
      "============Chunking config========\n",
      " {'chunkingConfiguration': {'chunkingStrategy': 'HIERARCHICAL', 'hierarchicalChunkingConfiguration': {'levelConfigurations': [{'maxTokens': 1500}, {'maxTokens': 300}], 'overlapTokens': 60}}}\n",
      "{ 'createdAt': datetime.datetime(2025, 7, 29, 7, 39, 39, 162698, tzinfo=tzlocal()),\n",
      "  'dataDeletionPolicy': 'DELETE',\n",
      "  'dataSourceConfiguration': { 's3Configuration': { 'bucketArn': 'arn:aws:s3:::standard-kb-9072955'},\n",
      "                               'type': 'S3'},\n",
      "  'dataSourceId': 'NFTSTADCMW',\n",
      "  'description': 'Knowledge Base containing complex PDF.',\n",
      "  'knowledgeBaseId': 'OOVXFHUKUA',\n",
      "  'name': 'OOVXFHUKUA-s3',\n",
      "  'status': 'AVAILABLE',\n",
      "  'updatedAt': datetime.datetime(2025, 7, 29, 7, 39, 39, 162698, tzinfo=tzlocal()),\n",
      "  'vectorIngestionConfiguration': { 'chunkingConfiguration': { 'chunkingStrategy': 'HIERARCHICAL',\n",
      "                                                               'hierarchicalChunkingConfiguration': { 'levelConfigurations': [ { 'maxTokens': 1500},\n",
      "                                                                                                                               { 'maxTokens': 300}],\n",
      "                                                                                                      'overlapTokens': 60}}}}\n",
      "[ { 'createdAt': datetime.datetime(2025, 7, 29, 7, 39, 39, 162698, tzinfo=tzlocal()),\n",
      "    'dataDeletionPolicy': 'DELETE',\n",
      "    'dataSourceConfiguration': { 's3Configuration': { 'bucketArn': 'arn:aws:s3:::standard-kb-9072955'},\n",
      "                                 'type': 'S3'},\n",
      "    'dataSourceId': 'NFTSTADCMW',\n",
      "    'description': 'Knowledge Base containing complex PDF.',\n",
      "    'knowledgeBaseId': 'OOVXFHUKUA',\n",
      "    'name': 'OOVXFHUKUA-s3',\n",
      "    'status': 'AVAILABLE',\n",
      "    'updatedAt': datetime.datetime(2025, 7, 29, 7, 39, 39, 162698, tzinfo=tzlocal()),\n",
      "    'vectorIngestionConfiguration': { 'chunkingConfiguration': { 'chunkingStrategy': 'HIERARCHICAL',\n",
      "                                                                 'hierarchicalChunkingConfiguration': { 'levelConfigurations': [ { 'maxTokens': 1500},\n",
      "                                                                                                                                 { 'maxTokens': 300}],\n",
      "                                                                                                        'overlapTokens': 60}}}}]\n",
      "========================================================================================\n"
     ]
    }
   ],
   "source": [
    "knowledge_base_hierarchical = BedrockKnowledgeBase(\n",
    "    kb_name=f'{knowledge_base_name_hierarchical}-{suffix}',\n",
    "    kb_description=knowledge_base_description,\n",
    "    data_sources=data_source,\n",
    "    chunking_strategy = \"HIERARCHICAL\", \n",
    "    suffix = f'{suffix}-h'\n",
    ")"
   ]
  },
  {
   "cell_type": "markdown",
   "metadata": {},
   "source": [
    "이제 수집 작업을 시작하겠습니다. 고정 청킹에서 사용한 것과 동일한 문서를 사용하고 있으므로, s3 버킷에 문서를 업로드하는 단계는 건너뛰겠습니다."
   ]
  },
  {
   "cell_type": "code",
   "execution_count": 22,
   "metadata": {
    "execution": {
     "iopub.execute_input": "2025-07-29T07:39:39.178629Z",
     "iopub.status.busy": "2025-07-29T07:39:39.178316Z",
     "iopub.status.idle": "2025-07-29T07:41:19.383869Z",
     "shell.execute_reply": "2025-07-29T07:41:19.383184Z",
     "shell.execute_reply.started": "2025-07-29T07:39:39.178607Z"
    }
   },
   "outputs": [
    {
     "name": "stdout",
     "output_type": "stream",
     "text": [
      "job 1 started successfully\n",
      "\n",
      "{ 'dataSourceId': 'NFTSTADCMW',\n",
      "  'ingestionJobId': 'SZHQQXKASB',\n",
      "  'knowledgeBaseId': 'OOVXFHUKUA',\n",
      "  'startedAt': datetime.datetime(2025, 7, 29, 7, 40, 10, 220855, tzinfo=tzlocal()),\n",
      "  'statistics': { 'numberOfDocumentsDeleted': 0,\n",
      "                  'numberOfDocumentsFailed': 0,\n",
      "                  'numberOfDocumentsScanned': 2,\n",
      "                  'numberOfMetadataDocumentsModified': 0,\n",
      "                  'numberOfMetadataDocumentsScanned': 0,\n",
      "                  'numberOfModifiedDocumentsIndexed': 0,\n",
      "                  'numberOfNewDocumentsIndexed': 2},\n",
      "  'status': 'COMPLETE',\n",
      "  'updatedAt': datetime.datetime(2025, 7, 29, 7, 40, 39, 176090, tzinfo=tzlocal())}\n",
      "........................................"
     ]
    }
   ],
   "source": [
    "# ensure that the kb is available\n",
    "time.sleep(30)\n",
    "# sync knowledge base\n",
    "knowledge_base_hierarchical.start_ingestion_job()"
   ]
  },
  {
   "cell_type": "markdown",
   "metadata": {},
   "source": [
    "추후 테스트를 위해 지식 베이스 ID를 저장합니다."
   ]
  },
  {
   "cell_type": "code",
   "execution_count": 23,
   "metadata": {
    "execution": {
     "iopub.execute_input": "2025-07-29T07:41:19.385035Z",
     "iopub.status.busy": "2025-07-29T07:41:19.384615Z",
     "iopub.status.idle": "2025-07-29T07:41:19.388763Z",
     "shell.execute_reply": "2025-07-29T07:41:19.388079Z",
     "shell.execute_reply.started": "2025-07-29T07:41:19.385008Z"
    }
   },
   "outputs": [
    {
     "name": "stdout",
     "output_type": "stream",
     "text": [
      "'OOVXFHUKUA'\n"
     ]
    }
   ],
   "source": [
    "kb_id_hierarchical = knowledge_base_hierarchical.get_knowledge_base_id()"
   ]
  },
  {
   "cell_type": "markdown",
   "metadata": {},
   "source": [
    "### 3.1 지식 베이스 테스트\n",
    "이제 지식 베이스를 사용할 수 있게 되었으므로 [retrieve](https://boto3.amazonaws.com/v1/documentation/api/latest/reference/services/bedrock-agent-runtime/client/retrieve.html)와 [retrieve_and_generate](https://boto3.amazonaws.com/v1/documentation/api/latest/reference/services/bedrock-agent-runtime/client/retrieve_and_generate.html) 함수를 사용하여 테스트해볼 수 있습니다.\n",
    "\n",
    "Retrieve and Generate API를 사용한 지식 베이스 테스트\n",
    "먼저 retrieve and generate API를 사용하여 지식 베이스를 테스트해보겠습니다. 이 API를 사용하면 Bedrock이 지식 베이스에서 필요한 참조를 검색하고 Bedrock의 기초 모델을 사용하여 최종 답변을 생성하는 작업을 처리합니다."
   ]
  },
  {
   "cell_type": "code",
   "execution_count": 24,
   "metadata": {
    "execution": {
     "iopub.execute_input": "2025-07-29T07:42:35.902093Z",
     "iopub.status.busy": "2025-07-29T07:42:35.901100Z",
     "iopub.status.idle": "2025-07-29T07:43:04.845860Z",
     "shell.execute_reply": "2025-07-29T07:43:04.844968Z",
     "shell.execute_reply.started": "2025-07-29T07:42:35.902065Z"
    }
   },
   "outputs": [
    {
     "name": "stdout",
     "output_type": "stream",
     "text": [
      "2024년 기준 전국 주택의 54.9%가 20년 이상 노후주택이며, 28.0%는 30년 이상 노후주택입니다. 단독주택의 경우 57.9%가 30년 이상 노후주택인 반면, 아파트는 19.4%만이 30년 이상 노후주택입니다. 지역별로는 전남(42.8%), 경북(37.7%), 대전(36.5%) 순으로 30년 이상 노후주택 비율이 높습니다. 1인 가구는 804만 가구로 전체 가구의 36.1%를 차지하며, 서울(39.9%)이 가장 높고 울산(31.6%)이 가장 낮습니다. 1인 가구의 연령대별 비중은 20대 이하(17.8%), 60대(17.6%), 30대(17.4%) 순입니다. 다문화 가구는 43.9만 가구로 지속 증가 추세이며, 경기(31.1%), 서울(17.8%) 순으로 비중이 높습니다. 장애인 인구는 261만 명으로 내국인의 5.2%이며, 장애인 가구는 229만 가구입니다.\n",
      "\n"
     ]
    }
   ],
   "source": [
    "time.sleep(20)\n",
    "response = bedrock_agent_runtime_client.retrieve_and_generate(\n",
    "    input={\n",
    "        \"text\": query\n",
    "    },\n",
    "    retrieveAndGenerateConfiguration={\n",
    "        \"type\": \"KNOWLEDGE_BASE\",\n",
    "        \"knowledgeBaseConfiguration\": {\n",
    "            'knowledgeBaseId': kb_id_hierarchical,\n",
    "            \"modelArn\": \"arn:aws:bedrock:{}::foundation-model/{}\".format(region, foundation_model),\n",
    "            \"retrievalConfiguration\": {\n",
    "                \"vectorSearchConfiguration\": {\n",
    "                    \"numberOfResults\":5\n",
    "                } \n",
    "            }\n",
    "        }\n",
    "    }\n",
    ")\n",
    "\n",
    "print(response['output']['text'],end='\\n'*2)"
   ]
  },
  {
   "cell_type": "markdown",
   "metadata": {},
   "source": [
    "As you can see, with the `RetreiveAndGenerate API` we get the final response directly, now let's observe the citations for `RetreiveAndGenerate API`. Since, our primary focus on this notebook is to observe the retrieved chunks and citations returned by the model while generating the response. When we provide the relevant context to the foundation model alongwith the query, it will most likely generate the high quality response."
   ]
  },
  {
   "cell_type": "code",
   "execution_count": 25,
   "metadata": {
    "execution": {
     "iopub.execute_input": "2025-07-29T07:44:12.884136Z",
     "iopub.status.busy": "2025-07-29T07:44:12.883414Z",
     "iopub.status.idle": "2025-07-29T07:44:12.887894Z",
     "shell.execute_reply": "2025-07-29T07:44:12.887117Z",
     "shell.execute_reply.started": "2025-07-29T07:44:12.884110Z"
    }
   },
   "outputs": [
    {
     "name": "stdout",
     "output_type": "stream",
     "text": [
      "# of citations or chunks used to generate the response:  2\n",
      "Chunk 1:  호), 47.7%(101천 호) 임     < 표 42 > 노후기간 및 주택종류별 주택, 2024년     (단위 : 천 호, %)     노후기간 총주택 단독주택 아파트 연립/다세대 비주거용     건물내주택     주     택      총주택 19,873 3,841 12,974 2,846 211      20년 이상 10,908 2,914 6,280 1,560 154     20~30년 미만 5,334 688 3,763 829 53     30년 이상 5,574 2,226 2,517 731 101     구     성     비      총주택 100.0 100.0 100.0 100.0 100.0      20년 이상 54.9 75.9 48.4 54.8 72.8     20~30년 미만 26.8 17.9 29.0 29.1 25.1     30년 이상 28.0 57.9 19.4 25.7 47.7     * 노후기간은 11월 1일 기준으로 산정한 기간임     < 그림 48 > 노후기간 및 주택종류별 주택 구성비, 2024년     54.9     75.9     48.4 54.8     72.8     28.0     57.9     19.4 25.7     47.7     0.0     20.0     40.0     60.0     0.0     20.0     40.0     60.0     80.0     총 주택 단독주택 아파트 연립/다세대 비주거용     건물내주택     (%) 20년 이상 30년 이상     - 65 -❍ 시도별 노후기간이 30년 이상 된 주택 비율은 전남 42.8%(362천호), 경북     37.7%(426천호) 순으로 높으며, 세종이 7.5%(12천 호)로 가장 낮음     < 표 43 > 시도 및 노후기간별 주택, 2024년 (단위 : 천 호, %)     시 도 총주택 20년 이상 된 주택 30년 이상 된 주택     비율* 비율*     전 국 19,873 10,908 54.9 5,574 28.0 서 울 3,170 1,867 58.9 897 28.3 부 산 1,350 799 59.2 433 32.1 대 구 904 518 57.3 266 29.4 인 천 1,153 614 53.2 346 30.1 광 주 568 324 57.1 164 28.9 대 전 524 324 61.9 191 36.5 울 산 412 238 57.9 122 29.5 세 종 158 23 14.4 12 7.5 경 기 4,962 2,267 45.7 887 17.9 강 원 684 405 59.1 222 32.4 충 북 686 376 54.9 212 30.9 충 남 948 488 51.5 243 25.7 전 북 774 499 64.6 281 36.3 전 남 847 546 64.5 362 42.8 경 북 1,129 714 63.2 426 37.7 경 남 1,342 774 57.7 434 32.3 제 주 263 131 50.0 76 29.0      * 총주택 대비 해당 노후기간 주택 비율임     < 그림 49 > 시도 및 노후기간별 주택 비율, 2024년     [ 노후기간 20년 이상 및 30년 이상 주택 비율 ] [ 노후기간 30년 이상 주택 비율 ]     14.4 45.7     50.0 51.5     53.2 54.9     57.1 57.3 57.7 57.9 58.9 59.1 59.2     61.9 63.2 64.5 64.6     54.9     7.5 17.9     29.0 25.7     30.1 30.9     28.9 29.4     32.3 29.5     28.3 32.4 32.1     36.5 37.7     42.8 36.3     28.0     0.0 20.0 40.0 60.0 80.0     0.0 20.0 40.0 60.0 80.0     세종     경기     제주     충남     인천     충북     광주     대구     경남     울산     서울     강원     부산     대전     경북     전남     전북     전국     (%)     20년 이상 30년 이상          (%) 20.0 25.0 27.0 30.0     - 66 -나. 주거용 연면적     평균 주거용 연면적은 일반단독주택\n",
      "\n",
      "Chunk 1 Location:  {'s3Location': {'uri': 's3://standard-kb-9072955/2024_population.pdf'}, 'type': 'S3'}\n",
      "\n",
      "Chunk 1 Metadata:  {'x-amz-bedrock-kb-source-uri': 's3://standard-kb-9072955/2024_population.pdf', 'x-amz-bedrock-kb-document-page-number': 74.0, 'x-amz-bedrock-kb-data-source-id': 'NFTSTADCMW'}\n",
      "\n",
      "Chunk 2:  호), 47.7%(101천 호) 임     < 표 42 > 노후기간 및 주택종류별 주택, 2024년     (단위 : 천 호, %)     노후기간 총주택 단독주택 아파트 연립/다세대 비주거용     건물내주택     주     택      총주택 19,873 3,841 12,974 2,846 211      20년 이상 10,908 2,914 6,280 1,560 154     20~30년 미만 5,334 688 3,763 829 53     30년 이상 5,574 2,226 2,517 731 101     구     성     비      총주택 100.0 100.0 100.0 100.0 100.0      20년 이상 54.9 75.9 48.4 54.8 72.8     20~30년 미만 26.8 17.9 29.0 29.1 25.1     30년 이상 28.0 57.9 19.4 25.7 47.7     * 노후기간은 11월 1일 기준으로 산정한 기간임     < 그림 48 > 노후기간 및 주택종류별 주택 구성비, 2024년     54.9     75.9     48.4 54.8     72.8     28.0     57.9     19.4 25.7     47.7     0.0     20.0     40.0     60.0     0.0     20.0     40.0     60.0     80.0     총 주택 단독주택 아파트 연립/다세대 비주거용     건물내주택     (%) 20년 이상 30년 이상     - 65 -❍ 시도별 노후기간이 30년 이상 된 주택 비율은 전남 42.8%(362천호), 경북     37.7%(426천호) 순으로 높으며, 세종이 7.5%(12천 호)로 가장 낮음     < 표 43 > 시도 및 노후기간별 주택, 2024년 (단위 : 천 호, %)     시 도 총주택 20년 이상 된 주택 30년 이상 된 주택     비율* 비율*     전 국 19,873 10,908 54.9 5,574 28.0 서 울 3,170 1,867 58.9 897 28.3 부 산 1,350 799 59.2 433 32.1 대 구 904 518 57.3 266 29.4 인 천 1,153 614 53.2 346 30.1 광 주 568 324 57.1 164 28.9 대 전 524 324 61.9 191 36.5 울 산 412 238 57.9 122 29.5 세 종 158 23 14.4 12 7.5 경 기 4,962 2,267 45.7 887 17.9 강 원 684 405 59.1 222 32.4 충 북 686 376 54.9 212 30.9 충 남 948 488 51.5 243 25.7 전 북 774 499 64.6 281 36.3 전 남 847 546 64.5 362 42.8 경 북 1,129 714 63.2 426 37.7 경 남 1,342 774 57.7 434 32.3 제 주 263 131 50.0 76 29.0      * 총주택 대비 해당 노후기간 주택 비율임     < 그림 49 > 시도 및 노후기간별 주택 비율, 2024년     [ 노후기간 20년 이상 및 30년 이상 주택 비율 ] [ 노후기간 30년 이상 주택 비율 ]     14.4 45.7     50.0 51.5     53.2 54.9     57.1 57.3 57.7 57.9 58.9 59.1 59.2     61.9 63.2 64.5 64.6     54.9     7.5 17.9     29.0 25.7     30.1 30.9     28.9 29.4     32.3 29.5     28.3 32.4 32.1     36.5 37.7     42.8 36.3     28.0     0.0 20.0 40.0 60.0 80.0     0.0 20.0 40.0 60.0 80.0     세종     경기     제주     충남     인천     충북     광주     대구     경남     울산     서울     강원     부산     대전     경북     전남     전북     전국     (%)     20년 이상 30년 이상          (%) 20.0 25.0 27.0 30.0     - 66 -나. 주거용 연면적     평균 주거용 연면적은 일반단독주택\n",
      "\n",
      "Chunk 2 Location:  {'s3Location': {'uri': 's3://standard-kb-9072955/2024_population-checkpoint.pdf'}, 'type': 'S3'}\n",
      "\n",
      "Chunk 2 Metadata:  {'x-amz-bedrock-kb-source-uri': 's3://standard-kb-9072955/2024_population-checkpoint.pdf', 'x-amz-bedrock-kb-document-page-number': 74.0, 'x-amz-bedrock-kb-data-source-id': 'NFTSTADCMW'}\n",
      "\n"
     ]
    }
   ],
   "source": [
    "response_hierarchical = response['citations'][0]['retrievedReferences']\n",
    "print(\"# of citations or chunks used to generate the response: \", len(response_hierarchical))\n",
    "citations_rag_print(response_hierarchical)"
   ]
  },
  {
   "cell_type": "markdown",
   "metadata": {},
   "source": [
    "이제 retrieve API를 사용하여 지식 베이스에서 소스 정보를 검색해보겠습니다.\n",
    "\n",
    "#### Retrieve API를 사용한 지식 베이스 테스트\n",
    "만약 추가적인 제어 계층이 필요한 경우, retrieve API를 사용하여 쿼리와 가장 잘 일치하는 청크들을 검색할 수 있습니다. 이 설정에서는 원하는 결과 수를 구성하고 자체 애플리케이션 로직으로 최종 답변을 제어할 수 있습니다. 그러면 API는 일치하는 콘텐츠, 해당 S3 위치, 유사도 점수 및 청크 메타데이터를 제공합니다."
   ]
  },
  {
   "cell_type": "code",
   "execution_count": 26,
   "metadata": {
    "execution": {
     "iopub.execute_input": "2025-07-29T07:44:30.165066Z",
     "iopub.status.busy": "2025-07-29T07:44:30.164781Z",
     "iopub.status.idle": "2025-07-29T07:44:30.477975Z",
     "shell.execute_reply": "2025-07-29T07:44:30.477069Z",
     "shell.execute_reply.started": "2025-07-29T07:44:30.165042Z"
    }
   },
   "outputs": [
    {
     "name": "stdout",
     "output_type": "stream",
     "text": [
      "# of retrieved results:  3\n",
      "Chunk 1:  호), 47.7%(101천 호) 임     < 표 42 > 노후기간 및 주택종류별 주택, 2024년     (단위 : 천 호, %)     노후기간 총주택 단독주택 아파트 연립/다세대 비주거용     건물내주택     주     택      총주택 19,873 3,841 12,974 2,846 211      20년 이상 10,908 2,914 6,280 1,560 154     20~30년 미만 5,334 688 3,763 829 53     30년 이상 5,574 2,226 2,517 731 101     구     성     비      총주택 100.0 100.0 100.0 100.0 100.0      20년 이상 54.9 75.9 48.4 54.8 72.8     20~30년 미만 26.8 17.9 29.0 29.1 25.1     30년 이상 28.0 57.9 19.4 25.7 47.7     * 노후기간은 11월 1일 기준으로 산정한 기간임     < 그림 48 > 노후기간 및 주택종류별 주택 구성비, 2024년     54.9     75.9     48.4 54.8     72.8     28.0     57.9     19.4 25.7     47.7     0.0     20.0     40.0     60.0     0.0     20.0     40.0     60.0     80.0     총 주택 단독주택 아파트 연립/다세대 비주거용     건물내주택     (%) 20년 이상 30년 이상     - 65 -❍ 시도별 노후기간이 30년 이상 된 주택 비율은 전남 42.8%(362천호), 경북     37.7%(426천호) 순으로 높으며, 세종이 7.5%(12천 호)로 가장 낮음     < 표 43 > 시도 및 노후기간별 주택, 2024년 (단위 : 천 호, %)     시 도 총주택 20년 이상 된 주택 30년 이상 된 주택     비율* 비율*     전 국 19,873 10,908 54.9 5,574 28.0 서 울 3,170 1,867 58.9 897 28.3 부 산 1,350 799 59.2 433 32.1 대 구 904 518 57.3 266 29.4 인 천 1,153 614 53.2 346 30.1 광 주 568 324 57.1 164 28.9 대 전 524 324 61.9 191 36.5 울 산 412 238 57.9 122 29.5 세 종 158 23 14.4 12 7.5 경 기 4,962 2,267 45.7 887 17.9 강 원 684 405 59.1 222 32.4 충 북 686 376 54.9 212 30.9 충 남 948 488 51.5 243 25.7 전 북 774 499 64.6 281 36.3 전 남 847 546 64.5 362 42.8 경 북 1,129 714 63.2 426 37.7 경 남 1,342 774 57.7 434 32.3 제 주 263 131 50.0 76 29.0      * 총주택 대비 해당 노후기간 주택 비율임     < 그림 49 > 시도 및 노후기간별 주택 비율, 2024년     [ 노후기간 20년 이상 및 30년 이상 주택 비율 ] [ 노후기간 30년 이상 주택 비율 ]     14.4 45.7     50.0 51.5     53.2 54.9     57.1 57.3 57.7 57.9 58.9 59.1 59.2     61.9 63.2 64.5 64.6     54.9     7.5 17.9     29.0 25.7     30.1 30.9     28.9 29.4     32.3 29.5     28.3 32.4 32.1     36.5 37.7     42.8 36.3     28.0     0.0 20.0 40.0 60.0 80.0     0.0 20.0 40.0 60.0 80.0     세종     경기     제주     충남     인천     충북     광주     대구     경남     울산     서울     강원     부산     대전     경북     전남     전북     전국     (%)     20년 이상 30년 이상          (%) 20.0 25.0 27.0 30.0     - 66 -나. 주거용 연면적     평균 주거용 연면적은 일반단독주택\n",
      "\n",
      "Chunk 1 Location:  {'s3Location': {'uri': 's3://standard-kb-9072955/2024_population-checkpoint.pdf'}, 'type': 'S3'}\n",
      "\n",
      "Chunk 1 Score:  0.62505054\n",
      "\n",
      "Chunk 1 Metadata:  {'x-amz-bedrock-kb-source-uri': 's3://standard-kb-9072955/2024_population-checkpoint.pdf', 'x-amz-bedrock-kb-document-page-number': 74.0, 'x-amz-bedrock-kb-data-source-id': 'NFTSTADCMW'}\n",
      "\n",
      "Chunk 2:  호), 47.7%(101천 호) 임     < 표 42 > 노후기간 및 주택종류별 주택, 2024년     (단위 : 천 호, %)     노후기간 총주택 단독주택 아파트 연립/다세대 비주거용     건물내주택     주     택      총주택 19,873 3,841 12,974 2,846 211      20년 이상 10,908 2,914 6,280 1,560 154     20~30년 미만 5,334 688 3,763 829 53     30년 이상 5,574 2,226 2,517 731 101     구     성     비      총주택 100.0 100.0 100.0 100.0 100.0      20년 이상 54.9 75.9 48.4 54.8 72.8     20~30년 미만 26.8 17.9 29.0 29.1 25.1     30년 이상 28.0 57.9 19.4 25.7 47.7     * 노후기간은 11월 1일 기준으로 산정한 기간임     < 그림 48 > 노후기간 및 주택종류별 주택 구성비, 2024년     54.9     75.9     48.4 54.8     72.8     28.0     57.9     19.4 25.7     47.7     0.0     20.0     40.0     60.0     0.0     20.0     40.0     60.0     80.0     총 주택 단독주택 아파트 연립/다세대 비주거용     건물내주택     (%) 20년 이상 30년 이상     - 65 -❍ 시도별 노후기간이 30년 이상 된 주택 비율은 전남 42.8%(362천호), 경북     37.7%(426천호) 순으로 높으며, 세종이 7.5%(12천 호)로 가장 낮음     < 표 43 > 시도 및 노후기간별 주택, 2024년 (단위 : 천 호, %)     시 도 총주택 20년 이상 된 주택 30년 이상 된 주택     비율* 비율*     전 국 19,873 10,908 54.9 5,574 28.0 서 울 3,170 1,867 58.9 897 28.3 부 산 1,350 799 59.2 433 32.1 대 구 904 518 57.3 266 29.4 인 천 1,153 614 53.2 346 30.1 광 주 568 324 57.1 164 28.9 대 전 524 324 61.9 191 36.5 울 산 412 238 57.9 122 29.5 세 종 158 23 14.4 12 7.5 경 기 4,962 2,267 45.7 887 17.9 강 원 684 405 59.1 222 32.4 충 북 686 376 54.9 212 30.9 충 남 948 488 51.5 243 25.7 전 북 774 499 64.6 281 36.3 전 남 847 546 64.5 362 42.8 경 북 1,129 714 63.2 426 37.7 경 남 1,342 774 57.7 434 32.3 제 주 263 131 50.0 76 29.0      * 총주택 대비 해당 노후기간 주택 비율임     < 그림 49 > 시도 및 노후기간별 주택 비율, 2024년     [ 노후기간 20년 이상 및 30년 이상 주택 비율 ] [ 노후기간 30년 이상 주택 비율 ]     14.4 45.7     50.0 51.5     53.2 54.9     57.1 57.3 57.7 57.9 58.9 59.1 59.2     61.9 63.2 64.5 64.6     54.9     7.5 17.9     29.0 25.7     30.1 30.9     28.9 29.4     32.3 29.5     28.3 32.4 32.1     36.5 37.7     42.8 36.3     28.0     0.0 20.0 40.0 60.0 80.0     0.0 20.0 40.0 60.0 80.0     세종     경기     제주     충남     인천     충북     광주     대구     경남     울산     서울     강원     부산     대전     경북     전남     전북     전국     (%)     20년 이상 30년 이상          (%) 20.0 25.0 27.0 30.0     - 66 -나. 주거용 연면적     평균 주거용 연면적은 일반단독주택\n",
      "\n",
      "Chunk 2 Location:  {'s3Location': {'uri': 's3://standard-kb-9072955/2024_population.pdf'}, 'type': 'S3'}\n",
      "\n",
      "Chunk 2 Score:  0.62505054\n",
      "\n",
      "Chunk 2 Metadata:  {'x-amz-bedrock-kb-source-uri': 's3://standard-kb-9072955/2024_population.pdf', 'x-amz-bedrock-kb-document-page-number': 74.0, 'x-amz-bedrock-kb-data-source-id': 'NFTSTADCMW'}\n",
      "\n",
      "Chunk 3:  5년 주기 1년 주기     시도별 전년 대비 주택 증감률은 대구(3.1%)가 가장 높고, 서울(0.5%)이 가장 낮음      ○ 전체 주택의 46.7%(929만 호) 수도권에 분포      - 증가율: 대구(3.1%), 세종(3.1%), 충남(2.4%)      ○ (주택종류) 제주는 단독주택 비율이     38.3%로 가장 높고, 16개 시도는 아파트     비율이 가장 높음     [시도별 주택 증감률] 3.1 3.1     2.4 2.1     2.0 1.9 1.9 1.8 1.8 1.6 1.6     1.4 1.4 1.4 1.3 1.1     0.5     대 구     세 종     충 남     경 기     경 북     인 천     대 전     충 북     제 주     부 산     경 남     강 원     전 남     울 산     광 주     전 북     서 울     (단위: %)     노후기간 20년 이상 된 주택은 총 주택의 54.9%, 30년 이상 된 주택은 28.0%      ○ 단독주택의 57.9%, 아파트의 19.4%는     노후기간 30년 이상된 주택      ○ (시도별) 노후기간 30년 이상 주택 비율은     전남(42.8%), 경북(37.7%), 대전(36.5%) 순임     [주택종류별 노후주택 비율]     54.9     75.9     48.4 54.8     72.8     28.0     57.9     19.4 25.7     47.7     0.0     20.0     40.0     60.0     총 주택 단독주택 아파트 연립/다세대 비주거용     (단위: %)20년 이상 30년 이상     (반)지하 및 옥탑이 있는 주택은 각각 261천 호, 34천 호, 수도권에 97.3%, 90.6% 분포      ○ (지역) (반)지하 주택은 서울(56.9%), 경기     (29.6%), 인천(10.8%) 순, 옥탑 주택은 서울     (69.5%), 경기(20.4%), 대전(2.4%) 순임      ○ (가구) (반)지하 및 옥탑에 거주하는     가구는 각각 398천 가구, 36천 가구임     [(반)지하 및 옥탑 주택 구성비]     - 3 -[주제별 인구 및 가구 특성]     1인가구는 804만 가구 (36.1%), 전년 대비 2.8% 증가      ○ 일반가구 중 1인가구 비율은 지속적으로 증가      - (비율) 34.5%2022년→35.5%2023년→36.1%2024년      - (증가율) 4.7%2022년→4.4%2023년→2.8%2024년      ○ 시도별 1인가구 비율은 서울(39.9%)이 가장     높고, 울산(31.6%)이 가장 낮음     [1인가구 구성비]      ○ 1인가구의 연령대별 비중은 20대이하     (17.8%), 60대(17.6%), 30대(17.4%) 순이며,      - 남자는 30대(21.8%), 여자는 60대(18.7%)     비율이 높음     [성․연령별 1인가구 구성비]     다문화가구는 43.9만 가구, 2016년 이후 매년 지속적으로 증가      ○ 다문화가구는 전년 대비 5.7%(24천 가구) 증가      - (유형) 귀화자가구 42.6%, 결혼이민자가구 35.2%,     다문화자녀가구 11.3%, 기타 10.9% 순임      ○ 다문화가구의 시도별 비중은 경기(31.1%),     서울(17.8%) 순으로 높고, 세종(0.5%)이     가장 낮음     [다문화가구 규모]     장애인(내국인) 인구는 261만 명, 장애인이 있는 가구는 229만 가구      ○ 장애인(내국인) 인구는 261만 명, 내국인 중     장애인 비율은 5.2%      - 연령대별 장애인 비율은 80세 이상(22.5%),     70대(14.0%), 60대(8.1%) 순으로 높음      ○ 장애인 가구*는 229만 가구,\n",
      "\n",
      "Chunk 3 Location:  {'s3Location': {'uri': 's3://standard-kb-9072955/2024_population.pdf'}, 'type': 'S3'}\n",
      "\n",
      "Chunk 3 Score:  0.5525747\n",
      "\n",
      "Chunk 3 Metadata:  {'x-amz-bedrock-kb-source-uri': 's3://standard-kb-9072955/2024_population.pdf', 'x-amz-bedrock-kb-document-page-number': 12.0, 'x-amz-bedrock-kb-data-source-id': 'NFTSTADCMW'}\n",
      "\n"
     ]
    }
   ],
   "source": [
    "response_hierarchical_ret = bedrock_agent_runtime_client.retrieve(\n",
    "    knowledgeBaseId=kb_id_hierarchical, \n",
    "    nextToken='string',\n",
    "    retrievalConfiguration={\n",
    "        \"vectorSearchConfiguration\": {\n",
    "            \"numberOfResults\":5,\n",
    "        } \n",
    "    },\n",
    "    retrievalQuery={\n",
    "        'text': query\n",
    "    }\n",
    ")\n",
    "\n",
    "print(\"# of retrieved results: \", len(response_hierarchical_ret['retrievalResults']))\n",
    "response_print(response_hierarchical_ret)"
   ]
  },
  {
   "cell_type": "markdown",
   "metadata": {},
   "source": [
    "><br>\n",
    ">참고:\n",
    ">위의 응답에서 볼 수 있듯이, retrieve API는 요청에서 5개를 지정했음에도 불구하고 3개의 검색 결과 또는 청크만 반환했습니다. 그 이유는 계층적 청킹에서는 API가 상위 청크를 반환하는 반면 검색은 하위 청크에서 수행되며, 하나의 상위 청크가 여러 개의 하위 청크를 가질 수 있기 때문입니다. 따라서 5개의 하위 청크에서 검색이 수행되었지만 응답은 3개의 청크만 반환되었습니다.\n",
    "><br></br>"
   ]
  },
  {
   "cell_type": "markdown",
   "metadata": {},
   "source": [
    "## 4. Semantic chunking(의미론적 청킹) 전략으로 지식 베이스 생성\n",
    "\n",
    "**개념**\n",
    "\n",
    "Semantic chunking(의미론적 청킹)은 텍스트 내의 관계를 분석하고 임베딩 모델이 계산한 의미적 유사도를 기반으로 의미 있고 완전한 청크로 나눕니다. 이 접근 방식은 검색 중에 정보의 무결성을 보존하여 정확하고 문맥적으로 적절한 결과를 보장하는 데 도움이 됩니다.\n",
    "Amazon Bedrock Knowledge Bases는 먼저 지정된 토큰 크기를 기반으로 문서를 청크로 나눕니다. 각 청크에 대한 임베딩이 생성되고, 유사도 임계값과 버퍼 크기를 기반으로 임베딩 공간에서 유사한 청크들이 결합되어 새로운 청크를 형성합니다. 결과적으로 청크 크기는 청크마다 다를 수 있습니다.\n",
    "\n",
    "**이점**\n",
    "\n",
    "텍스트의 의미와 문맥에 초점을 맞춤으로써 의미론적 청킹은 검색 품질을 크게 향상시킵니다. 텍스트의 의미적 무결성을 유지하는 것이 중요한 시나리오에서 사용해야 합니다.\n",
    "\n",
    "이 방법은 고정 크기 청킹보다 계산 집약적이지만, 법률 문서나 기술 매뉴얼과 같이 문맥적 경계가 명확하지 않은 문서를 청킹하는 데 유용할 수 있습니다.[[1]](#https://www.mongodb.com/developer/products/atlas/choosing-chunking-strategy-rag/)\n",
    "\n",
    "**매개변수 값:**\n",
    "\n",
    "```\n",
    "\"chunkingStrategy\": \"FIXED_SIZE | NONE | HIERARCHICAL | SEMANTIC\"\n",
    "```"
   ]
  },
  {
   "cell_type": "code",
   "execution_count": 27,
   "metadata": {
    "execution": {
     "iopub.execute_input": "2025-07-29T07:44:34.355269Z",
     "iopub.status.busy": "2025-07-29T07:44:34.354450Z",
     "iopub.status.idle": "2025-07-29T07:47:09.079069Z",
     "shell.execute_reply": "2025-07-29T07:47:09.078290Z",
     "shell.execute_reply.started": "2025-07-29T07:44:34.355238Z"
    }
   },
   "outputs": [
    {
     "name": "stdout",
     "output_type": "stream",
     "text": [
      "========================================================================================\n",
      "Step 1 - Creating or retrieving S3 bucket(s) for Knowledge Base documents\n",
      "['standard-kb-9072955']\n",
      "buckets_to_check:  ['standard-kb-9072955']\n",
      "Bucket standard-kb-9072955 already exists - retrieving it!\n",
      "========================================================================================\n",
      "Step 2 - Creating Knowledge Base Execution Role (AmazonBedrockExecutionRoleForKnowledgeBase_9072955-s) and Policies\n",
      "========================================================================================\n",
      "Step 3a - Creating OSS encryption, network and data access policies\n",
      "========================================================================================\n",
      "Step 3b - Creating OSS Collection (this step takes a couple of minutes to complete)\n",
      "{ 'ResponseMetadata': { 'HTTPHeaders': { 'connection': 'keep-alive',\n",
      "                                         'content-length': '320',\n",
      "                                         'content-type': 'application/x-amz-json-1.0',\n",
      "                                         'date': 'Tue, 29 Jul 2025 07:44:36 '\n",
      "                                                 'GMT',\n",
      "                                         'x-amzn-requestid': 'fe720982-314e-43ae-8fec-be654cde4dc3'},\n",
      "                        'HTTPStatusCode': 200,\n",
      "                        'RequestId': 'fe720982-314e-43ae-8fec-be654cde4dc3',\n",
      "                        'RetryAttempts': 0},\n",
      "  'createCollectionDetail': { 'arn': 'arn:aws:aoss:us-west-2:211125368524:collection/nd48li66unjz2tgzzuzb',\n",
      "                              'createdDate': 1753775076162,\n",
      "                              'id': 'nd48li66unjz2tgzzuzb',\n",
      "                              'kmsKeyArn': 'auto',\n",
      "                              'lastModifiedDate': 1753775076162,\n",
      "                              'name': 'bedrock-sample-rag-9072955-s',\n",
      "                              'standbyReplicas': 'ENABLED',\n",
      "                              'status': 'CREATING',\n",
      "                              'type': 'VECTORSEARCH'}}\n",
      "nd48li66unjz2tgzzuzb.us-west-2.aoss.amazonaws.com\n",
      "Creating collection...\n",
      "..............................\n",
      "Collection successfully created:\n",
      "[ { 'arn': 'arn:aws:aoss:us-west-2:211125368524:collection/nd48li66unjz2tgzzuzb',\n",
      "    'collectionEndpoint': 'https://nd48li66unjz2tgzzuzb.us-west-2.aoss.amazonaws.com',\n",
      "    'createdDate': 1753775076162,\n",
      "    'dashboardEndpoint': 'https://nd48li66unjz2tgzzuzb.us-west-2.aoss.amazonaws.com/_dashboards',\n",
      "    'id': 'nd48li66unjz2tgzzuzb',\n",
      "    'kmsKeyArn': 'auto',\n",
      "    'lastModifiedDate': 1753775099521,\n",
      "    'name': 'bedrock-sample-rag-9072955-s',\n",
      "    'standbyReplicas': 'ENABLED',\n",
      "    'status': 'ACTIVE',\n",
      "    'type': 'VECTORSEARCH'}]\n",
      "Opensearch serverless arn:  arn:aws:iam::211125368524:policy/AmazonBedrockOSSPolicyForKnowledgeBase_9072955-s\n",
      "Sleeping for a minute to ensure data access rules have been enforced\n",
      "========================================================================================\n",
      "Step 3c - Creating OSS Vector Index\n"
     ]
    },
    {
     "name": "stderr",
     "output_type": "stream",
     "text": [
      "[2025-07-29 07:46:06,990] p27540 {base.py:258} INFO - PUT https://nd48li66unjz2tgzzuzb.us-west-2.aoss.amazonaws.com:443/bedrock-sample-rag-index-9072955-s [status:200 request:0.371s]\n"
     ]
    },
    {
     "name": "stdout",
     "output_type": "stream",
     "text": [
      "\n",
      "Creating index:\n",
      "{ 'acknowledged': True,\n",
      "  'index': 'bedrock-sample-rag-index-9072955-s',\n",
      "  'shards_acknowledged': True}\n",
      "========================================================================================\n",
      "Step 4 - Will create Lambda Function if chunking strategy selected as CUSTOM\n",
      "Not creating lambda function as chunking strategy is SEMANTIC\n",
      "========================================================================================\n",
      "Step 5 - Creating Knowledge Base\n",
      "{ 'createdAt': datetime.datetime(2025, 7, 29, 7, 47, 7, 121511, tzinfo=tzlocal()),\n",
      "  'description': 'Knowledge Base containing complex PDF.',\n",
      "  'knowledgeBaseArn': 'arn:aws:bedrock:us-west-2:211125368524:knowledge-base/NY2KNVB6RT',\n",
      "  'knowledgeBaseConfiguration': { 'type': 'VECTOR',\n",
      "                                  'vectorKnowledgeBaseConfiguration': { 'embeddingModelArn': 'arn:aws:bedrock:us-west-2::foundation-model/amazon.titan-embed-text-v2:0'}},\n",
      "  'knowledgeBaseId': 'NY2KNVB6RT',\n",
      "  'name': 'semantic-kb-9072955',\n",
      "  'roleArn': 'arn:aws:iam::211125368524:role/AmazonBedrockExecutionRoleForKnowledgeBase_9072955-s',\n",
      "  'status': 'CREATING',\n",
      "  'storageConfiguration': { 'opensearchServerlessConfiguration': { 'collectionArn': 'arn:aws:aoss:us-west-2:211125368524:collection/nd48li66unjz2tgzzuzb',\n",
      "                                                                   'fieldMapping': { 'metadataField': 'text-metadata',\n",
      "                                                                                     'textField': 'text',\n",
      "                                                                                     'vectorField': 'vector'},\n",
      "                                                                   'vectorIndexName': 'bedrock-sample-rag-index-9072955-s'},\n",
      "                            'type': 'OPENSEARCH_SERVERLESS'},\n",
      "  'updatedAt': datetime.datetime(2025, 7, 29, 7, 47, 7, 121511, tzinfo=tzlocal())}\n",
      "Creating Data Sources\n",
      "{ 'createdAt': datetime.datetime(2025, 7, 29, 7, 47, 7, 121511, tzinfo=tzlocal()),\n",
      "  'description': 'Knowledge Base containing complex PDF.',\n",
      "  'knowledgeBaseArn': 'arn:aws:bedrock:us-west-2:211125368524:knowledge-base/NY2KNVB6RT',\n",
      "  'knowledgeBaseConfiguration': { 'type': 'VECTOR',\n",
      "                                  'vectorKnowledgeBaseConfiguration': { 'embeddingModelArn': 'arn:aws:bedrock:us-west-2::foundation-model/amazon.titan-embed-text-v2:0'}},\n",
      "  'knowledgeBaseId': 'NY2KNVB6RT',\n",
      "  'name': 'semantic-kb-9072955',\n",
      "  'roleArn': 'arn:aws:iam::211125368524:role/AmazonBedrockExecutionRoleForKnowledgeBase_9072955-s',\n",
      "  'status': 'ACTIVE',\n",
      "  'storageConfiguration': { 'opensearchServerlessConfiguration': { 'collectionArn': 'arn:aws:aoss:us-west-2:211125368524:collection/nd48li66unjz2tgzzuzb',\n",
      "                                                                   'fieldMapping': { 'metadataField': 'text-metadata',\n",
      "                                                                                     'textField': 'text',\n",
      "                                                                                     'vectorField': 'vector'},\n",
      "                                                                   'vectorIndexName': 'bedrock-sample-rag-index-9072955-s'},\n",
      "                            'type': 'OPENSEARCH_SERVERLESS'},\n",
      "  'updatedAt': datetime.datetime(2025, 7, 29, 7, 47, 7, 121511, tzinfo=tzlocal())}\n",
      "Creating Data Sources\n",
      "1 data source: S3\n",
      "============Chunking config========\n",
      " {'chunkingConfiguration': {'chunkingStrategy': 'SEMANTIC', 'semanticChunkingConfiguration': {'maxTokens': 300, 'bufferSize': 1, 'breakpointPercentileThreshold': 95}}}\n",
      "{ 'createdAt': datetime.datetime(2025, 7, 29, 7, 47, 9, 61319, tzinfo=tzlocal()),\n",
      "  'dataDeletionPolicy': 'DELETE',\n",
      "  'dataSourceConfiguration': { 's3Configuration': { 'bucketArn': 'arn:aws:s3:::standard-kb-9072955'},\n",
      "                               'type': 'S3'},\n",
      "  'dataSourceId': 'TCNOAGDQN3',\n",
      "  'description': 'Knowledge Base containing complex PDF.',\n",
      "  'knowledgeBaseId': 'NY2KNVB6RT',\n",
      "  'name': 'NY2KNVB6RT-s3',\n",
      "  'status': 'AVAILABLE',\n",
      "  'updatedAt': datetime.datetime(2025, 7, 29, 7, 47, 9, 61319, tzinfo=tzlocal()),\n",
      "  'vectorIngestionConfiguration': { 'chunkingConfiguration': { 'chunkingStrategy': 'SEMANTIC',\n",
      "                                                               'semanticChunkingConfiguration': { 'breakpointPercentileThreshold': 95,\n",
      "                                                                                                  'bufferSize': 1,\n",
      "                                                                                                  'maxTokens': 300}}}}\n",
      "[ { 'createdAt': datetime.datetime(2025, 7, 29, 7, 47, 9, 61319, tzinfo=tzlocal()),\n",
      "    'dataDeletionPolicy': 'DELETE',\n",
      "    'dataSourceConfiguration': { 's3Configuration': { 'bucketArn': 'arn:aws:s3:::standard-kb-9072955'},\n",
      "                                 'type': 'S3'},\n",
      "    'dataSourceId': 'TCNOAGDQN3',\n",
      "    'description': 'Knowledge Base containing complex PDF.',\n",
      "    'knowledgeBaseId': 'NY2KNVB6RT',\n",
      "    'name': 'NY2KNVB6RT-s3',\n",
      "    'status': 'AVAILABLE',\n",
      "    'updatedAt': datetime.datetime(2025, 7, 29, 7, 47, 9, 61319, tzinfo=tzlocal()),\n",
      "    'vectorIngestionConfiguration': { 'chunkingConfiguration': { 'chunkingStrategy': 'SEMANTIC',\n",
      "                                                                 'semanticChunkingConfiguration': { 'breakpointPercentileThreshold': 95,\n",
      "                                                                                                    'bufferSize': 1,\n",
      "                                                                                                    'maxTokens': 300}}}}]\n",
      "========================================================================================\n"
     ]
    }
   ],
   "source": [
    "knowledge_base_semantic = BedrockKnowledgeBase(\n",
    "    kb_name=f'{knowledge_base_name_semantic}-{suffix}',\n",
    "    kb_description=knowledge_base_description,\n",
    "    data_sources=data_source, \n",
    "    chunking_strategy = \"SEMANTIC\", \n",
    "    suffix = f'{suffix}-s'\n",
    ")"
   ]
  },
  {
   "cell_type": "markdown",
   "metadata": {},
   "source": [
    "이제 수집 작업을 시작하겠습니다. 고정 청킹에서 사용한 것과 동일한 문서를 사용하고 있으므로, s3 버킷에 문서를 업로드하는 단계는 건너뛰겠습니다."
   ]
  },
  {
   "cell_type": "code",
   "execution_count": 28,
   "metadata": {
    "execution": {
     "iopub.execute_input": "2025-07-29T07:47:09.080867Z",
     "iopub.status.busy": "2025-07-29T07:47:09.080505Z",
     "iopub.status.idle": "2025-07-29T07:48:50.895983Z",
     "shell.execute_reply": "2025-07-29T07:48:50.895198Z",
     "shell.execute_reply.started": "2025-07-29T07:47:09.080834Z"
    }
   },
   "outputs": [
    {
     "name": "stdout",
     "output_type": "stream",
     "text": [
      "job 1 started successfully\n",
      "\n",
      "{ 'dataSourceId': 'TCNOAGDQN3',\n",
      "  'ingestionJobId': 'UHI8HPJRNU',\n",
      "  'knowledgeBaseId': 'NY2KNVB6RT',\n",
      "  'startedAt': datetime.datetime(2025, 7, 29, 7, 47, 40, 20129, tzinfo=tzlocal()),\n",
      "  'statistics': { 'numberOfDocumentsDeleted': 0,\n",
      "                  'numberOfDocumentsFailed': 0,\n",
      "                  'numberOfDocumentsScanned': 2,\n",
      "                  'numberOfMetadataDocumentsModified': 0,\n",
      "                  'numberOfMetadataDocumentsScanned': 0,\n",
      "                  'numberOfModifiedDocumentsIndexed': 0,\n",
      "                  'numberOfNewDocumentsIndexed': 2},\n",
      "  'status': 'COMPLETE',\n",
      "  'updatedAt': datetime.datetime(2025, 7, 29, 7, 48, 10, 873085, tzinfo=tzlocal())}\n",
      "........................................"
     ]
    }
   ],
   "source": [
    "# ensure that the kb is available\n",
    "time.sleep(30)\n",
    "# sync knowledge base\n",
    "knowledge_base_semantic.start_ingestion_job()"
   ]
  },
  {
   "cell_type": "code",
   "execution_count": 29,
   "metadata": {
    "execution": {
     "iopub.execute_input": "2025-07-29T07:48:50.896944Z",
     "iopub.status.busy": "2025-07-29T07:48:50.896705Z",
     "iopub.status.idle": "2025-07-29T07:48:50.903045Z",
     "shell.execute_reply": "2025-07-29T07:48:50.902298Z",
     "shell.execute_reply.started": "2025-07-29T07:48:50.896924Z"
    }
   },
   "outputs": [
    {
     "name": "stdout",
     "output_type": "stream",
     "text": [
      "'NY2KNVB6RT'\n"
     ]
    }
   ],
   "source": [
    "kb_id_semantic = knowledge_base_semantic.get_knowledge_base_id()"
   ]
  },
  {
   "cell_type": "markdown",
   "metadata": {},
   "source": [
    "### 4.1 지식 베이스 테스트\n",
    "이제 지식 베이스를 사용할 수 있게 되었으므로 [retrieve](https://boto3.amazonaws.com/v1/documentation/api/latest/reference/services/bedrock-agent-runtime/client/retrieve.html)와 [retrieve_and_generate](https://boto3.amazonaws.com/v1/documentation/api/latest/reference/services/bedrock-agent-runtime/client/retrieve_and_generate.html) 함수를 사용하여 테스트해볼 수 있습니다.\n",
    "\n",
    "#### Retrieve and Generate API를 사용한 지식 베이스 테스트\n",
    "먼저 retrieve and generate API를 사용하여 지식 베이스를 테스트해보겠습니다. 이 API를 사용하면 Bedrock이 지식 베이스에서 필요한 참조를 검색하고 Bedrock의 기초 모델을 사용하여 최종 답변을 생성하는 작업을 처리합니다.\n",
    "\n",
    "query = \n",
    "\n",
    "`Provide a summary of consolidated statements of cash flows of Octank Financial for the fiscal years ended December 31, 2019.`\n",
    "\n",
    "`2019년 12월 31일로 종료된 회계연도의 Octank Financial의 연결 현금흐름표에 대한 요약을 제공하세요.`\n",
    "\n",
    "실제 QA 쌍에 따른 이 쿼리에 대한 올바른 응답은 다음과 같습니다:\n",
    "\n",
    "```\n",
    "The cash flow statement for Octank Financial in the year ended December 31, 2019 reveals the following:\n",
    "- Cash generated from operating activities amounted to $710 million, which can be attributed to a $700 million profit and non-cash charges such as depreciation and amortization.\n",
    "- Cash outflow from investing activities totaled $240 million, with major expenditures being the acquisition of property, plant, and equipment ($200 million) and marketable securities ($60 million), partially offset by the sale of property, plant, and equipment ($40 million) and maturing marketable securities ($20 million).\n",
    "- Financing activities resulted in a cash inflow of $350 million, stemming from the issuance of common stock ($200 million) and long-term debt ($300 million), while common stock repurchases ($50 million) and long-term debt payments ($100 million) reduced the cash inflow. \n",
    "Overall, Octank Financial experienced a net cash enhancement of $120 million in 2019, bringing their total cash and cash equivalents to $210 million.\n",
    "```\n",
    "```\n",
    "2019년 12월 31일로 종료된 연도의 Octank Financial 현금흐름표는 다음과 같습니다:\n",
    "- 영업활동으로 인한 현금 창출액은 7억 1천만 달러로, 이는 7억 달러의 이익과 감가상각비 및 상각비와 같은 비현금성 지출에 기인합니다.\n",
    "- 투자활동으로 인한 현금 유출액은 2억 4천만 달러로, 주요 지출은 유형자산 취득(2억 달러)과 시장성 있는 유가증권 취득(6천만 달러)이며, 이는 유형자산 매각(4천만 달러)과 만기 도래한 시장성 있는 유가증권(2천만 달러)으로 일부 상쇄되었습니다.\n",
    "- 재무활동으로 인한 현금 유입액은 3억 5천만 달러로, 이는 보통주 발행(2억 달러)과 장기 부채 발행(3억 달러)에서 발생했으며, 보통주 자사주 매입(5천만 달러)과 장기 부채 상환(1억 달러)으로 현금 유입이 감소했습니다.\n",
    "전반적으로 Octank Financial은 2019년에 1억 2천만 달러의 순현금 증가를 경험했으며, 이로 인해 총 현금 및 현금성 자산이 2억 1천만 달러가 되었습니다.\n",
    "```"
   ]
  },
  {
   "cell_type": "code",
   "execution_count": 30,
   "metadata": {
    "execution": {
     "iopub.execute_input": "2025-07-29T07:48:50.905872Z",
     "iopub.status.busy": "2025-07-29T07:48:50.905217Z",
     "iopub.status.idle": "2025-07-29T07:49:18.564953Z",
     "shell.execute_reply": "2025-07-29T07:49:18.563971Z",
     "shell.execute_reply.started": "2025-07-29T07:48:50.905837Z"
    }
   },
   "outputs": [
    {
     "name": "stdout",
     "output_type": "stream",
     "text": [
      "2024년 기준으로 노후기간이 30년 이상 된 주택은 전체 주택의 28.0%를 차지합니다. 주택 유형별로는 단독주택이 57.9%로 가장 높은 비율을 보이며, 아파트는 19.4%, 연립/다세대 주택은 25.7%, 비주거용 건물 내 주택은 47.7%입니다. 지역별로는 전남(42.8%)과 경북(37.7%)이 30년 이상 노후주택 비율이 가장 높고, 세종(7.5%)이 가장 낮습니다. 노후주택 비율이 높은 지역은 인구 고령화와 가구 소규모화 추세가 두드러지는 경향이 있습니다.\n",
      "\n"
     ]
    }
   ],
   "source": [
    "time.sleep(20)\n",
    "\n",
    "response = bedrock_agent_runtime_client.retrieve_and_generate(\n",
    "    input={\n",
    "        \"text\": query\n",
    "    },\n",
    "    retrieveAndGenerateConfiguration={\n",
    "        \"type\": \"KNOWLEDGE_BASE\",\n",
    "        \"knowledgeBaseConfiguration\": {\n",
    "            'knowledgeBaseId': kb_id_semantic,\n",
    "            \"modelArn\": \"arn:aws:bedrock:{}::foundation-model/{}\".format(region, foundation_model),\n",
    "            \"retrievalConfiguration\": {\n",
    "                \"vectorSearchConfiguration\": {\n",
    "                    \"numberOfResults\":5\n",
    "                } \n",
    "            }\n",
    "        }\n",
    "    }\n",
    ")\n",
    "\n",
    "print(response['output']['text'],end='\\n'*2)"
   ]
  },
  {
   "cell_type": "markdown",
   "metadata": {},
   "source": [
    "보시다시피, `RetrieveAndGenerate API`를 사용하면 최종 응답을 직접 얻을 수 있습니다. 이제 `RetrieveAndGenerate API`의 인용을 살펴보겠습니다. 이 노트북의 주요 초점은 모델이 응답을 생성하는 동안 검색된 청크들과 반환된 인용을 관찰하는 것입니다. 쿼리와 함께 관련 컨텍스트를 기초 모델에 제공하면, 높은 품질의 응답을 생성할 가능성이 높아집니다."
   ]
  },
  {
   "cell_type": "code",
   "execution_count": 31,
   "metadata": {
    "execution": {
     "iopub.execute_input": "2025-07-29T07:49:18.567122Z",
     "iopub.status.busy": "2025-07-29T07:49:18.566499Z",
     "iopub.status.idle": "2025-07-29T07:49:18.572305Z",
     "shell.execute_reply": "2025-07-29T07:49:18.571569Z",
     "shell.execute_reply.started": "2025-07-29T07:49:18.567087Z"
    }
   },
   "outputs": [
    {
     "name": "stdout",
     "output_type": "stream",
     "text": [
      "# of citations or chunks used to generate the response:  2\n",
      "Chunk 1:  20~30년 미만 29.9 29.7 29.0 28.8 27.9 26.8 -3.0 - -1.0 - \n",
      " \n",
      " 30년 이상 18.2 19.4 21.1 23.5 25.8 28.0 9.9 　- 2.2 - \n",
      " \n",
      " * 노후기간은 11월 1일 기준으로 산정한 기간임 \n",
      " \n",
      " - 64 -❍ 주택종류별 노후기간이 30년 이상 된 주택은 단독주택이 57.9%(2,226천호), \n",
      " \n",
      " 아파트는 19.4%(2,517천호)를 차지함 \n",
      " \n",
      "  - 연립ㆍ다세대 주택과 비주거용 건물 내 주택은 30년 이상 된 주택 \n",
      " \n",
      " 비율이 각각 25.7%(731천 호), 47.7%(101천 호) 임 \n",
      " \n",
      " < 표 42 > 노후기간 및 주택종류별 주택, 2024년\n",
      "\n",
      "Chunk 1 Location:  {'s3Location': {'uri': 's3://standard-kb-9072955/2024_population.pdf'}, 'type': 'S3'}\n",
      "\n",
      "Chunk 1 Metadata:  {'x-amz-bedrock-kb-source-uri': 's3://standard-kb-9072955/2024_population.pdf', 'x-amz-bedrock-kb-document-page-number': 73.0, 'x-amz-bedrock-kb-chunk-id': '1%3A0%3AhLEnVZgBTpLj2rbkKKi0', 'x-amz-bedrock-kb-data-source-id': 'TCNOAGDQN3'}\n",
      "\n",
      "Chunk 2:  20~30년 미만 29.9 29.7 29.0 28.8 27.9 26.8 -3.0 - -1.0 - \n",
      " \n",
      " 30년 이상 18.2 19.4 21.1 23.5 25.8 28.0 9.9 　- 2.2 - \n",
      " \n",
      " * 노후기간은 11월 1일 기준으로 산정한 기간임 \n",
      " \n",
      " - 64 -❍ 주택종류별 노후기간이 30년 이상 된 주택은 단독주택이 57.9%(2,226천호), \n",
      " \n",
      " 아파트는 19.4%(2,517천호)를 차지함 \n",
      " \n",
      "  - 연립ㆍ다세대 주택과 비주거용 건물 내 주택은 30년 이상 된 주택 \n",
      " \n",
      " 비율이 각각 25.7%(731천 호), 47.7%(101천 호) 임 \n",
      " \n",
      " < 표 42 > 노후기간 및 주택종류별 주택, 2024년\n",
      "\n",
      "Chunk 2 Location:  {'s3Location': {'uri': 's3://standard-kb-9072955/2024_population-checkpoint.pdf'}, 'type': 'S3'}\n",
      "\n",
      "Chunk 2 Metadata:  {'x-amz-bedrock-kb-source-uri': 's3://standard-kb-9072955/2024_population-checkpoint.pdf', 'x-amz-bedrock-kb-document-page-number': 73.0, 'x-amz-bedrock-kb-chunk-id': '1%3A0%3AcLEnVZgBTpLj2rbkMalj', 'x-amz-bedrock-kb-data-source-id': 'TCNOAGDQN3'}\n",
      "\n"
     ]
    }
   ],
   "source": [
    "response_semantic = response['citations'][0]['retrievedReferences']\n",
    "print(\"# of citations or chunks used to generate the response: \", len(response_semantic))\n",
    "citations_rag_print(response_semantic)"
   ]
  },
  {
   "cell_type": "markdown",
   "metadata": {},
   "source": [
    "이제 retrieve API를 사용하여 지식 베이스에서 소스 정보를 검색해보겠습니다.\n",
    "\n",
    "#### Retrieve API를 사용한 지식 베이스 테스트\n",
    "만약 추가적인 제어 계층이 필요한 경우, retrieve API를 사용하여 쿼리와 가장 잘 일치하는 청크들을 검색할 수 있습니다. 이 설정에서는 원하는 결과 수를 구성하고 자체 애플리케이션 로직으로 최종 답변을 제어할 수 있습니다. 그러면 API는 일치하는 콘텐츠, 해당 S3 위치, 유사도 점수 및 청크 메타데이터를 제공합니다."
   ]
  },
  {
   "cell_type": "code",
   "execution_count": 32,
   "metadata": {
    "execution": {
     "iopub.execute_input": "2025-07-29T07:49:18.574695Z",
     "iopub.status.busy": "2025-07-29T07:49:18.574254Z",
     "iopub.status.idle": "2025-07-29T07:49:18.871058Z",
     "shell.execute_reply": "2025-07-29T07:49:18.870297Z",
     "shell.execute_reply.started": "2025-07-29T07:49:18.574672Z"
    }
   },
   "outputs": [
    {
     "name": "stdout",
     "output_type": "stream",
     "text": [
      "# of citations or chunks used to generate the response:  5\n",
      "Chunk 1:  20~30년 미만 29.9 29.7 29.0 28.8 27.9 26.8 -3.0 - -1.0 - \n",
      " \n",
      " 30년 이상 18.2 19.4 21.1 23.5 25.8 28.0 9.9 　- 2.2 - \n",
      " \n",
      " * 노후기간은 11월 1일 기준으로 산정한 기간임 \n",
      " \n",
      " - 64 -❍ 주택종류별 노후기간이 30년 이상 된 주택은 단독주택이 57.9%(2,226천호), \n",
      " \n",
      " 아파트는 19.4%(2,517천호)를 차지함 \n",
      " \n",
      "  - 연립ㆍ다세대 주택과 비주거용 건물 내 주택은 30년 이상 된 주택 \n",
      " \n",
      " 비율이 각각 25.7%(731천 호), 47.7%(101천 호) 임 \n",
      " \n",
      " < 표 42 > 노후기간 및 주택종류별 주택, 2024년\n",
      "\n",
      "Chunk 1 Location:  {'s3Location': {'uri': 's3://standard-kb-9072955/2024_population-checkpoint.pdf'}, 'type': 'S3'}\n",
      "\n",
      "Chunk 1 Score:  0.60518813\n",
      "\n",
      "Chunk 1 Metadata:  {'x-amz-bedrock-kb-source-uri': 's3://standard-kb-9072955/2024_population-checkpoint.pdf', 'x-amz-bedrock-kb-document-page-number': 73.0, 'x-amz-bedrock-kb-chunk-id': '1%3A0%3AcLEnVZgBTpLj2rbkMalj', 'x-amz-bedrock-kb-data-source-id': 'TCNOAGDQN3'}\n",
      "\n",
      "Chunk 2:  20~30년 미만 29.9 29.7 29.0 28.8 27.9 26.8 -3.0 - -1.0 - \n",
      " \n",
      " 30년 이상 18.2 19.4 21.1 23.5 25.8 28.0 9.9 　- 2.2 - \n",
      " \n",
      " * 노후기간은 11월 1일 기준으로 산정한 기간임 \n",
      " \n",
      " - 64 -❍ 주택종류별 노후기간이 30년 이상 된 주택은 단독주택이 57.9%(2,226천호), \n",
      " \n",
      " 아파트는 19.4%(2,517천호)를 차지함 \n",
      " \n",
      "  - 연립ㆍ다세대 주택과 비주거용 건물 내 주택은 30년 이상 된 주택 \n",
      " \n",
      " 비율이 각각 25.7%(731천 호), 47.7%(101천 호) 임 \n",
      " \n",
      " < 표 42 > 노후기간 및 주택종류별 주택, 2024년\n",
      "\n",
      "Chunk 2 Location:  {'s3Location': {'uri': 's3://standard-kb-9072955/2024_population.pdf'}, 'type': 'S3'}\n",
      "\n",
      "Chunk 2 Score:  0.60518813\n",
      "\n",
      "Chunk 2 Metadata:  {'x-amz-bedrock-kb-source-uri': 's3://standard-kb-9072955/2024_population.pdf', 'x-amz-bedrock-kb-document-page-number': 73.0, 'x-amz-bedrock-kb-chunk-id': '1%3A0%3AhLEnVZgBTpLj2rbkKKi0', 'x-amz-bedrock-kb-data-source-id': 'TCNOAGDQN3'}\n",
      "\n",
      "Chunk 3:  1월~10월, 그 외는 해당연도의 1월~12월 자료임 \n",
      " \n",
      " - 63 -< 그림 47 > 건축연도별 주택 규모, 2024년 \n",
      " \n",
      "  ❍ 노후기간이 20년 이상 된 주택은 10,908천호로 전체 주택의 54.9%를 차지하며, \n",
      " \n",
      " 30년 이상 된 주택은 5,574천호로 전체 주택의 28.0%임 \n",
      " \n",
      "  - 노후기간이 30년 이상 된 주택의 비율은 전년 대비 2.2%p 증가, 5년 전 \n",
      " \n",
      " 대비 9.9%p 증가 \n",
      " \n",
      " < 표 41 > 노후기간별 주택, 2019~2024년 \n",
      " \n",
      " (단위 : 천 호, %, %p) \n",
      " \n",
      " 주택종류 2019년 2020년 2021년 2022년 2023년 2024년 2019년 대비 2023년\n",
      "\n",
      "Chunk 3 Location:  {'s3Location': {'uri': 's3://standard-kb-9072955/2024_population-checkpoint.pdf'}, 'type': 'S3'}\n",
      "\n",
      "Chunk 3 Score:  0.60429716\n",
      "\n",
      "Chunk 3 Metadata:  {'x-amz-bedrock-kb-source-uri': 's3://standard-kb-9072955/2024_population-checkpoint.pdf', 'x-amz-bedrock-kb-document-page-number': 72.0, 'x-amz-bedrock-kb-chunk-id': '1%3A0%3AbrEnVZgBTpLj2rbkMalj', 'x-amz-bedrock-kb-data-source-id': 'TCNOAGDQN3'}\n",
      "\n",
      "Chunk 4:  1월~10월, 그 외는 해당연도의 1월~12월 자료임 \n",
      " \n",
      " - 63 -< 그림 47 > 건축연도별 주택 규모, 2024년 \n",
      " \n",
      "  ❍ 노후기간이 20년 이상 된 주택은 10,908천호로 전체 주택의 54.9%를 차지하며, \n",
      " \n",
      " 30년 이상 된 주택은 5,574천호로 전체 주택의 28.0%임 \n",
      " \n",
      "  - 노후기간이 30년 이상 된 주택의 비율은 전년 대비 2.2%p 증가, 5년 전 \n",
      " \n",
      " 대비 9.9%p 증가 \n",
      " \n",
      " < 표 41 > 노후기간별 주택, 2019~2024년 \n",
      " \n",
      " (단위 : 천 호, %, %p) \n",
      " \n",
      " 주택종류 2019년 2020년 2021년 2022년 2023년 2024년 2019년 대비 2023년\n",
      "\n",
      "Chunk 4 Location:  {'s3Location': {'uri': 's3://standard-kb-9072955/2024_population.pdf'}, 'type': 'S3'}\n",
      "\n",
      "Chunk 4 Score:  0.60429716\n",
      "\n",
      "Chunk 4 Metadata:  {'x-amz-bedrock-kb-source-uri': 's3://standard-kb-9072955/2024_population.pdf', 'x-amz-bedrock-kb-document-page-number': 72.0, 'x-amz-bedrock-kb-chunk-id': '1%3A0%3AgrEnVZgBTpLj2rbkKKi0', 'x-amz-bedrock-kb-data-source-id': 'TCNOAGDQN3'}\n",
      "\n",
      "Chunk 5:  1일 기준으로 산정한 기간임 \n",
      " \n",
      " < 그림 48 > 노후기간 및 주택종류별 주택 구성비, 2024년 \n",
      " \n",
      " 54.9 \n",
      " \n",
      " 75.9 \n",
      " \n",
      " 48.4 54.8 \n",
      " \n",
      " 72.8 \n",
      " \n",
      " 28.0 \n",
      " \n",
      " 57.9 \n",
      " \n",
      " 19.4 25.7 \n",
      " \n",
      " 47.7 \n",
      " \n",
      " 0.0 \n",
      " \n",
      " 20.0 \n",
      " \n",
      " 40.0 \n",
      " \n",
      " 60.0 \n",
      " \n",
      " 0.0 \n",
      " \n",
      " 20.0 \n",
      " \n",
      " 40.0 \n",
      " \n",
      " 60.0 \n",
      " \n",
      " 80.0 \n",
      " \n",
      " 총 주택 단독주택 아파트 연립/다세대 비주거용 \n",
      " \n",
      " 건물내주택 \n",
      " \n",
      " (%) 20년 이상 30년 이상 \n",
      " \n",
      " - 65 -❍ 시도별 노후기간이 30년 이상 된 주택 비율은 전남 42.8%(362천호), 경북 \n",
      " \n",
      " 37.7%(426천호) 순으로 높으며, 세종이 7.5%(12천 호)로 가장 낮음 \n",
      " \n",
      " < 표 43 > 시도\n",
      "\n",
      "Chunk 5 Location:  {'s3Location': {'uri': 's3://standard-kb-9072955/2024_population.pdf'}, 'type': 'S3'}\n",
      "\n",
      "Chunk 5 Score:  0.5940299\n",
      "\n",
      "Chunk 5 Metadata:  {'x-amz-bedrock-kb-source-uri': 's3://standard-kb-9072955/2024_population.pdf', 'x-amz-bedrock-kb-document-page-number': 74.0, 'x-amz-bedrock-kb-chunk-id': '1%3A0%3AhrEnVZgBTpLj2rbkKKi0', 'x-amz-bedrock-kb-data-source-id': 'TCNOAGDQN3'}\n",
      "\n"
     ]
    }
   ],
   "source": [
    "response_semantic_ret = bedrock_agent_runtime_client.retrieve(\n",
    "    knowledgeBaseId=kb_id_semantic, \n",
    "    nextToken='string',\n",
    "    retrievalConfiguration={\n",
    "        \"vectorSearchConfiguration\": {\n",
    "            \"numberOfResults\":5,\n",
    "        } \n",
    "    },\n",
    "    retrievalQuery={\n",
    "        'text': query\n",
    "    }\n",
    ")\n",
    "print(\"# of citations or chunks used to generate the response: \", len(response_semantic_ret['retrievalResults']))\n",
    "response_print(response_semantic_ret)"
   ]
  },
  {
   "cell_type": "markdown",
   "metadata": {},
   "source": [
    "## 5. Lambda 함수를 사용한 사용자 정의 청킹 옵션\n",
    "Amazon Bedrock용 Knowledge Bases(KB)를 생성할 때 Lambda 함수를 연결하여 사용자 정의 청킹 로직을 지정할 수 있습니다. 수집 과정에서 lambda 함수가 제공되면, Knowledge Bases는 lambda 함수를 실행하고 입력 및 출력 값을 제공된 중간 s3 버킷에 저장합니다.\n",
    "\n",
    "><br>\n",
    ">참고: KB와 함께 사용되는 Lambda 함수는 사용자 정의 청킹 로직 추가뿐만 아니라 청크 수준 메타데이터 추가와 같은 청크 처리에도 사용될 수 있습니다. 이 예제에서는 사용자 정의 청킹 로직을 위한 Lambda 함수 사용에 초점을 맞추고 있습니다.\n",
    "><br></br>\n",
    "\n",
    "### 5.1 Lambda 함수 생성\n",
    "\n",
    "이제 사용자 정의 청킹을 위한 코드가 포함된 lambda 함수를 생성할 것입니다. 이를 위해 다음을 수행합니다:\n",
    "\n",
    "1. 사용자 정의 청킹을 위한 로직이 포함된 lambda_function.py 파일을 생성합니다.\n",
    "2. Lambda 함수를 위한 IAM 역할을 생성합니다.\n",
    "3. 필요한 권한을 가진 lambda 함수를 생성합니다."
   ]
  },
  {
   "cell_type": "markdown",
   "metadata": {},
   "source": [
    "#### Create the function code\n",
    " Let's create the lambda function tha implements the functions for `reading your file from intermediate bucket`, `process the contents with custom chunking logic` and `write the output back to s3 bucket`. \n",
    "#### 함수 코드 생성\n",
    "`reading your file from intermediate bucket`, `process the contents with custom chunking logic`, `write the output back to s3 bucket` 기능을 구현하는 lambda 함수를 생성해 보겠습니다."
   ]
  },
  {
   "cell_type": "code",
   "execution_count": 33,
   "metadata": {
    "execution": {
     "iopub.execute_input": "2025-07-29T07:49:18.872317Z",
     "iopub.status.busy": "2025-07-29T07:49:18.871981Z",
     "iopub.status.idle": "2025-07-29T07:49:18.890322Z",
     "shell.execute_reply": "2025-07-29T07:49:18.889607Z",
     "shell.execute_reply.started": "2025-07-29T07:49:18.872295Z"
    }
   },
   "outputs": [
    {
     "name": "stdout",
     "output_type": "stream",
     "text": [
      "Writing lambda_function.py\n"
     ]
    }
   ],
   "source": [
    "%%writefile lambda_function.py\n",
    "import json\n",
    "from abc import abstractmethod, ABC\n",
    "from typing import List\n",
    "from urllib.parse import urlparse\n",
    "import boto3\n",
    "import logging\n",
    "logger = logging.getLogger()\n",
    "logger.setLevel(logging.DEBUG)\n",
    "\n",
    "class Chunker(ABC):\n",
    "    @abstractmethod\n",
    "    def chunk(self, text: str) -> List[str]:\n",
    "        raise NotImplementedError()\n",
    "        \n",
    "class SimpleChunker(Chunker):\n",
    "    def chunk(self, text: str) -> List[str]:\n",
    "        words = text.split()\n",
    "        return [' '.join(words[i:i+100]) for i in range(0, len(words), 100)]\n",
    "\n",
    "def lambda_handler(event, context):\n",
    "    logger.debug('input={}'.format(json.dumps(event)))\n",
    "    s3 = boto3.client('s3')\n",
    "\n",
    "    # Extract relevant information from the input event\n",
    "    input_files = event.get('inputFiles')\n",
    "    input_bucket =  event.get('bucketName')\n",
    "\n",
    "    \n",
    "    if not all([input_files, input_bucket]):\n",
    "        raise ValueError(\"Missing required input parameters\")\n",
    "    \n",
    "    output_files = []\n",
    "    chunker = SimpleChunker()\n",
    "\n",
    "    for input_file in input_files:\n",
    "        content_batches = input_file.get('contentBatches', [])\n",
    "        file_metadata = input_file.get('fileMetadata', {})\n",
    "        original_file_location = input_file.get('originalFileLocation', {})\n",
    "\n",
    "        processed_batches = []\n",
    "        \n",
    "        for batch in content_batches:\n",
    "            input_key = batch.get('key')\n",
    "\n",
    "            if not input_key:\n",
    "                raise ValueError(\"Missing uri in content batch\")\n",
    "            \n",
    "            # Read file from S3\n",
    "            file_content = read_s3_file(s3, input_bucket, input_key)\n",
    "            \n",
    "            # Process content (chunking)\n",
    "            chunked_content = process_content(file_content, chunker)\n",
    "            \n",
    "            output_key = f\"Output/{input_key}\"\n",
    "            \n",
    "            # Write processed content back to S3\n",
    "            write_to_s3(s3, input_bucket, output_key, chunked_content)\n",
    "            \n",
    "            # Add processed batch information\n",
    "            processed_batches.append({\n",
    "                'key': output_key\n",
    "            })\n",
    "        \n",
    "        # Prepare output file information\n",
    "        output_file = {\n",
    "            'originalFileLocation': original_file_location,\n",
    "            'fileMetadata': file_metadata,\n",
    "            'contentBatches': processed_batches\n",
    "        }\n",
    "        output_files.append(output_file)\n",
    "    \n",
    "    result = {'outputFiles': output_files}\n",
    "    \n",
    "    return result\n",
    "    \n",
    "\n",
    "def read_s3_file(s3_client, bucket, key):\n",
    "    response = s3_client.get_object(Bucket=bucket, Key=key)\n",
    "    return json.loads(response['Body'].read().decode('utf-8'))\n",
    "\n",
    "def write_to_s3(s3_client, bucket, key, content):\n",
    "    s3_client.put_object(Bucket=bucket, Key=key, Body=json.dumps(content))    \n",
    "\n",
    "def process_content(file_content: dict, chunker: Chunker) -> dict:\n",
    "    chunked_content = {\n",
    "        'fileContents': []\n",
    "    }\n",
    "    \n",
    "    for content in file_content.get('fileContents', []):\n",
    "        content_body = content.get('contentBody', '')\n",
    "        content_type = content.get('contentType', '')\n",
    "        content_metadata = content.get('contentMetadata', {})\n",
    "        \n",
    "        words = content['contentBody']\n",
    "        chunks = chunker.chunk(words)\n",
    "        \n",
    "        for chunk in chunks:\n",
    "            chunked_content['fileContents'].append({\n",
    "                'contentType': content_type,\n",
    "                'contentMetadata': content_metadata,\n",
    "                'contentBody': chunk\n",
    "            })\n",
    "    \n",
    "    return chunked_content"
   ]
  },
  {
   "cell_type": "markdown",
   "metadata": {},
   "source": [
    "지식 베이스가 제공하는 표준 청킹 전략 값은 다음과 같습니다:\n",
    "\n",
    "**매개변수 값:**\n",
    "\n",
    "```\n",
    "\"chunkingStrategy\": \"FIXED_SIZE | NONE | HIERARCHICAL | SEMANTIC\"\n",
    "```\n",
    "    \n",
    "사용자 정의 로직을 구현하기 위해 knowledge_base.py 클래스에 CUSTOM 값을 전달하는 옵션을 포함했습니다.\n",
    "이 클래스에서 청킹 전략을 CUSTOM으로 전달하면 다음과 같이 동작합니다:\n",
    "\n",
    "1. chunkingStrategy를 NONE으로 선택합니다.\n",
    "2. vectorIngestionConfiguration에 다음과 같이 customTransformationConfiguration을 추가합니다:\n",
    "    \n",
    "```\n",
    "{\n",
    "...\n",
    "   \"vectorIngestionConfiguration\": {\n",
    "    \"customTransformationConfiguration\": { \n",
    "         \"intermediateStorage\": { \n",
    "            \"s3Location\": { \n",
    "               \"uri\": \"string\"\n",
    "            }\n",
    "         },\n",
    "         \"transformations\": [\n",
    "            {\n",
    "               \"transformationFunction\": {\n",
    "                  \"lambdaConfiguration\": {\n",
    "                     \"lambdaArn\": \"string\"\n",
    "                  }\n",
    "               },\n",
    "               \"stepToApply\": \"string\" // enum of POST_CHUNKING\n",
    "            }\n",
    "         ]\n",
    "      },\n",
    "      \"chunkingConfiguration\": {\n",
    "         \"chunkingStrategy\": \"NONE\"\n",
    "         ...\n",
    "   }\n",
    "}\n",
    "\n",
    "```"
   ]
  },
  {
   "cell_type": "code",
   "execution_count": 34,
   "metadata": {
    "execution": {
     "iopub.execute_input": "2025-07-29T07:49:18.891537Z",
     "iopub.status.busy": "2025-07-29T07:49:18.891263Z",
     "iopub.status.idle": "2025-07-29T07:52:05.935663Z",
     "shell.execute_reply": "2025-07-29T07:52:05.934882Z",
     "shell.execute_reply.started": "2025-07-29T07:49:18.891516Z"
    }
   },
   "outputs": [
    {
     "name": "stdout",
     "output_type": "stream",
     "text": [
      "========================================================================================\n",
      "Step 1 - Creating or retrieving S3 bucket(s) for Knowledge Base documents\n",
      "['standard-kb-9072955', 'standard-kb-intermediate-9072955']\n",
      "buckets_to_check:  ['standard-kb-9072955', 'standard-kb-intermediate-9072955']\n",
      "Bucket standard-kb-9072955 already exists - retrieving it!\n",
      "Creating bucket standard-kb-intermediate-9072955\n",
      "========================================================================================\n",
      "Step 2 - Creating Knowledge Base Execution Role (AmazonBedrockExecutionRoleForKnowledgeBase_9072955-c) and Policies\n",
      "========================================================================================\n",
      "Step 3a - Creating OSS encryption, network and data access policies\n",
      "========================================================================================\n",
      "Step 3b - Creating OSS Collection (this step takes a couple of minutes to complete)\n",
      "{ 'ResponseMetadata': { 'HTTPHeaders': { 'connection': 'keep-alive',\n",
      "                                         'content-length': '320',\n",
      "                                         'content-type': 'application/x-amz-json-1.0',\n",
      "                                         'date': 'Tue, 29 Jul 2025 07:49:22 '\n",
      "                                                 'GMT',\n",
      "                                         'x-amzn-requestid': '516d8eef-6fba-47c0-92d9-9235036c395d'},\n",
      "                        'HTTPStatusCode': 200,\n",
      "                        'RequestId': '516d8eef-6fba-47c0-92d9-9235036c395d',\n",
      "                        'RetryAttempts': 0},\n",
      "  'createCollectionDetail': { 'arn': 'arn:aws:aoss:us-west-2:211125368524:collection/towlurvhc9pkv2602zkh',\n",
      "                              'createdDate': 1753775361946,\n",
      "                              'id': 'towlurvhc9pkv2602zkh',\n",
      "                              'kmsKeyArn': 'auto',\n",
      "                              'lastModifiedDate': 1753775361946,\n",
      "                              'name': 'bedrock-sample-rag-9072955-c',\n",
      "                              'standbyReplicas': 'ENABLED',\n",
      "                              'status': 'CREATING',\n",
      "                              'type': 'VECTORSEARCH'}}\n",
      "towlurvhc9pkv2602zkh.us-west-2.aoss.amazonaws.com\n",
      "Creating collection...\n",
      "..............................\n",
      "Collection successfully created:\n",
      "[ { 'arn': 'arn:aws:aoss:us-west-2:211125368524:collection/towlurvhc9pkv2602zkh',\n",
      "    'collectionEndpoint': 'https://towlurvhc9pkv2602zkh.us-west-2.aoss.amazonaws.com',\n",
      "    'createdDate': 1753775361946,\n",
      "    'dashboardEndpoint': 'https://towlurvhc9pkv2602zkh.us-west-2.aoss.amazonaws.com/_dashboards',\n",
      "    'id': 'towlurvhc9pkv2602zkh',\n",
      "    'kmsKeyArn': 'auto',\n",
      "    'lastModifiedDate': 1753775384736,\n",
      "    'name': 'bedrock-sample-rag-9072955-c',\n",
      "    'standbyReplicas': 'ENABLED',\n",
      "    'status': 'ACTIVE',\n",
      "    'type': 'VECTORSEARCH'}]\n",
      "Opensearch serverless arn:  arn:aws:iam::211125368524:policy/AmazonBedrockOSSPolicyForKnowledgeBase_9072955-c\n",
      "Sleeping for a minute to ensure data access rules have been enforced\n",
      "========================================================================================\n",
      "Step 3c - Creating OSS Vector Index\n"
     ]
    },
    {
     "name": "stderr",
     "output_type": "stream",
     "text": [
      "[2025-07-29 07:50:52,827] p27540 {base.py:258} INFO - PUT https://towlurvhc9pkv2602zkh.us-west-2.aoss.amazonaws.com:443/bedrock-sample-rag-index-9072955-c [status:200 request:0.373s]\n"
     ]
    },
    {
     "name": "stdout",
     "output_type": "stream",
     "text": [
      "\n",
      "Creating index:\n",
      "{ 'acknowledged': True,\n",
      "  'index': 'bedrock-sample-rag-index-9072955-c',\n",
      "  'shards_acknowledged': True}\n",
      "========================================================================================\n",
      "Step 4 - Will create Lambda Function if chunking strategy selected as CUSTOM\n",
      "Creating lambda function... as chunking strategy is CUSTOM\n",
      "{'ResponseMetadata': {'RequestId': '2a5dd03b-c040-4aaa-9aea-8b1b16b8591a', 'HTTPStatusCode': 201, 'HTTPHeaders': {'date': 'Tue, 29 Jul 2025 07:52:03 GMT', 'content-type': 'application/json', 'content-length': '1420', 'connection': 'keep-alive', 'x-amzn-requestid': '2a5dd03b-c040-4aaa-9aea-8b1b16b8591a'}, 'RetryAttempts': 0}, 'FunctionName': 'custom-chunking-kb-lambda-9072955', 'FunctionArn': 'arn:aws:lambda:us-west-2:211125368524:function:custom-chunking-kb-lambda-9072955', 'Runtime': 'python3.12', 'Role': 'arn:aws:iam::211125368524:role/custom-chunking-kb-9072955-lambda-role-9072955-c', 'Handler': 'lambda_function.lambda_handler', 'CodeSize': 3465, 'Description': '', 'Timeout': 60, 'MemorySize': 128, 'LastModified': '2025-07-29T07:52:03.767+0000', 'CodeSha256': 'jNvBgpC3jdoH7KBlBO34dhZsA+YXdvR7Bf9wFvJabWA=', 'Version': '$LATEST', 'TracingConfig': {'Mode': 'PassThrough'}, 'RevisionId': '4246014f-d734-4834-b6e6-24559ec4887c', 'State': 'Pending', 'StateReason': 'The function is being created.', 'StateReasonCode': 'Creating', 'PackageType': 'Zip', 'Architectures': ['x86_64'], 'EphemeralStorage': {'Size': 512}, 'SnapStart': {'ApplyOn': 'None', 'OptimizationStatus': 'Off'}, 'RuntimeVersionConfig': {'RuntimeVersionArn': 'arn:aws:lambda:us-west-2::runtime:aa140c0e9a9c41d993cb36eaf76013968a27ec935d7665a4368d6b0ba10a0f7e'}, 'LoggingConfig': {'LogFormat': 'Text', 'LogGroup': '/aws/lambda/custom-chunking-kb-lambda-9072955'}}\n",
      "Lambda function ARN: arn:aws:lambda:us-west-2:211125368524:function:custom-chunking-kb-lambda-9072955\n",
      "========================================================================================\n",
      "Step 5 - Creating Knowledge Base\n",
      "{ 'createdAt': datetime.datetime(2025, 7, 29, 7, 52, 4, 24733, tzinfo=tzlocal()),\n",
      "  'description': 'Knowledge Base containing complex PDF.',\n",
      "  'knowledgeBaseArn': 'arn:aws:bedrock:us-west-2:211125368524:knowledge-base/UADADKRAXE',\n",
      "  'knowledgeBaseConfiguration': { 'type': 'VECTOR',\n",
      "                                  'vectorKnowledgeBaseConfiguration': { 'embeddingModelArn': 'arn:aws:bedrock:us-west-2::foundation-model/amazon.titan-embed-text-v2:0'}},\n",
      "  'knowledgeBaseId': 'UADADKRAXE',\n",
      "  'name': 'custom-chunking-kb-9072955',\n",
      "  'roleArn': 'arn:aws:iam::211125368524:role/AmazonBedrockExecutionRoleForKnowledgeBase_9072955-c',\n",
      "  'status': 'CREATING',\n",
      "  'storageConfiguration': { 'opensearchServerlessConfiguration': { 'collectionArn': 'arn:aws:aoss:us-west-2:211125368524:collection/towlurvhc9pkv2602zkh',\n",
      "                                                                   'fieldMapping': { 'metadataField': 'text-metadata',\n",
      "                                                                                     'textField': 'text',\n",
      "                                                                                     'vectorField': 'vector'},\n",
      "                                                                   'vectorIndexName': 'bedrock-sample-rag-index-9072955-c'},\n",
      "                            'type': 'OPENSEARCH_SERVERLESS'},\n",
      "  'updatedAt': datetime.datetime(2025, 7, 29, 7, 52, 4, 24733, tzinfo=tzlocal())}\n",
      "Creating Data Sources\n",
      "{ 'createdAt': datetime.datetime(2025, 7, 29, 7, 52, 4, 24733, tzinfo=tzlocal()),\n",
      "  'description': 'Knowledge Base containing complex PDF.',\n",
      "  'knowledgeBaseArn': 'arn:aws:bedrock:us-west-2:211125368524:knowledge-base/UADADKRAXE',\n",
      "  'knowledgeBaseConfiguration': { 'type': 'VECTOR',\n",
      "                                  'vectorKnowledgeBaseConfiguration': { 'embeddingModelArn': 'arn:aws:bedrock:us-west-2::foundation-model/amazon.titan-embed-text-v2:0'}},\n",
      "  'knowledgeBaseId': 'UADADKRAXE',\n",
      "  'name': 'custom-chunking-kb-9072955',\n",
      "  'roleArn': 'arn:aws:iam::211125368524:role/AmazonBedrockExecutionRoleForKnowledgeBase_9072955-c',\n",
      "  'status': 'ACTIVE',\n",
      "  'storageConfiguration': { 'opensearchServerlessConfiguration': { 'collectionArn': 'arn:aws:aoss:us-west-2:211125368524:collection/towlurvhc9pkv2602zkh',\n",
      "                                                                   'fieldMapping': { 'metadataField': 'text-metadata',\n",
      "                                                                                     'textField': 'text',\n",
      "                                                                                     'vectorField': 'vector'},\n",
      "                                                                   'vectorIndexName': 'bedrock-sample-rag-index-9072955-c'},\n",
      "                            'type': 'OPENSEARCH_SERVERLESS'},\n",
      "  'updatedAt': datetime.datetime(2025, 7, 29, 7, 52, 4, 24733, tzinfo=tzlocal())}\n",
      "Creating Data Sources\n",
      "1 data source: S3\n",
      "============Chunking config========\n",
      " {'customTransformationConfiguration': {'intermediateStorage': {'s3Location': {'uri': 's3://standard-kb-intermediate-9072955/'}}, 'transformations': [{'transformationFunction': {'transformationLambdaConfiguration': {'lambdaArn': 'arn:aws:lambda:us-west-2:211125368524:function:custom-chunking-kb-lambda-9072955'}}, 'stepToApply': 'POST_CHUNKING'}]}, 'chunkingConfiguration': {'chunkingStrategy': 'NONE'}}\n",
      "{ 'createdAt': datetime.datetime(2025, 7, 29, 7, 52, 5, 918745, tzinfo=tzlocal()),\n",
      "  'dataDeletionPolicy': 'DELETE',\n",
      "  'dataSourceConfiguration': { 's3Configuration': { 'bucketArn': 'arn:aws:s3:::standard-kb-9072955'},\n",
      "                               'type': 'S3'},\n",
      "  'dataSourceId': 'EPVYU4TOPB',\n",
      "  'description': 'Knowledge Base containing complex PDF.',\n",
      "  'knowledgeBaseId': 'UADADKRAXE',\n",
      "  'name': 'UADADKRAXE-s3',\n",
      "  'status': 'AVAILABLE',\n",
      "  'updatedAt': datetime.datetime(2025, 7, 29, 7, 52, 5, 918745, tzinfo=tzlocal()),\n",
      "  'vectorIngestionConfiguration': { 'chunkingConfiguration': { 'chunkingStrategy': 'NONE'},\n",
      "                                    'customTransformationConfiguration': { 'intermediateStorage': { 's3Location': { 'uri': 's3://standard-kb-intermediate-9072955/'}},\n",
      "                                                                           'transformations': [ { 'stepToApply': 'POST_CHUNKING',\n",
      "                                                                                                  'transformationFunction': { 'transformationLambdaConfiguration': { 'lambdaArn': 'arn:aws:lambda:us-west-2:211125368524:function:custom-chunking-kb-lambda-9072955'}}}]}}}\n",
      "[ { 'createdAt': datetime.datetime(2025, 7, 29, 7, 52, 5, 918745, tzinfo=tzlocal()),\n",
      "    'dataDeletionPolicy': 'DELETE',\n",
      "    'dataSourceConfiguration': { 's3Configuration': { 'bucketArn': 'arn:aws:s3:::standard-kb-9072955'},\n",
      "                                 'type': 'S3'},\n",
      "    'dataSourceId': 'EPVYU4TOPB',\n",
      "    'description': 'Knowledge Base containing complex PDF.',\n",
      "    'knowledgeBaseId': 'UADADKRAXE',\n",
      "    'name': 'UADADKRAXE-s3',\n",
      "    'status': 'AVAILABLE',\n",
      "    'updatedAt': datetime.datetime(2025, 7, 29, 7, 52, 5, 918745, tzinfo=tzlocal()),\n",
      "    'vectorIngestionConfiguration': { 'chunkingConfiguration': { 'chunkingStrategy': 'NONE'},\n",
      "                                      'customTransformationConfiguration': { 'intermediateStorage': { 's3Location': { 'uri': 's3://standard-kb-intermediate-9072955/'}},\n",
      "                                                                             'transformations': [ { 'stepToApply': 'POST_CHUNKING',\n",
      "                                                                                                    'transformationFunction': { 'transformationLambdaConfiguration': { 'lambdaArn': 'arn:aws:lambda:us-west-2:211125368524:function:custom-chunking-kb-lambda-9072955'}}}]}}}]\n",
      "========================================================================================\n"
     ]
    }
   ],
   "source": [
    "knowledge_base_custom = BedrockKnowledgeBase(\n",
    "    kb_name=f'{knowledge_base_name_custom}-{suffix}',\n",
    "    kb_description=knowledge_base_description,\n",
    "    data_sources=data_source,\n",
    "    lambda_function_name=lambda_function_name,\n",
    "    intermediate_bucket_name=intermediate_bucket_name, \n",
    "    chunking_strategy = \"CUSTOM\", \n",
    "    suffix = f'{suffix}-c'\n",
    ")"
   ]
  },
  {
   "cell_type": "markdown",
   "metadata": {},
   "source": [
    "이제 수집 작업을 시작하겠습니다."
   ]
  },
  {
   "cell_type": "code",
   "execution_count": 54,
   "metadata": {
    "execution": {
     "iopub.execute_input": "2025-07-29T08:40:14.211166Z",
     "iopub.status.busy": "2025-07-29T08:40:14.210758Z",
     "iopub.status.idle": "2025-07-29T08:41:26.035949Z",
     "shell.execute_reply": "2025-07-29T08:41:26.035312Z",
     "shell.execute_reply.started": "2025-07-29T08:40:14.211126Z"
    }
   },
   "outputs": [
    {
     "name": "stdout",
     "output_type": "stream",
     "text": [
      "job 1 started successfully\n",
      "\n",
      "{ 'dataSourceId': 'EPVYU4TOPB',\n",
      "  'ingestionJobId': 'X2HP25PTRQ',\n",
      "  'knowledgeBaseId': 'UADADKRAXE',\n",
      "  'startedAt': datetime.datetime(2025, 7, 29, 8, 40, 45, 168183, tzinfo=tzlocal()),\n",
      "  'statistics': { 'numberOfDocumentsDeleted': 0,\n",
      "                  'numberOfDocumentsFailed': 0,\n",
      "                  'numberOfDocumentsScanned': 2,\n",
      "                  'numberOfMetadataDocumentsModified': 0,\n",
      "                  'numberOfMetadataDocumentsScanned': 0,\n",
      "                  'numberOfModifiedDocumentsIndexed': 0,\n",
      "                  'numberOfNewDocumentsIndexed': 0},\n",
      "  'status': 'COMPLETE',\n",
      "  'updatedAt': datetime.datetime(2025, 7, 29, 8, 40, 45, 941997, tzinfo=tzlocal())}\n",
      "........................................"
     ]
    }
   ],
   "source": [
    "# ensure that the kb is available\n",
    "time.sleep(30)\n",
    "# sync knowledge base\n",
    "knowledge_base_custom.start_ingestion_job()"
   ]
  },
  {
   "cell_type": "code",
   "execution_count": 55,
   "metadata": {
    "execution": {
     "iopub.execute_input": "2025-07-29T08:41:29.184237Z",
     "iopub.status.busy": "2025-07-29T08:41:29.183615Z",
     "iopub.status.idle": "2025-07-29T08:41:29.188241Z",
     "shell.execute_reply": "2025-07-29T08:41:29.187405Z",
     "shell.execute_reply.started": "2025-07-29T08:41:29.184210Z"
    }
   },
   "outputs": [
    {
     "name": "stdout",
     "output_type": "stream",
     "text": [
      "'UADADKRAXE'\n"
     ]
    }
   ],
   "source": [
    "kb_id_custom = knowledge_base_custom.get_knowledge_base_id()"
   ]
  },
  {
   "cell_type": "markdown",
   "metadata": {},
   "source": [
    "### 5.2 지식 베이스 테스트\n",
    "이제 지식 베이스를 사용할 수 있게 되었으므로 [**retrieve**](https://boto3.amazonaws.com/v1/documentation/api/latest/reference/services/bedrock-agent-runtime/client/retrieve.html)와 [**retrieve_and_generate**](https://boto3.amazonaws.com/v1/documentation/api/latest/reference/services/bedrock-agent-runtime/client/retrieve_and_generate.html) 함수를 사용하여 테스트해볼 수 있습니다.\n",
    "\n",
    "#### Retrieve and Generate API를 사용한 지식 베이스 테스트\n",
    "\n",
    "먼저 retrieve and generate API를 사용하여 지식 베이스를 테스트해보겠습니다. 이 API를 사용하면 Bedrock이 지식 베이스에서 필요한 참조를 검색하고 Bedrock의 기초 모델을 사용하여 최종 답변을 생성하는 작업을 처리합니다.\n",
    "\n",
    "query = \n",
    "\n",
    "`Provide a summary of consolidated statements of cash flows of Octank Financial for the fiscal years ended December 31, 2019.`\n",
    "\n",
    "`2019년 12월 31일로 종료된 회계연도의 Octank Financial의 연결 현금흐름표에 대한 요약을 제공하세요.`\n",
    "\n",
    "실제 QA 쌍에 따른 이 쿼리에 대한 올바른 응답은 다음과 같습니다:\n",
    "\n",
    "```\n",
    "The cash flow statement for Octank Financial in the year ended December 31, 2019 reveals the following:\n",
    "- Cash generated from operating activities amounted to $710 million, which can be attributed to a $700 million profit and non-cash charges such as depreciation and amortization.\n",
    "- Cash outflow from investing activities totaled $240 million, with major expenditures being the acquisition of property, plant, and equipment ($200 million) and marketable securities ($60 million), partially offset by the sale of property, plant, and equipment ($40 million) and maturing marketable securities ($20 million).\n",
    "- Financing activities resulted in a cash inflow of $350 million, stemming from the issuance of common stock ($200 million) and long-term debt ($300 million), while common stock repurchases ($50 million) and long-term debt payments ($100 million) reduced the cash inflow. \n",
    "Overall, Octank Financial experienced a net cash enhancement of $120 million in 2019, bringing their total cash and cash equivalents to $210 million.\n",
    "```\n",
    "```\n",
    "2019년 12월 31일로 종료된 연도의 Octank Financial 현금흐름표는 다음과 같습니다:\n",
    "- 영업활동으로 인한 현금 창출액은 7억 1천만 달러로, 이는 7억 달러의 이익과 감가상각비 및 상각비와 같은 비현금성 지출에 기인합니다.\n",
    "- 투자활동으로 인한 현금 유출액은 2억 4천만 달러로, 주요 지출은 유형자산 취득(2억 달러)과 시장성 있는 유가증권 취득(6천만 달러)이며, 이는 유형자산 매각(4천만 달러)과 만기 도래한 시장성 있는 유가증권(2천만 달러)으로 일부 상쇄되었습니다.\n",
    "- 재무활동으로 인한 현금 유입액은 3억 5천만 달러로, 이는 보통주 발행(2억 달러)과 장기 부채 발행(3억 달러)에서 발생했으며, 보통주 자사주 매입(5천만 달러)과 장기 부채 상환(1억 달러)으로 현금 유입이 감소했습니다.\n",
    "전반적으로 Octank Financial은 2019년에 1억 2천 2천만 달러의 순현금 증가를 경험했으며, 이로 인해 총 현금 및 현금성 자산이 2억 1천만 달러가 되었습니다.\n",
    "```"
   ]
  },
  {
   "cell_type": "code",
   "execution_count": 56,
   "metadata": {
    "execution": {
     "iopub.execute_input": "2025-07-29T08:41:30.608507Z",
     "iopub.status.busy": "2025-07-29T08:41:30.607863Z",
     "iopub.status.idle": "2025-07-29T08:41:50.832209Z",
     "shell.execute_reply": "2025-07-29T08:41:50.831257Z",
     "shell.execute_reply.started": "2025-07-29T08:41:30.608477Z"
    }
   },
   "outputs": [
    {
     "name": "stdout",
     "output_type": "stream",
     "text": [
      "2024년 기준으로 노후기간이 30년 이상 된 주택의 비율은 전남(42.8%), 경북(37.7%), 강원(32.4%), 경남(32.3%) 등 지방에서 높게 나타났습니다. 반면 세종(7.5%)과 경기(17.9%)는 상대적으로 낮은 비율을 보였습니다. 주택 유형별로는 단독주택이 57.9%로 가장 높은 노후율을 보였고, 아파트는 19.4%로 가장 낮았습니다. 이러한 지역별, 유형별 노후주택 비율의 차이는 지역의 인구 및 가구 특성과 연관될 수 있습니다. 대도시나 신도시 지역은 상대적으로 최근에 아파트 단지가 많이 건설되어 노후주택 비율이 낮은 반면, 농촌 지역은 오래된 단독주택이 많아 노후주택 비율이 높습니다. 또한 1인 가구나 고령 가구 비율이 높은 지역일수록 노후주택 거주 비율이 높을 것으로 예상됩니다.\n",
      "\n"
     ]
    }
   ],
   "source": [
    "time.sleep(10)\n",
    "\n",
    "response = bedrock_agent_runtime_client.retrieve_and_generate(\n",
    "    input={\n",
    "        \"text\": query\n",
    "    },\n",
    "    retrieveAndGenerateConfiguration={\n",
    "        \"type\": \"KNOWLEDGE_BASE\",\n",
    "        \"knowledgeBaseConfiguration\": {\n",
    "            'knowledgeBaseId': kb_id_custom,\n",
    "            \"modelArn\": \"arn:aws:bedrock:{}::foundation-model/{}\".format(region, foundation_model),\n",
    "            \"retrievalConfiguration\": {\n",
    "                \"vectorSearchConfiguration\": {\n",
    "                    \"numberOfResults\":5\n",
    "                } \n",
    "            }\n",
    "        }\n",
    "    }\n",
    ")\n",
    "\n",
    "print(response['output']['text'],end='\\n'*2)"
   ]
  },
  {
   "cell_type": "markdown",
   "metadata": {},
   "source": [
    "보시다시피, `RetrieveAndGenerate API`를 사용하면 최종 응답을 직접 얻을 수 있습니다. 이제 `RetrieveAndGenerate API`의 인용을 살펴보겠습니다. 이 노트북의 주요 초점은 모델이 응답을 생성하는 동안 검색된 청크들과 반환된 인용을 관찰하는 것입니다. 쿼리와 함께 관련 컨텍스트를 기초 모델에 제공하면, 높은 품질의 응답을 생성할 가능성이 높아집니다."
   ]
  },
  {
   "cell_type": "code",
   "execution_count": 57,
   "metadata": {
    "execution": {
     "iopub.execute_input": "2025-07-29T08:41:54.838141Z",
     "iopub.status.busy": "2025-07-29T08:41:54.837872Z",
     "iopub.status.idle": "2025-07-29T08:41:54.842141Z",
     "shell.execute_reply": "2025-07-29T08:41:54.841508Z",
     "shell.execute_reply.started": "2025-07-29T08:41:54.838120Z"
    }
   },
   "outputs": [
    {
     "name": "stdout",
     "output_type": "stream",
     "text": [
      "# of citations or chunks used to generate the response:  2\n",
      "Chunk 1:  -❍ 시도별 노후기간이 30년 이상 된 주택 비율은 전남 42.8%(362천호), 경북 37.7%(426천호) 순으로 높으며, 세종이 7.5%(12천 호)로 가장 낮음 < 표 43 > 시도 및 노후기간별 주택, 2024년 (단위 : 천 호, %) 시 도 총주택 20년 이상 된 주택 30년 이상 된 주택 비율* 비율* 전 국 19,873 10,908 54.9 5,574 28.0 서 울 3,170 1,867 58.9 897 28.3 부 산 1,350 799 59.2 433 32.1 대 구 904 518 57.3 266 29.4 인 천 1,153 614 53.2 346 30.1 광 주 568 324 57.1 164 28.9 대 전 524 324 61.9 191 36.5 울 산 412 238 57.9\n",
      "\n",
      "Chunk 1 Location:  {'s3Location': {'uri': 's3://standard-kb-9072955/2024_population.pdf'}, 'type': 'S3'}\n",
      "\n",
      "Chunk 1 Metadata:  {'x-amz-bedrock-kb-source-uri': 's3://standard-kb-9072955/2024_population.pdf', 'x-amz-bedrock-kb-document-page-number': 1.0, 'x-amz-bedrock-kb-chunk-id': '1%3A0%3AQbMrVZgBBdp4KKBjjJJ_', 'x-amz-bedrock-kb-data-source-id': 'EPVYU4TOPB'}\n",
      "\n",
      "Chunk 2:  52.2 53.7 54.9 6.9 - 1.2 - 20~30년 미만 29.9 29.7 29.0 28.8 27.9 26.8 -3.0 - -1.0 - 30년 이상 18.2 19.4 21.1 23.5 25.8 28.0 9.9 - 2.2 - * 노후기간은 11월 1일 기준으로 산정한 기간임 - 64 -❍ 주택종류별 노후기간이 30년 이상 된 주택은 단독주택이 57.9%(2,226천호), 아파트는 19.4%(2,517천호)를 차지함 - 연립ㆍ다세대 주택과 비주거용 건물 내 주택은 30년 이상 된 주택 비율이 각각 25.7%(731천 호), 47.7%(101천 호) 임 < 표 42 > 노후기간 및 주택종류별 주택, 2024년 (단위 : 천 호, %) 노후기간 총주택 단독주택 아파트 연립/다세대 비주거용 건물내주택 주 택 총주택 19,873 3,841 12,974 2,846 211 20년\n",
      "\n",
      "Chunk 2 Location:  {'s3Location': {'uri': 's3://standard-kb-9072955/2024_population.pdf'}, 'type': 'S3'}\n",
      "\n",
      "Chunk 2 Metadata:  {'x-amz-bedrock-kb-source-uri': 's3://standard-kb-9072955/2024_population.pdf', 'x-amz-bedrock-kb-document-page-number': 1.0, 'x-amz-bedrock-kb-chunk-id': '1%3A0%3AP7MrVZgBBdp4KKBjjJJ_', 'x-amz-bedrock-kb-data-source-id': 'EPVYU4TOPB'}\n",
      "\n"
     ]
    }
   ],
   "source": [
    "response_custom = response['citations'][0]['retrievedReferences']\n",
    "print(\"# of citations or chunks used to generate the response: \", len(response_custom))\n",
    "citations_rag_print(response_custom)"
   ]
  },
  {
   "cell_type": "markdown",
   "metadata": {},
   "source": [
    "이제 retrieve API를 사용하여 지식 베이스에서 소스 정보를 검색해보겠습니다.\n",
    "\n",
    "#### Retrieve API를 사용한 지식 베이스 테스트\n",
    "만약 추가적인 제어 계층이 필요한 경우, retrieve API를 사용하여 쿼리와 가장 잘 일치하는 청크들을 검색할 수 있습니다. 이 설정에서는 원하는 결과 수를 구성하고 자체 애플리케이션 로직으로 최종 답변을 제어할 수 있습니다. 그러면 API는 일치하는 콘텐츠, 해당 S3 위치, 유사도 점수 및 청크 메타데이터를 제공합니다."
   ]
  },
  {
   "cell_type": "code",
   "execution_count": 58,
   "metadata": {
    "execution": {
     "iopub.execute_input": "2025-07-29T08:41:58.426475Z",
     "iopub.status.busy": "2025-07-29T08:41:58.426107Z",
     "iopub.status.idle": "2025-07-29T08:41:58.721910Z",
     "shell.execute_reply": "2025-07-29T08:41:58.721015Z",
     "shell.execute_reply.started": "2025-07-29T08:41:58.426449Z"
    }
   },
   "outputs": [
    {
     "name": "stdout",
     "output_type": "stream",
     "text": [
      "# of citations or chunks used to generate the response:  5\n",
      "Chunk 1:  52.2 53.7 54.9 6.9 - 1.2 - 20~30년 미만 29.9 29.7 29.0 28.8 27.9 26.8 -3.0 - -1.0 - 30년 이상 18.2 19.4 21.1 23.5 25.8 28.0 9.9 - 2.2 - * 노후기간은 11월 1일 기준으로 산정한 기간임 - 64 -❍ 주택종류별 노후기간이 30년 이상 된 주택은 단독주택이 57.9%(2,226천호), 아파트는 19.4%(2,517천호)를 차지함 - 연립ㆍ다세대 주택과 비주거용 건물 내 주택은 30년 이상 된 주택 비율이 각각 25.7%(731천 호), 47.7%(101천 호) 임 < 표 42 > 노후기간 및 주택종류별 주택, 2024년 (단위 : 천 호, %) 노후기간 총주택 단독주택 아파트 연립/다세대 비주거용 건물내주택 주 택 총주택 19,873 3,841 12,974 2,846 211 20년\n",
      "\n",
      "Chunk 1 Location:  {'s3Location': {'uri': 's3://standard-kb-9072955/2024_population.pdf'}, 'type': 'S3'}\n",
      "\n",
      "Chunk 1 Score:  0.57461923\n",
      "\n",
      "Chunk 1 Metadata:  {'x-amz-bedrock-kb-source-uri': 's3://standard-kb-9072955/2024_population.pdf', 'x-amz-bedrock-kb-document-page-number': 1.0, 'x-amz-bedrock-kb-chunk-id': '1%3A0%3AP7MrVZgBBdp4KKBjjJJ_', 'x-amz-bedrock-kb-data-source-id': 'EPVYU4TOPB'}\n",
      "\n",
      "Chunk 2:  52.2 53.7 54.9 6.9 - 1.2 - 20~30년 미만 29.9 29.7 29.0 28.8 27.9 26.8 -3.0 - -1.0 - 30년 이상 18.2 19.4 21.1 23.5 25.8 28.0 9.9 - 2.2 - * 노후기간은 11월 1일 기준으로 산정한 기간임 - 64 -❍ 주택종류별 노후기간이 30년 이상 된 주택은 단독주택이 57.9%(2,226천호), 아파트는 19.4%(2,517천호)를 차지함 - 연립ㆍ다세대 주택과 비주거용 건물 내 주택은 30년 이상 된 주택 비율이 각각 25.7%(731천 호), 47.7%(101천 호) 임 < 표 42 > 노후기간 및 주택종류별 주택, 2024년 (단위 : 천 호, %) 노후기간 총주택 단독주택 아파트 연립/다세대 비주거용 건물내주택 주 택 총주택 19,873 3,841 12,974 2,846 211 20년\n",
      "\n",
      "Chunk 2 Location:  {'s3Location': {'uri': 's3://standard-kb-9072955/2024_population-checkpoint.pdf'}, 'type': 'S3'}\n",
      "\n",
      "Chunk 2 Score:  0.57461923\n",
      "\n",
      "Chunk 2 Metadata:  {'x-amz-bedrock-kb-source-uri': 's3://standard-kb-9072955/2024_population-checkpoint.pdf', 'x-amz-bedrock-kb-document-page-number': 1.0, 'x-amz-bedrock-kb-chunk-id': '1%3A0%3Ar7MrVZgBBdp4KKBjkpJ9', 'x-amz-bedrock-kb-data-source-id': 'EPVYU4TOPB'}\n",
      "\n",
      "Chunk 3:  122 29.5 세 종 158 23 14.4 12 7.5 경 기 4,962 2,267 45.7 887 17.9 강 원 684 405 59.1 222 32.4 충 북 686 376 54.9 212 30.9 충 남 948 488 51.5 243 25.7 전 북 774 499 64.6 281 36.3 전 남 847 546 64.5 362 42.8 경 북 1,129 714 63.2 426 37.7 경 남 1,342 774 57.7 434 32.3 제 주 263 131 50.0 76 29.0 * 총주택 대비 해당 노후기간 주택 비율임 < 그림 49 > 시도 및 노후기간별 주택 비율, 2024년 [ 노후기간 20년 이상 및 30년 이상 주택 비율 ] [\n",
      "\n",
      "Chunk 3 Location:  {'s3Location': {'uri': 's3://standard-kb-9072955/2024_population-checkpoint.pdf'}, 'type': 'S3'}\n",
      "\n",
      "Chunk 3 Score:  0.5494\n",
      "\n",
      "Chunk 3 Metadata:  {'x-amz-bedrock-kb-source-uri': 's3://standard-kb-9072955/2024_population-checkpoint.pdf', 'x-amz-bedrock-kb-document-page-number': 1.0, 'x-amz-bedrock-kb-chunk-id': '1%3A0%3AsrMrVZgBBdp4KKBjkpJ9', 'x-amz-bedrock-kb-data-source-id': 'EPVYU4TOPB'}\n",
      "\n",
      "Chunk 4:  122 29.5 세 종 158 23 14.4 12 7.5 경 기 4,962 2,267 45.7 887 17.9 강 원 684 405 59.1 222 32.4 충 북 686 376 54.9 212 30.9 충 남 948 488 51.5 243 25.7 전 북 774 499 64.6 281 36.3 전 남 847 546 64.5 362 42.8 경 북 1,129 714 63.2 426 37.7 경 남 1,342 774 57.7 434 32.3 제 주 263 131 50.0 76 29.0 * 총주택 대비 해당 노후기간 주택 비율임 < 그림 49 > 시도 및 노후기간별 주택 비율, 2024년 [ 노후기간 20년 이상 및 30년 이상 주택 비율 ] [\n",
      "\n",
      "Chunk 4 Location:  {'s3Location': {'uri': 's3://standard-kb-9072955/2024_population.pdf'}, 'type': 'S3'}\n",
      "\n",
      "Chunk 4 Score:  0.5494\n",
      "\n",
      "Chunk 4 Metadata:  {'x-amz-bedrock-kb-source-uri': 's3://standard-kb-9072955/2024_population.pdf', 'x-amz-bedrock-kb-document-page-number': 1.0, 'x-amz-bedrock-kb-chunk-id': '1%3A0%3AQrMrVZgBBdp4KKBjjJJ_', 'x-amz-bedrock-kb-data-source-id': 'EPVYU4TOPB'}\n",
      "\n",
      "Chunk 5:  -❍ 시도별 노후기간이 30년 이상 된 주택 비율은 전남 42.8%(362천호), 경북 37.7%(426천호) 순으로 높으며, 세종이 7.5%(12천 호)로 가장 낮음 < 표 43 > 시도 및 노후기간별 주택, 2024년 (단위 : 천 호, %) 시 도 총주택 20년 이상 된 주택 30년 이상 된 주택 비율* 비율* 전 국 19,873 10,908 54.9 5,574 28.0 서 울 3,170 1,867 58.9 897 28.3 부 산 1,350 799 59.2 433 32.1 대 구 904 518 57.3 266 29.4 인 천 1,153 614 53.2 346 30.1 광 주 568 324 57.1 164 28.9 대 전 524 324 61.9 191 36.5 울 산 412 238 57.9\n",
      "\n",
      "Chunk 5 Location:  {'s3Location': {'uri': 's3://standard-kb-9072955/2024_population.pdf'}, 'type': 'S3'}\n",
      "\n",
      "Chunk 5 Score:  0.5320175\n",
      "\n",
      "Chunk 5 Metadata:  {'x-amz-bedrock-kb-source-uri': 's3://standard-kb-9072955/2024_population.pdf', 'x-amz-bedrock-kb-document-page-number': 1.0, 'x-amz-bedrock-kb-chunk-id': '1%3A0%3AQbMrVZgBBdp4KKBjjJJ_', 'x-amz-bedrock-kb-data-source-id': 'EPVYU4TOPB'}\n",
      "\n"
     ]
    }
   ],
   "source": [
    "response_custom_ret = bedrock_agent_runtime_client.retrieve(\n",
    "    knowledgeBaseId=kb_id_custom, \n",
    "    nextToken='string',\n",
    "    retrievalConfiguration={\n",
    "        \"vectorSearchConfiguration\": {\n",
    "            \"numberOfResults\":5,\n",
    "        } \n",
    "    },\n",
    "    retrievalQuery={\n",
    "        'text': query\n",
    "    }\n",
    ")\n",
    "print(\"# of citations or chunks used to generate the response: \", len(response_custom_ret['retrievalResults']))\n",
    "response_print(response_custom_ret)"
   ]
  },
  {
   "cell_type": "markdown",
   "metadata": {},
   "source": [
    "모든 경우에서 하나의 쿼리를 평가할 때 정확한 응답을 얻었습니다. 하지만 RAG 애플리케이션을 구축할 때는 정확도 향상을 파악하기 위해 많은 수의 질문과 답변으로 평가해야 합니다. 다음 단계에서는 오픈 소스 프레임워크인 RAG Assessment(RAGAS)를 사용하여 컨텍스트 또는 검색 결과의 품질을 평가하는 지표에 대해 `your dataset`에서 응답을 평가할 것입니다.\n",
    "다음 2가지 지표에만 초점을 맞출 것입니다:\n",
    "\n",
    "1. 컨텍스트 재현율(Context recall)\n",
    "2. 컨텍스트 관련성(Context relevancy)"
   ]
  },
  {
   "cell_type": "markdown",
   "metadata": {},
   "source": [
    "## 6. RAG Assessment(RAGAS) 프레임워크를 사용하여 데이터셋의 검색 결과 평가\n",
    "RAGAS 프레임워크를 사용하여 각 청킹 전략에 대한 결과를 평가할 수 있습니다. 이 접근 방식은 귀하의 데이터셋에 어떤 청킹 전략을 사용할지에 대한 사실적인 지침을 제공하는 데 도움이 될 수 있습니다.\n",
    "\n",
    "이상적으로는 다른 매개변수도 최적화를 고려해야 합니다. 예를 들어 계층적 청킹의 경우 상위 청크나 하위 청크에 대해 다른 크기를 시도해 보아야 합니다.\n",
    "\n",
    "아래 접근 방식은 Amazon Bedrock Knowledge Bases가 권장하는 기본 매개변수를 기반으로 어떤 전략을 사용할 수 있는지에 대한 휴리스틱을 제공할 것입니다."
   ]
  },
  {
   "cell_type": "markdown",
   "metadata": {},
   "source": [
    "#### 평가\n",
    "이 섹션에서는 RAGAS를 활용하여 다음 지표들을 사용해 검색 결과를 평가할 것입니다:\n",
    "1. **컨텍스트 재현율(Context Recall)**: 컨텍스트 재현율은 검색된 컨텍스트가 실제 정답(ground truth)으로 취급되는 주석이 달린 답변과 얼마나 일치하는지를 측정합니다. 이는 실제 정답과 검색된 컨텍스트를 기반으로 계산되며, 값은 0에서 1 사이이고 높을수록 더 나은 성능을 나타냅니다.\n",
    "\n",
    "2. **컨텍스트 관련성(Context relevancy)**: 이 지표는 검색된 컨텍스트의 관련성을 측정하며, 질문과 컨텍스트를 모두 기반으로 계산됩니다. 값은 (0, 1) 범위 내에 있으며, 높을수록 더 나은 관련성을 나타냅니다."
   ]
  },
  {
   "cell_type": "code",
   "execution_count": 73,
   "metadata": {
    "execution": {
     "iopub.execute_input": "2025-07-29T08:50:55.529933Z",
     "iopub.status.busy": "2025-07-29T08:50:55.529492Z",
     "iopub.status.idle": "2025-07-29T08:50:55.535362Z",
     "shell.execute_reply": "2025-07-29T08:50:55.534864Z",
     "shell.execute_reply.started": "2025-07-29T08:50:55.529908Z"
    }
   },
   "outputs": [
    {
     "name": "stdout",
     "output_type": "stream",
     "text": [
      "평가 모델: anthropic.claude-3-sonnet-20240229-v1:0\n",
      "생성 모델: anthropic.claude-3-haiku-20240307-v1:0\n",
      "평가 질문 수: 1\n",
      "정답 수: 1\n"
     ]
    }
   ],
   "source": [
    "from datetime import datetime\n",
    "\n",
    "# 모델 ID 설정\n",
    "MODEL_ID_EVAL = \"anthropic.claude-3-sonnet-20240229-v1:0\"\n",
    "MODEL_ID_GEN = \"anthropic.claude-3-haiku-20240307-v1:0\"\n",
    "\n",
    "print(f\"평가 모델: {MODEL_ID_EVAL}\")\n",
    "print(f\"생성 모델: {MODEL_ID_GEN}\")\n",
    "\n",
    "# 평가 질문과 정답\n",
    "questions = [\n",
    "    \"2024년 시도별 인구・가구・주택 특성을 종합적으로 비교 분석하시오.(단, 각 시도의 연령구조, 1인가구 비율, 주택 노후도, 외국인 비율을 모두 포함하여 상위 3개 지역과 하위 3개 지역을 각각 제시하고, 이들 간의 특성 차이를 설명하시오)\",\n",
    "]\n",
    "\n",
    "ground_truths = [\n",
    "    \"2024년 시도별 특성을 종합 분석하면 다음과 같습니다:\\\n",
    "    고령화 측면(고령인구 비율)\\\n",
    "    상위: 전남(26.3%), 경북(24.9%), 강원(24.6%)\\\n",
    "    하위: 세종(11.1%), 울산(16.8%), 경기(16.3%)\\\n",
    "    1인가구 비율\\\n",
    "    상위: 서울(39.9%), 강원(39.4%), 대전(39.8%)\\\n",
    "    하위: 세종(32.9%), 울산(31.6%), 경기(31.7%)\\\n",
    "    주택 노후도(30년 이상)\\\n",
    "    상위: 전남(42.8%), 경북(37.7%), 대전(36.5%)\\\n",
    "    하위: 세종(7.5%), 경기(17.9%), 충남(25.7%)\\\n",
    "    외국인 비율\\\n",
    "    상위: 경기(4.9%), 서울(3.9%), 충남(6.2%)\\\n",
    "    하위: 대전(2.1%), 대구(1.9%), 부산(2.1%)\\\n",
    "    지역별 특성 분석:\\\n",
    "    대도시권\\\n",
    "    서울: 1인가구 비율(39.9%)과 외국인 비율(3.9%)이 높으나, 주택 노후도도 높음\\\n",
    "    경기: 외국인 비율이 높고(4.9%) 주택 노후도는 낮으나(17.9%), 1인가구 비율은 낮음(31.7%)\\\n",
    "    인천: 중간적 특성을 보이나 외국인 비율이 높음(4.2%)\\\n",
    "    신도시 특성\\\n",
    "    세종: 모든 지표에서 가장 낮은 수준(고령화율 11.1%, 주택노후도 7.5%)\\\n",
    "    울산: 1인가구 비율이 가장 낮고(31.6%) 고령화율도 낮음(16.8%)\\\n",
    "    농어촌 지역\\\n",
    "    전남: 고령화율(26.3%)과 주택노후도(42.8%) 모두 최고 수준\\\n",
    "    경북: 고령화율(24.9%)과 주택노후도(37.7%) 모두 높은 수준\\\n",
    "    지역간 격차의 주요 특성:\\\n",
    "    수도권-비수도권 격차\\\n",
    "    수도권: 외국인 비율이 높고 노후주택 비율이 낮음\\\n",
    "    비수도권: 고령화율과 노후주택 비율이 높음\\\n",
    "    도시-농촌 격차\\\n",
    "    도시지역: 1인가구 비율이 높고 주택노후도는 상대적으로 낮음\\\n",
    "    농촌지역: 고령화율과 주택노후도가 높음\\\n",
    "    신구도시 격차\\\n",
    "    신도시(세종 등): 모든 지표에서 양호한 수준\\\n",
    "    구도시(대전 등): 주택노후도와 1인가구 비율이 높음\\\n",
    "    이러한 지역별 특성은 각 지역의 산업구조, 개발시기, 인구이동 패턴 등이 복합적으로 작용한 결과로 볼 수 있습니다. 특히 수도권과 비수도권의 격차, 도시와 농촌의 격차가 뚜렷하게 나타나고 있으며, 이는 향후 지역별 맞춤형 정책 수립이 필요함을 시사합니다.\"\n",
    "]\n",
    "\n",
    "print(f\"평가 질문 수: {len(questions)}\")\n",
    "print(f\"정답 수: {len(ground_truths)}\")"
   ]
  },
  {
   "cell_type": "code",
   "execution_count": 74,
   "metadata": {
    "execution": {
     "iopub.execute_input": "2025-07-29T08:50:58.125043Z",
     "iopub.status.busy": "2025-07-29T08:50:58.124665Z",
     "iopub.status.idle": "2025-07-29T08:50:58.132326Z",
     "shell.execute_reply": "2025-07-29T08:50:58.131583Z",
     "shell.execute_reply.started": "2025-07-29T08:50:58.125016Z"
    }
   },
   "outputs": [
    {
     "name": "stdout",
     "output_type": "stream",
     "text": [
      "BedrockRAGEvaluator 클래스 정의 완료\n"
     ]
    }
   ],
   "source": [
    "class BedrockRAGEvaluator:\n",
    "    \"\"\"\n",
    "    Amazon Bedrock을 사용한 RAG 평가 클래스\n",
    "    \"\"\"\n",
    "    \n",
    "    def __init__(self, model_id_eval, model_id_generation, kb_id):\n",
    "        self.model_id_eval = model_id_eval\n",
    "        self.model_id_generation = model_id_generation\n",
    "        self.kb_id = kb_id\n",
    "        self.bedrock_client = boto3.client('bedrock-runtime')\n",
    "        self.bedrock_agent_runtime = boto3.client('bedrock-agent-runtime')\n",
    "    \n",
    "    def retrieve_and_generate(self, query):\n",
    "        \"\"\"Knowledge Base에서 답변 생성 및 컨텍스트 검색\"\"\"\n",
    "        try:\n",
    "            response = self.bedrock_agent_runtime.retrieve_and_generate(\n",
    "                input={'text': query},\n",
    "                retrieveAndGenerateConfiguration={\n",
    "                    'type': 'KNOWLEDGE_BASE',\n",
    "                    'knowledgeBaseConfiguration': {\n",
    "                        'knowledgeBaseId': self.kb_id,\n",
    "                        'modelArn': f'arn:aws:bedrock:us-west-2::foundation-model/{self.model_id_generation}',\n",
    "                        'retrievalConfiguration': {\n",
    "                            'vectorSearchConfiguration': {\n",
    "                                'numberOfResults': 5\n",
    "                            }\n",
    "                        }\n",
    "                    }\n",
    "                }\n",
    "            )\n",
    "            \n",
    "            generated_answer = response['output']['text']\n",
    "            retrieved_contexts = []\n",
    "            \n",
    "            # 검색된 컨텍스트 추출\n",
    "            if 'citations' in response:\n",
    "                for citation in response['citations']:\n",
    "                    if 'retrievedReferences' in citation:\n",
    "                        for ref in citation['retrievedReferences']:\n",
    "                            if 'content' in ref and 'text' in ref['content']:\n",
    "                                retrieved_contexts.append(ref['content']['text'])\n",
    "            \n",
    "            return generated_answer, retrieved_contexts\n",
    "            \n",
    "        except Exception as e:\n",
    "            print(f\"검색 및 생성 중 오류: {str(e)}\")\n",
    "            return None, []\n",
    "\n",
    "print(\"BedrockRAGEvaluator 클래스 정의 완료\")"
   ]
  },
  {
   "cell_type": "code",
   "execution_count": 75,
   "metadata": {
    "execution": {
     "iopub.execute_input": "2025-07-29T08:50:59.067514Z",
     "iopub.status.busy": "2025-07-29T08:50:59.067236Z",
     "iopub.status.idle": "2025-07-29T08:50:59.075577Z",
     "shell.execute_reply": "2025-07-29T08:50:59.073655Z",
     "shell.execute_reply.started": "2025-07-29T08:50:59.067492Z"
    }
   },
   "outputs": [
    {
     "name": "stdout",
     "output_type": "stream",
     "text": [
      "컨텍스트 재현율 평가 메서드 추가 완료\n"
     ]
    }
   ],
   "source": [
    "def evaluate_context_recall(self, question, ground_truth, contexts):\n",
    "    \"\"\"컨텍스트 재현율 평가\"\"\"\n",
    "    \n",
    "    recall_prompt = f\"\"\"\n",
    "    다음 질문에 대한 정답과 검색된 컨텍스트를 비교하여 컨텍스트 재현율(Context Recall)을 평가해주세요.\n",
    "\n",
    "    질문: {question}\n",
    "    \n",
    "    정답 (Ground Truth): {ground_truth}\n",
    "    \n",
    "    검색된 컨텍스트들:\n",
    "    {chr(10).join([f\"{i+1}. {ctx}\" for i, ctx in enumerate(contexts)])}\n",
    "    \n",
    "    컨텍스트 재현율은 정답에 포함된 정보 중 얼마나 많은 부분이 검색된 컨텍스트에서 찾을 수 있는지를 측정합니다.\n",
    "    \n",
    "    평가 기준:\n",
    "    - 1.0: 정답의 모든 핵심 정보가 컨텍스트에 포함됨\n",
    "    - 0.8: 정답의 대부분 정보가 컨텍스트에 포함됨\n",
    "    - 0.6: 정답의 절반 정도 정보가 컨텍스트에 포함됨\n",
    "    - 0.4: 정답의 일부 정보만 컨텍스트에 포함됨\n",
    "    - 0.2: 정답의 매우 적은 정보가 컨텍스트에 포함됨\n",
    "    - 0.0: 정답의 정보가 컨텍스트에 거의 포함되지 않음\n",
    "    \n",
    "    응답 형식 (JSON):\n",
    "    {{\n",
    "        \"context_recall_score\": 0.0-1.0,\n",
    "        \"missing_information\": [\"누락된 핵심 정보들\"],\n",
    "        \"found_information\": [\"컨텍스트에서 찾은 정보들\"],\n",
    "        \"explanation\": \"평가 근거 설명\"\n",
    "    }}\n",
    "    \"\"\"\n",
    "    \n",
    "    try:\n",
    "        response = self.bedrock_client.invoke_model(\n",
    "            modelId=self.model_id_eval,\n",
    "            body=json.dumps({\n",
    "                \"anthropic_version\": \"bedrock-2023-05-31\",\n",
    "                \"max_tokens\": 1500,\n",
    "                \"messages\": [{\"role\": \"user\", \"content\": recall_prompt}]\n",
    "            })\n",
    "        )\n",
    "        \n",
    "        result = json.loads(response['body'].read())\n",
    "        return result['content'][0]['text']\n",
    "        \n",
    "    except Exception as e:\n",
    "        return f\"컨텍스트 재현율 평가 중 오류: {str(e)}\"\n",
    "\n",
    "# BedrockRAGEvaluator 클래스에 메서드 추가\n",
    "BedrockRAGEvaluator.evaluate_context_recall = evaluate_context_recall\n",
    "\n",
    "print(\"컨텍스트 재현율 평가 메서드 추가 완료\")"
   ]
  },
  {
   "cell_type": "code",
   "execution_count": 76,
   "metadata": {
    "execution": {
     "iopub.execute_input": "2025-07-29T08:50:59.392306Z",
     "iopub.status.busy": "2025-07-29T08:50:59.391502Z",
     "iopub.status.idle": "2025-07-29T08:50:59.398524Z",
     "shell.execute_reply": "2025-07-29T08:50:59.397705Z",
     "shell.execute_reply.started": "2025-07-29T08:50:59.392263Z"
    }
   },
   "outputs": [
    {
     "name": "stdout",
     "output_type": "stream",
     "text": [
      "컨텍스트 정밀도 평가 메서드 추가 완료\n"
     ]
    }
   ],
   "source": [
    "def evaluate_context_precision(self, question, contexts):\n",
    "    \"\"\"컨텍스트 정밀도 평가\"\"\"\n",
    "    \n",
    "    precision_prompt = f\"\"\"\n",
    "    다음 질문에 대해 검색된 컨텍스트들의 관련성을 평가하여 컨텍스트 정밀도(Context Precision)를 계산해주세요.\n",
    "\n",
    "    질문: {question}\n",
    "    \n",
    "    검색된 컨텍스트들:\n",
    "    {chr(10).join([f\"{i+1}. {ctx}\" for i, ctx in enumerate(contexts)])}\n",
    "    \n",
    "    컨텍스트 정밀도는 검색된 컨텍스트 중 질문과 관련된 컨텍스트의 비율을 측정합니다.\n",
    "    \n",
    "    각 컨텍스트에 대해 다음과 같이 평가해주세요:\n",
    "    - 매우 관련성 높음 (1.0): 질문에 직접적으로 답변하는 정보 포함\n",
    "    - 관련성 높음 (0.8): 질문과 밀접한 관련이 있는 정보 포함\n",
    "    - 보통 관련성 (0.6): 질문과 어느 정도 관련된 정보 포함\n",
    "    - 낮은 관련성 (0.4): 질문과 약간의 관련성만 있음\n",
    "    - 매우 낮은 관련성 (0.2): 질문과 거의 관련 없음\n",
    "    - 관련성 없음 (0.0): 질문과 전혀 관련 없음\n",
    "    \n",
    "    응답 형식 (JSON):\n",
    "    {{\n",
    "        \"context_evaluations\": [\n",
    "            {{\"context_id\": 1, \"relevance_score\": 0.0-1.0, \"explanation\": \"관련성 설명\"}},\n",
    "            {{\"context_id\": 2, \"relevance_score\": 0.0-1.0, \"explanation\": \"관련성 설명\"}}\n",
    "        ],\n",
    "        \"overall_precision_score\": 0.0-1.0,\n",
    "        \"explanation\": \"전체 정밀도 평가 설명\"\n",
    "    }}\n",
    "    \"\"\"\n",
    "    \n",
    "    try:\n",
    "        response = self.bedrock_client.invoke_model(\n",
    "            modelId=self.model_id_eval,\n",
    "            body=json.dumps({\n",
    "                \"anthropic_version\": \"bedrock-2023-05-31\",\n",
    "                \"max_tokens\": 2000,\n",
    "                \"messages\": [{\"role\": \"user\", \"content\": precision_prompt}]\n",
    "            })\n",
    "        )\n",
    "        \n",
    "        result = json.loads(response['body'].read())\n",
    "        return result['content'][0]['text']\n",
    "        \n",
    "    except Exception as e:\n",
    "        return f\"컨텍스트 정밀도 평가 중 오류: {str(e)}\"\n",
    "\n",
    "# BedrockRAGEvaluator 클래스에 메서드 추가\n",
    "BedrockRAGEvaluator.evaluate_context_precision = evaluate_context_precision\n",
    "\n",
    "print(\"컨텍스트 정밀도 평가 메서드 추가 완료\")"
   ]
  },
  {
   "cell_type": "code",
   "execution_count": 77,
   "metadata": {
    "execution": {
     "iopub.execute_input": "2025-07-29T08:50:59.780300Z",
     "iopub.status.busy": "2025-07-29T08:50:59.779612Z",
     "iopub.status.idle": "2025-07-29T08:50:59.786767Z",
     "shell.execute_reply": "2025-07-29T08:50:59.785771Z",
     "shell.execute_reply.started": "2025-07-29T08:50:59.780266Z"
    }
   },
   "outputs": [
    {
     "name": "stdout",
     "output_type": "stream",
     "text": [
      "전체 평가 메서드 추가 완료\n"
     ]
    }
   ],
   "source": [
    "def evaluate(self, questions, ground_truths):\n",
    "    \"\"\"전체 평가 수행\"\"\"\n",
    "    \n",
    "    evaluation_results = []\n",
    "    \n",
    "    for i, (question, ground_truth) in enumerate(zip(questions, ground_truths)):\n",
    "        print(f\"질문 {i+1} 평가 중...\")\n",
    "        \n",
    "        # 답변 생성 및 컨텍스트 검색\n",
    "        generated_answer, contexts = self.retrieve_and_generate(question)\n",
    "        \n",
    "        if generated_answer is None:\n",
    "            evaluation_results.append({\n",
    "                'question': question,\n",
    "                'error': '답변 생성 실패'\n",
    "            })\n",
    "            continue\n",
    "        \n",
    "        # 컨텍스트 재현율 평가\n",
    "        context_recall_result = self.evaluate_context_recall(question, ground_truth, contexts)\n",
    "        \n",
    "        # 컨텍스트 정밀도 평가\n",
    "        context_precision_result = self.evaluate_context_precision(question, contexts)\n",
    "        \n",
    "        evaluation_results.append({\n",
    "            'question': question,\n",
    "            'generated_answer': generated_answer,\n",
    "            'ground_truth': ground_truth,\n",
    "            'contexts': contexts,\n",
    "            'context_recall': context_recall_result,\n",
    "            'context_precision': context_precision_result,\n",
    "            'timestamp': datetime.now().isoformat()\n",
    "        })\n",
    "        \n",
    "        # API 호출 제한을 위한 대기\n",
    "        time.sleep(2)\n",
    "    \n",
    "    return evaluation_results\n",
    "\n",
    "# BedrockRAGEvaluator 클래스에 메서드 추가\n",
    "BedrockRAGEvaluator.evaluate = evaluate\n",
    "\n",
    "print(\"전체 평가 메서드 추가 완료\")"
   ]
  },
  {
   "cell_type": "code",
   "execution_count": 78,
   "metadata": {
    "execution": {
     "iopub.execute_input": "2025-07-29T08:51:00.686155Z",
     "iopub.status.busy": "2025-07-29T08:51:00.685771Z",
     "iopub.status.idle": "2025-07-29T08:51:00.693273Z",
     "shell.execute_reply": "2025-07-29T08:51:00.692414Z",
     "shell.execute_reply.started": "2025-07-29T08:51:00.686132Z"
    }
   },
   "outputs": [
    {
     "name": "stdout",
     "output_type": "stream",
     "text": [
      "청킹 전략 비교 평가 함수 정의 완료\n"
     ]
    }
   ],
   "source": [
    "def run_chunking_strategy_evaluation(kb_ids, kb_names, questions, ground_truths):\n",
    "    \"\"\"\n",
    "    다양한 청킹 전략에 대한 비교 평가 수행\n",
    "    \"\"\"\n",
    "    \n",
    "    all_results = {}\n",
    "    \n",
    "    for kb_id, kb_name in zip(kb_ids, kb_names):\n",
    "        print(f\"\\n=== {kb_name} 청킹 전략 평가 시작 ===\")\n",
    "        \n",
    "        evaluator = BedrockRAGEvaluator(\n",
    "            model_id_eval=MODEL_ID_EVAL,\n",
    "            model_id_generation=MODEL_ID_GEN,\n",
    "            kb_id=kb_id\n",
    "        )\n",
    "        \n",
    "        results = evaluator.evaluate(questions, ground_truths)\n",
    "        all_results[kb_name] = results\n",
    "        \n",
    "        print(f\"{kb_name} 평가 완료\")\n",
    "        time.sleep(5)  # Knowledge Base 간 전환 대기\n",
    "    \n",
    "    return all_results\n",
    "\n",
    "print(\"청킹 전략 비교 평가 함수 정의 완료\")"
   ]
  },
  {
   "cell_type": "code",
   "execution_count": 79,
   "metadata": {
    "execution": {
     "iopub.execute_input": "2025-07-29T08:51:01.367658Z",
     "iopub.status.busy": "2025-07-29T08:51:01.367294Z",
     "iopub.status.idle": "2025-07-29T08:51:01.381200Z",
     "shell.execute_reply": "2025-07-29T08:51:01.380286Z",
     "shell.execute_reply.started": "2025-07-29T08:51:01.367627Z"
    }
   },
   "outputs": [
    {
     "name": "stdout",
     "output_type": "stream",
     "text": [
      "점수 추출 함수 정의 완료\n"
     ]
    }
   ],
   "source": [
    "def extract_scores_from_results(results):\n",
    "    \"\"\"평가 결과에서 점수 추출\"\"\"\n",
    "    \n",
    "    scores = {\n",
    "        'context_recall': [],\n",
    "        'context_precision': []\n",
    "    }\n",
    "    \n",
    "    for result in results:\n",
    "        if 'error' not in result:\n",
    "            # JSON 응답에서 점수 추출 시도\n",
    "            try:\n",
    "                recall_text = result['context_recall']\n",
    "                precision_text = result['context_precision']\n",
    "                \n",
    "                # 간단한 점수 추출 (실제로는 더 정교한 파싱 필요)\n",
    "                recall_match = re.search(r'\"context_recall_score\":\\s*([0-9.]+)', recall_text)\n",
    "                precision_match = re.search(r'\"overall_precision_score\":\\s*([0-9.]+)', precision_text)\n",
    "                \n",
    "                if recall_match:\n",
    "                    scores['context_recall'].append(float(recall_match.group(1)))\n",
    "                if precision_match:\n",
    "                    scores['context_precision'].append(float(precision_match.group(1)))\n",
    "                    \n",
    "            except Exception as e:\n",
    "                print(f\"점수 추출 중 오류: {str(e)}\")\n",
    "    \n",
    "    return scores\n",
    "\n",
    "print(\"점수 추출 함수 정의 완료\")"
   ]
  },
  {
   "cell_type": "code",
   "execution_count": 80,
   "metadata": {
    "execution": {
     "iopub.execute_input": "2025-07-29T08:51:02.143828Z",
     "iopub.status.busy": "2025-07-29T08:51:02.142884Z",
     "iopub.status.idle": "2025-07-29T08:51:02.151069Z",
     "shell.execute_reply": "2025-07-29T08:51:02.150179Z",
     "shell.execute_reply.started": "2025-07-29T08:51:02.143787Z"
    }
   },
   "outputs": [
    {
     "name": "stdout",
     "output_type": "stream",
     "text": [
      "Semantic:  NY2KNVB6RT\n",
      "Standard:  C3DJFT63RJ\n",
      "Hierarchical:  OOVXFHUKUA\n",
      "Custom chunking:  UADADKRAXE\n",
      "설정된 Knowledge Base 수: 4\n",
      "- Fixed Chunking: C3DJFT63RJ\n",
      "- Hierarchical Chunking: OOVXFHUKUA\n",
      "- Semantic Chunking: NY2KNVB6RT\n",
      "- Custom Chunking: UADADKRAXE\n"
     ]
    }
   ],
   "source": [
    "# Knowledge Base ID들 (실제 값으로 교체 필요)\n",
    "# 이 값들은 앞서 생성된 Knowledge Base들의 실제 ID로 교체해야 합니다.\n",
    "print(\"Semantic: \", kb_id_semantic)\n",
    "print(\"Standard: \", kb_id_standard)\n",
    "print(\"Hierarchical: \", kb_id_hierarchical)\n",
    "print(\"Custom chunking: \", kb_id_custom)\n",
    "\n",
    "kb_ids = [\n",
    "    kb_id_standard,\n",
    "    kb_id_hierarchical,\n",
    "    kb_id_semantic,\n",
    "    kb_id_custom\n",
    "]\n",
    "\n",
    "kb_names = [\n",
    "    \"Fixed Chunking\",\n",
    "    \"Hierarchical Chunking\", \n",
    "    \"Semantic Chunking\",\n",
    "    \"Custom Chunking\"\n",
    "]\n",
    "\n",
    "print(f\"설정된 Knowledge Base 수: {len(kb_ids)}\")\n",
    "for name, kb_id in zip(kb_names, kb_ids):\n",
    "    print(f\"- {name}: {kb_id}\")"
   ]
  },
  {
   "cell_type": "code",
   "execution_count": 81,
   "metadata": {
    "execution": {
     "iopub.execute_input": "2025-07-29T08:51:03.323536Z",
     "iopub.status.busy": "2025-07-29T08:51:03.323244Z",
     "iopub.status.idle": "2025-07-29T08:53:16.487686Z",
     "shell.execute_reply": "2025-07-29T08:53:16.486925Z",
     "shell.execute_reply.started": "2025-07-29T08:51:03.323514Z"
    }
   },
   "outputs": [
    {
     "name": "stdout",
     "output_type": "stream",
     "text": [
      "Amazon Bedrock RAG 평가 도구를 사용한 청킹 전략 비교 평가\n",
      "================================================================================\n",
      "\n",
      "=== Fixed Chunking 청킹 전략 평가 시작 ===\n",
      "질문 1 평가 중...\n",
      "Fixed Chunking 평가 완료\n",
      "\n",
      "=== Hierarchical Chunking 청킹 전략 평가 시작 ===\n",
      "질문 1 평가 중...\n",
      "Hierarchical Chunking 평가 완료\n",
      "\n",
      "=== Semantic Chunking 청킹 전략 평가 시작 ===\n",
      "질문 1 평가 중...\n",
      "Semantic Chunking 평가 완료\n",
      "\n",
      "=== Custom Chunking 청킹 전략 평가 시작 ===\n",
      "질문 1 평가 중...\n",
      "Custom Chunking 평가 완료\n",
      "\n",
      "평가 실행 완료!\n"
     ]
    }
   ],
   "source": [
    "print(\"Amazon Bedrock RAG 평가 도구를 사용한 청킹 전략 비교 평가\")\n",
    "print(\"=\" * 80)\n",
    "\n",
    "# 비교 평가 실행\n",
    "evaluation_results = run_chunking_strategy_evaluation(\n",
    "    kb_ids=kb_ids,\n",
    "    kb_names=kb_names,\n",
    "    questions=questions,\n",
    "    ground_truths=ground_truths\n",
    ")\n",
    "\n",
    "print(\"\\n평가 실행 완료!\")"
   ]
  },
  {
   "cell_type": "code",
   "execution_count": 82,
   "metadata": {
    "execution": {
     "iopub.execute_input": "2025-07-29T08:54:03.874866Z",
     "iopub.status.busy": "2025-07-29T08:54:03.874562Z",
     "iopub.status.idle": "2025-07-29T08:54:03.884674Z",
     "shell.execute_reply": "2025-07-29T08:54:03.883683Z",
     "shell.execute_reply.started": "2025-07-29T08:54:03.874844Z"
    }
   },
   "outputs": [
    {
     "name": "stdout",
     "output_type": "stream",
     "text": [
      "\n",
      "================================================================================\n",
      "평가 결과 요약\n",
      "================================================================================\n",
      "\n",
      "Fixed Chunking 평가 결과:\n",
      "------------------------------------------------------------\n",
      "평균 Context Recall: 0.1000\n",
      "평균 Context Precision: 0.4500\n",
      "\n",
      "질문 1: 2024년 시도별 인구・가구・주택 특성을 종합적으로 비교 분석하시오.(단, 각 시도의 연령구조, 1인가구 비율, 주택 노후도, 외국인 비율을 모두 포함하여 상위 3개 지역과 하위 3개 지역을 각각 제시하고, 이들 간의 특성 차이를 설명하시오)...\n",
      "생성된 답변: 2024년 시도별 인구・가구・주택 특성을 종합적으로 비교 분석한 결과는 다음과 같습니다.\n",
      "\n",
      "연령구조 측면에서 상위 3개 지역은 서울 용산구, 경기 의왕시, 대구 남구이며, 하위 3개 지역은 경남 남해군, 경북 영덕군, 인천 동구입니다. 용산구와 의왕시는 상대적으로 젊은 인구 비율이 높은 반면, 남해군과 영덕군은 고령 인구 비율이 높습니다. 1인가구 비율 측면에서 상위 3개 지역은 서울 용산구, 광주 서구, 부산 금정구이며, 하위 3개 지역은 경기 군포시, 경기 의왕시, 대구 남구입니다. 용산구와 서구는 1인가구 비율이 높은 반면, 군포시와 의왕시는 상대적으로 1인가구 비율이 낮습니다. 주택 노후도 측면에서 상위 3개 지역은 서울 용산구, 부산 금정구, 광주 서구이며, 하위 3개 지역은 경기 군포시, 경기 의왕시, 대구 남구입니다. 용산구와 금정구는 상대적으로 주택 노후도가 높은 반면, 군포시와 의왕시는 주택 노후도가 낮습니다. 외국인 비율 측면에서 상위 3개 지역은 서울 양천구, 경기 군포시, 서울 용산구이며, 하위 3개 지역은 경북 영덕군, 경남 남해군, 인천 동구입니다. 양천구와 군포시는 외국인 비율이 높은 반면, 영덕군과 남해군은 외국인 비율이 낮습니다....\n",
      "컨텍스트 수: 4\n",
      "\n",
      "Hierarchical Chunking 평가 결과:\n",
      "------------------------------------------------------------\n",
      "평균 Context Recall: 0.8000\n",
      "평균 Context Precision: 0.6000\n",
      "\n",
      "질문 1: 2024년 시도별 인구・가구・주택 특성을 종합적으로 비교 분석하시오.(단, 각 시도의 연령구조, 1인가구 비율, 주택 노후도, 외국인 비율을 모두 포함하여 상위 3개 지역과 하위 3개 지역을 각각 제시하고, 이들 간의 특성 차이를 설명하시오)...\n",
      "생성된 답변: 2024년 시도별 인구・가구・주택 특성을 종합적으로 비교 분석한 결과는 다음과 같습니다.\n",
      "\n",
      "상위 3개 지역:\n",
      "1. 서울\n",
      "- 연령구조: 고령인구 비율이 14.9%로 가장 높음\n",
      "- 1인가구 비율: 39.9%로 가장 높음\n",
      "- 주택 노후도: 30년 이상 노후주택 비율이 27.1%로 가장 높음\n",
      "- 외국인 비율: 4.2%로 가장 높음\n",
      "\n",
      "2. 강원\n",
      "- 연령구조: 노령화지수가 125.1%로 가장 높음\n",
      "- 1인가구 비율: 39.4%로 두 번째로 높음\n",
      "- 주택 노후도: 30년 이상 노후주택 비율이 26.1%로 두 번째로 높음\n",
      "- 외국인 비율: 2.1%로 상위권\n",
      "\n",
      "3. 충북\n",
      "- 연령구조: 유소년인구 비율이 13.1%로 가장 높음\n",
      "- 1인가구 비율: 39.1%로 세 번째로 높음\n",
      "- 주택 노후도: 30년 이상 노후주택 비율이 24.5%로 세 번째로 높음\n",
      "- 외국인 비율: 2.0%로 상위권 하위 3개 지역:\n",
      "1. 세종\n",
      "- 연령구조: 유소년인구 비율이 15.1%로 가장 낮음\n",
      "- 1인가구 비율: 32.9%로 가장 낮음\n",
      "- 주택 노후도: 30년 이상 노후주택 비율이 8.1%로 가장 낮음\n",
      "- 외국인 비율: 3.3%로 상대적으로 낮음\n",
      "\n",
      "2. 울산\n",
      "- 연령구조: 고령인구 비율이 9.1%로 가장 낮음\n",
      "- 1인가구 비율: 31.6%로 두 번째로 낮음\n",
      "- 주택 노후도: 30년 이상 노후주택 비율이 11.1%로 두 번째로 낮음\n",
      "- 외국인 비율: 2.1%로 상대적으로 낮음\n",
      "\n",
      "3. 경기\n",
      "- 연령구조: 유소년인구 비율이 13.2%로 두 번째로 낮음\n",
      "- 1인가구 비율: 31.7%로 세 번째로 낮음\n",
      "- 주택 노후도: 30년 이상 노후주택 비율이 13.1%로 세 번째로 낮음\n",
      "- 외국인 비율: 3.1%로 상대적으로 낮음 상위 3개 지역과 하위 3개 지역의 특성 차이를 살펴보면 다음과 같습니다.\n",
      "\n",
      "상위 3개 지역은 고령화와 1인가구 증가, 노후주택 비율이 높은 반면, 하위 3개 지역은 상대적으로 젊은 연령구조와 1인가구 비율이 낮으며 노후주택 비율도 낮은 편입니다. 외국인 비율은 상위 지역이 전반적으로 높은 편입니다.\n",
      "\n",
      "이는 대도시와 수도권 지역의 고령화와 1인가구 증가, 주택 노후화 문제가 심각한 반면, 신도시와 지방 중소도시는 상대적으로 젊은 연령구조와 주택 노후화 문제가 덜한 것으로 볼 수 있습니다. 또한 대도시와 수도권 지역의 외국인 유입이 활발한 것으로 나타났습니다....\n",
      "컨텍스트 수: 6\n",
      "\n",
      "Semantic Chunking 평가 결과:\n",
      "------------------------------------------------------------\n",
      "평균 Context Recall: 0.2000\n",
      "평균 Context Precision: 0.7000\n",
      "\n",
      "질문 1: 2024년 시도별 인구・가구・주택 특성을 종합적으로 비교 분석하시오.(단, 각 시도의 연령구조, 1인가구 비율, 주택 노후도, 외국인 비율을 모두 포함하여 상위 3개 지역과 하위 3개 지역을 각각 제시하고, 이들 간의 특성 차이를 설명하시오)...\n",
      "생성된 답변: 2024년 시도별 인구・가구・주택 특성을 종합적으로 비교 분석한 결과는 다음과 같습니다.\n",
      "\n",
      "상위 3개 지역:\n",
      "1. 서울 - 노령화 지수가 높고(39.4%), 1인가구 비율이 높으며(39.4%), 주택 노후도가 높고, 외국인 비율이 높음.\n",
      "2. 경북 - 노령화 지수가 높고(38.9%), 1인가구 비율이 높으며(38.1%), 주택 노후도가 높고, 외국인 비율이 낮음.\n",
      "3. 충북 - 노령화 지수가 높고(39.1%), 1인가구 비율이 높으며(38.5%), 주택 노후도가 낮고, 외국인 비율이 낮음. 하위 3개 지역:\n",
      "1. 제주 - 노령화 지수가 낮고(34.0%), 1인가구 비율이 낮으며(33.7%), 주택 노후도가 낮고, 외국인 비율이 높음.\n",
      "2. 경남 - 노령화 지수가 낮고(35.4%), 1인가구 비율이 낮으며(34.7%), 주택 노후도가 낮고, 외국인 비율이 낮음.\n",
      "3. 전남 - 노령화 지수가 낮고(37.7%), 1인가구 비율이 낮으며(37.1%), 주택 노후도가 낮고, 외국인 비율이 낮음....\n",
      "컨텍스트 수: 4\n",
      "\n",
      "Custom Chunking 평가 결과:\n",
      "------------------------------------------------------------\n",
      "평균 Context Recall: 0.2000\n",
      "평균 Context Precision: 0.6000\n",
      "\n",
      "질문 1: 2024년 시도별 인구・가구・주택 특성을 종합적으로 비교 분석하시오.(단, 각 시도의 연령구조, 1인가구 비율, 주택 노후도, 외국인 비율을 모두 포함하여 상위 3개 지역과 하위 3개 지역을 각각 제시하고, 이들 간의 특성 차이를 설명하시오)...\n",
      "생성된 답변: 2024년 시도별 인구・가구・주택 특성을 종합적으로 비교 분석한 결과는 다음과 같습니다.\n",
      "\n",
      "연령구조 측면에서 상위 3개 지역은 경상북도, 전라남도, 충청남도이며, 이들 지역은 고령인구 비율이 높고 노령화지수가 높은 특성을 보입니다. 반면 하위 3개 지역은 제주특별자치도, 경상남도, 충청북도로, 이들 지역은 상대적으로 젊은 연령층의 비율이 높습니다.\n",
      "\n",
      "1인가구 비율 측면에서 상위 3개 지역은 제주특별자치도, 경상남도, 경상북도이며, 이들 지역은 1인가구 비율이 높은 특성을 보입니다. 반면 하위 3개 지역은 충청남도, 전라남도, 전북특별자치도로, 이들 지역은 상대적으로 1인가구 비율이 낮습니다.\n",
      "\n",
      "주택 노후도 측면에서 상위 3개 지역은 전라남도, 경상북도, 충청북도이며, 이들 지역은 노후주택 비율이 높은 특성을 보입니다. 반면 하위 3개 지역은 제주특별자치도, 경상남도, 충청남도로, 이들 지역은 상대적으로 신축 주택 비율이 높습니다.\n",
      "\n",
      "외국인 비율 측면에서 상위 3개 지역은 경상남도, 경상북도, 충청남도이며, 이들 지역은 외국인 비율이 높은 특성을 보입니다. 반면 하위 3개 지역은 전라남도, 전북특별자치도, 제주특별자치도로, 이들 지역은 상대적으로 외국인 비율이 낮습니다....\n",
      "컨텍스트 수: 5\n",
      "\n",
      "================================================================================\n",
      "평가 완료\n"
     ]
    }
   ],
   "source": [
    "import re\n",
    "\n",
    "print(\"\\n\" + \"=\" * 80)\n",
    "print(\"평가 결과 요약\")\n",
    "print(\"=\" * 80)\n",
    "\n",
    "summary_results = {}\n",
    "\n",
    "for kb_name, results in evaluation_results.items():\n",
    "    print(f\"\\n{kb_name} 평가 결과:\")\n",
    "    print(\"-\" * 60)\n",
    "    \n",
    "    scores = extract_scores_from_results(results)\n",
    "    \n",
    "    avg_recall = 0\n",
    "    avg_precision = 0\n",
    "    \n",
    "    if scores['context_recall']:\n",
    "        avg_recall = sum(scores['context_recall']) / len(scores['context_recall'])\n",
    "        print(f\"평균 Context Recall: {avg_recall:.4f}\")\n",
    "    \n",
    "    if scores['context_precision']:\n",
    "        avg_precision = sum(scores['context_precision']) / len(scores['context_precision'])\n",
    "        print(f\"평균 Context Precision: {avg_precision:.4f}\")\n",
    "    \n",
    "    summary_results[kb_name] = {\n",
    "        'avg_recall': avg_recall,\n",
    "        'avg_precision': avg_precision\n",
    "    }\n",
    "    \n",
    "    # 상세 결과 출력\n",
    "    for i, result in enumerate(results):\n",
    "        if 'error' not in result:\n",
    "            print(f\"\\n질문 {i+1}: {result['question']}...\")\n",
    "            print(f\"생성된 답변: {result['generated_answer']}...\")\n",
    "            print(f\"컨텍스트 수: {len(result['contexts'])}\")\n",
    "        else:\n",
    "            print(f\"질문 {i+1} 오류: {result['error']}\")\n",
    "\n",
    "print(\"\\n\" + \"=\" * 80)\n",
    "print(\"평가 완료\")"
   ]
  },
  {
   "cell_type": "code",
   "execution_count": 83,
   "metadata": {
    "execution": {
     "iopub.execute_input": "2025-07-29T08:54:28.562818Z",
     "iopub.status.busy": "2025-07-29T08:54:28.562468Z",
     "iopub.status.idle": "2025-07-29T08:54:28.573707Z",
     "shell.execute_reply": "2025-07-29T08:54:28.572613Z",
     "shell.execute_reply.started": "2025-07-29T08:54:28.562793Z"
    }
   },
   "outputs": [
    {
     "name": "stdout",
     "output_type": "stream",
     "text": [
      "\n",
      "청킹 전략별 성능 비교:\n",
      "==================================================\n",
      "                       Context Recall  Context Precision\n",
      "Fixed Chunking                    0.1               0.45\n",
      "Hierarchical Chunking             0.8               0.60\n",
      "Semantic Chunking                 0.2               0.70\n",
      "Custom Chunking                   0.2               0.60\n",
      "\n",
      "최고 Context Recall: Hierarchical Chunking (0.8000)\n",
      "최고 Context Precision: Semantic Chunking (0.7000)\n",
      "\n",
      "종합 최고 성능: Hierarchical Chunking (0.7000)\n"
     ]
    }
   ],
   "source": [
    "import pandas as pd\n",
    "\n",
    "# 결과를 DataFrame으로 변환\n",
    "df_results = pd.DataFrame(summary_results).T\n",
    "df_results.columns = ['Context Recall', 'Context Precision']\n",
    "\n",
    "print(\"\\n청킹 전략별 성능 비교:\")\n",
    "print(\"=\" * 50)\n",
    "print(df_results.round(4))\n",
    "\n",
    "# 최고 성능 전략 찾기\n",
    "best_recall = df_results['Context Recall'].idxmax()\n",
    "best_precision = df_results['Context Precision'].idxmax()\n",
    "\n",
    "print(f\"\\n최고 Context Recall: {best_recall} ({df_results.loc[best_recall, 'Context Recall']:.4f})\")\n",
    "print(f\"최고 Context Precision: {best_precision} ({df_results.loc[best_precision, 'Context Precision']:.4f})\")\n",
    "\n",
    "# 종합 점수 계산 (Recall과 Precision의 평균)\n",
    "df_results['Overall Score'] = (df_results['Context Recall'] + df_results['Context Precision']) / 2\n",
    "best_overall = df_results['Overall Score'].idxmax()\n",
    "\n",
    "print(f\"\\n종합 최고 성능: {best_overall} ({df_results.loc[best_overall, 'Overall Score']:.4f})\")"
   ]
  },
  {
   "cell_type": "code",
   "execution_count": 85,
   "metadata": {
    "execution": {
     "iopub.execute_input": "2025-07-29T08:56:48.823633Z",
     "iopub.status.busy": "2025-07-29T08:56:48.823067Z",
     "iopub.status.idle": "2025-07-29T08:57:03.774386Z",
     "shell.execute_reply": "2025-07-29T08:57:03.773234Z",
     "shell.execute_reply.started": "2025-07-29T08:56:48.823604Z"
    }
   },
   "outputs": [
    {
     "name": "stdout",
     "output_type": "stream",
     "text": [
      "===============================Knowledge base with fixed chunking==============================\n",
      "\n",
      "Deleted data source VDO2VETMRQ\n",
      "======== Knowledge base and all data sources deleted =========\n",
      "Found bucket standard-kb-9072955\n",
      "Error deleting bucket standard-kb-9072955: An error occurred (AccessDenied) when calling the ListObjectVersions operation: User: arn:aws:sts::211125368524:assumed-role/AmazonSageMaker-ExecutionRole-20241227T195512/SageMaker is not authorized to perform: s3:ListBucketVersions on resource: \"arn:aws:s3:::standard-kb-9072955\" because no identity-based policy allows the s3:ListBucketVersions action\n",
      "======== S3 bucket deletion process completed =========\n",
      "Found role AmazonBedrockExecutionRoleForKnowledgeBase_9072955-f\n",
      "======Attached policies with role AmazonBedrockExecutionRoleForKnowledgeBase_9072955-f========\n",
      " [{'PolicyName': 'AmazonBedrockFoundationModelPolicyForKnowledgeBase_9072955-f', 'PolicyArn': 'arn:aws:iam::211125368524:policy/AmazonBedrockFoundationModelPolicyForKnowledgeBase_9072955-f'}, {'PolicyName': 'AmazonBedrockCloudWatchPolicyForKnowledgeBase_9072955-f', 'PolicyArn': 'arn:aws:iam::211125368524:policy/AmazonBedrockCloudWatchPolicyForKnowledgeBase_9072955-f'}, {'PolicyName': 'AmazonBedrockS3PolicyForKnowledgeBase_9072955-f', 'PolicyArn': 'arn:aws:iam::211125368524:policy/AmazonBedrockS3PolicyForKnowledgeBase_9072955-f'}, {'PolicyName': 'AmazonBedrockOSSPolicyForKnowledgeBase_9072955-f', 'PolicyArn': 'arn:aws:iam::211125368524:policy/AmazonBedrockOSSPolicyForKnowledgeBase_9072955-f'}]\n",
      "Detached policy AmazonBedrockFoundationModelPolicyForKnowledgeBase_9072955-f from role AmazonBedrockExecutionRoleForKnowledgeBase_9072955-f\n",
      "Deleted policy AmazonBedrockFoundationModelPolicyForKnowledgeBase_9072955-f from role AmazonBedrockExecutionRoleForKnowledgeBase_9072955-f\n",
      "Detached policy AmazonBedrockCloudWatchPolicyForKnowledgeBase_9072955-f from role AmazonBedrockExecutionRoleForKnowledgeBase_9072955-f\n",
      "Deleted policy AmazonBedrockCloudWatchPolicyForKnowledgeBase_9072955-f from role AmazonBedrockExecutionRoleForKnowledgeBase_9072955-f\n",
      "Detached policy AmazonBedrockS3PolicyForKnowledgeBase_9072955-f from role AmazonBedrockExecutionRoleForKnowledgeBase_9072955-f\n",
      "Deleted policy AmazonBedrockS3PolicyForKnowledgeBase_9072955-f from role AmazonBedrockExecutionRoleForKnowledgeBase_9072955-f\n",
      "Detached policy AmazonBedrockOSSPolicyForKnowledgeBase_9072955-f from role AmazonBedrockExecutionRoleForKnowledgeBase_9072955-f\n",
      "Deleted policy AmazonBedrockOSSPolicyForKnowledgeBase_9072955-f from role AmazonBedrockExecutionRoleForKnowledgeBase_9072955-f\n",
      "Deleted role AmazonBedrockExecutionRoleForKnowledgeBase_9072955-f\n",
      "======== All IAM roles and policies deleted =========\n",
      "======== Vector Index, collection and associated policies deleted =========\n",
      "===============================Knowledge base with hierarchical chunking==============================\n",
      "\n",
      "Deleted data source NFTSTADCMW\n",
      "======== Knowledge base and all data sources deleted =========\n",
      "Found role AmazonBedrockExecutionRoleForKnowledgeBase_9072955-h\n",
      "======Attached policies with role AmazonBedrockExecutionRoleForKnowledgeBase_9072955-h========\n",
      " [{'PolicyName': 'AmazonBedrockFoundationModelPolicyForKnowledgeBase_9072955-h', 'PolicyArn': 'arn:aws:iam::211125368524:policy/AmazonBedrockFoundationModelPolicyForKnowledgeBase_9072955-h'}, {'PolicyName': 'AmazonBedrockS3PolicyForKnowledgeBase_9072955-h', 'PolicyArn': 'arn:aws:iam::211125368524:policy/AmazonBedrockS3PolicyForKnowledgeBase_9072955-h'}, {'PolicyName': 'AmazonBedrockOSSPolicyForKnowledgeBase_9072955-h', 'PolicyArn': 'arn:aws:iam::211125368524:policy/AmazonBedrockOSSPolicyForKnowledgeBase_9072955-h'}, {'PolicyName': 'AmazonBedrockCloudWatchPolicyForKnowledgeBase_9072955-h', 'PolicyArn': 'arn:aws:iam::211125368524:policy/AmazonBedrockCloudWatchPolicyForKnowledgeBase_9072955-h'}]\n",
      "Detached policy AmazonBedrockFoundationModelPolicyForKnowledgeBase_9072955-h from role AmazonBedrockExecutionRoleForKnowledgeBase_9072955-h\n",
      "Deleted policy AmazonBedrockFoundationModelPolicyForKnowledgeBase_9072955-h from role AmazonBedrockExecutionRoleForKnowledgeBase_9072955-h\n",
      "Detached policy AmazonBedrockS3PolicyForKnowledgeBase_9072955-h from role AmazonBedrockExecutionRoleForKnowledgeBase_9072955-h\n",
      "Deleted policy AmazonBedrockS3PolicyForKnowledgeBase_9072955-h from role AmazonBedrockExecutionRoleForKnowledgeBase_9072955-h\n",
      "Detached policy AmazonBedrockOSSPolicyForKnowledgeBase_9072955-h from role AmazonBedrockExecutionRoleForKnowledgeBase_9072955-h\n",
      "Deleted policy AmazonBedrockOSSPolicyForKnowledgeBase_9072955-h from role AmazonBedrockExecutionRoleForKnowledgeBase_9072955-h\n",
      "Detached policy AmazonBedrockCloudWatchPolicyForKnowledgeBase_9072955-h from role AmazonBedrockExecutionRoleForKnowledgeBase_9072955-h\n",
      "Deleted policy AmazonBedrockCloudWatchPolicyForKnowledgeBase_9072955-h from role AmazonBedrockExecutionRoleForKnowledgeBase_9072955-h\n",
      "Deleted role AmazonBedrockExecutionRoleForKnowledgeBase_9072955-h\n",
      "======== All IAM roles and policies deleted =========\n",
      "======== Vector Index, collection and associated policies deleted =========\n",
      "===============================Knowledge base with semantic chunking==============================\n",
      "\n",
      "Deleted data source TCNOAGDQN3\n",
      "======== Knowledge base and all data sources deleted =========\n",
      "Found role AmazonBedrockExecutionRoleForKnowledgeBase_9072955-s\n",
      "======Attached policies with role AmazonBedrockExecutionRoleForKnowledgeBase_9072955-s========\n",
      " [{'PolicyName': 'AmazonBedrockFoundationModelPolicyForKnowledgeBase_9072955-s', 'PolicyArn': 'arn:aws:iam::211125368524:policy/AmazonBedrockFoundationModelPolicyForKnowledgeBase_9072955-s'}, {'PolicyName': 'AmazonBedrockOSSPolicyForKnowledgeBase_9072955-s', 'PolicyArn': 'arn:aws:iam::211125368524:policy/AmazonBedrockOSSPolicyForKnowledgeBase_9072955-s'}, {'PolicyName': 'AmazonBedrockCloudWatchPolicyForKnowledgeBase_9072955-s', 'PolicyArn': 'arn:aws:iam::211125368524:policy/AmazonBedrockCloudWatchPolicyForKnowledgeBase_9072955-s'}, {'PolicyName': 'AmazonBedrockS3PolicyForKnowledgeBase_9072955-s', 'PolicyArn': 'arn:aws:iam::211125368524:policy/AmazonBedrockS3PolicyForKnowledgeBase_9072955-s'}]\n",
      "Detached policy AmazonBedrockFoundationModelPolicyForKnowledgeBase_9072955-s from role AmazonBedrockExecutionRoleForKnowledgeBase_9072955-s\n",
      "Deleted policy AmazonBedrockFoundationModelPolicyForKnowledgeBase_9072955-s from role AmazonBedrockExecutionRoleForKnowledgeBase_9072955-s\n",
      "Detached policy AmazonBedrockOSSPolicyForKnowledgeBase_9072955-s from role AmazonBedrockExecutionRoleForKnowledgeBase_9072955-s\n",
      "Deleted policy AmazonBedrockOSSPolicyForKnowledgeBase_9072955-s from role AmazonBedrockExecutionRoleForKnowledgeBase_9072955-s\n",
      "Detached policy AmazonBedrockCloudWatchPolicyForKnowledgeBase_9072955-s from role AmazonBedrockExecutionRoleForKnowledgeBase_9072955-s\n",
      "Deleted policy AmazonBedrockCloudWatchPolicyForKnowledgeBase_9072955-s from role AmazonBedrockExecutionRoleForKnowledgeBase_9072955-s\n",
      "Detached policy AmazonBedrockS3PolicyForKnowledgeBase_9072955-s from role AmazonBedrockExecutionRoleForKnowledgeBase_9072955-s\n",
      "Deleted policy AmazonBedrockS3PolicyForKnowledgeBase_9072955-s from role AmazonBedrockExecutionRoleForKnowledgeBase_9072955-s\n",
      "Deleted role AmazonBedrockExecutionRoleForKnowledgeBase_9072955-s\n",
      "======== All IAM roles and policies deleted =========\n",
      "======== Vector Index, collection and associated policies deleted =========\n",
      "===============================Knowledge base with custom chunking==============================\n",
      "\n",
      "Deleted data source EPVYU4TOPB\n",
      "======== Knowledge base and all data sources deleted =========\n",
      "Found bucket standard-kb-9072955\n",
      "Error deleting bucket standard-kb-9072955: An error occurred (AccessDenied) when calling the ListObjectVersions operation: User: arn:aws:sts::211125368524:assumed-role/AmazonSageMaker-ExecutionRole-20241227T195512/SageMaker is not authorized to perform: s3:ListBucketVersions on resource: \"arn:aws:s3:::standard-kb-9072955\" because no identity-based policy allows the s3:ListBucketVersions action\n",
      "Found bucket standard-kb-intermediate-9072955\n",
      "Error deleting bucket standard-kb-intermediate-9072955: An error occurred (AccessDenied) when calling the ListObjectVersions operation: User: arn:aws:sts::211125368524:assumed-role/AmazonSageMaker-ExecutionRole-20241227T195512/SageMaker is not authorized to perform: s3:ListBucketVersions on resource: \"arn:aws:s3:::standard-kb-intermediate-9072955\" because no identity-based policy allows the s3:ListBucketVersions action\n",
      "======== S3 bucket deletion process completed =========\n",
      "Found role AmazonBedrockExecutionRoleForKnowledgeBase_9072955-c\n",
      "======Attached policies with role AmazonBedrockExecutionRoleForKnowledgeBase_9072955-c========\n",
      " [{'PolicyName': 'AmazonBedrockS3PolicyForKnowledgeBase_9072955-c', 'PolicyArn': 'arn:aws:iam::211125368524:policy/AmazonBedrockS3PolicyForKnowledgeBase_9072955-c'}, {'PolicyName': 'AmazonBedrockFoundationModelPolicyForKnowledgeBase_9072955-c', 'PolicyArn': 'arn:aws:iam::211125368524:policy/AmazonBedrockFoundationModelPolicyForKnowledgeBase_9072955-c'}, {'PolicyName': 'AmazonBedrockCloudWatchPolicyForKnowledgeBase_9072955-c', 'PolicyArn': 'arn:aws:iam::211125368524:policy/AmazonBedrockCloudWatchPolicyForKnowledgeBase_9072955-c'}, {'PolicyName': 'AmazonBedrockOSSPolicyForKnowledgeBase_9072955-c', 'PolicyArn': 'arn:aws:iam::211125368524:policy/AmazonBedrockOSSPolicyForKnowledgeBase_9072955-c'}, {'PolicyName': 'AmazonBedrockLambdaPolicyForKnowledgeBase_9072955-c', 'PolicyArn': 'arn:aws:iam::211125368524:policy/AmazonBedrockLambdaPolicyForKnowledgeBase_9072955-c'}]\n",
      "Detached policy AmazonBedrockS3PolicyForKnowledgeBase_9072955-c from role AmazonBedrockExecutionRoleForKnowledgeBase_9072955-c\n",
      "Deleted policy AmazonBedrockS3PolicyForKnowledgeBase_9072955-c from role AmazonBedrockExecutionRoleForKnowledgeBase_9072955-c\n",
      "Detached policy AmazonBedrockFoundationModelPolicyForKnowledgeBase_9072955-c from role AmazonBedrockExecutionRoleForKnowledgeBase_9072955-c\n",
      "Deleted policy AmazonBedrockFoundationModelPolicyForKnowledgeBase_9072955-c from role AmazonBedrockExecutionRoleForKnowledgeBase_9072955-c\n",
      "Detached policy AmazonBedrockCloudWatchPolicyForKnowledgeBase_9072955-c from role AmazonBedrockExecutionRoleForKnowledgeBase_9072955-c\n",
      "Deleted policy AmazonBedrockCloudWatchPolicyForKnowledgeBase_9072955-c from role AmazonBedrockExecutionRoleForKnowledgeBase_9072955-c\n",
      "Detached policy AmazonBedrockOSSPolicyForKnowledgeBase_9072955-c from role AmazonBedrockExecutionRoleForKnowledgeBase_9072955-c\n",
      "Deleted policy AmazonBedrockOSSPolicyForKnowledgeBase_9072955-c from role AmazonBedrockExecutionRoleForKnowledgeBase_9072955-c\n",
      "Detached policy AmazonBedrockLambdaPolicyForKnowledgeBase_9072955-c from role AmazonBedrockExecutionRoleForKnowledgeBase_9072955-c\n",
      "Deleted policy AmazonBedrockLambdaPolicyForKnowledgeBase_9072955-c from role AmazonBedrockExecutionRoleForKnowledgeBase_9072955-c\n",
      "Deleted role AmazonBedrockExecutionRoleForKnowledgeBase_9072955-c\n",
      "Found role custom-chunking-kb-9072955-lambda-role-9072955-c\n",
      "======Attached policies with role custom-chunking-kb-9072955-lambda-role-9072955-c========\n",
      " [{'PolicyName': 'AWSLambdaBasicExecutionRole', 'PolicyArn': 'arn:aws:iam::aws:policy/service-role/AWSLambdaBasicExecutionRole'}, {'PolicyName': 'custom-chunking-kb-9072955-s3-policy', 'PolicyArn': 'arn:aws:iam::211125368524:policy/custom-chunking-kb-9072955-s3-policy'}]\n",
      "Detached policy AWSLambdaBasicExecutionRole from role custom-chunking-kb-9072955-lambda-role-9072955-c\n",
      "Skipping deletion of service-linked role policy AWSLambdaBasicExecutionRole\n",
      "Detached policy custom-chunking-kb-9072955-s3-policy from role custom-chunking-kb-9072955-lambda-role-9072955-c\n",
      "Deleted policy custom-chunking-kb-9072955-s3-policy from role custom-chunking-kb-9072955-lambda-role-9072955-c\n",
      "Deleted role custom-chunking-kb-9072955-lambda-role-9072955-c\n",
      "======== All IAM roles and policies deleted =========\n",
      "======== Lambda function custom-chunking-kb-lambda-9072955 deleted =========\n",
      "Deleted Lambda function custom-chunking-kb-lambda-9072955\n",
      "======== Vector Index, collection and associated policies deleted =========\n"
     ]
    }
   ],
   "source": [
    "print(\"===============================Knowledge base with fixed chunking==============================\\n\")\n",
    "knowledge_base_standard.delete_kb(delete_s3_bucket=True, delete_iam_roles_and_policies=True)\n",
    "print(\"===============================Knowledge base with hierarchical chunking==============================\\n\")\n",
    "knowledge_base_hierarchical.delete_kb(delete_s3_bucket=False,delete_iam_roles_and_policies=True)\n",
    "print(\"===============================Knowledge base with semantic chunking==============================\\n\")\n",
    "knowledge_base_semantic.delete_kb(delete_s3_bucket=False,delete_iam_roles_and_policies=True)\n",
    "print(\"===============================Knowledge base with custom chunking==============================\\n\")\n",
    "knowledge_base_custom.delete_kb(delete_s3_bucket=True,delete_iam_roles_and_policies=True, delete_lambda_function = True)"
   ]
  }
 ],
 "metadata": {
  "availableInstances": [
   {
    "_defaultOrder": 0,
    "_isFastLaunch": true,
    "category": "General purpose",
    "gpuNum": 0,
    "hideHardwareSpecs": false,
    "memoryGiB": 4,
    "name": "ml.t3.medium",
    "vcpuNum": 2
   },
   {
    "_defaultOrder": 1,
    "_isFastLaunch": false,
    "category": "General purpose",
    "gpuNum": 0,
    "hideHardwareSpecs": false,
    "memoryGiB": 8,
    "name": "ml.t3.large",
    "vcpuNum": 2
   },
   {
    "_defaultOrder": 2,
    "_isFastLaunch": false,
    "category": "General purpose",
    "gpuNum": 0,
    "hideHardwareSpecs": false,
    "memoryGiB": 16,
    "name": "ml.t3.xlarge",
    "vcpuNum": 4
   },
   {
    "_defaultOrder": 3,
    "_isFastLaunch": false,
    "category": "General purpose",
    "gpuNum": 0,
    "hideHardwareSpecs": false,
    "memoryGiB": 32,
    "name": "ml.t3.2xlarge",
    "vcpuNum": 8
   },
   {
    "_defaultOrder": 4,
    "_isFastLaunch": true,
    "category": "General purpose",
    "gpuNum": 0,
    "hideHardwareSpecs": false,
    "memoryGiB": 8,
    "name": "ml.m5.large",
    "vcpuNum": 2
   },
   {
    "_defaultOrder": 5,
    "_isFastLaunch": false,
    "category": "General purpose",
    "gpuNum": 0,
    "hideHardwareSpecs": false,
    "memoryGiB": 16,
    "name": "ml.m5.xlarge",
    "vcpuNum": 4
   },
   {
    "_defaultOrder": 6,
    "_isFastLaunch": false,
    "category": "General purpose",
    "gpuNum": 0,
    "hideHardwareSpecs": false,
    "memoryGiB": 32,
    "name": "ml.m5.2xlarge",
    "vcpuNum": 8
   },
   {
    "_defaultOrder": 7,
    "_isFastLaunch": false,
    "category": "General purpose",
    "gpuNum": 0,
    "hideHardwareSpecs": false,
    "memoryGiB": 64,
    "name": "ml.m5.4xlarge",
    "vcpuNum": 16
   },
   {
    "_defaultOrder": 8,
    "_isFastLaunch": false,
    "category": "General purpose",
    "gpuNum": 0,
    "hideHardwareSpecs": false,
    "memoryGiB": 128,
    "name": "ml.m5.8xlarge",
    "vcpuNum": 32
   },
   {
    "_defaultOrder": 9,
    "_isFastLaunch": false,
    "category": "General purpose",
    "gpuNum": 0,
    "hideHardwareSpecs": false,
    "memoryGiB": 192,
    "name": "ml.m5.12xlarge",
    "vcpuNum": 48
   },
   {
    "_defaultOrder": 10,
    "_isFastLaunch": false,
    "category": "General purpose",
    "gpuNum": 0,
    "hideHardwareSpecs": false,
    "memoryGiB": 256,
    "name": "ml.m5.16xlarge",
    "vcpuNum": 64
   },
   {
    "_defaultOrder": 11,
    "_isFastLaunch": false,
    "category": "General purpose",
    "gpuNum": 0,
    "hideHardwareSpecs": false,
    "memoryGiB": 384,
    "name": "ml.m5.24xlarge",
    "vcpuNum": 96
   },
   {
    "_defaultOrder": 12,
    "_isFastLaunch": false,
    "category": "General purpose",
    "gpuNum": 0,
    "hideHardwareSpecs": false,
    "memoryGiB": 8,
    "name": "ml.m5d.large",
    "vcpuNum": 2
   },
   {
    "_defaultOrder": 13,
    "_isFastLaunch": false,
    "category": "General purpose",
    "gpuNum": 0,
    "hideHardwareSpecs": false,
    "memoryGiB": 16,
    "name": "ml.m5d.xlarge",
    "vcpuNum": 4
   },
   {
    "_defaultOrder": 14,
    "_isFastLaunch": false,
    "category": "General purpose",
    "gpuNum": 0,
    "hideHardwareSpecs": false,
    "memoryGiB": 32,
    "name": "ml.m5d.2xlarge",
    "vcpuNum": 8
   },
   {
    "_defaultOrder": 15,
    "_isFastLaunch": false,
    "category": "General purpose",
    "gpuNum": 0,
    "hideHardwareSpecs": false,
    "memoryGiB": 64,
    "name": "ml.m5d.4xlarge",
    "vcpuNum": 16
   },
   {
    "_defaultOrder": 16,
    "_isFastLaunch": false,
    "category": "General purpose",
    "gpuNum": 0,
    "hideHardwareSpecs": false,
    "memoryGiB": 128,
    "name": "ml.m5d.8xlarge",
    "vcpuNum": 32
   },
   {
    "_defaultOrder": 17,
    "_isFastLaunch": false,
    "category": "General purpose",
    "gpuNum": 0,
    "hideHardwareSpecs": false,
    "memoryGiB": 192,
    "name": "ml.m5d.12xlarge",
    "vcpuNum": 48
   },
   {
    "_defaultOrder": 18,
    "_isFastLaunch": false,
    "category": "General purpose",
    "gpuNum": 0,
    "hideHardwareSpecs": false,
    "memoryGiB": 256,
    "name": "ml.m5d.16xlarge",
    "vcpuNum": 64
   },
   {
    "_defaultOrder": 19,
    "_isFastLaunch": false,
    "category": "General purpose",
    "gpuNum": 0,
    "hideHardwareSpecs": false,
    "memoryGiB": 384,
    "name": "ml.m5d.24xlarge",
    "vcpuNum": 96
   },
   {
    "_defaultOrder": 20,
    "_isFastLaunch": false,
    "category": "General purpose",
    "gpuNum": 0,
    "hideHardwareSpecs": true,
    "memoryGiB": 0,
    "name": "ml.geospatial.interactive",
    "supportedImageNames": [
     "sagemaker-geospatial-v1-0"
    ],
    "vcpuNum": 0
   },
   {
    "_defaultOrder": 21,
    "_isFastLaunch": true,
    "category": "Compute optimized",
    "gpuNum": 0,
    "hideHardwareSpecs": false,
    "memoryGiB": 4,
    "name": "ml.c5.large",
    "vcpuNum": 2
   },
   {
    "_defaultOrder": 22,
    "_isFastLaunch": false,
    "category": "Compute optimized",
    "gpuNum": 0,
    "hideHardwareSpecs": false,
    "memoryGiB": 8,
    "name": "ml.c5.xlarge",
    "vcpuNum": 4
   },
   {
    "_defaultOrder": 23,
    "_isFastLaunch": false,
    "category": "Compute optimized",
    "gpuNum": 0,
    "hideHardwareSpecs": false,
    "memoryGiB": 16,
    "name": "ml.c5.2xlarge",
    "vcpuNum": 8
   },
   {
    "_defaultOrder": 24,
    "_isFastLaunch": false,
    "category": "Compute optimized",
    "gpuNum": 0,
    "hideHardwareSpecs": false,
    "memoryGiB": 32,
    "name": "ml.c5.4xlarge",
    "vcpuNum": 16
   },
   {
    "_defaultOrder": 25,
    "_isFastLaunch": false,
    "category": "Compute optimized",
    "gpuNum": 0,
    "hideHardwareSpecs": false,
    "memoryGiB": 72,
    "name": "ml.c5.9xlarge",
    "vcpuNum": 36
   },
   {
    "_defaultOrder": 26,
    "_isFastLaunch": false,
    "category": "Compute optimized",
    "gpuNum": 0,
    "hideHardwareSpecs": false,
    "memoryGiB": 96,
    "name": "ml.c5.12xlarge",
    "vcpuNum": 48
   },
   {
    "_defaultOrder": 27,
    "_isFastLaunch": false,
    "category": "Compute optimized",
    "gpuNum": 0,
    "hideHardwareSpecs": false,
    "memoryGiB": 144,
    "name": "ml.c5.18xlarge",
    "vcpuNum": 72
   },
   {
    "_defaultOrder": 28,
    "_isFastLaunch": false,
    "category": "Compute optimized",
    "gpuNum": 0,
    "hideHardwareSpecs": false,
    "memoryGiB": 192,
    "name": "ml.c5.24xlarge",
    "vcpuNum": 96
   },
   {
    "_defaultOrder": 29,
    "_isFastLaunch": true,
    "category": "Accelerated computing",
    "gpuNum": 1,
    "hideHardwareSpecs": false,
    "memoryGiB": 16,
    "name": "ml.g4dn.xlarge",
    "vcpuNum": 4
   },
   {
    "_defaultOrder": 30,
    "_isFastLaunch": false,
    "category": "Accelerated computing",
    "gpuNum": 1,
    "hideHardwareSpecs": false,
    "memoryGiB": 32,
    "name": "ml.g4dn.2xlarge",
    "vcpuNum": 8
   },
   {
    "_defaultOrder": 31,
    "_isFastLaunch": false,
    "category": "Accelerated computing",
    "gpuNum": 1,
    "hideHardwareSpecs": false,
    "memoryGiB": 64,
    "name": "ml.g4dn.4xlarge",
    "vcpuNum": 16
   },
   {
    "_defaultOrder": 32,
    "_isFastLaunch": false,
    "category": "Accelerated computing",
    "gpuNum": 1,
    "hideHardwareSpecs": false,
    "memoryGiB": 128,
    "name": "ml.g4dn.8xlarge",
    "vcpuNum": 32
   },
   {
    "_defaultOrder": 33,
    "_isFastLaunch": false,
    "category": "Accelerated computing",
    "gpuNum": 4,
    "hideHardwareSpecs": false,
    "memoryGiB": 192,
    "name": "ml.g4dn.12xlarge",
    "vcpuNum": 48
   },
   {
    "_defaultOrder": 34,
    "_isFastLaunch": false,
    "category": "Accelerated computing",
    "gpuNum": 1,
    "hideHardwareSpecs": false,
    "memoryGiB": 256,
    "name": "ml.g4dn.16xlarge",
    "vcpuNum": 64
   },
   {
    "_defaultOrder": 35,
    "_isFastLaunch": false,
    "category": "Accelerated computing",
    "gpuNum": 1,
    "hideHardwareSpecs": false,
    "memoryGiB": 61,
    "name": "ml.p3.2xlarge",
    "vcpuNum": 8
   },
   {
    "_defaultOrder": 36,
    "_isFastLaunch": false,
    "category": "Accelerated computing",
    "gpuNum": 4,
    "hideHardwareSpecs": false,
    "memoryGiB": 244,
    "name": "ml.p3.8xlarge",
    "vcpuNum": 32
   },
   {
    "_defaultOrder": 37,
    "_isFastLaunch": false,
    "category": "Accelerated computing",
    "gpuNum": 8,
    "hideHardwareSpecs": false,
    "memoryGiB": 488,
    "name": "ml.p3.16xlarge",
    "vcpuNum": 64
   },
   {
    "_defaultOrder": 38,
    "_isFastLaunch": false,
    "category": "Accelerated computing",
    "gpuNum": 8,
    "hideHardwareSpecs": false,
    "memoryGiB": 768,
    "name": "ml.p3dn.24xlarge",
    "vcpuNum": 96
   },
   {
    "_defaultOrder": 39,
    "_isFastLaunch": false,
    "category": "Memory Optimized",
    "gpuNum": 0,
    "hideHardwareSpecs": false,
    "memoryGiB": 16,
    "name": "ml.r5.large",
    "vcpuNum": 2
   },
   {
    "_defaultOrder": 40,
    "_isFastLaunch": false,
    "category": "Memory Optimized",
    "gpuNum": 0,
    "hideHardwareSpecs": false,
    "memoryGiB": 32,
    "name": "ml.r5.xlarge",
    "vcpuNum": 4
   },
   {
    "_defaultOrder": 41,
    "_isFastLaunch": false,
    "category": "Memory Optimized",
    "gpuNum": 0,
    "hideHardwareSpecs": false,
    "memoryGiB": 64,
    "name": "ml.r5.2xlarge",
    "vcpuNum": 8
   },
   {
    "_defaultOrder": 42,
    "_isFastLaunch": false,
    "category": "Memory Optimized",
    "gpuNum": 0,
    "hideHardwareSpecs": false,
    "memoryGiB": 128,
    "name": "ml.r5.4xlarge",
    "vcpuNum": 16
   },
   {
    "_defaultOrder": 43,
    "_isFastLaunch": false,
    "category": "Memory Optimized",
    "gpuNum": 0,
    "hideHardwareSpecs": false,
    "memoryGiB": 256,
    "name": "ml.r5.8xlarge",
    "vcpuNum": 32
   },
   {
    "_defaultOrder": 44,
    "_isFastLaunch": false,
    "category": "Memory Optimized",
    "gpuNum": 0,
    "hideHardwareSpecs": false,
    "memoryGiB": 384,
    "name": "ml.r5.12xlarge",
    "vcpuNum": 48
   },
   {
    "_defaultOrder": 45,
    "_isFastLaunch": false,
    "category": "Memory Optimized",
    "gpuNum": 0,
    "hideHardwareSpecs": false,
    "memoryGiB": 512,
    "name": "ml.r5.16xlarge",
    "vcpuNum": 64
   },
   {
    "_defaultOrder": 46,
    "_isFastLaunch": false,
    "category": "Memory Optimized",
    "gpuNum": 0,
    "hideHardwareSpecs": false,
    "memoryGiB": 768,
    "name": "ml.r5.24xlarge",
    "vcpuNum": 96
   },
   {
    "_defaultOrder": 47,
    "_isFastLaunch": false,
    "category": "Accelerated computing",
    "gpuNum": 1,
    "hideHardwareSpecs": false,
    "memoryGiB": 16,
    "name": "ml.g5.xlarge",
    "vcpuNum": 4
   },
   {
    "_defaultOrder": 48,
    "_isFastLaunch": false,
    "category": "Accelerated computing",
    "gpuNum": 1,
    "hideHardwareSpecs": false,
    "memoryGiB": 32,
    "name": "ml.g5.2xlarge",
    "vcpuNum": 8
   },
   {
    "_defaultOrder": 49,
    "_isFastLaunch": false,
    "category": "Accelerated computing",
    "gpuNum": 1,
    "hideHardwareSpecs": false,
    "memoryGiB": 64,
    "name": "ml.g5.4xlarge",
    "vcpuNum": 16
   },
   {
    "_defaultOrder": 50,
    "_isFastLaunch": false,
    "category": "Accelerated computing",
    "gpuNum": 1,
    "hideHardwareSpecs": false,
    "memoryGiB": 128,
    "name": "ml.g5.8xlarge",
    "vcpuNum": 32
   },
   {
    "_defaultOrder": 51,
    "_isFastLaunch": false,
    "category": "Accelerated computing",
    "gpuNum": 1,
    "hideHardwareSpecs": false,
    "memoryGiB": 256,
    "name": "ml.g5.16xlarge",
    "vcpuNum": 64
   },
   {
    "_defaultOrder": 52,
    "_isFastLaunch": false,
    "category": "Accelerated computing",
    "gpuNum": 4,
    "hideHardwareSpecs": false,
    "memoryGiB": 192,
    "name": "ml.g5.12xlarge",
    "vcpuNum": 48
   },
   {
    "_defaultOrder": 53,
    "_isFastLaunch": false,
    "category": "Accelerated computing",
    "gpuNum": 4,
    "hideHardwareSpecs": false,
    "memoryGiB": 384,
    "name": "ml.g5.24xlarge",
    "vcpuNum": 96
   },
   {
    "_defaultOrder": 54,
    "_isFastLaunch": false,
    "category": "Accelerated computing",
    "gpuNum": 8,
    "hideHardwareSpecs": false,
    "memoryGiB": 768,
    "name": "ml.g5.48xlarge",
    "vcpuNum": 192
   },
   {
    "_defaultOrder": 55,
    "_isFastLaunch": false,
    "category": "Accelerated computing",
    "gpuNum": 8,
    "hideHardwareSpecs": false,
    "memoryGiB": 1152,
    "name": "ml.p4d.24xlarge",
    "vcpuNum": 96
   },
   {
    "_defaultOrder": 56,
    "_isFastLaunch": false,
    "category": "Accelerated computing",
    "gpuNum": 8,
    "hideHardwareSpecs": false,
    "memoryGiB": 1152,
    "name": "ml.p4de.24xlarge",
    "vcpuNum": 96
   },
   {
    "_defaultOrder": 57,
    "_isFastLaunch": false,
    "category": "Accelerated computing",
    "gpuNum": 0,
    "hideHardwareSpecs": false,
    "memoryGiB": 32,
    "name": "ml.trn1.2xlarge",
    "vcpuNum": 8
   },
   {
    "_defaultOrder": 58,
    "_isFastLaunch": false,
    "category": "Accelerated computing",
    "gpuNum": 0,
    "hideHardwareSpecs": false,
    "memoryGiB": 512,
    "name": "ml.trn1.32xlarge",
    "vcpuNum": 128
   },
   {
    "_defaultOrder": 59,
    "_isFastLaunch": false,
    "category": "Accelerated computing",
    "gpuNum": 0,
    "hideHardwareSpecs": false,
    "memoryGiB": 512,
    "name": "ml.trn1n.32xlarge",
    "vcpuNum": 128
   }
  ],
  "instance_type": "ml.t3.medium",
  "kernelspec": {
   "display_name": "Python 3 (ipykernel)",
   "language": "python",
   "name": "python3"
  },
  "language_info": {
   "codemirror_mode": {
    "name": "ipython",
    "version": 3
   },
   "file_extension": ".py",
   "mimetype": "text/x-python",
   "name": "python",
   "nbconvert_exporter": "python",
   "pygments_lexer": "ipython3",
   "version": "3.12.9"
  }
 },
 "nbformat": 4,
 "nbformat_minor": 4
}
