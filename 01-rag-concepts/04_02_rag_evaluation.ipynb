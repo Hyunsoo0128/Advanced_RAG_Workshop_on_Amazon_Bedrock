{
 "cells": [
  {
   "cell_type": "markdown",
   "id": "abb0e47b-768b-4677-98a2-9b3d8456df30",
   "metadata": {},
   "source": [
    "# Amazon Bedrock 모델 평가를 사용한 RAG 애플리케이션 구축 및 평가\n",
    "이 가이드에서는 Amazon Bedrock Knowledge Bases의 Retrieve API와 LangChain을 사용하여 Q&A 애플리케이션을 구축하고, Amazon Bedrock의 내장 모델 평가 기능을 사용해 응답의 품질을 평가하는 방법을 알아봅니다.\n",
    "\n",
    "기존 RAGAS 프레임워크 대신 Bedrock의 create_evaluation_job API를 사용하여 정확성(Correctness), 충실성(Faithfulness), 관련성(Relevancy) 등 RAG 애플리케이션에 필수적인 지표들을 평가합니다.\n",
    "\n",
    "https://docs.aws.amazon.com/bedrock/latest/userguide/evaluation-kb.html"
   ]
  },
  {
   "cell_type": "markdown",
   "id": "182e411e-1fe5-4ad9-b259-c031eb9993fc",
   "metadata": {},
   "source": [
    "## Bedrock 모델 평가 워크플로우\n",
    "\n",
    "**데이터셋 준비:** \n",
    "평가에 사용할 질문(prompt), 정답(referenceResponse), 검색된 컨텍스트(contexts), 그리고 모델의 생성 답변(modelOutput)이 포함된 .jsonl 형식의 데이터셋을 준비합니다.\n",
    "\n",
    "**S3 업로드:** \n",
    "준비된 평가 데이터셋을 Amazon S3 버킷에 업로드합니다.\n",
    "\n",
    "**평가 작업 생성:** \n",
    "create_evaluation_job Boto3 API를 호출하여 모델 평가 작업을 시작합니다. 이 작업은 S3에 저장된 데이터셋을 기반으로 지정된 모델의 응답 품질을 자동으로 평가합니다.\n",
    "\n",
    "**결과 분석:** \n",
    "평가 작업이 완료되면 지정된 S3 버킷에 결과 리포트가 생성됩니다. 이 리포트를 통해 각 평가지표에 대한 점수를 확인하고 RAG 애플리케이션의 성능을 분석합니다."
   ]
  },
  {
   "cell_type": "markdown",
   "id": "f7bf4385-dac0-4788-9aa1-d8c0ca449718",
   "metadata": {},
   "source": [
    "## 전제 조건\n",
    "**Knowledge Base:** Q&A에 사용할 데이터가 포함된 Amazon Bedrock Knowledge Base가 준비되어 있어야 합니다. (kb_id 필요)\n",
    "\n",
    "**S3 버킷:** 평가용 데이터셋과 결과 리포트를 저장할 S3 버킷이 필요합니다.\n",
    "\n",
    "**IAM 역할:** Amazon Bedrock이 S3 버킷에 접근하고 평가 작업을 수행할 수 있는 권한을 가진 IAM 역할이 필요합니다. 공식 문서를 참고하여 서비스 역할을 생성하세요."
   ]
  },
  {
   "cell_type": "markdown",
   "id": "2343149f-cc2f-42b6-ac4d-12638fe4f501",
   "metadata": {},
   "source": [
    "## 1단계: RAG 파이프라인 실행 및 평가 데이터 생성\n",
    "먼저, 기존 노트북과 동일하게 LangChain과 Bedrock Knowledge Base를 사용하여 각 질문에 대한 답변과 컨텍스트를 생성합니다. 이 결과물은 Bedrock 모델 평가를 위한 데이터셋의 기반이 됩니다."
   ]
  },
  {
   "cell_type": "code",
   "execution_count": 1,
   "id": "1cf26740-abf8-4dc5-9c8e-f8f3af095583",
   "metadata": {
    "execution": {
     "iopub.execute_input": "2025-07-31T07:05:04.172371Z",
     "iopub.status.busy": "2025-07-31T07:05:04.171641Z",
     "iopub.status.idle": "2025-07-31T07:05:08.251159Z",
     "shell.execute_reply": "2025-07-31T07:05:08.250169Z",
     "shell.execute_reply.started": "2025-07-31T07:05:04.172340Z"
    }
   },
   "outputs": [
    {
     "name": "stdout",
     "output_type": "stream",
     "text": [
      "sagemaker.config INFO - Not applying SDK defaults from location: /etc/xdg/sagemaker/config.yaml\n",
      "sagemaker.config INFO - Not applying SDK defaults from location: /home/sagemaker-user/.config/sagemaker/config.yaml\n"
     ]
    }
   ],
   "source": [
    "import boto3\n",
    "import json\n",
    "from botocore.client import Config\n",
    "from langchain.chains import RetrievalQA\n",
    "from langchain_aws.chat_models.bedrock import ChatBedrock\n",
    "from langchain_aws.retrievers.bedrock import AmazonKnowledgeBasesRetriever\n",
    "import sagemaker\n",
    "\n",
    "# --- 1. 기본 클라이언트 및 모델 설정 ---\n",
    "# 기존 노트북의 설정 코드와 동일합니다.\n",
    "session = boto3.session.Session()\n",
    "region = session.region_name\n",
    "bedrock_config = Config(connect_timeout=120, read_timeout=120, retries={'max_attempts': 0})\n",
    "bedrock_client = boto3.client('bedrock-runtime', region_name=region)\n",
    "bedrock_agent_client = boto3.client(\"bedrock-agent-runtime\", config=bedrock_config, region_name=region)\n",
    "\n",
    "# 평가할 모델과 Knowledge Base 리트리버 설정\n",
    "llm_for_text_generation = ChatBedrock(model_id=\"anthropic.claude-3-haiku-20240307-v1:0\", client=bedrock_client)\n",
    "\n",
    "%store -r kb_id\n",
    "# kb_id = \"YOUR_KNOWLEDGE_BASE_ID\" # Knowledge Base ID\n",
    "\n",
    "# default S3 bucket 확인\n",
    "sm_session = sagemaker.Session()\n",
    "default_bucket = sm_session.default_bucket()\n",
    "\n",
    "retriever = AmazonKnowledgeBasesRetriever(\n",
    "    knowledge_base_id=kb_id,\n",
    "    retrieval_config={\"vectorSearchConfiguration\": {\"numberOfResults\": 5}},\n",
    ")\n",
    "\n",
    "qa_chain = RetrievalQA.from_chain_type(\n",
    "    llm=llm_for_text_generation, \n",
    "    retriever=retriever, \n",
    "    return_source_documents=True\n",
    ")"
   ]
  },
  {
   "cell_type": "code",
   "execution_count": 2,
   "id": "831af759-0dbd-4ce0-9a14-43c5ddc53e09",
   "metadata": {
    "execution": {
     "iopub.execute_input": "2025-07-31T07:05:08.256639Z",
     "iopub.status.busy": "2025-07-31T07:05:08.256367Z",
     "iopub.status.idle": "2025-07-31T07:05:08.262046Z",
     "shell.execute_reply": "2025-07-31T07:05:08.261408Z",
     "shell.execute_reply.started": "2025-07-31T07:05:08.256616Z"
    }
   },
   "outputs": [
    {
     "name": "stdout",
     "output_type": "stream",
     "text": [
      "작업 대상 버킷: sagemaker-us-west-2-461433424192\n"
     ]
    }
   ],
   "source": [
    "from botocore.exceptions import ClientError, NoCredentialsError\n",
    "\n",
    "# 수정할 S3 버킷 이름을 입력하세요\n",
    "BUCKET_NAME = default_bucket\n",
    "\n",
    "print(f\"작업 대상 버킷: {BUCKET_NAME}\")"
   ]
  },
  {
   "cell_type": "code",
   "execution_count": 7,
   "id": "d822e193-4f20-443a-9998-dc8f73b3ee79",
   "metadata": {
    "execution": {
     "iopub.execute_input": "2025-07-31T07:06:52.579204Z",
     "iopub.status.busy": "2025-07-31T07:06:52.578490Z",
     "iopub.status.idle": "2025-07-31T07:06:52.635756Z",
     "shell.execute_reply": "2025-07-31T07:06:52.635041Z",
     "shell.execute_reply.started": "2025-07-31T07:06:52.579175Z"
    }
   },
   "outputs": [
    {
     "name": "stdout",
     "output_type": "stream",
     "text": [
      "버킷 'sagemaker-us-west-2-461433424192'에 CORS 설정이 없습니다.\n",
      "현재 CORS 설정이 없습니다.\n"
     ]
    }
   ],
   "source": [
    "import boto3\n",
    "s3_client = boto3.client('s3')\n",
    "\n",
    "def get_cors_configuration(bucket_name):\n",
    "    \"\"\"\n",
    "    S3 버킷의 현재 CORS 설정을 조회합니다.\n",
    "    \n",
    "    Args:\n",
    "        bucket_name (str): S3 버킷 이름\n",
    "    \n",
    "    Returns:\n",
    "        dict: CORS 설정 또는 None\n",
    "    \"\"\"\n",
    "    try:\n",
    "        response = s3_client.get_bucket_cors(Bucket=bucket_name)\n",
    "        return response['CORSRules']\n",
    "    except ClientError as e:\n",
    "        error_code = e.response['Error']['Code']\n",
    "        if error_code == 'NoSuchCORSConfiguration':\n",
    "            print(f\"버킷 '{bucket_name}'에 CORS 설정이 없습니다.\")\n",
    "            return None\n",
    "        else:\n",
    "            print(f\"CORS 설정 조회 중 오류 발생: {e}\")\n",
    "            return None\n",
    "    except Exception as e:\n",
    "        print(f\"예상치 못한 오류 발생: {e}\")\n",
    "        return None\n",
    "\n",
    "# 현재 CORS 설정 조회\n",
    "current_cors = get_cors_configuration(BUCKET_NAME)\n",
    "if current_cors:\n",
    "    print(\"현재 CORS 설정:\")\n",
    "    print(json.dumps(current_cors, indent=2, ensure_ascii=False))\n",
    "else:\n",
    "    print(\"현재 CORS 설정이 없습니다.\")"
   ]
  },
  {
   "cell_type": "code",
   "execution_count": 8,
   "id": "2c759183-c2f9-4c5f-ba80-96ea7f574065",
   "metadata": {
    "execution": {
     "iopub.execute_input": "2025-07-31T07:06:55.421931Z",
     "iopub.status.busy": "2025-07-31T07:06:55.421534Z",
     "iopub.status.idle": "2025-07-31T07:06:55.427344Z",
     "shell.execute_reply": "2025-07-31T07:06:55.426294Z",
     "shell.execute_reply.started": "2025-07-31T07:06:55.421904Z"
    }
   },
   "outputs": [
    {
     "name": "stdout",
     "output_type": "stream",
     "text": [
      "새로운 CORS 설정:\n",
      "{\n",
      "  \"CORSRules\": [\n",
      "    {\n",
      "      \"AllowedHeaders\": [\n",
      "        \"*\"\n",
      "      ],\n",
      "      \"AllowedMethods\": [\n",
      "        \"GET\",\n",
      "        \"PUT\",\n",
      "        \"POST\",\n",
      "        \"DELETE\"\n",
      "      ],\n",
      "      \"AllowedOrigins\": [\n",
      "        \"*\"\n",
      "      ],\n",
      "      \"ExposeHeaders\": [\n",
      "        \"Access-Control-Allow-Origin\"\n",
      "      ]\n",
      "    }\n",
      "  ]\n",
      "}\n"
     ]
    }
   ],
   "source": [
    "# 새로운 CORS 설정 정의\n",
    "cors_configuration = {\n",
    "    'CORSRules': [\n",
    "        {\n",
    "            \"AllowedHeaders\": [\n",
    "            \"*\"\n",
    "            ],\n",
    "            \"AllowedMethods\": [\n",
    "                \"GET\",\n",
    "                \"PUT\",\n",
    "                \"POST\",\n",
    "                \"DELETE\"\n",
    "            ],\n",
    "            \"AllowedOrigins\": [\n",
    "                \"*\"\n",
    "            ],\n",
    "            \"ExposeHeaders\": [\n",
    "                \"Access-Control-Allow-Origin\"\n",
    "            ]\n",
    "        }\n",
    "    ]\n",
    "}\n",
    "\n",
    "print(\"새로운 CORS 설정:\")\n",
    "print(json.dumps(cors_configuration, indent=2, ensure_ascii=False))"
   ]
  },
  {
   "cell_type": "code",
   "execution_count": 9,
   "id": "9671fa58-7623-4726-b58e-c617ac155f36",
   "metadata": {
    "execution": {
     "iopub.execute_input": "2025-07-31T07:06:56.401493Z",
     "iopub.status.busy": "2025-07-31T07:06:56.401182Z",
     "iopub.status.idle": "2025-07-31T07:06:56.703700Z",
     "shell.execute_reply": "2025-07-31T07:06:56.702894Z",
     "shell.execute_reply.started": "2025-07-31T07:06:56.401468Z"
    }
   },
   "outputs": [
    {
     "name": "stdout",
     "output_type": "stream",
     "text": [
      "버킷 'sagemaker-us-west-2-461433424192'의 CORS 설정이 성공적으로 업데이트되었습니다.\n",
      "\n",
      "✅ CORS 설정이 성공적으로 적용되었습니다!\n"
     ]
    }
   ],
   "source": [
    "def put_cors_configuration(bucket_name, cors_config):\n",
    "    \"\"\"\n",
    "    S3 버킷에 CORS 설정을 적용합니다.\n",
    "    \n",
    "    Args:\n",
    "        bucket_name (str): S3 버킷 이름\n",
    "        cors_config (dict): CORS 설정\n",
    "    \n",
    "    Returns:\n",
    "        bool: 성공 여부\n",
    "    \"\"\"\n",
    "    try:\n",
    "        s3_client.put_bucket_cors(\n",
    "            Bucket=bucket_name,\n",
    "            CORSConfiguration=cors_config\n",
    "        )\n",
    "        print(f\"버킷 '{bucket_name}'의 CORS 설정이 성공적으로 업데이트되었습니다.\")\n",
    "        return True\n",
    "    except ClientError as e:\n",
    "        print(f\"CORS 설정 적용 중 오류 발생: {e}\")\n",
    "        return False\n",
    "    except Exception as e:\n",
    "        print(f\"예상치 못한 오류 발생: {e}\")\n",
    "        return False\n",
    "\n",
    "# CORS 설정 적용\n",
    "success = put_cors_configuration(BUCKET_NAME, cors_configuration)\n",
    "if success:\n",
    "    print(\"\\n✅ CORS 설정이 성공적으로 적용되었습니다!\")\n",
    "else:\n",
    "    print(\"\\n❌ CORS 설정 적용에 실패했습니다.\")"
   ]
  },
  {
   "cell_type": "code",
   "execution_count": 10,
   "id": "97c3f923-76fc-4222-a438-e3ad1bee7ca2",
   "metadata": {
    "execution": {
     "iopub.execute_input": "2025-07-31T07:06:58.165764Z",
     "iopub.status.busy": "2025-07-31T07:06:58.165411Z",
     "iopub.status.idle": "2025-07-31T07:06:58.182457Z",
     "shell.execute_reply": "2025-07-31T07:06:58.181740Z",
     "shell.execute_reply.started": "2025-07-31T07:06:58.165739Z"
    }
   },
   "outputs": [
    {
     "name": "stdout",
     "output_type": "stream",
     "text": [
      "업데이트된 CORS 설정 확인:\n",
      "[\n",
      "  {\n",
      "    \"AllowedHeaders\": [\n",
      "      \"*\"\n",
      "    ],\n",
      "    \"AllowedMethods\": [\n",
      "      \"GET\",\n",
      "      \"PUT\",\n",
      "      \"POST\",\n",
      "      \"DELETE\"\n",
      "    ],\n",
      "    \"AllowedOrigins\": [\n",
      "      \"*\"\n",
      "    ],\n",
      "    \"ExposeHeaders\": [\n",
      "      \"Access-Control-Allow-Origin\"\n",
      "    ]\n",
      "  }\n",
      "]\n"
     ]
    }
   ],
   "source": [
    "# 업데이트된 CORS 설정 확인\n",
    "print(\"업데이트된 CORS 설정 확인:\")\n",
    "updated_cors = get_cors_configuration(BUCKET_NAME)\n",
    "if updated_cors:\n",
    "    print(json.dumps(updated_cors, indent=2, ensure_ascii=False))\n",
    "else:\n",
    "    print(\"CORS 설정을 찾을 수 없습니다.\")"
   ]
  },
  {
   "cell_type": "markdown",
   "id": "eb8309a9-ef02-4243-89cd-32bda7415b64",
   "metadata": {},
   "source": [
    "**평가 데이터셋 양식**\n",
    "\n",
    "{\"conversationTurns\":[{\"prompt\":{\"content\":[{\"text\":\"Provide the prompt you want to use during inference\"}]},\"referenceResponses\":[{\"content\":[{\"text\":\"Specify a ground-truth response\"}]}]}]}\n",
    "\n",
    "{\"conversationTurns\":[{\"prompt\":{\"content\":[{\"text\":\"Provide the prompt you want to use during inference\"}]},\"referenceResponses\":[{\"content\":[{\"text\":\"Specify a ground-truth response\"}]}]}]}\n",
    "\n",
    "{\"conversationTurns\":[{\"prompt\":{\"content\":[{\"text\":\"Provide the prompt you want to use during inference\"}]},\"referenceResponses\":[{\"content\":[{\"text\":\"Specify a ground-truth response\"}]}]}]}\n",
    "\n",
    "{\"conversationTurns\":[{\"prompt\":{\"content\":[{\"text\":\"Provide the prompt you want to use during inference\"}]},\"referenceResponses\":[{\"content\":[{\"text\":\"Specify a ground-truth response\"}]}]}]}\n",
    "\n",
    "{\"conversationTurns\":[{\"prompt\":{\"content\":[{\"text\":\"Provide the prompt you want to use during inference\"}]},\"referenceResponses\":[{\"content\":[{\"text\":\"Specify a ground-truth response\"}]}]}]}\n",
    "\n",
    "{\"conversationTurns\":[{\"prompt\":{\"content\":[{\"text\":\"Provide the prompt you want to use during inference\"}]},\"referenceResponses\":[{\"content\":[{\"text\":\"Specify a ground-truth response\"}]}]}]}\n",
    "\n",
    "https://docs.aws.amazon.com/bedrock/latest/userguide/knowledge-base-evaluation-prompt.html"
   ]
  },
  {
   "cell_type": "code",
   "execution_count": 11,
   "id": "87df8ae7-7f84-4170-8790-91d4c0164b9e",
   "metadata": {
    "execution": {
     "iopub.execute_input": "2025-07-31T07:07:10.054096Z",
     "iopub.status.busy": "2025-07-31T07:07:10.053802Z",
     "iopub.status.idle": "2025-07-31T07:07:10.058601Z",
     "shell.execute_reply": "2025-07-31T07:07:10.057859Z",
     "shell.execute_reply.started": "2025-07-31T07:07:10.054073Z"
    }
   },
   "outputs": [],
   "source": [
    "import json\n",
    "\n",
    "# --- 1. 평가용 질문 및 정답 데이터 ---\n",
    "questions = [\n",
    "        \"2024년 전국의 총인구와 전년 대비 증감률을 제시하고, 내국인과 외국인의 구성을 설명하시오.\",\n",
    "        \"2024년 전국의 연령대별 인구 구성과 노령화지수를 제시하시오.\",\n",
    "        \"2024년 다문화가구의 규모와 유형별 구성비를 설명하시오.\",\n",
    "        \"2024년 (반)지하 및 옥탑 주택의 지역별 분포 특성을 설명하시오.\",\n",
    "        \"2024년 전국 주택의 노후기간별 현황을 제시하시오.\"\n",
    "]\n",
    "ground_truths = [\n",
    "    \"2024년 총인구는 51,806천 명이며 전년 대비 0.1%(31천 명) 증가했습니다. 내국인: 49,763천 명(96.1%), 전년 대비 77천 명(-0.2%) 감소. 외국인: 2,043천 명(3.9%), 전년 대비 108천 명(5.6%) 증가\",\n",
    "    \"2024년 연령대별 인구 구성은 다음과 같습니다: 유소년인구(0-14세): 542만 명(10.5%), 생산연령인구(15-64세): 3,626만 명(70.0%), 고령인구(65세 이상): 1,012만 명(19.5%), 노령화지수: 186.7(전년 대비 15.7 증가)\",\n",
    "    \"2024년 다문화가구는 439,304가구이며, 유형별 구성은 다음과 같습니다: 귀화자가구: 42.6%, 결혼이민자가구: 35.2%, 다문화자녀가구: 11.3%, 기타: 10.9% 전년 대비 5.7%(23,720가구) 증가했습니다.\",\n",
    "    \"2024년 기준: (반)지하가 있는 주택: 261천 호(전체 주택의 1.3%), 옥탑이 있는 주택: 34천 호(전체 주택의 0.2%), 수도권 분포 비율: (반)지하: 97.3%(254천 호) 옥탑: 90.6%(31천 호)\",\n",
    "    \"2024년 주택의 노후기간별 현황: 20년 이상 된 주택: 10,908천 호(전체 주택의 54.9%) 20~30년 미만: 5,334천 호(26.8%) 30년 이상: 5,574천 호(28.0%)\"\n",
    "]"
   ]
  },
  {
   "cell_type": "code",
   "execution_count": 12,
   "id": "52ad243e-4699-4b40-a06a-783026beb89d",
   "metadata": {
    "execution": {
     "iopub.execute_input": "2025-07-31T07:07:12.900895Z",
     "iopub.status.busy": "2025-07-31T07:07:12.900606Z",
     "iopub.status.idle": "2025-07-31T07:07:12.906638Z",
     "shell.execute_reply": "2025-07-31T07:07:12.905890Z",
     "shell.execute_reply.started": "2025-07-31T07:07:12.900870Z"
    }
   },
   "outputs": [
    {
     "name": "stdout",
     "output_type": "stream",
     "text": [
      "'evaluation_dataset.jsonl'이 성공적으로 생성되었습니다.\n"
     ]
    }
   ],
   "source": [
    "# --- 2. JSON Lines(.jsonl) 파일로 저장 ---\n",
    "evaluation_data = []\n",
    "for question, ground_truth in zip(questions, ground_truths):\n",
    "    data = {\n",
    "        \"conversationTurns\": [{\n",
    "            \"prompt\": {\n",
    "                \"content\": [{\n",
    "                    \"text\": question\n",
    "                }]\n",
    "            },\n",
    "            \"referenceResponses\": [{\n",
    "                \"content\": [{\n",
    "                    \"text\": ground_truth\n",
    "                }]\n",
    "            }]\n",
    "        }]\n",
    "    }\n",
    "    evaluation_data.append(data)\n",
    "\n",
    "output_file = \"evaluation_dataset.jsonl\"\n",
    "with open(output_file, \"w\") as f:\n",
    "    for item in evaluation_data:\n",
    "        f.write(json.dumps(item) + \"\\n\")\n",
    "\n",
    "print(f\"'{output_file}'이 성공적으로 생성되었습니다.\")"
   ]
  },
  {
   "cell_type": "markdown",
   "id": "15b4dc75-3f99-4f24-a1be-a97d8d3ff071",
   "metadata": {},
   "source": [
    "## 2단계: S3 업로드\n",
    "생성된 .jsonl 파일을 S3에 업로드한 후, create_evaluation_job API를 호출하여 평가를 시작합니다.\n",
    "\n",
    "평가 모델로 사용가능한 llm 리스트 https://docs.aws.amazon.com/bedrock/latest/userguide/evaluation-judge.html"
   ]
  },
  {
   "cell_type": "code",
   "execution_count": 13,
   "id": "2cce2ec4-81a0-4ce0-970d-b8610ca1fcff",
   "metadata": {
    "execution": {
     "iopub.execute_input": "2025-07-31T07:07:16.451191Z",
     "iopub.status.busy": "2025-07-31T07:07:16.450771Z",
     "iopub.status.idle": "2025-07-31T07:07:16.523827Z",
     "shell.execute_reply": "2025-07-31T07:07:16.522800Z",
     "shell.execute_reply.started": "2025-07-31T07:07:16.451166Z"
    }
   },
   "outputs": [
    {
     "name": "stdout",
     "output_type": "stream",
     "text": [
      "데이터셋이 s3://sagemaker-us-west-2-461433424192/evaluation-datasets/evaluation_dataset.jsonl에 업로드되었습니다.\n"
     ]
    }
   ],
   "source": [
    "# --- 3. 데이터셋 S3 업로드 ---\n",
    "s3_client = boto3.client('s3')\n",
    "bucket_name = default_bucket  # S3 버킷 이름으로 변경하세요.\n",
    "s3_key = \"evaluation-datasets/evaluation_dataset.jsonl\"\n",
    "s3_input_path = f\"s3://{bucket_name}/{s3_key}\"\n",
    "\n",
    "s3_client.upload_file(output_file, bucket_name, s3_key)\n",
    "print(f\"데이터셋이 {s3_input_path}에 업로드되었습니다.\")"
   ]
  },
  {
   "cell_type": "markdown",
   "id": "36d83791-2142-4853-a181-c57260843b43",
   "metadata": {},
   "source": [
    "## 3단계: Bedrock 모델 평가 작업 실행\n",
    "\n",
    "### Amazon Bedrock RAG 평가 작업 생성 가이드\n",
    "\n",
    "### 1. Amazon Bedrock 콘솔 접속\n",
    "Amazon Bedrock 콘솔을 엽니다.\n",
    "\n",
    "### 2. 평가 메뉴 접근\n",
    "왼쪽 패널의 **Assessment** 섹션에서 **Evaluations**를 선택합니다.\n",
    "\n",
    "### 3. RAG 평가 생성 시작\n",
    "**RAG 평가** 패널에서 **생성(Create)**을 선택합니다.\n",
    "\n",
    "### 4. RAG 평가 세부 정보 입력\n",
    "\n",
    "#### 4.1 기본 정보 설정\n",
    "- **평가 세부 정보** 패널의 **평가 이름** 필드에 평가 작업의 이름을 입력합니다.\n",
    "  - 입력하는 이름은 AWS 리전 내에서 고유해야 합니다.\n",
    "- **설명 - 선택사항** 필드에 평가 작업에 대한 설명을 입력합니다. (선택사항)\n",
    "\n",
    "#### 4.2 평가자 모델 선택\n",
    "**평가자 모델** 섹션에서 **모델 선택**을 클릭하고 평가를 수행할 평가자 모델을 선택합니다.\n",
    "\n",
    "### 5. 추론 소스 설정\n",
    "\n",
    "Amazon Bedrock RAG 평가에서는 두 가지 방법 중 하나를 선택할 수 있습니다:\n",
    "\n",
    "#### 5.1 Amazon Bedrock Knowledge Base 사용\n",
    "Amazon Bedrock Knowledge Base의 성능을 평가하려면:\n",
    "- **추론 소스** 패널에서 **소스 선택**을 **Bedrock Knowledge Base**로 설정\n",
    "- **Knowledge Base 선택** 드롭다운 목록에서 Knowledge Base를 선택\n",
    "\n",
    "#### 5.2 자체 추론 응답 데이터 사용\n",
    "프롬프트 데이터셋에서 자체 추론 응답 데이터를 제공하려면:\n",
    "- **추론 소스** 패널에서 **소스 선택**을 **자체 추론 응답 가져오기(Bring your own inference responses)**로 설정\n",
    "- **소스 이름**에 응답 데이터를 생성하는 데 사용한 RAG 소스의 이름을 입력\n",
    "  - 입력하는 이름은 프롬프트 데이터셋의 `knowledgeBaseIdentifier` 매개변수와 일치해야 합니다\n",
    "\n",
    "### 6. 평가 유형 선택\n",
    "**추론 소스** 패널의 **평가 유형**에서 **검색 및 응답 생성(Retrieval and response generation)**을 선택합니다.\n",
    "\n",
    "### 7. 메트릭 선택\n",
    "**메트릭** 패널에서 평가자 모델이 사용할 내장 메트릭을 하나 이상 선택합니다.\n",
    "\n",
    "### 8. 입력 및 출력 위치 정의\n",
    "\n",
    "#### 8.1 데이터셋 설정\n",
    "**데이터셋** 패널에서:\n",
    "- **프롬프트 데이터셋 선택** 필드에 프롬프트 데이터셋의 Amazon S3 URI를 입력하거나\n",
    "- **S3 찾아보기**를 선택하여 파일을 선택합니다\n",
    "- 검색 전용 평가 작업에 필요한 프롬프트 데이터셋 형식에 대한 정의는 관련 문서를 참조하세요\n",
    "\n",
    "#### 8.2 평가 결과 저장 위치\n",
    "**평가 결과** 섹션에서:\n",
    "- Amazon Bedrock이 결과를 저장할 Amazon S3 위치를 입력하거나\n",
    "- **S3 찾아보기**를 선택하여 위치를 선택합니다\n",
    "\n",
    "### 9. IAM 역할 설정\n",
    "**Amazon Bedrock IAM 역할 - 권한** 섹션에서:\n",
    "- **새 서비스 역할 생성 및 사용**: Amazon Bedrock이 평가 작업을 위한 새 IAM 역할을 생성하도록 하려면 선택\n",
    "- **기존 서비스 역할 사용**: 기존 IAM 역할을 선택하려면 선택\n",
    "\n",
    "평가 작업을 생성하고 실행하는 데 필요한 권한 목록은 전제 조건 문서를 참조하세요.\n",
    "\n",
    "### 10. 암호화 설정 (선택사항)\n",
    "자체 KMS 키를 사용하여 평가 데이터를 암호화하려면:\n",
    "- **KMS 키 - 선택사항** 섹션에서 **암호화 설정 사용자 지정(고급)** 체크박스를 선택\n",
    "- AWS KMS 키를 선택합니다\n",
    "\n",
    "기본적으로 Amazon Bedrock은 AWS 소유 KMS 키로 평가 작업 데이터를 암호화합니다.\n",
    "\n",
    "### 11. 평가 작업 생성 완료\n",
    "**생성(Create)**을 선택하여 평가 작업 생성을 완료합니다."
   ]
  }
 ],
 "metadata": {
  "kernelspec": {
   "display_name": "Python 3 (ipykernel)",
   "language": "python",
   "name": "python3"
  },
  "language_info": {
   "codemirror_mode": {
    "name": "ipython",
    "version": 3
   },
   "file_extension": ".py",
   "mimetype": "text/x-python",
   "name": "python",
   "nbconvert_exporter": "python",
   "pygments_lexer": "ipython3",
   "version": "3.12.9"
  }
 },
 "nbformat": 4,
 "nbformat_minor": 5
}
