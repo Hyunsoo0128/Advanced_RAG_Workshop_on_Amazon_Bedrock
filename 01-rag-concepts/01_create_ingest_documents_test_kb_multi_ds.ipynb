{
 "cells": [
  {
   "cell_type": "markdown",
   "metadata": {},
   "source": [
    "## Amazon Bedrock Knowledge Bases - 다양한 데이터 소스를 사용한 엔드 투 엔드 예제 ##\n",
    "이 노트북은 Amazon Bedrock Knowledge Bases를 사용하여 RAG 애플리케이션을 구축하고 다양한 데이터 소스(S3, Confluence, Sharepoint, Salesforce 및 Web)에서 문서를 색인에 수집하는 엔드 투 엔드 예제의 샘플 코드를 제공합니다. 최대 5개의 데이터 소스를 추가할 수 있습니다.\n",
    "\n",
    "노트북 설명\n",
    "질문이 수신될 때 조회할 수 있도록 문서(일반적으로 여러 데이터 소스에 저장됨)를 Amazon OpenSearch Service Serverless(AOSS)와 같은 벡터 데이터베이스인 지식 베이스로 수집하는 데이터 파이프라인입니다.\n",
    "\n",
    "다양한 데이터 소스(S3, Confluence, Sharepoint, Salesforce 및 Web)를 연결하여 문서를 지식 베이스에 로드합니다.\n",
    "수집 - 지식 베이스는 문서를 더 작은 청크로 분할하고(선택한 전략에 따라), 임베딩을 생성하여 관련 벡터 저장소에 저장합니다.\n",
    "<!-- data_ingestion.png -->\n",
    "<img src=\"./images/data_ingestion.png\" width=50% height=20% />\n",
    "\n",
    "단계:\n",
    "다양한 데이터 소스(S3, Confluence, Sharepoint, Salesforce 및 Web)에서 데이터에 액세스하고 OSS에 임베딩을 쓰는 데 필요한 정책이 포함된 Knowledge Base 실행 역할을 생성합니다.\n",
    "빈 OpenSearch 서버리스 인덱스를 생성합니다.\n",
    "사전 요구 사항:\n",
    "S3의 경우, s3 버킷 생성(존재하지 않는 경우) 및 데이터 업로드\n",
    "다른 데이터 소스의 경우 - 해당 [AWS 문서 페이지](https://docs.aws.amazon.com/bedrock/latest/userguide/data-source-connectors.html)의 사전 요구 사항 참조\n",
    "지식 베이스 생성\n",
    "지식 베이스 내에 데이터 소스 생성\n",
    "각 데이터 소스에 대해 KB API를 사용하여 수집 작업을 시작하면 데이터 소스에서 데이터를 읽고, 청크로 분할하고, Amazon Titan Embeddings 모델을 사용하여 청크를 임베딩으로 변환한 다음 이러한 임베딩을 AOSS에 저장합니다. 이 모든 것이 데이터 파이프라인을 구축, 배포 및 관리할 필요 없이 이루어집니다.\n",
    "데이터가 Bedrock Knowledge Base에서 사용 가능하게 되면 Amazon Bedrock에서 제공하는 Knowledge Base API를 사용하여 질문 답변 애플리케이션을 구축할 수 있습니다."
   ]
  },
  {
   "cell_type": "markdown",
   "metadata": {},
   "source": [
    "<div class=\"alert alert-block alert-info\">\n",
    "<b>참고:</b> Amazon Bedrock Console에서 다음 모델들에 대한 접근 권한을 활성화했는지 확인하십시오:\n",
    "amazon.nova-micro-v1:0\n",
    "Anthropic Claude 3 Sonnet\n",
    "amazon.titan-text-express-v1\n",
    "anthropic.claude-3-haiku-20240307-v1:0\n",
    "Titan Text Embeddings V2 \n",
    "<br> ------------------------------------------------------------------------------------------------------------------------------------------------------- </br>\n",
    "\"모든 셀 실행\" 옵션을 사용하는 대신 노트북의 셀을 하나씩 실행해 주시기 바랍니다.\n",
    "</div>"
   ]
  },
  {
   "cell_type": "markdown",
   "metadata": {},
   "source": [
    "## 설정\n",
    "이 노트북의 나머지 부분을 실행하기 전에, (필요한 라이브러리가 설치되어 있는지 확인하고) Bedrock에 연결하기 위해 아래 셀들을 실행해야 합니다."
   ]
  },
  {
   "cell_type": "code",
   "execution_count": 1,
   "metadata": {
    "execution": {
     "iopub.execute_input": "2025-07-31T06:38:36.380756Z",
     "iopub.status.busy": "2025-07-31T06:38:36.380418Z",
     "iopub.status.idle": "2025-07-31T06:39:25.926496Z",
     "shell.execute_reply": "2025-07-31T06:39:25.925590Z",
     "shell.execute_reply.started": "2025-07-31T06:38:36.380725Z"
    }
   },
   "outputs": [
    {
     "name": "stdout",
     "output_type": "stream",
     "text": [
      "Note: you may need to restart the kernel to use updated packages.\n",
      "Note: you may need to restart the kernel to use updated packages.\n",
      "\u001b[31mERROR: pip's dependency resolver does not currently take into account all the packages that are installed. This behaviour is the source of the following dependency conflicts.\n",
      "autogluon-multimodal 1.3.1 requires nvidia-ml-py3<8.0,>=7.352.0, which is not installed.\n",
      "dash 2.18.1 requires dash-core-components==2.0.0, which is not installed.\n",
      "dash 2.18.1 requires dash-html-components==2.0.0, which is not installed.\n",
      "dash 2.18.1 requires dash-table==5.0.0, which is not installed.\n",
      "aiobotocore 2.21.1 requires botocore<1.37.2,>=1.37.0, but you have botocore 1.39.17 which is incompatible.\n",
      "autogluon-common 1.3.1 requires pandas<2.3.0,>=2.0.0, but you have pandas 2.3.1 which is incompatible.\n",
      "autogluon-core 1.3.1 requires pandas<2.3.0,>=2.0.0, but you have pandas 2.3.1 which is incompatible.\n",
      "autogluon-features 1.3.1 requires pandas<2.3.0,>=2.0.0, but you have pandas 2.3.1 which is incompatible.\n",
      "autogluon-multimodal 1.3.1 requires nltk<3.9,>=3.4.5, but you have nltk 3.9.1 which is incompatible.\n",
      "autogluon-multimodal 1.3.1 requires pandas<2.3.0,>=2.0.0, but you have pandas 2.3.1 which is incompatible.\n",
      "autogluon-multimodal 1.3.1 requires transformers[sentencepiece]<4.50,>=4.38.0, but you have transformers 4.53.1 which is incompatible.\n",
      "autogluon-tabular 1.3.1 requires pandas<2.3.0,>=2.0.0, but you have pandas 2.3.1 which is incompatible.\n",
      "autogluon-timeseries 1.3.1 requires pandas<2.3.0,>=2.0.0, but you have pandas 2.3.1 which is incompatible.\n",
      "autogluon-timeseries 1.3.1 requires transformers[sentencepiece]<4.50,>=4.38.0, but you have transformers 4.53.1 which is incompatible.\n",
      "dash 2.18.1 requires Flask<3.1,>=1.0.4, but you have flask 3.1.1 which is incompatible.\n",
      "dash 2.18.1 requires Werkzeug<3.1, but you have werkzeug 3.1.3 which is incompatible.\n",
      "pathos 0.3.4 requires dill>=0.4.0, but you have dill 0.3.8 which is incompatible.\n",
      "pathos 0.3.4 requires multiprocess>=0.70.18, but you have multiprocess 0.70.16 which is incompatible.\n",
      "sagemaker-studio-analytics-extension 0.2.0 requires sparkmagic==0.22.0, but you have sparkmagic 0.21.0 which is incompatible.\n",
      "sparkmagic 0.21.0 requires pandas<2.0.0,>=0.17.1, but you have pandas 2.3.1 which is incompatible.\u001b[0m\u001b[31m\n",
      "\u001b[0mNote: you may need to restart the kernel to use updated packages.\n"
     ]
    }
   ],
   "source": [
    "%pip install --upgrade pip --quiet\n",
    "%pip install -r ../requirements.txt --no-deps --quiet\n",
    "%pip install -r ../requirements.txt --upgrade --quiet"
   ]
  },
  {
   "cell_type": "code",
   "execution_count": 2,
   "metadata": {
    "collapsed": false,
    "execution": {
     "iopub.execute_input": "2025-07-31T06:39:25.928416Z",
     "iopub.status.busy": "2025-07-31T06:39:25.928105Z",
     "iopub.status.idle": "2025-07-31T06:39:25.935988Z",
     "shell.execute_reply": "2025-07-31T06:39:25.935180Z",
     "shell.execute_reply.started": "2025-07-31T06:39:25.928390Z"
    },
    "jupyter": {
     "outputs_hidden": false
    }
   },
   "outputs": [
    {
     "data": {
      "text/html": [
       "<script>Jupyter.notebook.kernel.restart()</script>"
      ],
      "text/plain": [
       "<IPython.core.display.HTML object>"
      ]
     },
     "execution_count": 2,
     "metadata": {},
     "output_type": "execute_result"
    }
   ],
   "source": [
    "# restart kernel\n",
    "from IPython.core.display import HTML\n",
    "HTML(\"<script>Jupyter.notebook.kernel.restart()</script>\")"
   ]
  },
  {
   "cell_type": "code",
   "execution_count": 3,
   "metadata": {
    "execution": {
     "iopub.execute_input": "2025-07-31T06:39:25.937484Z",
     "iopub.status.busy": "2025-07-31T06:39:25.937148Z",
     "iopub.status.idle": "2025-07-31T06:39:25.941313Z",
     "shell.execute_reply": "2025-07-31T06:39:25.940211Z",
     "shell.execute_reply.started": "2025-07-31T06:39:25.937436Z"
    }
   },
   "outputs": [],
   "source": [
    "import warnings\n",
    "warnings.filterwarnings('ignore')"
   ]
  },
  {
   "cell_type": "code",
   "execution_count": 4,
   "metadata": {
    "execution": {
     "iopub.execute_input": "2025-07-31T06:39:25.943561Z",
     "iopub.status.busy": "2025-07-31T06:39:25.943325Z",
     "iopub.status.idle": "2025-07-31T06:39:26.435512Z",
     "shell.execute_reply": "2025-07-31T06:39:26.434883Z",
     "shell.execute_reply.started": "2025-07-31T06:39:25.943542Z"
    }
   },
   "outputs": [
    {
     "name": "stdout",
     "output_type": "stream",
     "text": [
      "['/opt/conda/lib/python312.zip', '/opt/conda/lib/python3.12', '/opt/conda/lib/python3.12/lib-dynload', '', '/opt/conda/lib/python3.12/site-packages', '/home/sagemaker-user/Advanced_RAG_Workshop_on_Amazon_Bedrock']\n"
     ]
    }
   ],
   "source": [
    "import os\n",
    "import sys\n",
    "import time\n",
    "import boto3\n",
    "import logging\n",
    "import pprint\n",
    "import json\n",
    "\n",
    "# Set the path to import module\n",
    "from pathlib import Path\n",
    "current_path = Path().resolve()\n",
    "current_path = current_path.parent\n",
    "if str(current_path) not in sys.path:\n",
    "    sys.path.append(str(current_path))\n",
    "\n",
    "# Print sys.path to verify\n",
    "print(sys.path)\n",
    "\n",
    "from utils.knowledge_base import BedrockKnowledgeBase"
   ]
  },
  {
   "cell_type": "code",
   "execution_count": 5,
   "metadata": {
    "execution": {
     "iopub.execute_input": "2025-07-31T06:39:26.436860Z",
     "iopub.status.busy": "2025-07-31T06:39:26.436375Z",
     "iopub.status.idle": "2025-07-31T06:39:26.647866Z",
     "shell.execute_reply": "2025-07-31T06:39:26.647101Z",
     "shell.execute_reply.started": "2025-07-31T06:39:26.436798Z"
    }
   },
   "outputs": [
    {
     "data": {
      "text/plain": [
       "('us-west-2', '461433424192')"
      ]
     },
     "execution_count": 5,
     "metadata": {},
     "output_type": "execute_result"
    }
   ],
   "source": [
    "#Clients\n",
    "s3_client = boto3.client('s3')\n",
    "sts_client = boto3.client('sts')\n",
    "session = boto3.session.Session()\n",
    "region =  session.region_name\n",
    "account_id = sts_client.get_caller_identity()[\"Account\"]\n",
    "bedrock_agent_client = boto3.client('bedrock-agent')\n",
    "bedrock_agent_runtime_client = boto3.client('bedrock-agent-runtime') \n",
    "logging.basicConfig(format='[%(asctime)s] p%(process)s {%(filename)s:%(lineno)d} %(levelname)s - %(message)s', level=logging.INFO)\n",
    "logger = logging.getLogger(__name__)\n",
    "region, account_id"
   ]
  },
  {
   "cell_type": "code",
   "execution_count": 6,
   "metadata": {
    "execution": {
     "iopub.execute_input": "2025-07-31T06:39:26.649350Z",
     "iopub.status.busy": "2025-07-31T06:39:26.649037Z",
     "iopub.status.idle": "2025-07-31T06:39:26.653350Z",
     "shell.execute_reply": "2025-07-31T06:39:26.652667Z",
     "shell.execute_reply.started": "2025-07-31T06:39:26.649320Z"
    }
   },
   "outputs": [],
   "source": [
    "import time\n",
    "\n",
    "# Get the current timestamp\n",
    "current_time = time.time()\n",
    "\n",
    "# Format the timestamp as a string\n",
    "timestamp_str = time.strftime(\"%Y%m%d%H%M%S\", time.localtime(current_time))[-7:]\n",
    "# Create the suffix using the timestamp\n",
    "suffix = f\"{timestamp_str}\"\n",
    "\n",
    "knowledge_base_name = f\"bedrock-sample-knowledge-base-{suffix}\"\n",
    "knowledge_base_description = \"Multi data source knowledge base.\"\n",
    "\n",
    "bucket_name = f'{knowledge_base_name}-{account_id}'\n",
    "intermediate_bucket_name = f'{knowledge_base_name}-intermediate-{account_id}'\n",
    "foundation_model = \"anthropic.claude-3-sonnet-20240229-v1:0\""
   ]
  },
  {
   "cell_type": "code",
   "execution_count": 7,
   "metadata": {
    "execution": {
     "iopub.execute_input": "2025-07-31T06:39:26.655162Z",
     "iopub.status.busy": "2025-07-31T06:39:26.654500Z",
     "iopub.status.idle": "2025-07-31T06:39:26.659558Z",
     "shell.execute_reply": "2025-07-31T06:39:26.658570Z",
     "shell.execute_reply.started": "2025-07-31T06:39:26.655130Z"
    }
   },
   "outputs": [
    {
     "name": "stdout",
     "output_type": "stream",
     "text": [
      "1.39.17\n"
     ]
    }
   ],
   "source": [
    "print(boto3.__version__)"
   ]
  },
  {
   "cell_type": "markdown",
   "metadata": {},
   "source": [
    "### 이제 지식 베이스에 여러 가지 다양한 데이터 소스(S3, Confluence, Sharepoint, Salesforce, Web Crawler)를 추가할 수 있습니다. 이 노트북에서는 여러 가지 다양한 데이터 소스를 사용하여 지식 베이스 생성을 테스트해보겠습니다.\n",
    "\n",
    "각 데이터 소스마다 서로 다른 사전 요구사항이 있을 수 있으므로, 자세한 내용은 AWS 문서를 참조하시기 바랍니다."
   ]
  },
  {
   "cell_type": "code",
   "execution_count": 8,
   "metadata": {
    "execution": {
     "iopub.execute_input": "2025-07-31T06:39:26.660990Z",
     "iopub.status.busy": "2025-07-31T06:39:26.660686Z",
     "iopub.status.idle": "2025-07-31T06:39:26.665224Z",
     "shell.execute_reply": "2025-07-31T06:39:26.664512Z",
     "shell.execute_reply.started": "2025-07-31T06:39:26.660962Z"
    }
   },
   "outputs": [],
   "source": [
    "# For this notebook, we'll create Knowledge Base with multiple data sources ( 1 S3 bucket, 1 confluence page, 1 Sharepoint site, 1 Salesforce site, 1 Web Crawler)\n",
    "\n",
    "data_bucket_name = f'bedrock-kb-{suffix}-1' # replace it with your first bucket name.\n",
    "\n",
    "## Below is a list of data sources including, 1 S3 buckets, 1 confluence, 1 Sharepoint, 1 Salesforce connectors\n",
    "## Please uncomment the data sources that you want to add and update the placeholder values accordingly.\n",
    "\n",
    "data_sources=[\n",
    "                {\"type\": \"S3\", \"bucket_name\": data_bucket_name}, \n",
    "                \n",
    "                # {\"type\": \"CONFLUENCE\", \"hostUrl\": \"https://example.atlassian.net\", \"authType\": \"BASIC\",\n",
    "                #  \"credentialsSecretArn\": f\"arn:aws::secretsmanager:{region_name}:secret:<<your_secret_name>>\"},\n",
    "\n",
    "                # {\"type\": \"SHAREPOINT\", \"tenantId\": \"888d0b57-69f1-4fb8-957f-e1f0bedf64de\", \"domain\": \"yourdomain\",\n",
    "                #   \"authType\": \"OAUTH2_CLIENT_CREDENTIALS\",\n",
    "                #  \"credentialsSecretArn\": f\"arn:aws::secretsmanager:{region_name}:secret:<<your_secret_name>>\",\n",
    "                #  \"siteUrls\": [\"https://yourdomain.sharepoint.com/sites/mysite\"]\n",
    "                # },\n",
    "\n",
    "                # {\"type\": \"SALESFORCE\", \"hostUrl\": \"https://company.salesforce.com/\", \"authType\": \"OAUTH2_CLIENT_CREDENTIALS\",\n",
    "                #  \"credentialsSecretArn\": f\"arn:aws::secretsmanager:{region_name}:secret:<<your_secret_name>>\"\n",
    "                # },\n",
    "\n",
    "                # {\"type\": \"WEB\", \"seedUrls\": [{ \"url\": \"https://www.examplesite.com\"}],\n",
    "                #  \"inclusionFilters\": [\"https://www\\.examplesite\\.com/.*\\.html\"],\n",
    "                #  \"exclusionFilters\": [\"https://www\\.examplesite\\.com/contact-us\\.html\"]\n",
    "                # }\n",
    "            ]\n",
    "                \n",
    "pp = pprint.PrettyPrinter(indent=2)"
   ]
  },
  {
   "cell_type": "markdown",
   "metadata": {},
   "source": [
    "## Knowledge Base 생성하기"
   ]
  },
  {
   "cell_type": "code",
   "execution_count": 9,
   "metadata": {
    "execution": {
     "iopub.execute_input": "2025-07-31T06:39:26.666886Z",
     "iopub.status.busy": "2025-07-31T06:39:26.666479Z",
     "iopub.status.idle": "2025-07-31T06:45:05.624573Z",
     "shell.execute_reply": "2025-07-31T06:45:05.623842Z",
     "shell.execute_reply.started": "2025-07-31T06:39:26.666862Z"
    }
   },
   "outputs": [
    {
     "name": "stdout",
     "output_type": "stream",
     "text": [
      "========================================================================================\n",
      "Step 1 - Creating or retrieving S3 bucket(s) for Knowledge Base documents\n",
      "['bedrock-kb-1063926-1']\n",
      "buckets_to_check:  ['bedrock-kb-1063926-1']\n",
      "Creating bucket bedrock-kb-1063926-1\n",
      "========================================================================================\n",
      "Step 2 - Creating Knowledge Base Execution Role (AmazonBedrockExecutionRoleForKnowledgeBase_1063926-f) and Policies\n",
      "========================================================================================\n",
      "Step 3a - Creating OSS encryption, network and data access policies\n",
      "========================================================================================\n",
      "Step 3b - Creating OSS Collection (this step takes a couple of minutes to complete)\n",
      "{ 'ResponseMetadata': { 'HTTPHeaders': { 'connection': 'keep-alive',\n",
      "                                         'content-length': '320',\n",
      "                                         'content-type': 'application/x-amz-json-1.0',\n",
      "                                         'date': 'Thu, 31 Jul 2025 06:39:29 '\n",
      "                                                 'GMT',\n",
      "                                         'x-amzn-requestid': 'd895e693-8f6c-4351-af6f-2ebd03b51628'},\n",
      "                        'HTTPStatusCode': 200,\n",
      "                        'RequestId': 'd895e693-8f6c-4351-af6f-2ebd03b51628',\n",
      "                        'RetryAttempts': 0},\n",
      "  'createCollectionDetail': { 'arn': 'arn:aws:aoss:us-west-2:461433424192:collection/v048t3nygpr5y3xug945',\n",
      "                              'createdDate': 1753943969279,\n",
      "                              'id': 'v048t3nygpr5y3xug945',\n",
      "                              'kmsKeyArn': 'auto',\n",
      "                              'lastModifiedDate': 1753943969279,\n",
      "                              'name': 'bedrock-sample-rag-1063926-f',\n",
      "                              'standbyReplicas': 'ENABLED',\n",
      "                              'status': 'CREATING',\n",
      "                              'type': 'VECTORSEARCH'}}\n",
      "v048t3nygpr5y3xug945.us-west-2.aoss.amazonaws.com\n",
      "Creating collection...\n",
      "Creating collection...........\n",
      "Creating collection...........\n",
      "Creating collection...........\n",
      "Creating collection...........\n",
      "Creating collection...........\n",
      "Creating collection...........\n",
      "..............................\n",
      "Collection successfully created:\n",
      "[ { 'arn': 'arn:aws:aoss:us-west-2:461433424192:collection/v048t3nygpr5y3xug945',\n",
      "    'collectionEndpoint': 'https://v048t3nygpr5y3xug945.us-west-2.aoss.amazonaws.com',\n",
      "    'createdDate': 1753943969279,\n",
      "    'dashboardEndpoint': 'https://v048t3nygpr5y3xug945.us-west-2.aoss.amazonaws.com/_dashboards',\n",
      "    'id': 'v048t3nygpr5y3xug945',\n",
      "    'kmsKeyArn': 'auto',\n",
      "    'lastModifiedDate': 1753944175029,\n",
      "    'name': 'bedrock-sample-rag-1063926-f',\n",
      "    'standbyReplicas': 'ENABLED',\n",
      "    'status': 'ACTIVE',\n",
      "    'type': 'VECTORSEARCH'}]\n",
      "Opensearch serverless arn:  arn:aws:iam::461433424192:policy/AmazonBedrockOSSPolicyForKnowledgeBase_1063926-f\n",
      "Sleeping for a minute to ensure data access rules have been enforced\n",
      "========================================================================================\n",
      "Step 3c - Creating OSS Vector Index\n"
     ]
    },
    {
     "name": "stderr",
     "output_type": "stream",
     "text": [
      "[2025-07-31 06:44:01,355] p213 {base.py:258} INFO - PUT https://v048t3nygpr5y3xug945.us-west-2.aoss.amazonaws.com:443/bedrock-sample-rag-index-1063926-f [status:200 request:0.456s]\n"
     ]
    },
    {
     "name": "stdout",
     "output_type": "stream",
     "text": [
      "\n",
      "Creating index:\n",
      "{ 'acknowledged': True,\n",
      "  'index': 'bedrock-sample-rag-index-1063926-f',\n",
      "  'shards_acknowledged': True}\n",
      "========================================================================================\n",
      "Step 4 - Will create Lambda Function if chunking strategy selected as CUSTOM\n",
      "Not creating lambda function as chunking strategy is FIXED_SIZE\n",
      "========================================================================================\n",
      "Step 5 - Creating Knowledge Base\n",
      "{ 'createdAt': datetime.datetime(2025, 7, 31, 6, 45, 1, 481741, tzinfo=tzlocal()),\n",
      "  'description': 'Multi data source knowledge base.',\n",
      "  'knowledgeBaseArn': 'arn:aws:bedrock:us-west-2:461433424192:knowledge-base/WX5DF4TRCJ',\n",
      "  'knowledgeBaseConfiguration': { 'type': 'VECTOR',\n",
      "                                  'vectorKnowledgeBaseConfiguration': { 'embeddingModelArn': 'arn:aws:bedrock:us-west-2::foundation-model/amazon.titan-embed-text-v2:0'}},\n",
      "  'knowledgeBaseId': 'WX5DF4TRCJ',\n",
      "  'name': 'bedrock-sample-knowledge-base-1063926',\n",
      "  'roleArn': 'arn:aws:iam::461433424192:role/AmazonBedrockExecutionRoleForKnowledgeBase_1063926-f',\n",
      "  'status': 'CREATING',\n",
      "  'storageConfiguration': { 'opensearchServerlessConfiguration': { 'collectionArn': 'arn:aws:aoss:us-west-2:461433424192:collection/v048t3nygpr5y3xug945',\n",
      "                                                                   'fieldMapping': { 'metadataField': 'text-metadata',\n",
      "                                                                                     'textField': 'text',\n",
      "                                                                                     'vectorField': 'vector'},\n",
      "                                                                   'vectorIndexName': 'bedrock-sample-rag-index-1063926-f'},\n",
      "                            'type': 'OPENSEARCH_SERVERLESS'},\n",
      "  'updatedAt': datetime.datetime(2025, 7, 31, 6, 45, 1, 481741, tzinfo=tzlocal())}\n",
      "Creating Data Sources\n",
      "{ 'createdAt': datetime.datetime(2025, 7, 31, 6, 45, 1, 481741, tzinfo=tzlocal()),\n",
      "  'description': 'Multi data source knowledge base.',\n",
      "  'knowledgeBaseArn': 'arn:aws:bedrock:us-west-2:461433424192:knowledge-base/WX5DF4TRCJ',\n",
      "  'knowledgeBaseConfiguration': { 'type': 'VECTOR',\n",
      "                                  'vectorKnowledgeBaseConfiguration': { 'embeddingModelArn': 'arn:aws:bedrock:us-west-2::foundation-model/amazon.titan-embed-text-v2:0'}},\n",
      "  'knowledgeBaseId': 'WX5DF4TRCJ',\n",
      "  'name': 'bedrock-sample-knowledge-base-1063926',\n",
      "  'roleArn': 'arn:aws:iam::461433424192:role/AmazonBedrockExecutionRoleForKnowledgeBase_1063926-f',\n",
      "  'status': 'ACTIVE',\n",
      "  'storageConfiguration': { 'opensearchServerlessConfiguration': { 'collectionArn': 'arn:aws:aoss:us-west-2:461433424192:collection/v048t3nygpr5y3xug945',\n",
      "                                                                   'fieldMapping': { 'metadataField': 'text-metadata',\n",
      "                                                                                     'textField': 'text',\n",
      "                                                                                     'vectorField': 'vector'},\n",
      "                                                                   'vectorIndexName': 'bedrock-sample-rag-index-1063926-f'},\n",
      "                            'type': 'OPENSEARCH_SERVERLESS'},\n",
      "  'updatedAt': datetime.datetime(2025, 7, 31, 6, 45, 1, 481741, tzinfo=tzlocal())}\n",
      "Creating Data Sources\n",
      "1 data source: S3\n",
      "============Chunking config========\n",
      " {'chunkingConfiguration': {'chunkingStrategy': 'FIXED_SIZE', 'fixedSizeChunkingConfiguration': {'maxTokens': 300, 'overlapPercentage': 20}}}\n",
      "{ 'createdAt': datetime.datetime(2025, 7, 31, 6, 45, 5, 609456, tzinfo=tzlocal()),\n",
      "  'dataDeletionPolicy': 'DELETE',\n",
      "  'dataSourceConfiguration': { 's3Configuration': { 'bucketArn': 'arn:aws:s3:::bedrock-kb-1063926-1'},\n",
      "                               'type': 'S3'},\n",
      "  'dataSourceId': 'H3WUUYQWXY',\n",
      "  'description': 'Multi data source knowledge base.',\n",
      "  'knowledgeBaseId': 'WX5DF4TRCJ',\n",
      "  'name': 'WX5DF4TRCJ-s3',\n",
      "  'status': 'AVAILABLE',\n",
      "  'updatedAt': datetime.datetime(2025, 7, 31, 6, 45, 5, 609456, tzinfo=tzlocal()),\n",
      "  'vectorIngestionConfiguration': { 'chunkingConfiguration': { 'chunkingStrategy': 'FIXED_SIZE',\n",
      "                                                               'fixedSizeChunkingConfiguration': { 'maxTokens': 300,\n",
      "                                                                                                   'overlapPercentage': 20}}}}\n",
      "[ { 'createdAt': datetime.datetime(2025, 7, 31, 6, 45, 5, 609456, tzinfo=tzlocal()),\n",
      "    'dataDeletionPolicy': 'DELETE',\n",
      "    'dataSourceConfiguration': { 's3Configuration': { 'bucketArn': 'arn:aws:s3:::bedrock-kb-1063926-1'},\n",
      "                                 'type': 'S3'},\n",
      "    'dataSourceId': 'H3WUUYQWXY',\n",
      "    'description': 'Multi data source knowledge base.',\n",
      "    'knowledgeBaseId': 'WX5DF4TRCJ',\n",
      "    'name': 'WX5DF4TRCJ-s3',\n",
      "    'status': 'AVAILABLE',\n",
      "    'updatedAt': datetime.datetime(2025, 7, 31, 6, 45, 5, 609456, tzinfo=tzlocal()),\n",
      "    'vectorIngestionConfiguration': { 'chunkingConfiguration': { 'chunkingStrategy': 'FIXED_SIZE',\n",
      "                                                                 'fixedSizeChunkingConfiguration': { 'maxTokens': 300,\n",
      "                                                                                                     'overlapPercentage': 20}}}}]\n",
      "========================================================================================\n"
     ]
    }
   ],
   "source": [
    "knowledge_base = BedrockKnowledgeBase(\n",
    "    kb_name=f'{knowledge_base_name}',\n",
    "    kb_description=knowledge_base_description,\n",
    "    data_sources=data_sources,\n",
    "    chunking_strategy = \"FIXED_SIZE\", \n",
    "    suffix = f'{suffix}-f'\n",
    ")"
   ]
  },
  {
   "cell_type": "markdown",
   "metadata": {},
   "source": [
    "### 지식 베이스에 수집할 데이터 다운로드\n",
    "다음과 같은 데이터를 사용할 것입니다:\n",
    "- 첫 번째 데이터 소스로 로컬 디렉토리에 저장된 sythetic_dataset 폴더 내 자료"
   ]
  },
  {
   "cell_type": "markdown",
   "metadata": {},
   "source": [
    "#### S3 Bucket data source로 데이터 업로드"
   ]
  },
  {
   "cell_type": "code",
   "execution_count": 10,
   "metadata": {
    "execution": {
     "iopub.execute_input": "2025-07-31T06:52:24.179473Z",
     "iopub.status.busy": "2025-07-31T06:52:24.178807Z",
     "iopub.status.idle": "2025-07-31T06:52:24.468825Z",
     "shell.execute_reply": "2025-07-31T06:52:24.468112Z",
     "shell.execute_reply.started": "2025-07-31T06:52:24.179445Z"
    }
   },
   "outputs": [
    {
     "name": "stdout",
     "output_type": "stream",
     "text": [
      "uploading file ../synthetic_dataset/2024_population.pdf to bedrock-kb-1063926-1\n"
     ]
    }
   ],
   "source": [
    "def upload_directory(path, bucket_name):\n",
    "        for root,dirs,files in os.walk(path):\n",
    "            for file in files:\n",
    "                file_to_upload = os.path.join(root,file)\n",
    "                print(f\"uploading file {file_to_upload} to {bucket_name}\")\n",
    "                s3_client.upload_file(file_to_upload,bucket_name,file)\n",
    "\n",
    "upload_directory(\"../synthetic_dataset\", data_bucket_name)"
   ]
  },
  {
   "cell_type": "markdown",
   "metadata": {},
   "source": [
    "### 수집 작업 시작\n",
    "KB(Knowledge Base)와 데이터 소스가 생성되면, 각 데이터 소스에 대한 수집 작업을 시작할 수 있습니다.\n",
    "수집 작업 중에 KB는 다음과 같은 작업을 수행합니다:\n",
    "- 데이터 소스에서 문서를 가져옴\n",
    "- 텍스트를 추출하기 위해 전처리\n",
    "- 제공된 청크 크기를 기반으로 문서를 분할\n",
    "- 각 청크의 임베딩을 생성\n",
    "- 생성된 임베딩을 벡터 데이터베이스(이 경우 OSS)에 저장\n",
    "\n",
    "주의: 현재는 한 번에 하나의 수집 작업만 시작할 수 있습니다."
   ]
  },
  {
   "cell_type": "code",
   "execution_count": 11,
   "metadata": {
    "execution": {
     "iopub.execute_input": "2025-07-31T06:52:27.439330Z",
     "iopub.status.busy": "2025-07-31T06:52:27.439033Z",
     "iopub.status.idle": "2025-07-31T06:54:32.217990Z",
     "shell.execute_reply": "2025-07-31T06:54:32.217237Z",
     "shell.execute_reply.started": "2025-07-31T06:52:27.439311Z"
    }
   },
   "outputs": [
    {
     "name": "stdout",
     "output_type": "stream",
     "text": [
      "job 1 started successfully\n",
      "\n",
      "{ 'dataSourceId': 'H3WUUYQWXY',\n",
      "  'ingestionJobId': 'ULI3LGZSFC',\n",
      "  'knowledgeBaseId': 'WX5DF4TRCJ',\n",
      "  'startedAt': datetime.datetime(2025, 7, 31, 6, 52, 58, 763985, tzinfo=tzlocal()),\n",
      "  'statistics': { 'numberOfDocumentsDeleted': 0,\n",
      "                  'numberOfDocumentsFailed': 0,\n",
      "                  'numberOfDocumentsScanned': 1,\n",
      "                  'numberOfMetadataDocumentsModified': 0,\n",
      "                  'numberOfMetadataDocumentsScanned': 0,\n",
      "                  'numberOfModifiedDocumentsIndexed': 0,\n",
      "                  'numberOfNewDocumentsIndexed': 1},\n",
      "  'status': 'COMPLETE',\n",
      "  'updatedAt': datetime.datetime(2025, 7, 31, 6, 53, 51, 340158, tzinfo=tzlocal())}\n",
      "........................................"
     ]
    }
   ],
   "source": [
    "# ensure that the kb is available\n",
    "time.sleep(30)\n",
    "# sync knowledge base\n",
    "knowledge_base.start_ingestion_job()"
   ]
  },
  {
   "cell_type": "code",
   "execution_count": 12,
   "metadata": {
    "execution": {
     "iopub.execute_input": "2025-07-31T06:54:32.220008Z",
     "iopub.status.busy": "2025-07-31T06:54:32.219230Z",
     "iopub.status.idle": "2025-07-31T06:54:32.224268Z",
     "shell.execute_reply": "2025-07-31T06:54:32.223525Z",
     "shell.execute_reply.started": "2025-07-31T06:54:32.219980Z"
    }
   },
   "outputs": [
    {
     "name": "stdout",
     "output_type": "stream",
     "text": [
      "'WX5DF4TRCJ'\n",
      "Stored 'kb_id' (str)\n"
     ]
    }
   ],
   "source": [
    "# keep the kb_id for invocation later in the invoke request\n",
    "kb_id = knowledge_base.get_knowledge_base_id()\n",
    "%store kb_id"
   ]
  },
  {
   "cell_type": "markdown",
   "metadata": {},
   "source": [
    "### 2.2 Knowledge Base 테스트\n",
    "이제 Knowledge Base를 사용할 수 있게 되었으므로 [retrieve](https://boto3.amazonaws.com/v1/documentation/api/latest/reference/services/bedrock-agent-runtime/client/retrieve.html)와 [retrieve_and_generate](https://boto3.amazonaws.com/v1/documentation/api/latest/reference/services/bedrock-agent-runtime/client/retrieve_and_generate.html) 함수를 사용하여 테스트해볼 수 있습니다.\n",
    "\n",
    "#### Retrieve and Generate API를 사용한 Knowledge Base 테스트\n",
    "먼저 retrieve and generate API를 사용하여 Knowledge Base를 테스트해보겠습니다. 이 API를 통해 Bedrock은 지식 베이스에서 필요한 참조를 검색하고 Bedrock의 기반 모델을 사용하여 최종 답변을 생성하는 작업을 처리합니다."
   ]
  },
  {
   "cell_type": "code",
   "execution_count": 13,
   "metadata": {
    "execution": {
     "iopub.execute_input": "2025-07-31T06:59:47.437386Z",
     "iopub.status.busy": "2025-07-31T06:59:47.437125Z",
     "iopub.status.idle": "2025-07-31T06:59:47.440859Z",
     "shell.execute_reply": "2025-07-31T06:59:47.440142Z",
     "shell.execute_reply.started": "2025-07-31T06:59:47.437367Z"
    }
   },
   "outputs": [],
   "source": [
    "query = \"2024년 기준 시도별 노령화지수를 비교했을 때, 가장 높은 지역과 가장 낮은 지역의 차이가 발생하는 원인을 인구구조와 사회경제적 특성을 고려하여 분석해줘\"\n",
    "#query = \"Provide a summary of consolidated statements of cash flows of Octank Financial for the fiscal years ended December 31, 2019?\""
   ]
  },
  {
   "cell_type": "code",
   "execution_count": 14,
   "metadata": {
    "execution": {
     "iopub.execute_input": "2025-07-31T06:59:52.797716Z",
     "iopub.status.busy": "2025-07-31T06:59:52.797438Z",
     "iopub.status.idle": "2025-07-31T06:59:57.168747Z",
     "shell.execute_reply": "2025-07-31T06:59:57.167971Z",
     "shell.execute_reply.started": "2025-07-31T06:59:52.797695Z"
    }
   },
   "outputs": [
    {
     "name": "stdout",
     "output_type": "stream",
     "text": [
      "2024년 기준 시도별 노령화지수를 비교하면, 가장 높은 지역은 경북(215.0)이고 가장 낮은 지역은 수도권(167.2)으로 약 48 포인트의 차이가 발생합니다. 이러한 차이는 지역별 인구구조와 사회경제적 특성의 차이에서 기인합니다. 경북은 농촌 지역이 많아 젊은 층의 인구 유출이 지속되고 고령 인구 비율이 높은 편입니다. 반면 수도권은 상대적으로 경제 활동이 활발하고 일자리가 많아 젊은 층의 유입이 많아 노령화 수준이 낮습니다. 또한 수도권은 교육, 의료, 복지 등 사회 인프라가 잘 갖춰져 있어 고령자들의 삶의 질이 높은 편입니다.\n",
      "\n"
     ]
    }
   ],
   "source": [
    "foundation_model = \"anthropic.claude-3-haiku-20240307-v1:0\"\n",
    "\n",
    "response = bedrock_agent_runtime_client.retrieve_and_generate(\n",
    "    input={\n",
    "        \"text\": query\n",
    "    },\n",
    "    retrieveAndGenerateConfiguration={\n",
    "        \"type\": \"KNOWLEDGE_BASE\",\n",
    "        \"knowledgeBaseConfiguration\": {\n",
    "            'knowledgeBaseId': kb_id,\n",
    "            \"modelArn\": \"arn:aws:bedrock:{}::foundation-model/{}\".format(region, foundation_model),\n",
    "            \"retrievalConfiguration\": {\n",
    "                \"vectorSearchConfiguration\": {\n",
    "                    \"numberOfResults\":5\n",
    "                } \n",
    "            }\n",
    "        }\n",
    "    }\n",
    ")\n",
    "\n",
    "print(response['output']['text'],end='\\n'*2)"
   ]
  },
  {
   "cell_type": "markdown",
   "metadata": {},
   "source": [
    "보시다시피, retrieve 및 generate API를 사용하면 최종 응답을 직접 받을 수 있으며, 이 응답을 생성하는 데 사용된 다양한 소스는 확인할 수 없습니다. 이제 retrieve API를 사용하여 Knowledge Base에서 소스 정보를 검색해 보겠습니다.\n",
    "\n",
    "#### Retrieve API를 사용한 Knowledge Base 테스트\n",
    "추가적인 제어 계층이 필요한 경우, retrieve API를 사용하여 쿼리와 가장 잘 일치하는 청크들을 검색할 수 있습니다. 이 설정에서는:\n",
    "\n",
    "- 원하는 결과 수를 구성할 수 있습니다\n",
    "- 자체 애플리케이션 로직으로 최종 답변을 제어할 수 있습니다\n",
    "- API는 다음을 제공합니다:\n",
    "    - 일치하는 콘텐츠\n",
    "    - S3 위치\n",
    "    - 유사도 점수\n",
    "    - 청크 메타데이터"
   ]
  },
  {
   "cell_type": "code",
   "execution_count": 16,
   "metadata": {
    "execution": {
     "iopub.execute_input": "2025-07-31T07:00:25.038141Z",
     "iopub.status.busy": "2025-07-31T07:00:25.037369Z",
     "iopub.status.idle": "2025-07-31T07:00:25.422989Z",
     "shell.execute_reply": "2025-07-31T07:00:25.422145Z",
     "shell.execute_reply.started": "2025-07-31T07:00:25.038111Z"
    }
   },
   "outputs": [
    {
     "name": "stdout",
     "output_type": "stream",
     "text": [
      "Chunk 1:  ) 순으로 크고, 세종(15.6), 경기(22.6)     순으로 작음      ❍전년 대비 노령화지수 증감은 경북(22.4)이 가장 높고, 세종(5.4)이 가장 낮음          < 표 8 > 시도별 인구의 연령 지표, 2023~2024년     (단위 : 세, 100명당)     시 도 중위연령 유소년부양비 노년부양비 노령화지수     2023년 2024년 증감 2023년 2024년 증감 2023년 2024년 증감 2023년 2024년 증감     전 국 45.7 46.2 0.6 15.4 14.9 -0.4 26.3 27.9 1.6 171.0 186.7 15.7 서 울 44.4 44.9 0.5 12.3\n",
      "\n",
      "Chunk 1 Location:  {'s3Location': {'uri': 's3://bedrock-kb-1063926-1/2024_population.pdf'}, 'type': 'S3'}\n",
      "\n",
      "Chunk 1 Score:  0.503256\n",
      "\n",
      "Chunk 1 Metadata:  {'x-amz-bedrock-kb-source-uri': 's3://bedrock-kb-1063926-1/2024_population.pdf', 'x-amz-bedrock-kb-document-page-number': 29.0, 'x-amz-bedrock-kb-chunk-id': '1%3A0%3A-ChBX5gBlyhKdOCQkiWu', 'x-amz-bedrock-kb-data-source-id': 'H3WUUYQWXY'}\n",
      "\n",
      "Chunk 2:  %) 지역에서 모두 감소      ❍ 동 지역과 면 지역의 중위연령 격차 12.0세(동 지역 45.1세, 면 지역 57.2세)      ❍ 노령화지수는 영남권(215.0)이 가장 높고, 수도권(167.2)이 가장 낮음      - 동 지역은 166.1, 면 지역은 524.8로 동 지역의 약 3.2배임      - 전년 대비 노령화지수 증가는 면 지역(45.7), 동 지역(14.5), 읍 지역(14.0) 순으로 큼          < 그림 15 > 동 · 읍 · 면부 중위연령, 2015-2024년     - 18 -< 표 7 > 지역구분별 인구의 연령 분포 및 지표, 2023~2024년     (단위 : 천 명, %, 100명당)\n",
      "\n",
      "Chunk 2 Location:  {'s3Location': {'uri': 's3://bedrock-kb-1063926-1/2024_population.pdf'}, 'type': 'S3'}\n",
      "\n",
      "Chunk 2 Score:  0.49532217\n",
      "\n",
      "Chunk 2 Metadata:  {'x-amz-bedrock-kb-source-uri': 's3://bedrock-kb-1063926-1/2024_population.pdf', 'x-amz-bedrock-kb-document-page-number': 27.0, 'x-amz-bedrock-kb-chunk-id': '1%3A0%3A8ShBX5gBlyhKdOCQkiWt', 'x-amz-bedrock-kb-data-source-id': 'H3WUUYQWXY'}\n",
      "\n",
      "Chunk 3:  77.4 9.5     227 부산 강서구 70.3 76.9 6.6     228 경기 화성시 61.7 68.1 6.4     229 세종 세종시 57.9 63.3 5.4 * 노령화지수 = (고령인구/유소년인구)×100     - 22 -< 그림 16 > 시군구별 노령화지수, 2024년                         - 23 -2. 내국인 인구      가. 성 ․ 연령 ․ 혼인상태별 내국인      < 성별․혼인상태별 내국인 >      2024년 기준 18세 이상 내국인 미혼율은 29.6%, 유배우율은 56.4%      ❍ 18세 이상 내국인 43,065천 명 중 미혼 인구는 12,736천 명(29.6%), 유배우     인구는 24,308천 명(56.4%),\n",
      "\n",
      "Chunk 3 Location:  {'s3Location': {'uri': 's3://bedrock-kb-1063926-1/2024_population.pdf'}, 'type': 'S3'}\n",
      "\n",
      "Chunk 3 Score:  0.4787186\n",
      "\n",
      "Chunk 3 Metadata:  {'x-amz-bedrock-kb-source-uri': 's3://bedrock-kb-1063926-1/2024_population.pdf', 'x-amz-bedrock-kb-document-page-number': 31.0, 'x-amz-bedrock-kb-chunk-id': '1%3A0%3AByhBX5gBlyhKdOCQkiau', 'x-amz-bedrock-kb-data-source-id': 'H3WUUYQWXY'}\n",
      "\n",
      "Chunk 4:  229개 시군구 중 65세 이상 인구가 15세 미만 인구보다 많은     시군구는 216개(94.3%)로 전년 211개(92.1%)에 비해 5개 시군구 증가      ❍ 노령화지수가 가장 높은 시군구는 대구 군위군(1,188.7)이며, 다음으로 경북     의성군(976.3), 경남 합천군(879.2) 순으로 5년 연속 지속      ❍ 노령화지수가 가장 낮은 시군구는 세종시(63.3), 경기 화성시(68.1), 부산     강서구(76.9), 울산 북구(77.4) 순임      ❍ 전년 대비 노령화지수가 감소한 시군구는 대구 중구, 부산 연제구, 대구 서구,     경기 과천시임          < 표 10 > 노령화지수 상 · 하위 시군구\n",
      "\n",
      "Chunk 4 Location:  {'s3Location': {'uri': 's3://bedrock-kb-1063926-1/2024_population.pdf'}, 'type': 'S3'}\n",
      "\n",
      "Chunk 4 Score:  0.47567216\n",
      "\n",
      "Chunk 4 Metadata:  {'x-amz-bedrock-kb-source-uri': 's3://bedrock-kb-1063926-1/2024_population.pdf', 'x-amz-bedrock-kb-document-page-number': 31.0, 'x-amz-bedrock-kb-chunk-id': '1%3A0%3ABChBX5gBlyhKdOCQkiau', 'x-amz-bedrock-kb-data-source-id': 'H3WUUYQWXY'}\n",
      "\n",
      "Chunk 5:  64.2 63.7 -0.5 - 25.4 26.3 0.9 -     경 북 10.0 9.6 -0.4 - 66.2 65.5 -0.7 - 23.8 24.9 1.1 -     경 남 11.4 10.9 -0.5 - 68.6 68.0 -0.6 - 20.0 21.1 1.1 -     제 주 13.0 12.4 -0.5 - 69.6 69.2 -0.4 - 17.5 18.4 0.9 -     - 21 -< 시군구별 노령화지수 >     시군구간 노령화지수 격차 최대 19배(대구 군위군 1,189, 세종시 63)      ❍ 2024년 229개 시군구 중 65세 이상 인구가 15세 미만 인구보다 많은     시군구는 216개(94.3%)로 전년 211개(92.1%)에 비해 5개 시군구 증가\n",
      "\n",
      "Chunk 5 Location:  {'s3Location': {'uri': 's3://bedrock-kb-1063926-1/2024_population.pdf'}, 'type': 'S3'}\n",
      "\n",
      "Chunk 5 Score:  0.4725015\n",
      "\n",
      "Chunk 5 Metadata:  {'x-amz-bedrock-kb-source-uri': 's3://bedrock-kb-1063926-1/2024_population.pdf', 'x-amz-bedrock-kb-document-page-number': 30.0, 'x-amz-bedrock-kb-chunk-id': '1%3A0%3AAyhBX5gBlyhKdOCQkiau', 'x-amz-bedrock-kb-data-source-id': 'H3WUUYQWXY'}\n",
      "\n"
     ]
    }
   ],
   "source": [
    "response_ret = bedrock_agent_runtime_client.retrieve(\n",
    "    knowledgeBaseId=kb_id, \n",
    "    nextToken='string',\n",
    "    retrievalConfiguration={\n",
    "        \"vectorSearchConfiguration\": {\n",
    "            \"numberOfResults\":5,\n",
    "        } \n",
    "    },\n",
    "    retrievalQuery={\n",
    "        #\"text\": \"How many new positions were opened across Amazon's fulfillment and delivery network?\"\n",
    "        \"text\": \"2024년 기준 시도별 노령화지수를 비교했을 때, 가장 높은 지역과 가장 낮은 지역의 차이가 발생하는 원인을 인구구조와 사회경제적 특성을 고려하여 분석해줘.\"\n",
    "    }\n",
    ")\n",
    "\n",
    "def response_print(retrieve_resp):\n",
    "#structure 'retrievalResults': list of contents. Each list has content, location, score, metadata\n",
    "    for num,chunk in enumerate(response_ret['retrievalResults'],1):\n",
    "        print(f'Chunk {num}: ',chunk['content']['text'],end='\\n'*2)\n",
    "        print(f'Chunk {num} Location: ',chunk['location'],end='\\n'*2)\n",
    "        print(f'Chunk {num} Score: ',chunk['score'],end='\\n'*2)\n",
    "        print(f'Chunk {num} Metadata: ',chunk['metadata'],end='\\n'*2)\n",
    "\n",
    "response_print(response_ret)"
   ]
  },
  {
   "cell_type": "markdown",
   "metadata": {
    "execution": {
     "iopub.execute_input": "2025-07-28T04:40:57.275205Z",
     "iopub.status.busy": "2025-07-28T04:40:57.274775Z",
     "iopub.status.idle": "2025-07-28T04:40:57.281049Z",
     "shell.execute_reply": "2025-07-28T04:40:57.280023Z",
     "shell.execute_reply.started": "2025-07-28T04:40:57.275179Z"
    }
   },
   "source": [
    "## 리소스 정리\n",
    "모든 리소스를 삭제하기 위해 아래 섹션의 주석을 해제하고 실행하시기 바랍니다."
   ]
  },
  {
   "cell_type": "code",
   "execution_count": 17,
   "metadata": {
    "execution": {
     "iopub.execute_input": "2025-07-31T07:00:31.643576Z",
     "iopub.status.busy": "2025-07-31T07:00:31.643317Z",
     "iopub.status.idle": "2025-07-31T07:00:31.647079Z",
     "shell.execute_reply": "2025-07-31T07:00:31.646432Z",
     "shell.execute_reply.started": "2025-07-31T07:00:31.643556Z"
    },
    "tags": []
   },
   "outputs": [
    {
     "name": "stdout",
     "output_type": "stream",
     "text": [
      "===============================Deleting Knowledge Base and associated resources==============================\n",
      "\n"
     ]
    }
   ],
   "source": [
    "# delete role and policies\n",
    "print(\"===============================Deleting Knowledge Base and associated resources==============================\\n\")\n",
    "# knowledge_base.delete_kb(delete_s3_bucket=True, delete_iam_roles_and_policies=True)"
   ]
  }
 ],
 "metadata": {
  "availableInstances": [
   {
    "_defaultOrder": 0,
    "_isFastLaunch": true,
    "category": "General purpose",
    "gpuNum": 0,
    "hideHardwareSpecs": false,
    "memoryGiB": 4,
    "name": "ml.t3.medium",
    "vcpuNum": 2
   },
   {
    "_defaultOrder": 1,
    "_isFastLaunch": false,
    "category": "General purpose",
    "gpuNum": 0,
    "hideHardwareSpecs": false,
    "memoryGiB": 8,
    "name": "ml.t3.large",
    "vcpuNum": 2
   },
   {
    "_defaultOrder": 2,
    "_isFastLaunch": false,
    "category": "General purpose",
    "gpuNum": 0,
    "hideHardwareSpecs": false,
    "memoryGiB": 16,
    "name": "ml.t3.xlarge",
    "vcpuNum": 4
   },
   {
    "_defaultOrder": 3,
    "_isFastLaunch": false,
    "category": "General purpose",
    "gpuNum": 0,
    "hideHardwareSpecs": false,
    "memoryGiB": 32,
    "name": "ml.t3.2xlarge",
    "vcpuNum": 8
   },
   {
    "_defaultOrder": 4,
    "_isFastLaunch": true,
    "category": "General purpose",
    "gpuNum": 0,
    "hideHardwareSpecs": false,
    "memoryGiB": 8,
    "name": "ml.m5.large",
    "vcpuNum": 2
   },
   {
    "_defaultOrder": 5,
    "_isFastLaunch": false,
    "category": "General purpose",
    "gpuNum": 0,
    "hideHardwareSpecs": false,
    "memoryGiB": 16,
    "name": "ml.m5.xlarge",
    "vcpuNum": 4
   },
   {
    "_defaultOrder": 6,
    "_isFastLaunch": false,
    "category": "General purpose",
    "gpuNum": 0,
    "hideHardwareSpecs": false,
    "memoryGiB": 32,
    "name": "ml.m5.2xlarge",
    "vcpuNum": 8
   },
   {
    "_defaultOrder": 7,
    "_isFastLaunch": false,
    "category": "General purpose",
    "gpuNum": 0,
    "hideHardwareSpecs": false,
    "memoryGiB": 64,
    "name": "ml.m5.4xlarge",
    "vcpuNum": 16
   },
   {
    "_defaultOrder": 8,
    "_isFastLaunch": false,
    "category": "General purpose",
    "gpuNum": 0,
    "hideHardwareSpecs": false,
    "memoryGiB": 128,
    "name": "ml.m5.8xlarge",
    "vcpuNum": 32
   },
   {
    "_defaultOrder": 9,
    "_isFastLaunch": false,
    "category": "General purpose",
    "gpuNum": 0,
    "hideHardwareSpecs": false,
    "memoryGiB": 192,
    "name": "ml.m5.12xlarge",
    "vcpuNum": 48
   },
   {
    "_defaultOrder": 10,
    "_isFastLaunch": false,
    "category": "General purpose",
    "gpuNum": 0,
    "hideHardwareSpecs": false,
    "memoryGiB": 256,
    "name": "ml.m5.16xlarge",
    "vcpuNum": 64
   },
   {
    "_defaultOrder": 11,
    "_isFastLaunch": false,
    "category": "General purpose",
    "gpuNum": 0,
    "hideHardwareSpecs": false,
    "memoryGiB": 384,
    "name": "ml.m5.24xlarge",
    "vcpuNum": 96
   },
   {
    "_defaultOrder": 12,
    "_isFastLaunch": false,
    "category": "General purpose",
    "gpuNum": 0,
    "hideHardwareSpecs": false,
    "memoryGiB": 8,
    "name": "ml.m5d.large",
    "vcpuNum": 2
   },
   {
    "_defaultOrder": 13,
    "_isFastLaunch": false,
    "category": "General purpose",
    "gpuNum": 0,
    "hideHardwareSpecs": false,
    "memoryGiB": 16,
    "name": "ml.m5d.xlarge",
    "vcpuNum": 4
   },
   {
    "_defaultOrder": 14,
    "_isFastLaunch": false,
    "category": "General purpose",
    "gpuNum": 0,
    "hideHardwareSpecs": false,
    "memoryGiB": 32,
    "name": "ml.m5d.2xlarge",
    "vcpuNum": 8
   },
   {
    "_defaultOrder": 15,
    "_isFastLaunch": false,
    "category": "General purpose",
    "gpuNum": 0,
    "hideHardwareSpecs": false,
    "memoryGiB": 64,
    "name": "ml.m5d.4xlarge",
    "vcpuNum": 16
   },
   {
    "_defaultOrder": 16,
    "_isFastLaunch": false,
    "category": "General purpose",
    "gpuNum": 0,
    "hideHardwareSpecs": false,
    "memoryGiB": 128,
    "name": "ml.m5d.8xlarge",
    "vcpuNum": 32
   },
   {
    "_defaultOrder": 17,
    "_isFastLaunch": false,
    "category": "General purpose",
    "gpuNum": 0,
    "hideHardwareSpecs": false,
    "memoryGiB": 192,
    "name": "ml.m5d.12xlarge",
    "vcpuNum": 48
   },
   {
    "_defaultOrder": 18,
    "_isFastLaunch": false,
    "category": "General purpose",
    "gpuNum": 0,
    "hideHardwareSpecs": false,
    "memoryGiB": 256,
    "name": "ml.m5d.16xlarge",
    "vcpuNum": 64
   },
   {
    "_defaultOrder": 19,
    "_isFastLaunch": false,
    "category": "General purpose",
    "gpuNum": 0,
    "hideHardwareSpecs": false,
    "memoryGiB": 384,
    "name": "ml.m5d.24xlarge",
    "vcpuNum": 96
   },
   {
    "_defaultOrder": 20,
    "_isFastLaunch": false,
    "category": "General purpose",
    "gpuNum": 0,
    "hideHardwareSpecs": true,
    "memoryGiB": 0,
    "name": "ml.geospatial.interactive",
    "supportedImageNames": [
     "sagemaker-geospatial-v1-0"
    ],
    "vcpuNum": 0
   },
   {
    "_defaultOrder": 21,
    "_isFastLaunch": true,
    "category": "Compute optimized",
    "gpuNum": 0,
    "hideHardwareSpecs": false,
    "memoryGiB": 4,
    "name": "ml.c5.large",
    "vcpuNum": 2
   },
   {
    "_defaultOrder": 22,
    "_isFastLaunch": false,
    "category": "Compute optimized",
    "gpuNum": 0,
    "hideHardwareSpecs": false,
    "memoryGiB": 8,
    "name": "ml.c5.xlarge",
    "vcpuNum": 4
   },
   {
    "_defaultOrder": 23,
    "_isFastLaunch": false,
    "category": "Compute optimized",
    "gpuNum": 0,
    "hideHardwareSpecs": false,
    "memoryGiB": 16,
    "name": "ml.c5.2xlarge",
    "vcpuNum": 8
   },
   {
    "_defaultOrder": 24,
    "_isFastLaunch": false,
    "category": "Compute optimized",
    "gpuNum": 0,
    "hideHardwareSpecs": false,
    "memoryGiB": 32,
    "name": "ml.c5.4xlarge",
    "vcpuNum": 16
   },
   {
    "_defaultOrder": 25,
    "_isFastLaunch": false,
    "category": "Compute optimized",
    "gpuNum": 0,
    "hideHardwareSpecs": false,
    "memoryGiB": 72,
    "name": "ml.c5.9xlarge",
    "vcpuNum": 36
   },
   {
    "_defaultOrder": 26,
    "_isFastLaunch": false,
    "category": "Compute optimized",
    "gpuNum": 0,
    "hideHardwareSpecs": false,
    "memoryGiB": 96,
    "name": "ml.c5.12xlarge",
    "vcpuNum": 48
   },
   {
    "_defaultOrder": 27,
    "_isFastLaunch": false,
    "category": "Compute optimized",
    "gpuNum": 0,
    "hideHardwareSpecs": false,
    "memoryGiB": 144,
    "name": "ml.c5.18xlarge",
    "vcpuNum": 72
   },
   {
    "_defaultOrder": 28,
    "_isFastLaunch": false,
    "category": "Compute optimized",
    "gpuNum": 0,
    "hideHardwareSpecs": false,
    "memoryGiB": 192,
    "name": "ml.c5.24xlarge",
    "vcpuNum": 96
   },
   {
    "_defaultOrder": 29,
    "_isFastLaunch": true,
    "category": "Accelerated computing",
    "gpuNum": 1,
    "hideHardwareSpecs": false,
    "memoryGiB": 16,
    "name": "ml.g4dn.xlarge",
    "vcpuNum": 4
   },
   {
    "_defaultOrder": 30,
    "_isFastLaunch": false,
    "category": "Accelerated computing",
    "gpuNum": 1,
    "hideHardwareSpecs": false,
    "memoryGiB": 32,
    "name": "ml.g4dn.2xlarge",
    "vcpuNum": 8
   },
   {
    "_defaultOrder": 31,
    "_isFastLaunch": false,
    "category": "Accelerated computing",
    "gpuNum": 1,
    "hideHardwareSpecs": false,
    "memoryGiB": 64,
    "name": "ml.g4dn.4xlarge",
    "vcpuNum": 16
   },
   {
    "_defaultOrder": 32,
    "_isFastLaunch": false,
    "category": "Accelerated computing",
    "gpuNum": 1,
    "hideHardwareSpecs": false,
    "memoryGiB": 128,
    "name": "ml.g4dn.8xlarge",
    "vcpuNum": 32
   },
   {
    "_defaultOrder": 33,
    "_isFastLaunch": false,
    "category": "Accelerated computing",
    "gpuNum": 4,
    "hideHardwareSpecs": false,
    "memoryGiB": 192,
    "name": "ml.g4dn.12xlarge",
    "vcpuNum": 48
   },
   {
    "_defaultOrder": 34,
    "_isFastLaunch": false,
    "category": "Accelerated computing",
    "gpuNum": 1,
    "hideHardwareSpecs": false,
    "memoryGiB": 256,
    "name": "ml.g4dn.16xlarge",
    "vcpuNum": 64
   },
   {
    "_defaultOrder": 35,
    "_isFastLaunch": false,
    "category": "Accelerated computing",
    "gpuNum": 1,
    "hideHardwareSpecs": false,
    "memoryGiB": 61,
    "name": "ml.p3.2xlarge",
    "vcpuNum": 8
   },
   {
    "_defaultOrder": 36,
    "_isFastLaunch": false,
    "category": "Accelerated computing",
    "gpuNum": 4,
    "hideHardwareSpecs": false,
    "memoryGiB": 244,
    "name": "ml.p3.8xlarge",
    "vcpuNum": 32
   },
   {
    "_defaultOrder": 37,
    "_isFastLaunch": false,
    "category": "Accelerated computing",
    "gpuNum": 8,
    "hideHardwareSpecs": false,
    "memoryGiB": 488,
    "name": "ml.p3.16xlarge",
    "vcpuNum": 64
   },
   {
    "_defaultOrder": 38,
    "_isFastLaunch": false,
    "category": "Accelerated computing",
    "gpuNum": 8,
    "hideHardwareSpecs": false,
    "memoryGiB": 768,
    "name": "ml.p3dn.24xlarge",
    "vcpuNum": 96
   },
   {
    "_defaultOrder": 39,
    "_isFastLaunch": false,
    "category": "Memory Optimized",
    "gpuNum": 0,
    "hideHardwareSpecs": false,
    "memoryGiB": 16,
    "name": "ml.r5.large",
    "vcpuNum": 2
   },
   {
    "_defaultOrder": 40,
    "_isFastLaunch": false,
    "category": "Memory Optimized",
    "gpuNum": 0,
    "hideHardwareSpecs": false,
    "memoryGiB": 32,
    "name": "ml.r5.xlarge",
    "vcpuNum": 4
   },
   {
    "_defaultOrder": 41,
    "_isFastLaunch": false,
    "category": "Memory Optimized",
    "gpuNum": 0,
    "hideHardwareSpecs": false,
    "memoryGiB": 64,
    "name": "ml.r5.2xlarge",
    "vcpuNum": 8
   },
   {
    "_defaultOrder": 42,
    "_isFastLaunch": false,
    "category": "Memory Optimized",
    "gpuNum": 0,
    "hideHardwareSpecs": false,
    "memoryGiB": 128,
    "name": "ml.r5.4xlarge",
    "vcpuNum": 16
   },
   {
    "_defaultOrder": 43,
    "_isFastLaunch": false,
    "category": "Memory Optimized",
    "gpuNum": 0,
    "hideHardwareSpecs": false,
    "memoryGiB": 256,
    "name": "ml.r5.8xlarge",
    "vcpuNum": 32
   },
   {
    "_defaultOrder": 44,
    "_isFastLaunch": false,
    "category": "Memory Optimized",
    "gpuNum": 0,
    "hideHardwareSpecs": false,
    "memoryGiB": 384,
    "name": "ml.r5.12xlarge",
    "vcpuNum": 48
   },
   {
    "_defaultOrder": 45,
    "_isFastLaunch": false,
    "category": "Memory Optimized",
    "gpuNum": 0,
    "hideHardwareSpecs": false,
    "memoryGiB": 512,
    "name": "ml.r5.16xlarge",
    "vcpuNum": 64
   },
   {
    "_defaultOrder": 46,
    "_isFastLaunch": false,
    "category": "Memory Optimized",
    "gpuNum": 0,
    "hideHardwareSpecs": false,
    "memoryGiB": 768,
    "name": "ml.r5.24xlarge",
    "vcpuNum": 96
   },
   {
    "_defaultOrder": 47,
    "_isFastLaunch": false,
    "category": "Accelerated computing",
    "gpuNum": 1,
    "hideHardwareSpecs": false,
    "memoryGiB": 16,
    "name": "ml.g5.xlarge",
    "vcpuNum": 4
   },
   {
    "_defaultOrder": 48,
    "_isFastLaunch": false,
    "category": "Accelerated computing",
    "gpuNum": 1,
    "hideHardwareSpecs": false,
    "memoryGiB": 32,
    "name": "ml.g5.2xlarge",
    "vcpuNum": 8
   },
   {
    "_defaultOrder": 49,
    "_isFastLaunch": false,
    "category": "Accelerated computing",
    "gpuNum": 1,
    "hideHardwareSpecs": false,
    "memoryGiB": 64,
    "name": "ml.g5.4xlarge",
    "vcpuNum": 16
   },
   {
    "_defaultOrder": 50,
    "_isFastLaunch": false,
    "category": "Accelerated computing",
    "gpuNum": 1,
    "hideHardwareSpecs": false,
    "memoryGiB": 128,
    "name": "ml.g5.8xlarge",
    "vcpuNum": 32
   },
   {
    "_defaultOrder": 51,
    "_isFastLaunch": false,
    "category": "Accelerated computing",
    "gpuNum": 1,
    "hideHardwareSpecs": false,
    "memoryGiB": 256,
    "name": "ml.g5.16xlarge",
    "vcpuNum": 64
   },
   {
    "_defaultOrder": 52,
    "_isFastLaunch": false,
    "category": "Accelerated computing",
    "gpuNum": 4,
    "hideHardwareSpecs": false,
    "memoryGiB": 192,
    "name": "ml.g5.12xlarge",
    "vcpuNum": 48
   },
   {
    "_defaultOrder": 53,
    "_isFastLaunch": false,
    "category": "Accelerated computing",
    "gpuNum": 4,
    "hideHardwareSpecs": false,
    "memoryGiB": 384,
    "name": "ml.g5.24xlarge",
    "vcpuNum": 96
   },
   {
    "_defaultOrder": 54,
    "_isFastLaunch": false,
    "category": "Accelerated computing",
    "gpuNum": 8,
    "hideHardwareSpecs": false,
    "memoryGiB": 768,
    "name": "ml.g5.48xlarge",
    "vcpuNum": 192
   },
   {
    "_defaultOrder": 55,
    "_isFastLaunch": false,
    "category": "Accelerated computing",
    "gpuNum": 8,
    "hideHardwareSpecs": false,
    "memoryGiB": 1152,
    "name": "ml.p4d.24xlarge",
    "vcpuNum": 96
   },
   {
    "_defaultOrder": 56,
    "_isFastLaunch": false,
    "category": "Accelerated computing",
    "gpuNum": 8,
    "hideHardwareSpecs": false,
    "memoryGiB": 1152,
    "name": "ml.p4de.24xlarge",
    "vcpuNum": 96
   },
   {
    "_defaultOrder": 57,
    "_isFastLaunch": false,
    "category": "Accelerated computing",
    "gpuNum": 0,
    "hideHardwareSpecs": false,
    "memoryGiB": 32,
    "name": "ml.trn1.2xlarge",
    "vcpuNum": 8
   },
   {
    "_defaultOrder": 58,
    "_isFastLaunch": false,
    "category": "Accelerated computing",
    "gpuNum": 0,
    "hideHardwareSpecs": false,
    "memoryGiB": 512,
    "name": "ml.trn1.32xlarge",
    "vcpuNum": 128
   },
   {
    "_defaultOrder": 59,
    "_isFastLaunch": false,
    "category": "Accelerated computing",
    "gpuNum": 0,
    "hideHardwareSpecs": false,
    "memoryGiB": 512,
    "name": "ml.trn1n.32xlarge",
    "vcpuNum": 128
   }
  ],
  "instance_type": "ml.t3.medium",
  "kernelspec": {
   "display_name": "Python 3 (ipykernel)",
   "language": "python",
   "name": "python3"
  },
  "language_info": {
   "codemirror_mode": {
    "name": "ipython",
    "version": 3
   },
   "file_extension": ".py",
   "mimetype": "text/x-python",
   "name": "python",
   "nbconvert_exporter": "python",
   "pygments_lexer": "ipython3",
   "version": "3.12.9"
  }
 },
 "nbformat": 4,
 "nbformat_minor": 4
}
